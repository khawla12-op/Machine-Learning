{
  "cells": [
    {
      "cell_type": "code",
      "execution_count": null,
      "id": "82f866a9",
      "metadata": {
        "id": "82f866a9"
      },
      "outputs": [],
      "source": [
        "# Import the libraries\n",
        "import numpy as np\n",
        "import pandas as pd\n",
        "import matplotlib.pyplot as plt\n",
        "import seaborn as sns\n",
        "%matplotlib inline"
      ]
    },
    {
      "cell_type": "code",
      "execution_count": null,
      "id": "45916108",
      "metadata": {
        "id": "45916108"
      },
      "outputs": [],
      "source": [
        "\n",
        "df= pd.read_csv('kc_house_data.csv')"
      ]
    },
    {
      "cell_type": "code",
      "execution_count": null,
      "id": "357a5003",
      "metadata": {
        "id": "357a5003",
        "outputId": "50630237-7dc2-4f5a-904a-a593236f87c7"
      },
      "outputs": [
        {
          "data": {
            "text/html": [
              "<div>\n",
              "<style scoped>\n",
              "    .dataframe tbody tr th:only-of-type {\n",
              "        vertical-align: middle;\n",
              "    }\n",
              "\n",
              "    .dataframe tbody tr th {\n",
              "        vertical-align: top;\n",
              "    }\n",
              "\n",
              "    .dataframe thead th {\n",
              "        text-align: right;\n",
              "    }\n",
              "</style>\n",
              "<table border=\"1\" class=\"dataframe\">\n",
              "  <thead>\n",
              "    <tr style=\"text-align: right;\">\n",
              "      <th></th>\n",
              "      <th>id</th>\n",
              "      <th>date</th>\n",
              "      <th>price</th>\n",
              "      <th>bedrooms</th>\n",
              "      <th>bathrooms</th>\n",
              "      <th>sqft_living</th>\n",
              "      <th>sqft_lot</th>\n",
              "      <th>floors</th>\n",
              "      <th>waterfront</th>\n",
              "      <th>view</th>\n",
              "      <th>...</th>\n",
              "      <th>grade</th>\n",
              "      <th>sqft_above</th>\n",
              "      <th>sqft_basement</th>\n",
              "      <th>yr_built</th>\n",
              "      <th>yr_renovated</th>\n",
              "      <th>zipcode</th>\n",
              "      <th>lat</th>\n",
              "      <th>long</th>\n",
              "      <th>sqft_living15</th>\n",
              "      <th>sqft_lot15</th>\n",
              "    </tr>\n",
              "  </thead>\n",
              "  <tbody>\n",
              "    <tr>\n",
              "      <th>0</th>\n",
              "      <td>7129300520</td>\n",
              "      <td>20141013T000000</td>\n",
              "      <td>221900.0</td>\n",
              "      <td>3</td>\n",
              "      <td>1.00</td>\n",
              "      <td>1180</td>\n",
              "      <td>5650</td>\n",
              "      <td>1.0</td>\n",
              "      <td>0</td>\n",
              "      <td>0</td>\n",
              "      <td>...</td>\n",
              "      <td>7</td>\n",
              "      <td>1180</td>\n",
              "      <td>0</td>\n",
              "      <td>1955</td>\n",
              "      <td>0</td>\n",
              "      <td>98178</td>\n",
              "      <td>47.5112</td>\n",
              "      <td>-122.257</td>\n",
              "      <td>1340</td>\n",
              "      <td>5650</td>\n",
              "    </tr>\n",
              "    <tr>\n",
              "      <th>1</th>\n",
              "      <td>6414100192</td>\n",
              "      <td>20141209T000000</td>\n",
              "      <td>538000.0</td>\n",
              "      <td>3</td>\n",
              "      <td>2.25</td>\n",
              "      <td>2570</td>\n",
              "      <td>7242</td>\n",
              "      <td>2.0</td>\n",
              "      <td>0</td>\n",
              "      <td>0</td>\n",
              "      <td>...</td>\n",
              "      <td>7</td>\n",
              "      <td>2170</td>\n",
              "      <td>400</td>\n",
              "      <td>1951</td>\n",
              "      <td>1991</td>\n",
              "      <td>98125</td>\n",
              "      <td>47.7210</td>\n",
              "      <td>-122.319</td>\n",
              "      <td>1690</td>\n",
              "      <td>7639</td>\n",
              "    </tr>\n",
              "    <tr>\n",
              "      <th>2</th>\n",
              "      <td>5631500400</td>\n",
              "      <td>20150225T000000</td>\n",
              "      <td>180000.0</td>\n",
              "      <td>2</td>\n",
              "      <td>1.00</td>\n",
              "      <td>770</td>\n",
              "      <td>10000</td>\n",
              "      <td>1.0</td>\n",
              "      <td>0</td>\n",
              "      <td>0</td>\n",
              "      <td>...</td>\n",
              "      <td>6</td>\n",
              "      <td>770</td>\n",
              "      <td>0</td>\n",
              "      <td>1933</td>\n",
              "      <td>0</td>\n",
              "      <td>98028</td>\n",
              "      <td>47.7379</td>\n",
              "      <td>-122.233</td>\n",
              "      <td>2720</td>\n",
              "      <td>8062</td>\n",
              "    </tr>\n",
              "    <tr>\n",
              "      <th>3</th>\n",
              "      <td>2487200875</td>\n",
              "      <td>20141209T000000</td>\n",
              "      <td>604000.0</td>\n",
              "      <td>4</td>\n",
              "      <td>3.00</td>\n",
              "      <td>1960</td>\n",
              "      <td>5000</td>\n",
              "      <td>1.0</td>\n",
              "      <td>0</td>\n",
              "      <td>0</td>\n",
              "      <td>...</td>\n",
              "      <td>7</td>\n",
              "      <td>1050</td>\n",
              "      <td>910</td>\n",
              "      <td>1965</td>\n",
              "      <td>0</td>\n",
              "      <td>98136</td>\n",
              "      <td>47.5208</td>\n",
              "      <td>-122.393</td>\n",
              "      <td>1360</td>\n",
              "      <td>5000</td>\n",
              "    </tr>\n",
              "    <tr>\n",
              "      <th>4</th>\n",
              "      <td>1954400510</td>\n",
              "      <td>20150218T000000</td>\n",
              "      <td>510000.0</td>\n",
              "      <td>3</td>\n",
              "      <td>2.00</td>\n",
              "      <td>1680</td>\n",
              "      <td>8080</td>\n",
              "      <td>1.0</td>\n",
              "      <td>0</td>\n",
              "      <td>0</td>\n",
              "      <td>...</td>\n",
              "      <td>8</td>\n",
              "      <td>1680</td>\n",
              "      <td>0</td>\n",
              "      <td>1987</td>\n",
              "      <td>0</td>\n",
              "      <td>98074</td>\n",
              "      <td>47.6168</td>\n",
              "      <td>-122.045</td>\n",
              "      <td>1800</td>\n",
              "      <td>7503</td>\n",
              "    </tr>\n",
              "  </tbody>\n",
              "</table>\n",
              "<p>5 rows × 21 columns</p>\n",
              "</div>"
            ],
            "text/plain": [
              "           id             date     price  bedrooms  bathrooms  sqft_living  \\\n",
              "0  7129300520  20141013T000000  221900.0         3       1.00         1180   \n",
              "1  6414100192  20141209T000000  538000.0         3       2.25         2570   \n",
              "2  5631500400  20150225T000000  180000.0         2       1.00          770   \n",
              "3  2487200875  20141209T000000  604000.0         4       3.00         1960   \n",
              "4  1954400510  20150218T000000  510000.0         3       2.00         1680   \n",
              "\n",
              "   sqft_lot  floors  waterfront  view  ...  grade  sqft_above  sqft_basement  \\\n",
              "0      5650     1.0           0     0  ...      7        1180              0   \n",
              "1      7242     2.0           0     0  ...      7        2170            400   \n",
              "2     10000     1.0           0     0  ...      6         770              0   \n",
              "3      5000     1.0           0     0  ...      7        1050            910   \n",
              "4      8080     1.0           0     0  ...      8        1680              0   \n",
              "\n",
              "   yr_built  yr_renovated  zipcode      lat     long  sqft_living15  \\\n",
              "0      1955             0    98178  47.5112 -122.257           1340   \n",
              "1      1951          1991    98125  47.7210 -122.319           1690   \n",
              "2      1933             0    98028  47.7379 -122.233           2720   \n",
              "3      1965             0    98136  47.5208 -122.393           1360   \n",
              "4      1987             0    98074  47.6168 -122.045           1800   \n",
              "\n",
              "   sqft_lot15  \n",
              "0        5650  \n",
              "1        7639  \n",
              "2        8062  \n",
              "3        5000  \n",
              "4        7503  \n",
              "\n",
              "[5 rows x 21 columns]"
            ]
          },
          "execution_count": 52,
          "metadata": {},
          "output_type": "execute_result"
        }
      ],
      "source": [
        "# Display the first five observations\n",
        "df.head()"
      ]
    },
    {
      "cell_type": "code",
      "execution_count": null,
      "id": "a00aa46d",
      "metadata": {
        "id": "a00aa46d",
        "outputId": "b2ba8382-b89b-48b5-dc08-0f1c50958a04"
      },
      "outputs": [
        {
          "data": {
            "text/html": [
              "<div>\n",
              "<style scoped>\n",
              "    .dataframe tbody tr th:only-of-type {\n",
              "        vertical-align: middle;\n",
              "    }\n",
              "\n",
              "    .dataframe tbody tr th {\n",
              "        vertical-align: top;\n",
              "    }\n",
              "\n",
              "    .dataframe thead th {\n",
              "        text-align: right;\n",
              "    }\n",
              "</style>\n",
              "<table border=\"1\" class=\"dataframe\">\n",
              "  <thead>\n",
              "    <tr style=\"text-align: right;\">\n",
              "      <th></th>\n",
              "      <th>id</th>\n",
              "      <th>price</th>\n",
              "      <th>bedrooms</th>\n",
              "      <th>bathrooms</th>\n",
              "      <th>sqft_living</th>\n",
              "      <th>sqft_lot</th>\n",
              "      <th>floors</th>\n",
              "      <th>waterfront</th>\n",
              "      <th>view</th>\n",
              "      <th>condition</th>\n",
              "      <th>grade</th>\n",
              "      <th>sqft_above</th>\n",
              "      <th>sqft_basement</th>\n",
              "      <th>yr_built</th>\n",
              "      <th>yr_renovated</th>\n",
              "      <th>zipcode</th>\n",
              "      <th>lat</th>\n",
              "      <th>long</th>\n",
              "      <th>sqft_living15</th>\n",
              "      <th>sqft_lot15</th>\n",
              "    </tr>\n",
              "  </thead>\n",
              "  <tbody>\n",
              "    <tr>\n",
              "      <th>count</th>\n",
              "      <td>2.161300e+04</td>\n",
              "      <td>21613.00</td>\n",
              "      <td>21613.00</td>\n",
              "      <td>21613.00</td>\n",
              "      <td>21613.00</td>\n",
              "      <td>21613.00</td>\n",
              "      <td>21613.00</td>\n",
              "      <td>21613.00</td>\n",
              "      <td>21613.00</td>\n",
              "      <td>21613.00</td>\n",
              "      <td>21613.00</td>\n",
              "      <td>21613.00</td>\n",
              "      <td>21613.00</td>\n",
              "      <td>21613.00</td>\n",
              "      <td>21613.00</td>\n",
              "      <td>21613.00</td>\n",
              "      <td>21613.00</td>\n",
              "      <td>21613.00</td>\n",
              "      <td>21613.00</td>\n",
              "      <td>21613.00</td>\n",
              "    </tr>\n",
              "    <tr>\n",
              "      <th>mean</th>\n",
              "      <td>4.580302e+09</td>\n",
              "      <td>540088.14</td>\n",
              "      <td>3.37</td>\n",
              "      <td>2.11</td>\n",
              "      <td>2079.90</td>\n",
              "      <td>15106.97</td>\n",
              "      <td>1.49</td>\n",
              "      <td>0.01</td>\n",
              "      <td>0.23</td>\n",
              "      <td>3.41</td>\n",
              "      <td>7.66</td>\n",
              "      <td>1788.39</td>\n",
              "      <td>291.51</td>\n",
              "      <td>1971.01</td>\n",
              "      <td>84.40</td>\n",
              "      <td>98077.94</td>\n",
              "      <td>47.56</td>\n",
              "      <td>-122.21</td>\n",
              "      <td>1986.55</td>\n",
              "      <td>12768.46</td>\n",
              "    </tr>\n",
              "    <tr>\n",
              "      <th>std</th>\n",
              "      <td>2.876566e+09</td>\n",
              "      <td>367127.20</td>\n",
              "      <td>0.93</td>\n",
              "      <td>0.77</td>\n",
              "      <td>918.44</td>\n",
              "      <td>41420.51</td>\n",
              "      <td>0.54</td>\n",
              "      <td>0.09</td>\n",
              "      <td>0.77</td>\n",
              "      <td>0.65</td>\n",
              "      <td>1.18</td>\n",
              "      <td>828.09</td>\n",
              "      <td>442.58</td>\n",
              "      <td>29.37</td>\n",
              "      <td>401.68</td>\n",
              "      <td>53.51</td>\n",
              "      <td>0.14</td>\n",
              "      <td>0.14</td>\n",
              "      <td>685.39</td>\n",
              "      <td>27304.18</td>\n",
              "    </tr>\n",
              "    <tr>\n",
              "      <th>min</th>\n",
              "      <td>1.000102e+06</td>\n",
              "      <td>75000.00</td>\n",
              "      <td>0.00</td>\n",
              "      <td>0.00</td>\n",
              "      <td>290.00</td>\n",
              "      <td>520.00</td>\n",
              "      <td>1.00</td>\n",
              "      <td>0.00</td>\n",
              "      <td>0.00</td>\n",
              "      <td>1.00</td>\n",
              "      <td>1.00</td>\n",
              "      <td>290.00</td>\n",
              "      <td>0.00</td>\n",
              "      <td>1900.00</td>\n",
              "      <td>0.00</td>\n",
              "      <td>98001.00</td>\n",
              "      <td>47.16</td>\n",
              "      <td>-122.52</td>\n",
              "      <td>399.00</td>\n",
              "      <td>651.00</td>\n",
              "    </tr>\n",
              "    <tr>\n",
              "      <th>25%</th>\n",
              "      <td>2.123049e+09</td>\n",
              "      <td>321950.00</td>\n",
              "      <td>3.00</td>\n",
              "      <td>1.75</td>\n",
              "      <td>1427.00</td>\n",
              "      <td>5040.00</td>\n",
              "      <td>1.00</td>\n",
              "      <td>0.00</td>\n",
              "      <td>0.00</td>\n",
              "      <td>3.00</td>\n",
              "      <td>7.00</td>\n",
              "      <td>1190.00</td>\n",
              "      <td>0.00</td>\n",
              "      <td>1951.00</td>\n",
              "      <td>0.00</td>\n",
              "      <td>98033.00</td>\n",
              "      <td>47.47</td>\n",
              "      <td>-122.33</td>\n",
              "      <td>1490.00</td>\n",
              "      <td>5100.00</td>\n",
              "    </tr>\n",
              "    <tr>\n",
              "      <th>50%</th>\n",
              "      <td>3.904930e+09</td>\n",
              "      <td>450000.00</td>\n",
              "      <td>3.00</td>\n",
              "      <td>2.25</td>\n",
              "      <td>1910.00</td>\n",
              "      <td>7618.00</td>\n",
              "      <td>1.50</td>\n",
              "      <td>0.00</td>\n",
              "      <td>0.00</td>\n",
              "      <td>3.00</td>\n",
              "      <td>7.00</td>\n",
              "      <td>1560.00</td>\n",
              "      <td>0.00</td>\n",
              "      <td>1975.00</td>\n",
              "      <td>0.00</td>\n",
              "      <td>98065.00</td>\n",
              "      <td>47.57</td>\n",
              "      <td>-122.23</td>\n",
              "      <td>1840.00</td>\n",
              "      <td>7620.00</td>\n",
              "    </tr>\n",
              "    <tr>\n",
              "      <th>75%</th>\n",
              "      <td>7.308900e+09</td>\n",
              "      <td>645000.00</td>\n",
              "      <td>4.00</td>\n",
              "      <td>2.50</td>\n",
              "      <td>2550.00</td>\n",
              "      <td>10688.00</td>\n",
              "      <td>2.00</td>\n",
              "      <td>0.00</td>\n",
              "      <td>0.00</td>\n",
              "      <td>4.00</td>\n",
              "      <td>8.00</td>\n",
              "      <td>2210.00</td>\n",
              "      <td>560.00</td>\n",
              "      <td>1997.00</td>\n",
              "      <td>0.00</td>\n",
              "      <td>98118.00</td>\n",
              "      <td>47.68</td>\n",
              "      <td>-122.12</td>\n",
              "      <td>2360.00</td>\n",
              "      <td>10083.00</td>\n",
              "    </tr>\n",
              "    <tr>\n",
              "      <th>max</th>\n",
              "      <td>9.900000e+09</td>\n",
              "      <td>7700000.00</td>\n",
              "      <td>33.00</td>\n",
              "      <td>8.00</td>\n",
              "      <td>13540.00</td>\n",
              "      <td>1651359.00</td>\n",
              "      <td>3.50</td>\n",
              "      <td>1.00</td>\n",
              "      <td>4.00</td>\n",
              "      <td>5.00</td>\n",
              "      <td>13.00</td>\n",
              "      <td>9410.00</td>\n",
              "      <td>4820.00</td>\n",
              "      <td>2015.00</td>\n",
              "      <td>2015.00</td>\n",
              "      <td>98199.00</td>\n",
              "      <td>47.78</td>\n",
              "      <td>-121.32</td>\n",
              "      <td>6210.00</td>\n",
              "      <td>871200.00</td>\n",
              "    </tr>\n",
              "  </tbody>\n",
              "</table>\n",
              "</div>"
            ],
            "text/plain": [
              "                 id       price  bedrooms  bathrooms  sqft_living    sqft_lot  \\\n",
              "count  2.161300e+04    21613.00  21613.00   21613.00     21613.00    21613.00   \n",
              "mean   4.580302e+09   540088.14      3.37       2.11      2079.90    15106.97   \n",
              "std    2.876566e+09   367127.20      0.93       0.77       918.44    41420.51   \n",
              "min    1.000102e+06    75000.00      0.00       0.00       290.00      520.00   \n",
              "25%    2.123049e+09   321950.00      3.00       1.75      1427.00     5040.00   \n",
              "50%    3.904930e+09   450000.00      3.00       2.25      1910.00     7618.00   \n",
              "75%    7.308900e+09   645000.00      4.00       2.50      2550.00    10688.00   \n",
              "max    9.900000e+09  7700000.00     33.00       8.00     13540.00  1651359.00   \n",
              "\n",
              "         floors  waterfront      view  condition     grade  sqft_above  \\\n",
              "count  21613.00    21613.00  21613.00   21613.00  21613.00    21613.00   \n",
              "mean       1.49        0.01      0.23       3.41      7.66     1788.39   \n",
              "std        0.54        0.09      0.77       0.65      1.18      828.09   \n",
              "min        1.00        0.00      0.00       1.00      1.00      290.00   \n",
              "25%        1.00        0.00      0.00       3.00      7.00     1190.00   \n",
              "50%        1.50        0.00      0.00       3.00      7.00     1560.00   \n",
              "75%        2.00        0.00      0.00       4.00      8.00     2210.00   \n",
              "max        3.50        1.00      4.00       5.00     13.00     9410.00   \n",
              "\n",
              "       sqft_basement  yr_built  yr_renovated   zipcode       lat      long  \\\n",
              "count       21613.00  21613.00      21613.00  21613.00  21613.00  21613.00   \n",
              "mean          291.51   1971.01         84.40  98077.94     47.56   -122.21   \n",
              "std           442.58     29.37        401.68     53.51      0.14      0.14   \n",
              "min             0.00   1900.00          0.00  98001.00     47.16   -122.52   \n",
              "25%             0.00   1951.00          0.00  98033.00     47.47   -122.33   \n",
              "50%             0.00   1975.00          0.00  98065.00     47.57   -122.23   \n",
              "75%           560.00   1997.00          0.00  98118.00     47.68   -122.12   \n",
              "max          4820.00   2015.00       2015.00  98199.00     47.78   -121.32   \n",
              "\n",
              "       sqft_living15  sqft_lot15  \n",
              "count       21613.00    21613.00  \n",
              "mean         1986.55    12768.46  \n",
              "std           685.39    27304.18  \n",
              "min           399.00      651.00  \n",
              "25%          1490.00     5100.00  \n",
              "50%          1840.00     7620.00  \n",
              "75%          2360.00    10083.00  \n",
              "max          6210.00   871200.00  "
            ]
          },
          "execution_count": 53,
          "metadata": {},
          "output_type": "execute_result"
        }
      ],
      "source": [
        "# Describe the dataset\n",
        "df.describe().round(2)"
      ]
    },
    {
      "cell_type": "code",
      "execution_count": null,
      "id": "9c095964",
      "metadata": {
        "id": "9c095964"
      },
      "outputs": [],
      "source": [
        "# Drop the id and date columns\n",
        "df = df.drop(['id', 'date'], axis=1)"
      ]
    },
    {
      "cell_type": "code",
      "execution_count": null,
      "id": "d84615ed",
      "metadata": {
        "id": "d84615ed",
        "outputId": "583139a6-0f7e-407a-b3d5-5104985775a2"
      },
      "outputs": [
        {
          "data": {
            "text/plain": [
              "21613"
            ]
          },
          "execution_count": 55,
          "metadata": {},
          "output_type": "execute_result"
        }
      ],
      "source": [
        "# Display the number of data observations\n",
        "len(df)"
      ]
    },
    {
      "cell_type": "code",
      "execution_count": null,
      "id": "3a9d4ccb",
      "metadata": {
        "id": "3a9d4ccb",
        "outputId": "e7efda07-97c8-4768-a6e2-4cd5dad3ef65"
      },
      "outputs": [
        {
          "data": {
            "text/plain": [
              "19"
            ]
          },
          "execution_count": 56,
          "metadata": {},
          "output_type": "execute_result"
        }
      ],
      "source": [
        "len(df.columns)"
      ]
    },
    {
      "cell_type": "code",
      "execution_count": null,
      "id": "d307a66e",
      "metadata": {
        "id": "d307a66e",
        "outputId": "309b387a-47c5-4458-8ff5-3998a14aa8ed"
      },
      "outputs": [
        {
          "data": {
            "text/plain": [
              "price            float64\n",
              "bedrooms           int64\n",
              "bathrooms        float64\n",
              "sqft_living        int64\n",
              "sqft_lot           int64\n",
              "floors           float64\n",
              "waterfront         int64\n",
              "view               int64\n",
              "condition          int64\n",
              "grade              int64\n",
              "sqft_above         int64\n",
              "sqft_basement      int64\n",
              "yr_built           int64\n",
              "yr_renovated       int64\n",
              "zipcode            int64\n",
              "lat              float64\n",
              "long             float64\n",
              "sqft_living15      int64\n",
              "sqft_lot15         int64\n",
              "dtype: object"
            ]
          },
          "execution_count": 57,
          "metadata": {},
          "output_type": "execute_result"
        }
      ],
      "source": [
        "# Check the types of data\n",
        "df.dtypes"
      ]
    },
    {
      "cell_type": "code",
      "execution_count": null,
      "id": "72a2b5ed",
      "metadata": {
        "id": "72a2b5ed",
        "outputId": "9e7dd27f-67f3-4056-bd0e-4b4a89f01d0f"
      },
      "outputs": [
        {
          "data": {
            "text/plain": [
              "0"
            ]
          },
          "execution_count": 58,
          "metadata": {},
          "output_type": "execute_result"
        }
      ],
      "source": [
        "# Display the number of null data observations\n",
        "df.isnull().values.sum()"
      ]
    },
    {
      "cell_type": "code",
      "execution_count": null,
      "id": "2bf58222",
      "metadata": {
        "id": "2bf58222",
        "outputId": "4733ecbd-c5c8-4014-d1c7-1fc43eb80ed2"
      },
      "outputs": [
        {
          "data": {
            "text/plain": [
              "['bedrooms',\n",
              " 'bathrooms',\n",
              " 'sqft_living',\n",
              " 'sqft_lot',\n",
              " 'floors',\n",
              " 'waterfront',\n",
              " 'view',\n",
              " 'condition',\n",
              " 'grade',\n",
              " 'sqft_above',\n",
              " 'sqft_basement',\n",
              " 'yr_built',\n",
              " 'yr_renovated',\n",
              " 'zipcode',\n",
              " 'lat',\n",
              " 'long',\n",
              " 'sqft_living15',\n",
              " 'sqft_lot15']"
            ]
          },
          "execution_count": 59,
          "metadata": {},
          "output_type": "execute_result"
        }
      ],
      "source": [
        "# Specify target and features\n",
        "target = df.iloc[:, 0].name\n",
        "features = df.iloc[:, 1:].columns.tolist()\n",
        "features\n"
      ]
    },
    {
      "cell_type": "code",
      "execution_count": null,
      "id": "e9822575",
      "metadata": {
        "id": "e9822575",
        "outputId": "2f0bc3d1-36ca-43aa-efa9-103df1ab41df"
      },
      "outputs": [
        {
          "data": {
            "text/plain": [
              "'price'"
            ]
          },
          "execution_count": 60,
          "metadata": {},
          "output_type": "execute_result"
        }
      ],
      "source": [
        "target"
      ]
    },
    {
      "cell_type": "code",
      "execution_count": null,
      "id": "a32e7d66",
      "metadata": {
        "id": "a32e7d66",
        "outputId": "2512136d-998f-4aa9-89af-97c052326227"
      },
      "outputs": [
        {
          "data": {
            "text/plain": [
              "price            1.000000\n",
              "bedrooms         0.308350\n",
              "bathrooms        0.525138\n",
              "sqft_living      0.702035\n",
              "sqft_lot         0.089661\n",
              "floors           0.256794\n",
              "waterfront       0.266369\n",
              "view             0.397293\n",
              "condition        0.036362\n",
              "grade            0.667434\n",
              "sqft_above       0.605567\n",
              "sqft_basement    0.323816\n",
              "yr_built         0.054012\n",
              "yr_renovated     0.126434\n",
              "zipcode         -0.053203\n",
              "lat              0.307003\n",
              "long             0.021626\n",
              "sqft_living15    0.585379\n",
              "sqft_lot15       0.082447\n",
              "Name: price, dtype: float64"
            ]
          },
          "execution_count": 61,
          "metadata": {},
          "output_type": "execute_result"
        }
      ],
      "source": [
        "# Correlations of features with target variable\n",
        "correlations = df.corr()\n",
        "correlations['price']"
      ]
    },
    {
      "cell_type": "code",
      "execution_count": null,
      "id": "6a091f7d",
      "metadata": {
        "id": "6a091f7d",
        "outputId": "2f6cd952-a8b8-4900-d05d-b08a6c3567a2"
      },
      "outputs": [
        {
          "data": {
            "text/plain": [
              "sqft_lot        0.089661\n",
              "condition       0.036362\n",
              "yr_built        0.054012\n",
              "yr_renovated    0.126434\n",
              "zipcode         0.053203\n",
              "long            0.021626\n",
              "sqft_lot15      0.082447\n",
              "Name: price, dtype: float64"
            ]
          },
          "execution_count": 62,
          "metadata": {},
          "output_type": "execute_result"
        }
      ],
      "source": [
        "# Correlations with target variable\n",
        "cor_target = abs(correlations['price'])\n",
        "\n",
        "# Display features with correlation < 0.2\n",
        "removed_features = cor_target[cor_target < 0.2]\n",
        "removed_features"
      ]
    },
    {
      "cell_type": "code",
      "execution_count": null,
      "id": "3fb4d8b9",
      "metadata": {
        "id": "3fb4d8b9"
      },
      "outputs": [],
      "source": [
        "# Remove features with correlation < 0.2\n",
        "df = df.drop(['sqft_lot', 'condition', 'yr_built', 'yr_renovated', 'zipcode', 'long',\n",
        "              'sqft_lot15'], axis=1)"
      ]
    },
    {
      "cell_type": "code",
      "execution_count": null,
      "id": "04a73e2b",
      "metadata": {
        "id": "04a73e2b",
        "outputId": "e91a4266-779c-43c6-e23a-9374ea26cf28"
      },
      "outputs": [
        {
          "data": {
            "image/png": "[encoded data removed]",
            "text/plain": [
              "<Figure size 1200x1000 with 2 Axes>"
            ]
          },
          "metadata": {},
          "output_type": "display_data"
        }
      ],
      "source": [
        "# Plot Pearson correlation matrix\n",
        "fig_1 = plt.figure(figsize=(12, 10))\n",
        "new_correlations = df.corr()\n",
        "sns.heatmap(new_correlations, annot=True, cmap='Greens', annot_kws={'size': 8})\n",
        "plt.title('Pearson Correlation Matrix')\n",
        "plt.show()"
      ]
    },
    {
      "cell_type": "code",
      "execution_count": null,
      "id": "8c334065",
      "metadata": {
        "id": "8c334065",
        "outputId": "4350c807-a037-4361-cdde-92eb7ae11a18"
      },
      "outputs": [
        {
          "data": {
            "text/html": [
              "<div>\n",
              "<style scoped>\n",
              "    .dataframe tbody tr th:only-of-type {\n",
              "        vertical-align: middle;\n",
              "    }\n",
              "\n",
              "    .dataframe tbody tr th {\n",
              "        vertical-align: top;\n",
              "    }\n",
              "\n",
              "    .dataframe thead th {\n",
              "        text-align: right;\n",
              "    }\n",
              "</style>\n",
              "<table border=\"1\" class=\"dataframe\">\n",
              "  <thead>\n",
              "    <tr style=\"text-align: right;\">\n",
              "      <th></th>\n",
              "      <th>price</th>\n",
              "      <th>bedrooms</th>\n",
              "      <th>bathrooms</th>\n",
              "      <th>sqft_living</th>\n",
              "      <th>floors</th>\n",
              "      <th>waterfront</th>\n",
              "      <th>view</th>\n",
              "      <th>grade</th>\n",
              "      <th>sqft_above</th>\n",
              "      <th>sqft_basement</th>\n",
              "      <th>lat</th>\n",
              "      <th>sqft_living15</th>\n",
              "    </tr>\n",
              "  </thead>\n",
              "  <tbody>\n",
              "    <tr>\n",
              "      <th>price</th>\n",
              "      <td>1.0</td>\n",
              "      <td>-</td>\n",
              "      <td>-</td>\n",
              "      <td>-</td>\n",
              "      <td>-</td>\n",
              "      <td>-</td>\n",
              "      <td>-</td>\n",
              "      <td>-</td>\n",
              "      <td>-</td>\n",
              "      <td>-</td>\n",
              "      <td>-</td>\n",
              "      <td>-</td>\n",
              "    </tr>\n",
              "    <tr>\n",
              "      <th>bedrooms</th>\n",
              "      <td>-</td>\n",
              "      <td>1.0</td>\n",
              "      <td>-</td>\n",
              "      <td>-</td>\n",
              "      <td>-</td>\n",
              "      <td>-</td>\n",
              "      <td>-</td>\n",
              "      <td>-</td>\n",
              "      <td>-</td>\n",
              "      <td>-</td>\n",
              "      <td>-</td>\n",
              "      <td>-</td>\n",
              "    </tr>\n",
              "    <tr>\n",
              "      <th>bathrooms</th>\n",
              "      <td>-</td>\n",
              "      <td>-</td>\n",
              "      <td>1.0</td>\n",
              "      <td>0.754665</td>\n",
              "      <td>-</td>\n",
              "      <td>-</td>\n",
              "      <td>-</td>\n",
              "      <td>-</td>\n",
              "      <td>-</td>\n",
              "      <td>-</td>\n",
              "      <td>-</td>\n",
              "      <td>-</td>\n",
              "    </tr>\n",
              "    <tr>\n",
              "      <th>sqft_living</th>\n",
              "      <td>-</td>\n",
              "      <td>-</td>\n",
              "      <td>0.754665</td>\n",
              "      <td>1.0</td>\n",
              "      <td>-</td>\n",
              "      <td>-</td>\n",
              "      <td>-</td>\n",
              "      <td>0.762704</td>\n",
              "      <td>0.876597</td>\n",
              "      <td>-</td>\n",
              "      <td>-</td>\n",
              "      <td>0.75642</td>\n",
              "    </tr>\n",
              "    <tr>\n",
              "      <th>floors</th>\n",
              "      <td>-</td>\n",
              "      <td>-</td>\n",
              "      <td>-</td>\n",
              "      <td>-</td>\n",
              "      <td>1.0</td>\n",
              "      <td>-</td>\n",
              "      <td>-</td>\n",
              "      <td>-</td>\n",
              "      <td>-</td>\n",
              "      <td>-</td>\n",
              "      <td>-</td>\n",
              "      <td>-</td>\n",
              "    </tr>\n",
              "    <tr>\n",
              "      <th>waterfront</th>\n",
              "      <td>-</td>\n",
              "      <td>-</td>\n",
              "      <td>-</td>\n",
              "      <td>-</td>\n",
              "      <td>-</td>\n",
              "      <td>1.0</td>\n",
              "      <td>-</td>\n",
              "      <td>-</td>\n",
              "      <td>-</td>\n",
              "      <td>-</td>\n",
              "      <td>-</td>\n",
              "      <td>-</td>\n",
              "    </tr>\n",
              "    <tr>\n",
              "      <th>view</th>\n",
              "      <td>-</td>\n",
              "      <td>-</td>\n",
              "      <td>-</td>\n",
              "      <td>-</td>\n",
              "      <td>-</td>\n",
              "      <td>-</td>\n",
              "      <td>1.0</td>\n",
              "      <td>-</td>\n",
              "      <td>-</td>\n",
              "      <td>-</td>\n",
              "      <td>-</td>\n",
              "      <td>-</td>\n",
              "    </tr>\n",
              "    <tr>\n",
              "      <th>grade</th>\n",
              "      <td>-</td>\n",
              "      <td>-</td>\n",
              "      <td>-</td>\n",
              "      <td>0.762704</td>\n",
              "      <td>-</td>\n",
              "      <td>-</td>\n",
              "      <td>-</td>\n",
              "      <td>1.0</td>\n",
              "      <td>0.755923</td>\n",
              "      <td>-</td>\n",
              "      <td>-</td>\n",
              "      <td>-</td>\n",
              "    </tr>\n",
              "    <tr>\n",
              "      <th>sqft_above</th>\n",
              "      <td>-</td>\n",
              "      <td>-</td>\n",
              "      <td>-</td>\n",
              "      <td>0.876597</td>\n",
              "      <td>-</td>\n",
              "      <td>-</td>\n",
              "      <td>-</td>\n",
              "      <td>0.755923</td>\n",
              "      <td>1.0</td>\n",
              "      <td>-</td>\n",
              "      <td>-</td>\n",
              "      <td>-</td>\n",
              "    </tr>\n",
              "    <tr>\n",
              "      <th>sqft_basement</th>\n",
              "      <td>-</td>\n",
              "      <td>-</td>\n",
              "      <td>-</td>\n",
              "      <td>-</td>\n",
              "      <td>-</td>\n",
              "      <td>-</td>\n",
              "      <td>-</td>\n",
              "      <td>-</td>\n",
              "      <td>-</td>\n",
              "      <td>1.0</td>\n",
              "      <td>-</td>\n",
              "      <td>-</td>\n",
              "    </tr>\n",
              "    <tr>\n",
              "      <th>lat</th>\n",
              "      <td>-</td>\n",
              "      <td>-</td>\n",
              "      <td>-</td>\n",
              "      <td>-</td>\n",
              "      <td>-</td>\n",
              "      <td>-</td>\n",
              "      <td>-</td>\n",
              "      <td>-</td>\n",
              "      <td>-</td>\n",
              "      <td>-</td>\n",
              "      <td>1.0</td>\n",
              "      <td>-</td>\n",
              "    </tr>\n",
              "    <tr>\n",
              "      <th>sqft_living15</th>\n",
              "      <td>-</td>\n",
              "      <td>-</td>\n",
              "      <td>-</td>\n",
              "      <td>0.75642</td>\n",
              "      <td>-</td>\n",
              "      <td>-</td>\n",
              "      <td>-</td>\n",
              "      <td>-</td>\n",
              "      <td>-</td>\n",
              "      <td>-</td>\n",
              "      <td>-</td>\n",
              "      <td>1.0</td>\n",
              "    </tr>\n",
              "  </tbody>\n",
              "</table>\n",
              "</div>"
            ],
            "text/plain": [
              "              price bedrooms bathrooms sqft_living floors waterfront view  \\\n",
              "price           1.0        -         -           -      -          -    -   \n",
              "bedrooms          -      1.0         -           -      -          -    -   \n",
              "bathrooms         -        -       1.0    0.754665      -          -    -   \n",
              "sqft_living       -        -  0.754665         1.0      -          -    -   \n",
              "floors            -        -         -           -    1.0          -    -   \n",
              "waterfront        -        -         -           -      -        1.0    -   \n",
              "view              -        -         -           -      -          -  1.0   \n",
              "grade             -        -         -    0.762704      -          -    -   \n",
              "sqft_above        -        -         -    0.876597      -          -    -   \n",
              "sqft_basement     -        -         -           -      -          -    -   \n",
              "lat               -        -         -           -      -          -    -   \n",
              "sqft_living15     -        -         -     0.75642      -          -    -   \n",
              "\n",
              "                  grade sqft_above sqft_basement  lat sqft_living15  \n",
              "price                 -          -             -    -             -  \n",
              "bedrooms              -          -             -    -             -  \n",
              "bathrooms             -          -             -    -             -  \n",
              "sqft_living    0.762704   0.876597             -    -       0.75642  \n",
              "floors                -          -             -    -             -  \n",
              "waterfront            -          -             -    -             -  \n",
              "view                  -          -             -    -             -  \n",
              "grade               1.0   0.755923             -    -             -  \n",
              "sqft_above     0.755923        1.0             -    -             -  \n",
              "sqft_basement         -          -           1.0    -             -  \n",
              "lat                   -          -             -  1.0             -  \n",
              "sqft_living15         -          -             -    -           1.0  "
            ]
          },
          "execution_count": 65,
          "metadata": {},
          "output_type": "execute_result"
        }
      ],
      "source": [
        "# Determine the highest intercorrelations\n",
        "highly_correlated_features = new_correlations[new_correlations > 0.75]\n",
        "highly_correlated_features.fillna('-')"
      ]
    },
    {
      "cell_type": "code",
      "execution_count": null,
      "id": "e38367c1",
      "metadata": {
        "id": "e38367c1"
      },
      "outputs": [],
      "source": [
        "# Remove features which are highly correlated with \"sqft_living\"\n",
        "df = df.drop(['sqft_above', 'sqft_living15'], axis=1)"
      ]
    },
    {
      "cell_type": "code",
      "execution_count": null,
      "id": "5b9de3be",
      "metadata": {
        "id": "5b9de3be",
        "outputId": "43afe560-8565-49c2-f424-16eb2eec518c"
      },
      "outputs": [
        {
          "data": {
            "text/html": [
              "<div>\n",
              "<style scoped>\n",
              "    .dataframe tbody tr th:only-of-type {\n",
              "        vertical-align: middle;\n",
              "    }\n",
              "\n",
              "    .dataframe tbody tr th {\n",
              "        vertical-align: top;\n",
              "    }\n",
              "\n",
              "    .dataframe thead th {\n",
              "        text-align: right;\n",
              "    }\n",
              "</style>\n",
              "<table border=\"1\" class=\"dataframe\">\n",
              "  <thead>\n",
              "    <tr style=\"text-align: right;\">\n",
              "      <th></th>\n",
              "      <th>price</th>\n",
              "      <th>bedrooms</th>\n",
              "      <th>bathrooms</th>\n",
              "      <th>sqft_living</th>\n",
              "      <th>floors</th>\n",
              "      <th>waterfront</th>\n",
              "      <th>view</th>\n",
              "      <th>grade</th>\n",
              "      <th>sqft_basement</th>\n",
              "      <th>lat</th>\n",
              "    </tr>\n",
              "  </thead>\n",
              "  <tbody>\n",
              "    <tr>\n",
              "      <th>0</th>\n",
              "      <td>221900.0</td>\n",
              "      <td>3</td>\n",
              "      <td>1.00</td>\n",
              "      <td>1180</td>\n",
              "      <td>1.0</td>\n",
              "      <td>0</td>\n",
              "      <td>0</td>\n",
              "      <td>7</td>\n",
              "      <td>0</td>\n",
              "      <td>47.5112</td>\n",
              "    </tr>\n",
              "    <tr>\n",
              "      <th>1</th>\n",
              "      <td>538000.0</td>\n",
              "      <td>3</td>\n",
              "      <td>2.25</td>\n",
              "      <td>2570</td>\n",
              "      <td>2.0</td>\n",
              "      <td>0</td>\n",
              "      <td>0</td>\n",
              "      <td>7</td>\n",
              "      <td>400</td>\n",
              "      <td>47.7210</td>\n",
              "    </tr>\n",
              "    <tr>\n",
              "      <th>2</th>\n",
              "      <td>180000.0</td>\n",
              "      <td>2</td>\n",
              "      <td>1.00</td>\n",
              "      <td>770</td>\n",
              "      <td>1.0</td>\n",
              "      <td>0</td>\n",
              "      <td>0</td>\n",
              "      <td>6</td>\n",
              "      <td>0</td>\n",
              "      <td>47.7379</td>\n",
              "    </tr>\n",
              "    <tr>\n",
              "      <th>3</th>\n",
              "      <td>604000.0</td>\n",
              "      <td>4</td>\n",
              "      <td>3.00</td>\n",
              "      <td>1960</td>\n",
              "      <td>1.0</td>\n",
              "      <td>0</td>\n",
              "      <td>0</td>\n",
              "      <td>7</td>\n",
              "      <td>910</td>\n",
              "      <td>47.5208</td>\n",
              "    </tr>\n",
              "    <tr>\n",
              "      <th>4</th>\n",
              "      <td>510000.0</td>\n",
              "      <td>3</td>\n",
              "      <td>2.00</td>\n",
              "      <td>1680</td>\n",
              "      <td>1.0</td>\n",
              "      <td>0</td>\n",
              "      <td>0</td>\n",
              "      <td>8</td>\n",
              "      <td>0</td>\n",
              "      <td>47.6168</td>\n",
              "    </tr>\n",
              "  </tbody>\n",
              "</table>\n",
              "</div>"
            ],
            "text/plain": [
              "      price  bedrooms  bathrooms  sqft_living  floors  waterfront  view  \\\n",
              "0  221900.0         3       1.00         1180     1.0           0     0   \n",
              "1  538000.0         3       2.25         2570     2.0           0     0   \n",
              "2  180000.0         2       1.00          770     1.0           0     0   \n",
              "3  604000.0         4       3.00         1960     1.0           0     0   \n",
              "4  510000.0         3       2.00         1680     1.0           0     0   \n",
              "\n",
              "   grade  sqft_basement      lat  \n",
              "0      7              0  47.5112  \n",
              "1      7            400  47.7210  \n",
              "2      6              0  47.7379  \n",
              "3      7            910  47.5208  \n",
              "4      8              0  47.6168  "
            ]
          },
          "execution_count": 67,
          "metadata": {},
          "output_type": "execute_result"
        }
      ],
      "source": [
        "# Update features and store their length\n",
        "features = df.iloc[:, 1:].columns.tolist()\n",
        "len_of_features = len(features)\n",
        "len_of_features\n",
        "\n",
        "# Display the first five observations\n",
        "df.head()"
      ]
    },
    {
      "cell_type": "code",
      "execution_count": null,
      "id": "66561b5a",
      "metadata": {
        "id": "66561b5a"
      },
      "outputs": [],
      "source": [
        "# Normalize the features\n",
        "df.iloc[:, 1:] = (df - df.mean())/df.std()"
      ]
    },
    {
      "cell_type": "code",
      "execution_count": null,
      "id": "a5bb995d",
      "metadata": {
        "id": "a5bb995d",
        "outputId": "ae2f3c2f-c5c7-4d14-c8a8-971a4daa9730"
      },
      "outputs": [
        {
          "name": "stdout",
          "output_type": "stream",
          "text": [
            "(21613, 10)\n",
            "[[-0.86669728 -0.39872792 -1.44743008 -0.97981235 -0.91540583 -0.08717061\n",
            "  -0.30575239 -0.55882282 -0.6586658   1.        ]\n",
            " [-0.00568779 -0.39872792  0.17560263  0.53362199  0.93648411 -0.08717061\n",
            "  -0.30575239 -0.55882282  0.24513573  1.        ]\n",
            " [-0.98082666 -1.47392526 -1.44743008 -1.42622105 -0.91540583 -0.08717061\n",
            "  -0.30575239 -1.4095545  -0.6586658   1.        ]\n",
            " [ 0.17408642  0.67646941  1.14942226 -0.13054704 -0.91540583 -0.08717061\n",
            "  -0.30575239 -0.55882282  1.39748267  1.        ]\n",
            " [-0.08195563 -0.39872792 -0.14900391 -0.43541151 -0.91540583 -0.08717061\n",
            "  -0.30575239  0.29190886 -0.6586658   1.        ]\n",
            " [ 1.86559826  0.67646941  3.09706152  3.63670681 -0.91540583 -0.08717061\n",
            "  -0.30575239  2.84410389  2.79837504  1.        ]\n",
            " [-0.76972816 -0.39872792  0.17560263 -0.39730345  0.93648411 -0.08717061\n",
            "  -0.30575239 -0.55882282 -0.6586658   1.        ]\n",
            " [-0.67616386 -0.39872792 -0.798217   -1.11046856 -0.91540583 -0.08717061\n",
            "  -0.30575239 -0.55882282 -0.6586658   1.        ]\n",
            " [-0.84599601 -0.39872792 -1.44743008 -0.32653134 -0.91540583 -0.08717061\n",
            "  -0.30575239 -0.55882282  0.99077199  1.        ]\n",
            " [-0.59131588 -0.39872792  0.50020918 -0.20676315  0.93648411 -0.08717061\n",
            "  -0.30575239 -0.55882282 -0.6586658   1.        ]]\n"
          ]
        }
      ],
      "source": [
        "# Create X, y and theta\n",
        "X = df.iloc[:, 1:]\n",
        "# Création de la matrice X, inclut le Biais\n",
        "X = np.hstack((X, np.ones((X.shape[0], 1)))) # ajoute un vecteur Biais de dimension (x.shape[0], 1)\n",
        "print(X.shape)\n",
        "print(X[:10])"
      ]
    },
    {
      "cell_type": "code",
      "execution_count": null,
      "id": "e4fb3857",
      "metadata": {
        "id": "e4fb3857",
        "outputId": "5d6e25b5-270c-4538-ebee-04dc4f6fb433"
      },
      "outputs": [
        {
          "data": {
            "text/plain": [
              "array([[-0.18997001],\n",
              "       [ 0.78029242],\n",
              "       [ 0.45921353],\n",
              "       [ 0.13152102],\n",
              "       [ 1.63062358],\n",
              "       [-0.28365887],\n",
              "       [ 0.23713416],\n",
              "       [ 1.8324375 ],\n",
              "       [-0.67837055],\n",
              "       [ 0.61480719]])"
            ]
          },
          "execution_count": 70,
          "metadata": {},
          "output_type": "execute_result"
        }
      ],
      "source": [
        "y = df.iloc[:, 0:1].values\n",
        "# Initialisation du vecteur theta aléatoire, avec 3 éléments (car X a trois colonnes)\n",
        "theta = np.random.randn(10, 1)\n",
        "theta"
      ]
    },
    {
      "cell_type": "code",
      "execution_count": null,
      "id": "d1eceb73",
      "metadata": {
        "id": "d1eceb73",
        "outputId": "8a0572b4-6f4b-457a-96b1-f577f19b9df6"
      },
      "outputs": [
        {
          "name": "stdout",
          "output_type": "stream",
          "text": [
            "(21613, 10)\n",
            "(21613, 1)\n",
            "(10, 1)\n"
          ]
        }
      ],
      "source": [
        "print(X.shape)\n",
        "print(y.shape)\n",
        "print(theta.shape)"
      ]
    },
    {
      "cell_type": "code",
      "execution_count": null,
      "id": "8ceaba9f",
      "metadata": {
        "id": "8ceaba9f"
      },
      "outputs": [],
      "source": [
        "def model(X, theta): # définir le modèle\n",
        "    return X.dot(theta)"
      ]
    },
    {
      "cell_type": "code",
      "execution_count": null,
      "id": "dc3af4f3",
      "metadata": {
        "id": "dc3af4f3"
      },
      "outputs": [],
      "source": [
        "def cost_function(X, y, theta): #définir la fonction coût\n",
        "    m = len(y)\n",
        "    return 1/(2*m) * np.sum((model(X, theta) - y)**2)"
      ]
    },
    {
      "cell_type": "code",
      "execution_count": null,
      "id": "923b8eaf",
      "metadata": {
        "id": "923b8eaf",
        "outputId": "354ee847-446d-40aa-e952-3754866809f7"
      },
      "outputs": [
        {
          "data": {
            "text/plain": [
              "213234669580.49963"
            ]
          },
          "execution_count": 74,
          "metadata": {},
          "output_type": "execute_result"
        }
      ],
      "source": [
        "cost_function(X, y, theta)"
      ]
    },
    {
      "cell_type": "code",
      "execution_count": null,
      "id": "70d28821",
      "metadata": {
        "id": "70d28821"
      },
      "outputs": [],
      "source": [
        "# définir la fonction de gradient\n",
        "def grad(X, y, theta):\n",
        "    m = len(y)\n",
        "    return 1/m * X.T.dot(model(X, theta) - y)"
      ]
    },
    {
      "cell_type": "code",
      "execution_count": null,
      "id": "1e3c5598",
      "metadata": {
        "id": "1e3c5598"
      },
      "outputs": [],
      "source": [
        "# Définir la descente de gradient\n",
        "def gradient_descent(X, y, theta, learning_rate, n_iterations):\n",
        "\n",
        "    cost_history = np.zeros(n_iterations) # création d'un tableau de stockage pour enregistrer l'évolution du Cout du modele\n",
        "\n",
        "    for i in range(0, n_iterations):\n",
        "        theta = theta - learning_rate * grad(X, y, theta) # mise a jour du parametre theta (formule du gradient descent)\n",
        "        cost_history[i] = cost_function(X, y, theta) # on enregistre la valeur du Cout au tour i dans cost_history[i]\n",
        "\n",
        "    return theta, cost_history"
      ]
    },
    {
      "cell_type": "code",
      "execution_count": null,
      "id": "6f81fc83",
      "metadata": {
        "id": "6f81fc83"
      },
      "outputs": [],
      "source": [
        "# Entrainement du modèle\n",
        "n_iterations = 1000\n",
        "learning_rate = 0.01\n",
        "\n",
        "theta_final, cost_history = gradient_descent(X, y, theta, learning_rate, n_iterations)"
      ]
    },
    {
      "cell_type": "code",
      "execution_count": null,
      "id": "d35b2dd2",
      "metadata": {
        "id": "d35b2dd2",
        "outputId": "626d3c7b-6211-4502-c0d1-1eb8d4845c8b"
      },
      "outputs": [
        {
          "data": {
            "text/plain": [
              "array([[353752.18519928],\n",
              "       [ -3146.5593765 ],\n",
              "       [ -5696.11767545],\n",
              "       [ 13735.81585643],\n",
              "       [ -1322.32133977],\n",
              "       [  2355.35895842],\n",
              "       [   920.55714435],\n",
              "       [  5658.88968176],\n",
              "       [  -741.97174623],\n",
              "       [540064.82551428]])"
            ]
          },
          "execution_count": 78,
          "metadata": {},
          "output_type": "execute_result"
        }
      ],
      "source": [
        "# création d'un vecteur prédictions qui contient les prédictions de notre modele final\n",
        "predictions = model(X, theta_final)\n",
        "\n",
        "theta_final"
      ]
    },
    {
      "cell_type": "code",
      "execution_count": null,
      "id": "7fd6af5f",
      "metadata": {
        "id": "7fd6af5f",
        "outputId": "0674bbdb-f9fe-408a-98c9-29bccc832cbf"
      },
      "outputs": [
        {
          "data": {
            "image/png": "[encoded data removed]",
            "text/plain": [
              "<Figure size 640x480 with 1 Axes>"
            ]
          },
          "metadata": {},
          "output_type": "display_data"
        }
      ],
      "source": [
        "# Courbe d'apprentissage\n",
        "plt.plot(range(n_iterations), cost_history)\n",
        "plt.show()"
      ]
    },
    {
      "cell_type": "code",
      "execution_count": null,
      "id": "49684647",
      "metadata": {
        "id": "49684647"
      },
      "outputs": [],
      "source": [
        "# Evaluation du modèle\n",
        "def coef_determination(y, pred):\n",
        "    u = ((y - pred)**2).sum()\n",
        "    v = ((y - y.mean())**2).sum()\n",
        "    return 1 - u/v"
      ]
    },
    {
      "cell_type": "code",
      "execution_count": null,
      "id": "bfb12625",
      "metadata": {
        "id": "bfb12625",
        "outputId": "ca6c0b14-7eba-4a8e-b90b-8b6ab55ebcde"
      },
      "outputs": [
        {
          "data": {
            "text/plain": [
              "0.9992729289124922"
            ]
          },
          "execution_count": 81,
          "metadata": {},
          "output_type": "execute_result"
        }
      ],
      "source": [
        "coef_determination(y, predictions)"
      ]
    },
    {
      "cell_type": "code",
      "execution_count": null,
      "id": "36e9e47a",
      "metadata": {
        "id": "36e9e47a",
        "outputId": "8e31d9d3-66a4-40e0-d129-3ebfc23032f1"
      },
      "outputs": [
        {
          "data": {
            "text/plain": [
              "'[510059.75]'"
            ]
          },
          "execution_count": 82,
          "metadata": {},
          "output_type": "execute_result"
        }
      ],
      "source": [
        "\n",
        "str(predictions[4].round(2))"
      ]
    },
    {
      "cell_type": "code",
      "execution_count": null,
      "id": "d6f2e04e",
      "metadata": {
        "id": "d6f2e04e",
        "outputId": "2139dcf2-7813-480f-a2d1-aa3505f0a1f6"
      },
      "outputs": [
        {
          "data": {
            "text/plain": [
              "'[510000.]'"
            ]
          },
          "execution_count": 83,
          "metadata": {},
          "output_type": "execute_result"
        }
      ],
      "source": [
        "str(y[4].round(2))"
      ]
    },
    {
      "cell_type": "code",
      "execution_count": null,
      "id": "1107bb3d",
      "metadata": {
        "id": "1107bb3d",
        "outputId": "2d63fa73-43b9-4f89-f27c-bf4ee258ba95"
      },
      "outputs": [
        {
          "data": {
            "text/plain": [
              "'[59.75]'"
            ]
          },
          "execution_count": 84,
          "metadata": {},
          "output_type": "execute_result"
        }
      ],
      "source": [
        "str(predictions[4].round(2)-y[4].round(2))"
      ]
    },
    {
      "cell_type": "code",
      "execution_count": null,
      "id": "1cd6b48f",
      "metadata": {
        "id": "1cd6b48f"
      },
      "outputs": [],
      "source": []
    }
  ],
  "metadata": {
    "kernelspec": {
      "display_name": "Python 3 (ipykernel)",
      "language": "python",
      "name": "python3"
    },
    "language_info": {
      "codemirror_mode": {
        "name": "ipython",
        "version": 3
      },
      "file_extension": ".py",
      "mimetype": "text/x-python",
      "name": "python",
      "nbconvert_exporter": "python",
      "pygments_lexer": "ipython3",
      "version": "3.11.5"
    },
    "colab": {
      "provenance": []
    }
  },
  "nbformat": 4,
  "nbformat_minor": 5
}