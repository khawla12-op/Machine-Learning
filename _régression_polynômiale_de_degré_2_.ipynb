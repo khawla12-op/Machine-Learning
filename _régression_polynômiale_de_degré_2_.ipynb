{
  "cells": [
    {
      "cell_type": "code",
      "execution_count": null,
      "id": "6a936f00",
      "metadata": {
        "id": "6a936f00"
      },
      "outputs": [],
      "source": [
        "import numpy as np\n",
        "import pandas as pd\n",
        "import matplotlib.pyplot as plt\n",
        "import seaborn as sns"
      ]
    },
    {
      "cell_type": "markdown",
      "id": "61a62d0e",
      "metadata": {
        "id": "61a62d0e"
      },
      "source": [
        "###  Régression linéaire multiple"
      ]
    },
    {
      "cell_type": "code",
      "execution_count": null,
      "id": "4d41624e",
      "metadata": {
        "id": "4d41624e"
      },
      "outputs": [],
      "source": [
        "# chargement du dataset\n",
        "df = pd.read_csv(\"advertising.csv\")"
      ]
    },
    {
      "cell_type": "code",
      "execution_count": null,
      "id": "239edbda",
      "metadata": {
        "id": "239edbda",
        "outputId": "7aab644c-8293-4e82-f4b1-63baec261b1d"
      },
      "outputs": [
        {
          "data": {
            "text/html": [
              "<div>\n",
              "<style scoped>\n",
              "    .dataframe tbody tr th:only-of-type {\n",
              "        vertical-align: middle;\n",
              "    }\n",
              "\n",
              "    .dataframe tbody tr th {\n",
              "        vertical-align: top;\n",
              "    }\n",
              "\n",
              "    .dataframe thead th {\n",
              "        text-align: right;\n",
              "    }\n",
              "</style>\n",
              "<table border=\"1\" class=\"dataframe\">\n",
              "  <thead>\n",
              "    <tr style=\"text-align: right;\">\n",
              "      <th></th>\n",
              "      <th>TV</th>\n",
              "      <th>Radio</th>\n",
              "      <th>Newspaper</th>\n",
              "      <th>Sales</th>\n",
              "    </tr>\n",
              "  </thead>\n",
              "  <tbody>\n",
              "    <tr>\n",
              "      <th>0</th>\n",
              "      <td>230.1</td>\n",
              "      <td>37.8</td>\n",
              "      <td>69.2</td>\n",
              "      <td>22.1</td>\n",
              "    </tr>\n",
              "    <tr>\n",
              "      <th>1</th>\n",
              "      <td>44.5</td>\n",
              "      <td>39.3</td>\n",
              "      <td>45.1</td>\n",
              "      <td>10.4</td>\n",
              "    </tr>\n",
              "    <tr>\n",
              "      <th>2</th>\n",
              "      <td>17.2</td>\n",
              "      <td>45.9</td>\n",
              "      <td>69.3</td>\n",
              "      <td>12.0</td>\n",
              "    </tr>\n",
              "    <tr>\n",
              "      <th>3</th>\n",
              "      <td>151.5</td>\n",
              "      <td>41.3</td>\n",
              "      <td>58.5</td>\n",
              "      <td>16.5</td>\n",
              "    </tr>\n",
              "    <tr>\n",
              "      <th>4</th>\n",
              "      <td>180.8</td>\n",
              "      <td>10.8</td>\n",
              "      <td>58.4</td>\n",
              "      <td>17.9</td>\n",
              "    </tr>\n",
              "  </tbody>\n",
              "</table>\n",
              "</div>"
            ],
            "text/plain": [
              "      TV  Radio  Newspaper  Sales\n",
              "0  230.1   37.8       69.2   22.1\n",
              "1   44.5   39.3       45.1   10.4\n",
              "2   17.2   45.9       69.3   12.0\n",
              "3  151.5   41.3       58.5   16.5\n",
              "4  180.8   10.8       58.4   17.9"
            ]
          },
          "execution_count": 5,
          "metadata": {},
          "output_type": "execute_result"
        }
      ],
      "source": [
        "df.head()"
      ]
    },
    {
      "cell_type": "code",
      "execution_count": null,
      "id": "67512aa0",
      "metadata": {
        "id": "67512aa0"
      },
      "outputs": [],
      "source": [
        "# Extraction des colonnes X\n",
        "X = df[['TV', 'Radio', 'Newspaper']]\n",
        "\n",
        "#X = df[['TV', 'Radio']]\n",
        "# Extraction de la colonne y\n",
        "y = df['Sales']"
      ]
    },
    {
      "cell_type": "code",
      "execution_count": null,
      "id": "de8f0c28",
      "metadata": {
        "id": "de8f0c28",
        "outputId": "be70ad45-292c-4ffd-8c58-77aca1ac3b19"
      },
      "outputs": [
        {
          "data": {
            "text/html": [
              "<div>\n",
              "<style scoped>\n",
              "    .dataframe tbody tr th:only-of-type {\n",
              "        vertical-align: middle;\n",
              "    }\n",
              "\n",
              "    .dataframe tbody tr th {\n",
              "        vertical-align: top;\n",
              "    }\n",
              "\n",
              "    .dataframe thead th {\n",
              "        text-align: right;\n",
              "    }\n",
              "</style>\n",
              "<table border=\"1\" class=\"dataframe\">\n",
              "  <thead>\n",
              "    <tr style=\"text-align: right;\">\n",
              "      <th></th>\n",
              "      <th>TV</th>\n",
              "      <th>Radio</th>\n",
              "      <th>Newspaper</th>\n",
              "    </tr>\n",
              "  </thead>\n",
              "  <tbody>\n",
              "    <tr>\n",
              "      <th>0</th>\n",
              "      <td>230.1</td>\n",
              "      <td>37.8</td>\n",
              "      <td>69.2</td>\n",
              "    </tr>\n",
              "    <tr>\n",
              "      <th>1</th>\n",
              "      <td>44.5</td>\n",
              "      <td>39.3</td>\n",
              "      <td>45.1</td>\n",
              "    </tr>\n",
              "    <tr>\n",
              "      <th>2</th>\n",
              "      <td>17.2</td>\n",
              "      <td>45.9</td>\n",
              "      <td>69.3</td>\n",
              "    </tr>\n",
              "    <tr>\n",
              "      <th>3</th>\n",
              "      <td>151.5</td>\n",
              "      <td>41.3</td>\n",
              "      <td>58.5</td>\n",
              "    </tr>\n",
              "    <tr>\n",
              "      <th>4</th>\n",
              "      <td>180.8</td>\n",
              "      <td>10.8</td>\n",
              "      <td>58.4</td>\n",
              "    </tr>\n",
              "    <tr>\n",
              "      <th>...</th>\n",
              "      <td>...</td>\n",
              "      <td>...</td>\n",
              "      <td>...</td>\n",
              "    </tr>\n",
              "    <tr>\n",
              "      <th>195</th>\n",
              "      <td>38.2</td>\n",
              "      <td>3.7</td>\n",
              "      <td>13.8</td>\n",
              "    </tr>\n",
              "    <tr>\n",
              "      <th>196</th>\n",
              "      <td>94.2</td>\n",
              "      <td>4.9</td>\n",
              "      <td>8.1</td>\n",
              "    </tr>\n",
              "    <tr>\n",
              "      <th>197</th>\n",
              "      <td>177.0</td>\n",
              "      <td>9.3</td>\n",
              "      <td>6.4</td>\n",
              "    </tr>\n",
              "    <tr>\n",
              "      <th>198</th>\n",
              "      <td>283.6</td>\n",
              "      <td>42.0</td>\n",
              "      <td>66.2</td>\n",
              "    </tr>\n",
              "    <tr>\n",
              "      <th>199</th>\n",
              "      <td>232.1</td>\n",
              "      <td>8.6</td>\n",
              "      <td>8.7</td>\n",
              "    </tr>\n",
              "  </tbody>\n",
              "</table>\n",
              "<p>200 rows × 3 columns</p>\n",
              "</div>"
            ],
            "text/plain": [
              "        TV  Radio  Newspaper\n",
              "0    230.1   37.8       69.2\n",
              "1     44.5   39.3       45.1\n",
              "2     17.2   45.9       69.3\n",
              "3    151.5   41.3       58.5\n",
              "4    180.8   10.8       58.4\n",
              "..     ...    ...        ...\n",
              "195   38.2    3.7       13.8\n",
              "196   94.2    4.9        8.1\n",
              "197  177.0    9.3        6.4\n",
              "198  283.6   42.0       66.2\n",
              "199  232.1    8.6        8.7\n",
              "\n",
              "[200 rows x 3 columns]"
            ]
          },
          "execution_count": 7,
          "metadata": {},
          "output_type": "execute_result"
        }
      ],
      "source": [
        "X"
      ]
    },
    {
      "cell_type": "code",
      "execution_count": null,
      "id": "c4b03c22",
      "metadata": {
        "id": "c4b03c22",
        "outputId": "7a91a478-c689-42b1-858c-3cb7abc7d9d2"
      },
      "outputs": [
        {
          "data": {
            "text/plain": [
              "0      22.1\n",
              "1      10.4\n",
              "2      12.0\n",
              "3      16.5\n",
              "4      17.9\n",
              "       ... \n",
              "195     7.6\n",
              "196    14.0\n",
              "197    14.8\n",
              "198    25.5\n",
              "199    18.4\n",
              "Name: Sales, Length: 200, dtype: float64"
            ]
          },
          "execution_count": 8,
          "metadata": {},
          "output_type": "execute_result"
        }
      ],
      "source": [
        "y"
      ]
    },
    {
      "cell_type": "code",
      "execution_count": null,
      "id": "e932d4aa",
      "metadata": {
        "id": "e932d4aa",
        "outputId": "e3925a3e-aa97-4030-d085-3c25a1fc8ef8"
      },
      "outputs": [
        {
          "name": "stdout",
          "output_type": "stream",
          "text": [
            "(200, 3)\n",
            "(200,)\n"
          ]
        }
      ],
      "source": [
        "print(X.shape)\n",
        "print(y.shape)\n"
      ]
    },
    {
      "cell_type": "code",
      "execution_count": null,
      "id": "3ce39950",
      "metadata": {
        "id": "3ce39950",
        "outputId": "694c5d69-f351-463e-ef5d-09e5bf9b8b49"
      },
      "outputs": [
        {
          "data": {
            "text/plain": [
              "(200, 3)"
            ]
          },
          "execution_count": 10,
          "metadata": {},
          "output_type": "execute_result"
        }
      ],
      "source": [
        "X.shape"
      ]
    },
    {
      "cell_type": "code",
      "execution_count": null,
      "id": "11522822",
      "metadata": {
        "id": "11522822",
        "outputId": "1c832d04-c803-4cb9-e103-05f75c034940"
      },
      "outputs": [
        {
          "data": {
            "text/plain": [
              "(200, 1)"
            ]
          },
          "execution_count": 11,
          "metadata": {},
          "output_type": "execute_result"
        }
      ],
      "source": [
        "y=y.values.reshape(-1,1)\n",
        "y.shape"
      ]
    },
    {
      "cell_type": "code",
      "execution_count": null,
      "id": "f9d190d4",
      "metadata": {
        "id": "f9d190d4"
      },
      "outputs": [],
      "source": [
        "from sklearn.model_selection import train_test_split\n",
        "X_train, X_test, y_train, y_test = train_test_split(X, y, test_size=0.2, random_state=42)"
      ]
    },
    {
      "cell_type": "code",
      "execution_count": null,
      "id": "c29cddbe",
      "metadata": {
        "id": "c29cddbe"
      },
      "outputs": [],
      "source": [
        "X_train=(X_train-X_train.mean())/X_train.std()\n",
        "X_test=(X_test-X_test.mean())/X_test.std()\n",
        "\n",
        "#from sklearn.preprocessing import MinMaxScaler\n",
        "# create an instance of MinMaxScaler\n",
        "#scaler = MinMaxScaler()\n",
        "# fit and transform the x train data qnd x test\n",
        "#X_train = scaler.fit_transform(X_train)\n",
        "#X_test = scaler.fit_transform(X_test)\n",
        "\n",
        "X_train = np.hstack((X_train, np.ones((X_train.shape[0], 1))))\n",
        "X_test = np.hstack((X_test, np.ones((X_test.shape[0], 1))))"
      ]
    },
    {
      "cell_type": "code",
      "execution_count": null,
      "id": "fe869d23",
      "metadata": {
        "id": "fe869d23",
        "outputId": "35a370c7-3cf7-43df-ea53-f02ebcbb8d50"
      },
      "outputs": [
        {
          "name": "stdout",
          "output_type": "stream",
          "text": [
            "(40, 4)\n",
            "(160, 4)\n"
          ]
        }
      ],
      "source": [
        "print(X_test.shape)\n",
        "print(X_train.shape)"
      ]
    },
    {
      "cell_type": "code",
      "execution_count": null,
      "id": "903acd87",
      "metadata": {
        "id": "903acd87",
        "outputId": "c3dcc0f0-ce28-43c6-ab1a-8f3ba3ee924c"
      },
      "outputs": [
        {
          "name": "stdout",
          "output_type": "stream",
          "text": [
            "Theta: [[1.76405235]\n",
            " [0.40015721]\n",
            " [0.97873798]\n",
            " [2.2408932 ]]\n"
          ]
        }
      ],
      "source": [
        "np.random.seed(0) # pour produire toujours le meme vecteur theta aléatoire\n",
        "theta=np.random.randn(4,1)\n",
        "print('Theta:',theta)"
      ]
    },
    {
      "cell_type": "code",
      "execution_count": null,
      "id": "98e7cea8",
      "metadata": {
        "id": "98e7cea8"
      },
      "outputs": [],
      "source": [
        "def model(X, theta):\n",
        "    return X.dot(theta)"
      ]
    },
    {
      "cell_type": "code",
      "execution_count": null,
      "id": "e519da26",
      "metadata": {
        "id": "e519da26"
      },
      "outputs": [],
      "source": [
        "def cost_function(X, y, theta):\n",
        "    m = len(y)\n",
        "    return 1/(2*m) * np.sum((model(X, theta) - y)**2)"
      ]
    },
    {
      "cell_type": "code",
      "execution_count": null,
      "id": "00538829",
      "metadata": {
        "id": "00538829",
        "outputId": "6d8358c9-8a47-4eb5-ba2e-ab68eff1b65e"
      },
      "outputs": [
        {
          "data": {
            "text/plain": [
              "91.74091996597303"
            ]
          },
          "execution_count": 18,
          "metadata": {},
          "output_type": "execute_result"
        }
      ],
      "source": [
        "cost_function(X_train, y_train, theta)"
      ]
    },
    {
      "cell_type": "code",
      "execution_count": null,
      "id": "21a9984a",
      "metadata": {
        "id": "21a9984a"
      },
      "outputs": [],
      "source": [
        "def grad(X, y, theta):\n",
        "    m = len(y)\n",
        "    return 1/m * X.T.dot(model(X, theta) - y)"
      ]
    },
    {
      "cell_type": "code",
      "execution_count": null,
      "id": "f76b6720",
      "metadata": {
        "id": "f76b6720"
      },
      "outputs": [],
      "source": [
        "def gradient_descent(X, y, theta, learning_rate, n_iterations):\n",
        "\n",
        "    cost_history = np.zeros(n_iterations) # création d'un tableau de stockage pour enregistrer l'évolution du Cout du modele\n",
        "\n",
        "    for i in range(0, n_iterations):\n",
        "        theta = theta - learning_rate * grad(X, y, theta) # mise a jour du parametre theta (formule du gradient descent)\n",
        "        cost_history[i] = cost_function(X, y, theta) # on enregistre la valeur du Cout au tour i dans cost_history[i]\n",
        "\n",
        "    return theta, cost_history"
      ]
    },
    {
      "cell_type": "code",
      "execution_count": null,
      "id": "e665382e",
      "metadata": {
        "id": "e665382e"
      },
      "outputs": [],
      "source": [
        "n_iterations = 10000\n",
        "learning_rate = 0.03\n",
        "\n",
        "theta_final, cost_history = gradient_descent(X_train, y_train, theta, learning_rate, n_iterations)"
      ]
    },
    {
      "cell_type": "code",
      "execution_count": null,
      "id": "b65649e1",
      "metadata": {
        "id": "b65649e1",
        "outputId": "354acf02-4315-473f-c622-62d00331b817"
      },
      "outputs": [
        {
          "data": {
            "text/plain": [
              "array([[ 4.60161031],\n",
              "       [ 1.49451794],\n",
              "       [ 0.088192  ],\n",
              "       [15.330625  ]])"
            ]
          },
          "execution_count": 22,
          "metadata": {},
          "output_type": "execute_result"
        }
      ],
      "source": [
        "theta_final"
      ]
    },
    {
      "cell_type": "code",
      "execution_count": null,
      "id": "42937239",
      "metadata": {
        "id": "42937239"
      },
      "outputs": [],
      "source": [
        "# création d'un vecteur prédictions qui contient les prédictions de notre modele final\n",
        "predictions_test = model(X_test, theta_final)\n",
        "predictions_train = model(X_train, theta_final)"
      ]
    },
    {
      "cell_type": "code",
      "execution_count": null,
      "id": "9c921e53",
      "metadata": {
        "id": "9c921e53",
        "outputId": "0882012a-e83b-4383-eb64-477b4089b48a"
      },
      "outputs": [
        {
          "data": {
            "text/plain": [
              "array([[11.91465765],\n",
              "       [15.32881375],\n",
              "       [ 9.91093345],\n",
              "       [ 9.46132618],\n",
              "       [17.23412363],\n",
              "       [ 7.22972412],\n",
              "       [10.35454191],\n",
              "       [15.23876611],\n",
              "       [11.14036535],\n",
              "       [11.71856758],\n",
              "       [13.85060866],\n",
              "       [14.66570876],\n",
              "       [10.44983379],\n",
              "       [ 9.28550764],\n",
              "       [ 9.02357336],\n",
              "       [12.47875166],\n",
              "       [10.48712079],\n",
              "       [24.99748731],\n",
              "       [ 7.88523289],\n",
              "       [15.8640533 ],\n",
              "       [21.30888748],\n",
              "       [17.00814942],\n",
              "       [12.79206695],\n",
              "       [ 9.84041429],\n",
              "       [21.01070892],\n",
              "       [ 7.48343928],\n",
              "       [23.52204082],\n",
              "       [ 7.05636619],\n",
              "       [12.56968457],\n",
              "       [10.08676368],\n",
              "       [11.1715446 ],\n",
              "       [ 9.12566707],\n",
              "       [16.92180225],\n",
              "       [17.90167068],\n",
              "       [15.63428805],\n",
              "       [18.26514616],\n",
              "       [15.51584207],\n",
              "       [19.23176429],\n",
              "       [17.48701831],\n",
              "       [21.82555114],\n",
              "       [10.58560762],\n",
              "       [14.22101675],\n",
              "       [10.75778538],\n",
              "       [18.10690693],\n",
              "       [ 9.94580615],\n",
              "       [17.38762989],\n",
              "       [13.21321157],\n",
              "       [23.7057409 ],\n",
              "       [11.04124955],\n",
              "       [23.50498043],\n",
              "       [ 7.25377772],\n",
              "       [19.17388849],\n",
              "       [24.9725586 ],\n",
              "       [21.21199698],\n",
              "       [18.85730214],\n",
              "       [16.49383903],\n",
              "       [13.90044002],\n",
              "       [11.26132856],\n",
              "       [19.58689909],\n",
              "       [15.32197517],\n",
              "       [15.91287266],\n",
              "       [10.29394498],\n",
              "       [20.24916557],\n",
              "       [12.59260311],\n",
              "       [21.37507598],\n",
              "       [11.62060518],\n",
              "       [ 9.00761916],\n",
              "       [19.44123849],\n",
              "       [15.85637182],\n",
              "       [18.5764323 ],\n",
              "       [ 9.57905955],\n",
              "       [21.37254028],\n",
              "       [24.69974685],\n",
              "       [18.22258697],\n",
              "       [18.82367855],\n",
              "       [14.9707016 ],\n",
              "       [16.30608241],\n",
              "       [ 8.86438172],\n",
              "       [17.37327271],\n",
              "       [21.11096152],\n",
              "       [18.14037337],\n",
              "       [ 5.57959415],\n",
              "       [ 6.1332995 ],\n",
              "       [14.44267086],\n",
              "       [19.48248709],\n",
              "       [18.97818971],\n",
              "       [20.82881496],\n",
              "       [23.10921728],\n",
              "       [18.3593478 ],\n",
              "       [21.08665301],\n",
              "       [19.08752475],\n",
              "       [22.06036098],\n",
              "       [12.02892661],\n",
              "       [17.12211276],\n",
              "       [16.95452306],\n",
              "       [ 9.76141119],\n",
              "       [17.39501824],\n",
              "       [17.17068183],\n",
              "       [19.58575617],\n",
              "       [20.27251654],\n",
              "       [13.54873033],\n",
              "       [20.13179451],\n",
              "       [20.52616105],\n",
              "       [ 9.70144596],\n",
              "       [11.67058309],\n",
              "       [10.10407832],\n",
              "       [13.29497496],\n",
              "       [18.09509227],\n",
              "       [ 6.56761894],\n",
              "       [13.08901378],\n",
              "       [21.39081315],\n",
              "       [17.28833116],\n",
              "       [15.74733631],\n",
              "       [ 5.39922804],\n",
              "       [10.82718892],\n",
              "       [19.21744877],\n",
              "       [15.99621659],\n",
              "       [19.64920239],\n",
              "       [24.29245646],\n",
              "       [ 9.5898691 ],\n",
              "       [24.92524356],\n",
              "       [10.90649352],\n",
              "       [16.59569044],\n",
              "       [25.04301452],\n",
              "       [13.33663908],\n",
              "       [22.00989097],\n",
              "       [ 9.7726583 ],\n",
              "       [16.06805732],\n",
              "       [10.37865883],\n",
              "       [21.37506225],\n",
              "       [18.90996814],\n",
              "       [12.41971163],\n",
              "       [18.27135985],\n",
              "       [14.14842839],\n",
              "       [16.07722174],\n",
              "       [ 6.20259989],\n",
              "       [ 9.36113277],\n",
              "       [13.9708546 ],\n",
              "       [13.11622466],\n",
              "       [18.06158993],\n",
              "       [11.30252447],\n",
              "       [20.89108544],\n",
              "       [ 9.84441608],\n",
              "       [ 8.78744807],\n",
              "       [12.36888392],\n",
              "       [16.7703046 ],\n",
              "       [16.49225352],\n",
              "       [13.85635374],\n",
              "       [15.12076048],\n",
              "       [18.88647079],\n",
              "       [ 8.14798206],\n",
              "       [18.27158711],\n",
              "       [19.64671463],\n",
              "       [21.72296399],\n",
              "       [12.28023473],\n",
              "       [ 7.31605557],\n",
              "       [19.36005676],\n",
              "       [20.21832647],\n",
              "       [14.82664026],\n",
              "       [21.09997649]])"
            ]
          },
          "execution_count": 24,
          "metadata": {},
          "output_type": "execute_result"
        }
      ],
      "source": [
        "predictions_train"
      ]
    },
    {
      "cell_type": "code",
      "execution_count": null,
      "id": "1797c159",
      "metadata": {
        "id": "1797c159",
        "outputId": "16c41cb5-a3b6-4426-9a39-abce7d2e382c"
      },
      "outputs": [
        {
          "data": {
            "image/png": "[encoded data removed]",
            "text/plain": [
              "<Figure size 640x480 with 1 Axes>"
            ]
          },
          "metadata": {},
          "output_type": "display_data"
        }
      ],
      "source": [
        "plt.plot(range(n_iterations), cost_history)\n",
        "plt.show()"
      ]
    },
    {
      "cell_type": "code",
      "execution_count": null,
      "id": "85432689",
      "metadata": {
        "id": "85432689"
      },
      "outputs": [],
      "source": [
        "def coef_determination(y, pred):\n",
        "    u = ((y - pred)**2).sum()\n",
        "    v = ((y - y.mean())**2).sum()\n",
        "    return 1 - u/v"
      ]
    },
    {
      "cell_type": "code",
      "execution_count": null,
      "id": "caec1640",
      "metadata": {
        "id": "caec1640",
        "outputId": "4b3488db-e032-4f75-ea14-f3a0280bde79"
      },
      "outputs": [
        {
          "data": {
            "text/plain": [
              "0.8753224470083143"
            ]
          },
          "execution_count": 27,
          "metadata": {},
          "output_type": "execute_result"
        }
      ],
      "source": [
        "coef_determination(y_test, predictions_test)"
      ]
    },
    {
      "cell_type": "code",
      "execution_count": null,
      "id": "4608f6ec",
      "metadata": {
        "id": "4608f6ec",
        "outputId": "c09c4070-2f89-475f-9883-afd84f6fe074"
      },
      "outputs": [
        {
          "data": {
            "text/plain": [
              "0.9001416005862131"
            ]
          },
          "execution_count": 28,
          "metadata": {},
          "output_type": "execute_result"
        }
      ],
      "source": [
        "coef_determination(y_train, predictions_train)"
      ]
    },
    {
      "cell_type": "markdown",
      "id": "f86b406e",
      "metadata": {
        "id": "f86b406e"
      },
      "source": [
        "###  Régression polynômiale multivariée de degré 2"
      ]
    },
    {
      "cell_type": "code",
      "execution_count": null,
      "id": "63208253",
      "metadata": {
        "id": "63208253"
      },
      "outputs": [],
      "source": [
        "# chargement du dataset\n",
        "data = pd.read_csv(\"advertising.csv\")"
      ]
    },
    {
      "cell_type": "code",
      "execution_count": null,
      "id": "96e9d2ba",
      "metadata": {
        "id": "96e9d2ba",
        "outputId": "62abfd61-1885-4a3f-b3aa-22c8b9f51a3f"
      },
      "outputs": [
        {
          "name": "stdout",
          "output_type": "stream",
          "text": [
            "[[230.1]\n",
            " [ 44.5]\n",
            " [ 17.2]\n",
            " [151.5]\n",
            " [180.8]\n",
            " [  8.7]\n",
            " [ 57.5]\n",
            " [120.2]\n",
            " [  8.6]\n",
            " [199.8]\n",
            " [ 66.1]\n",
            " [214.7]\n",
            " [ 23.8]\n",
            " [ 97.5]\n",
            " [204.1]\n",
            " [195.4]\n",
            " [ 67.8]\n",
            " [281.4]\n",
            " [ 69.2]\n",
            " [147.3]\n",
            " [218.4]\n",
            " [237.4]\n",
            " [ 13.2]\n",
            " [228.3]\n",
            " [ 62.3]\n",
            " [262.9]\n",
            " [142.9]\n",
            " [240.1]\n",
            " [248.8]\n",
            " [ 70.6]\n",
            " [292.9]\n",
            " [112.9]\n",
            " [ 97.2]\n",
            " [265.6]\n",
            " [ 95.7]\n",
            " [290.7]\n",
            " [266.9]\n",
            " [ 74.7]\n",
            " [ 43.1]\n",
            " [228. ]\n",
            " [202.5]\n",
            " [177. ]\n",
            " [293.6]\n",
            " [206.9]\n",
            " [ 25.1]\n",
            " [175.1]\n",
            " [ 89.7]\n",
            " [239.9]\n",
            " [227.2]\n",
            " [ 66.9]\n",
            " [199.8]\n",
            " [100.4]\n",
            " [216.4]\n",
            " [182.6]\n",
            " [262.7]\n",
            " [198.9]\n",
            " [  7.3]\n",
            " [136.2]\n",
            " [210.8]\n",
            " [210.7]\n",
            " [ 53.5]\n",
            " [261.3]\n",
            " [239.3]\n",
            " [102.7]\n",
            " [131.1]\n",
            " [ 69. ]\n",
            " [ 31.5]\n",
            " [139.3]\n",
            " [237.4]\n",
            " [216.8]\n",
            " [199.1]\n",
            " [109.8]\n",
            " [ 26.8]\n",
            " [129.4]\n",
            " [213.4]\n",
            " [ 16.9]\n",
            " [ 27.5]\n",
            " [120.5]\n",
            " [  5.4]\n",
            " [116. ]\n",
            " [ 76.4]\n",
            " [239.8]\n",
            " [ 75.3]\n",
            " [ 68.4]\n",
            " [213.5]\n",
            " [193.2]\n",
            " [ 76.3]\n",
            " [110.7]\n",
            " [ 88.3]\n",
            " [109.8]\n",
            " [134.3]\n",
            " [ 28.6]\n",
            " [217.7]\n",
            " [250.9]\n",
            " [107.4]\n",
            " [163.3]\n",
            " [197.6]\n",
            " [184.9]\n",
            " [289.7]\n",
            " [135.2]\n",
            " [222.4]\n",
            " [296.4]\n",
            " [280.2]\n",
            " [187.9]\n",
            " [238.2]\n",
            " [137.9]\n",
            " [ 25. ]\n",
            " [ 90.4]\n",
            " [ 13.1]\n",
            " [255.4]\n",
            " [225.8]\n",
            " [241.7]\n",
            " [175.7]\n",
            " [209.6]\n",
            " [ 78.2]\n",
            " [ 75.1]\n",
            " [139.2]\n",
            " [ 76.4]\n",
            " [125.7]\n",
            " [ 19.4]\n",
            " [141.3]\n",
            " [ 18.8]\n",
            " [224. ]\n",
            " [123.1]\n",
            " [229.5]\n",
            " [ 87.2]\n",
            " [  7.8]\n",
            " [ 80.2]\n",
            " [220.3]\n",
            " [ 59.6]\n",
            " [  0.7]\n",
            " [265.2]\n",
            " [  8.4]\n",
            " [219.8]\n",
            " [ 36.9]\n",
            " [ 48.3]\n",
            " [ 25.6]\n",
            " [273.7]\n",
            " [ 43. ]\n",
            " [184.9]\n",
            " [ 73.4]\n",
            " [193.7]\n",
            " [220.5]\n",
            " [104.6]\n",
            " [ 96.2]\n",
            " [140.3]\n",
            " [240.1]\n",
            " [243.2]\n",
            " [ 38. ]\n",
            " [ 44.7]\n",
            " [280.7]\n",
            " [121. ]\n",
            " [197.6]\n",
            " [171.3]\n",
            " [187.8]\n",
            " [  4.1]\n",
            " [ 93.9]\n",
            " [149.8]\n",
            " [ 11.7]\n",
            " [131.7]\n",
            " [172.5]\n",
            " [ 85.7]\n",
            " [188.4]\n",
            " [163.5]\n",
            " [117.2]\n",
            " [234.5]\n",
            " [ 17.9]\n",
            " [206.8]\n",
            " [215.4]\n",
            " [284.3]\n",
            " [ 50. ]\n",
            " [164.5]\n",
            " [ 19.6]\n",
            " [168.4]\n",
            " [222.4]\n",
            " [276.9]\n",
            " [248.4]\n",
            " [170.2]\n",
            " [276.7]\n",
            " [165.6]\n",
            " [156.6]\n",
            " [218.5]\n",
            " [ 56.2]\n",
            " [287.6]\n",
            " [253.8]\n",
            " [205. ]\n",
            " [139.5]\n",
            " [191.1]\n",
            " [286. ]\n",
            " [ 18.7]\n",
            " [ 39.5]\n",
            " [ 75.5]\n",
            " [ 17.2]\n",
            " [166.8]\n",
            " [149.7]\n",
            " [ 38.2]\n",
            " [ 94.2]\n",
            " [177. ]\n",
            " [283.6]\n",
            " [232.1]]\n"
          ]
        }
      ],
      "source": [
        "# Extraction des colonnes X\n",
        "X = data[['TV', 'Radio', 'Newspaper']]\n",
        "\n",
        "#X = df[['TV', 'Radio']]\n",
        "# Extraction de la colonne y\n",
        "y = data['Sales']\n",
        "a=X.iloc[:,0:1].values\n",
        "b=X.iloc[:,1:2].values\n",
        "c=X.iloc[:,2:3].values\n",
        "print(a)\n"
      ]
    },
    {
      "cell_type": "code",
      "execution_count": null,
      "id": "0f0cb8b7",
      "metadata": {
        "id": "0f0cb8b7"
      },
      "outputs": [],
      "source": [
        "X = np.hstack((a,b,c,a**2,b**2,c**2,a*b,a*c,b*c))"
      ]
    },
    {
      "cell_type": "code",
      "execution_count": null,
      "id": "205df7aa",
      "metadata": {
        "id": "205df7aa",
        "outputId": "c812c015-23c0-4d43-c24d-3977214e6011"
      },
      "outputs": [
        {
          "data": {
            "text/plain": [
              "(200, 9)"
            ]
          },
          "execution_count": 32,
          "metadata": {},
          "output_type": "execute_result"
        }
      ],
      "source": [
        "X.shape"
      ]
    },
    {
      "cell_type": "code",
      "execution_count": null,
      "id": "b562980d",
      "metadata": {
        "id": "b562980d",
        "outputId": "61cb86c0-44e2-44f1-9383-0d6539185824"
      },
      "outputs": [
        {
          "data": {
            "text/plain": [
              "array([[2.301000e+02, 3.780000e+01, 6.920000e+01, ..., 8.697780e+03,\n",
              "        1.592292e+04, 2.615760e+03],\n",
              "       [4.450000e+01, 3.930000e+01, 4.510000e+01, ..., 1.748850e+03,\n",
              "        2.006950e+03, 1.772430e+03],\n",
              "       [1.720000e+01, 4.590000e+01, 6.930000e+01, ..., 7.894800e+02,\n",
              "        1.191960e+03, 3.180870e+03],\n",
              "       ...,\n",
              "       [1.770000e+02, 9.300000e+00, 6.400000e+00, ..., 1.646100e+03,\n",
              "        1.132800e+03, 5.952000e+01],\n",
              "       [2.836000e+02, 4.200000e+01, 6.620000e+01, ..., 1.191120e+04,\n",
              "        1.877432e+04, 2.780400e+03],\n",
              "       [2.321000e+02, 8.600000e+00, 8.700000e+00, ..., 1.996060e+03,\n",
              "        2.019270e+03, 7.482000e+01]])"
            ]
          },
          "execution_count": 33,
          "metadata": {},
          "output_type": "execute_result"
        }
      ],
      "source": [
        "X"
      ]
    },
    {
      "cell_type": "code",
      "execution_count": null,
      "id": "f2f6f7c9",
      "metadata": {
        "id": "f2f6f7c9",
        "outputId": "b4982dda-135e-48fd-97ac-4953327ff7ba"
      },
      "outputs": [
        {
          "data": {
            "text/plain": [
              "(200, 1)"
            ]
          },
          "execution_count": 34,
          "metadata": {},
          "output_type": "execute_result"
        }
      ],
      "source": [
        "y=y.values.reshape(-1,1)\n",
        "y.shape"
      ]
    },
    {
      "cell_type": "code",
      "execution_count": null,
      "id": "eb4bb3de",
      "metadata": {
        "id": "eb4bb3de",
        "outputId": "f8c48135-9f9c-438b-bf66-5a28f1dfe73f"
      },
      "outputs": [
        {
          "data": {
            "text/plain": [
              "(160, 9)"
            ]
          },
          "execution_count": 35,
          "metadata": {},
          "output_type": "execute_result"
        }
      ],
      "source": [
        "from sklearn.model_selection import train_test_split\n",
        "X_train, X_test, y_train, y_test = train_test_split(X, y, test_size=0.2, random_state=42)\n",
        "X_train.shape"
      ]
    },
    {
      "cell_type": "code",
      "execution_count": null,
      "id": "790ae95e",
      "metadata": {
        "id": "790ae95e"
      },
      "outputs": [],
      "source": [
        "\n",
        "X_train=(X_train-X_train.mean())/X_train.std()\n",
        "X_test=(X_test-X_test.mean())/X_test.std()\n",
        "\n",
        "#from sklearn.preprocessing import StandardScaler\n",
        "# Initialisez le StandardScaler\n",
        "#scaler = StandardScaler()\n",
        "# Normalisez X_train et X_test\n",
        "#X_train = scaler.fit_transform(X_train)\n",
        "#X_test= scaler.fit_transform(X_test)\n",
        "\n",
        "X_train = np.hstack((X_train, np.ones((X_train.shape[0], 1))))\n",
        "X_test = np.hstack((X_test, np.ones((X_test.shape[0], 1))))\n"
      ]
    },
    {
      "cell_type": "code",
      "execution_count": null,
      "id": "5b46ff44",
      "metadata": {
        "id": "5b46ff44",
        "outputId": "9090eed8-d95b-4efb-ca36-87add09e4985"
      },
      "outputs": [
        {
          "data": {
            "text/plain": [
              "(160, 10)"
            ]
          },
          "execution_count": 37,
          "metadata": {},
          "output_type": "execute_result"
        }
      ],
      "source": [
        "X_train.shape"
      ]
    },
    {
      "cell_type": "code",
      "execution_count": null,
      "id": "3c3855dc",
      "metadata": {
        "id": "3c3855dc",
        "outputId": "c46a400c-8fb6-43e7-8e13-3b1caa5216c8"
      },
      "outputs": [
        {
          "data": {
            "text/plain": [
              "array([[-0.35164069, -0.36029141, -0.3590613 , ..., -0.14686712,\n",
              "        -0.34669868,  1.        ],\n",
              "       [-0.34676817, -0.3601636 , -0.36039525, ..., -0.2704214 ,\n",
              "        -0.35615216,  1.        ],\n",
              "       [-0.35746375, -0.35877374, -0.35810277, ..., -0.24006721,\n",
              "        -0.28604781,  1.        ],\n",
              "       ...,\n",
              "       [-0.34351716, -0.35823057, -0.3561937 , ...,  0.66506219,\n",
              "        -0.20302888,  1.        ],\n",
              "       [-0.34767877, -0.36010769, -0.35950062, ..., -0.12809913,\n",
              "        -0.34684805,  1.        ],\n",
              "       [-0.33852483, -0.3600997 , -0.35919709, ...,  0.11806049,\n",
              "        -0.34364177,  1.        ]])"
            ]
          },
          "execution_count": 38,
          "metadata": {},
          "output_type": "execute_result"
        }
      ],
      "source": [
        "X_train"
      ]
    },
    {
      "cell_type": "code",
      "execution_count": null,
      "id": "4e24df76",
      "metadata": {
        "id": "4e24df76",
        "outputId": "9bde1b54-9fab-47c2-eb95-b31233be1642"
      },
      "outputs": [
        {
          "name": "stdout",
          "output_type": "stream",
          "text": [
            "Theta: [[ 1.76405235]\n",
            " [ 0.40015721]\n",
            " [ 0.97873798]\n",
            " [ 2.2408932 ]\n",
            " [ 1.86755799]\n",
            " [-0.97727788]\n",
            " [ 0.95008842]\n",
            " [-0.15135721]\n",
            " [-0.10321885]\n",
            " [ 0.4105985 ]]\n"
          ]
        }
      ],
      "source": [
        "np.random.seed(0) # pour produire toujours le meme vecteur theta aléatoire\n",
        "theta=np.random.randn(10,1)\n",
        "print('Theta:',theta)"
      ]
    },
    {
      "cell_type": "code",
      "execution_count": null,
      "id": "887a6236",
      "metadata": {
        "id": "887a6236"
      },
      "outputs": [],
      "source": [
        "#def model(X, theta):\n",
        "    #return X.dot(theta)\n",
        "def model(X, theta):\n",
        "    return np.dot(X, theta)"
      ]
    },
    {
      "cell_type": "code",
      "execution_count": null,
      "id": "55f77563",
      "metadata": {
        "id": "55f77563"
      },
      "outputs": [],
      "source": [
        "def cost_function(X, y, theta):\n",
        "    m = len(y)\n",
        "    return 1/(2*m) * np.sum((model(X, theta) - y)**2)\n"
      ]
    },
    {
      "cell_type": "code",
      "execution_count": null,
      "id": "d6e28948",
      "metadata": {
        "id": "d6e28948",
        "outputId": "3c78f4cc-22ba-4453-9321-c7efaa390f30"
      },
      "outputs": [
        {
          "data": {
            "text/plain": [
              "74.28430598427326"
            ]
          },
          "execution_count": 42,
          "metadata": {},
          "output_type": "execute_result"
        }
      ],
      "source": [
        "cost_function(X_train, y_train, theta)"
      ]
    },
    {
      "cell_type": "code",
      "execution_count": null,
      "id": "a5e26266",
      "metadata": {
        "id": "a5e26266"
      },
      "outputs": [],
      "source": [
        "# définir la fonction de gradient\n",
        "def grad(X, y, theta):\n",
        "    m = len(y)\n",
        "    return 1/m * X.T.dot(model(X, theta) - y)"
      ]
    },
    {
      "cell_type": "code",
      "execution_count": null,
      "id": "8022da72",
      "metadata": {
        "id": "8022da72"
      },
      "outputs": [],
      "source": [
        "# Définir la descente de gradient\n",
        "def gradient_descent(X, y, theta, learning_rate, n_iterations):\n",
        "\n",
        "    cost_history = np.zeros(n_iterations) # création d'un tableau de stockage pour enregistrer l'évolution du Cout du modele\n",
        "\n",
        "    for i in range(0, n_iterations):\n",
        "        theta = theta - learning_rate * grad(X, y, theta) # mise a jour du parametre theta (formule du gradient descent)\n",
        "        cost_history[i] = cost_function(X, y, theta) # on enregistre la valeur du Cout au tour i dans cost_history[i]\n",
        "\n",
        "    return theta, cost_history"
      ]
    },
    {
      "cell_type": "code",
      "execution_count": null,
      "id": "83c5bbd0",
      "metadata": {
        "id": "83c5bbd0"
      },
      "outputs": [],
      "source": [
        "# Entrainement du modèle\n",
        "n_iterations = 10000\n",
        "learning_rate = 0.03\n",
        "\n",
        "theta_final, cost_history = gradient_descent(X_train, y_train, theta, learning_rate, n_iterations)"
      ]
    },
    {
      "cell_type": "code",
      "execution_count": null,
      "id": "3dcece11",
      "metadata": {
        "id": "3dcece11",
        "outputId": "041d2294-9652-4a02-bdd8-3aa4ec04eb1b"
      },
      "outputs": [
        {
          "data": {
            "text/plain": [
              "array([[-1.03187977],\n",
              "       [-3.08723893],\n",
              "       [-2.53275551],\n",
              "       [ 1.27041938],\n",
              "       [ 1.4499159 ],\n",
              "       [-3.594568  ],\n",
              "       [ 8.56183517],\n",
              "       [ 1.89775269],\n",
              "       [-1.29092133],\n",
              "       [10.23807425]])"
            ]
          },
          "execution_count": 46,
          "metadata": {},
          "output_type": "execute_result"
        }
      ],
      "source": [
        "theta_final"
      ]
    },
    {
      "cell_type": "code",
      "execution_count": null,
      "id": "dcfc0e89",
      "metadata": {
        "id": "dcfc0e89"
      },
      "outputs": [],
      "source": [
        "# création d'un vecteur prédictions qui contient les prédictions de notre modele final\n",
        "predictions_test = model(X_test, theta_final)\n",
        "predictions_train = model(X_train, theta_final)"
      ]
    },
    {
      "cell_type": "code",
      "execution_count": null,
      "id": "0c938940",
      "metadata": {
        "id": "0c938940"
      },
      "outputs": [],
      "source": []
    },
    {
      "cell_type": "code",
      "execution_count": null,
      "id": "5cbcd295",
      "metadata": {
        "id": "5cbcd295",
        "outputId": "044e8fbc-3c8d-4def-f8c0-9591ade3cd29"
      },
      "outputs": [
        {
          "data": {
            "image/png": "[encoded data removed]",
            "text/plain": [
              "<Figure size 640x480 with 1 Axes>"
            ]
          },
          "metadata": {},
          "output_type": "display_data"
        }
      ],
      "source": [
        "plt.plot(range(n_iterations), cost_history)\n",
        "plt.show()"
      ]
    },
    {
      "cell_type": "code",
      "execution_count": null,
      "id": "54c2ed52",
      "metadata": {
        "id": "54c2ed52"
      },
      "outputs": [],
      "source": [
        "def coef_determination(y, pred):\n",
        "    u = ((y - pred)**2).sum()\n",
        "    v = ((y - y.mean())**2).sum()\n",
        "    return 1 - u/v\n"
      ]
    },
    {
      "cell_type": "code",
      "execution_count": null,
      "id": "d16bccea",
      "metadata": {
        "id": "d16bccea",
        "outputId": "8662d274-8500-4b0e-9e61-60d029ca5f18"
      },
      "outputs": [
        {
          "data": {
            "text/plain": [
              "0.8424098927323636"
            ]
          },
          "execution_count": 50,
          "metadata": {},
          "output_type": "execute_result"
        }
      ],
      "source": [
        "coef_determination(y_test, predictions_test)"
      ]
    },
    {
      "cell_type": "code",
      "execution_count": null,
      "id": "1fea33bb",
      "metadata": {
        "id": "1fea33bb",
        "outputId": "6262d1f6-2cbe-445c-e4ee-ec79268f9fd6"
      },
      "outputs": [
        {
          "data": {
            "text/plain": [
              "0.8471731704870359"
            ]
          },
          "execution_count": 51,
          "metadata": {},
          "output_type": "execute_result"
        }
      ],
      "source": [
        "coef_determination(y_train, predictions_train)"
      ]
    }
  ],
  "metadata": {
    "colab": {
      "provenance": []
    },
    "kernelspec": {
      "display_name": "Python 3 (ipykernel)",
      "language": "python",
      "name": "python3"
    },
    "language_info": {
      "codemirror_mode": {
        "name": "ipython",
        "version": 3
      },
      "file_extension": ".py",
      "mimetype": "text/x-python",
      "name": "python",
      "nbconvert_exporter": "python",
      "pygments_lexer": "ipython3",
      "version": "3.11.5"
    }
  },
  "nbformat": 4,
  "nbformat_minor": 5
}