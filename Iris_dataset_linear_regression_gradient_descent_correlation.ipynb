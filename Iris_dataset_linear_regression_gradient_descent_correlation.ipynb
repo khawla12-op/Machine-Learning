{
  "cells": [
    {
      "cell_type": "markdown",
      "id": "952e8adb",
      "metadata": {
        "id": "952e8adb"
      },
      "source": [
        "# Regression Linéaire Simple du dataset Iris - Gradient Descent"
      ]
    },
    {
      "cell_type": "code",
      "execution_count": null,
      "id": "4aaf4dbc",
      "metadata": {
        "id": "4aaf4dbc"
      },
      "outputs": [],
      "source": [
        "import pandas as pd\n",
        "import numpy as np\n",
        "import matplotlib.pyplot as plt\n",
        "%matplotlib inline"
      ]
    },
    {
      "cell_type": "markdown",
      "id": "52aab10c",
      "metadata": {
        "id": "52aab10c"
      },
      "source": [
        "## 1. Dataset\n",
        "Chargement du dataset Iris pour effectuer les prédictions de la largeur des pétales en fonction de longueur des pétales"
      ]
    },
    {
      "cell_type": "code",
      "execution_count": null,
      "id": "fd4ad33b",
      "metadata": {
        "id": "fd4ad33b"
      },
      "outputs": [],
      "source": [
        "dataset=pd.read_csv(\"iris.csv\")"
      ]
    },
    {
      "cell_type": "code",
      "execution_count": null,
      "id": "b1933fdf",
      "metadata": {
        "id": "b1933fdf",
        "outputId": "4bdc1d76-e0f9-4448-b121-6343868d6091"
      },
      "outputs": [
        {
          "data": {
            "text/html": [
              "<div>\n",
              "<style scoped>\n",
              "    .dataframe tbody tr th:only-of-type {\n",
              "        vertical-align: middle;\n",
              "    }\n",
              "\n",
              "    .dataframe tbody tr th {\n",
              "        vertical-align: top;\n",
              "    }\n",
              "\n",
              "    .dataframe thead th {\n",
              "        text-align: right;\n",
              "    }\n",
              "</style>\n",
              "<table border=\"1\" class=\"dataframe\">\n",
              "  <thead>\n",
              "    <tr style=\"text-align: right;\">\n",
              "      <th></th>\n",
              "      <th>sepal_length</th>\n",
              "      <th>sepal_width</th>\n",
              "      <th>petal_length</th>\n",
              "      <th>petal_width</th>\n",
              "      <th>class</th>\n",
              "    </tr>\n",
              "  </thead>\n",
              "  <tbody>\n",
              "    <tr>\n",
              "      <th>0</th>\n",
              "      <td>5.1</td>\n",
              "      <td>3.5</td>\n",
              "      <td>1.4</td>\n",
              "      <td>0.2</td>\n",
              "      <td>Iris-setosa</td>\n",
              "    </tr>\n",
              "    <tr>\n",
              "      <th>1</th>\n",
              "      <td>4.9</td>\n",
              "      <td>3.0</td>\n",
              "      <td>1.4</td>\n",
              "      <td>0.2</td>\n",
              "      <td>Iris-setosa</td>\n",
              "    </tr>\n",
              "    <tr>\n",
              "      <th>2</th>\n",
              "      <td>4.7</td>\n",
              "      <td>3.2</td>\n",
              "      <td>1.3</td>\n",
              "      <td>0.2</td>\n",
              "      <td>Iris-setosa</td>\n",
              "    </tr>\n",
              "    <tr>\n",
              "      <th>3</th>\n",
              "      <td>4.6</td>\n",
              "      <td>3.1</td>\n",
              "      <td>1.5</td>\n",
              "      <td>0.2</td>\n",
              "      <td>Iris-setosa</td>\n",
              "    </tr>\n",
              "    <tr>\n",
              "      <th>4</th>\n",
              "      <td>5.0</td>\n",
              "      <td>3.6</td>\n",
              "      <td>1.4</td>\n",
              "      <td>0.2</td>\n",
              "      <td>Iris-setosa</td>\n",
              "    </tr>\n",
              "  </tbody>\n",
              "</table>\n",
              "</div>"
            ],
            "text/plain": [
              "   sepal_length  sepal_width  petal_length  petal_width        class\n",
              "0           5.1          3.5           1.4          0.2  Iris-setosa\n",
              "1           4.9          3.0           1.4          0.2  Iris-setosa\n",
              "2           4.7          3.2           1.3          0.2  Iris-setosa\n",
              "3           4.6          3.1           1.5          0.2  Iris-setosa\n",
              "4           5.0          3.6           1.4          0.2  Iris-setosa"
            ]
          },
          "execution_count": 3,
          "metadata": {},
          "output_type": "execute_result"
        }
      ],
      "source": [
        "dataset.head()"
      ]
    },
    {
      "cell_type": "code",
      "execution_count": null,
      "id": "7b6ad56e",
      "metadata": {
        "id": "7b6ad56e",
        "outputId": "3726ae2d-89ee-47b0-bcc2-31498c27ada2"
      },
      "outputs": [
        {
          "data": {
            "image/png": "[encoded data removed]",
            "text/plain": [
              "<Figure size 640x480 with 1 Axes>"
            ]
          },
          "metadata": {},
          "output_type": "display_data"
        }
      ],
      "source": [
        "plt.plot(dataset[\"petal_length\"],dataset[\"sepal_length\"],'o')\n",
        "plt.xlabel('petal_length')\n",
        "plt.ylabel('sepal_length')\n",
        "plt.show()"
      ]
    },
    {
      "cell_type": "code",
      "execution_count": null,
      "id": "dc5a27ae",
      "metadata": {
        "id": "dc5a27ae",
        "outputId": "33bf3716-c5ab-4919-f205-af2c267cf949"
      },
      "outputs": [
        {
          "data": {
            "text/html": [
              "<div>\n",
              "<style scoped>\n",
              "    .dataframe tbody tr th:only-of-type {\n",
              "        vertical-align: middle;\n",
              "    }\n",
              "\n",
              "    .dataframe tbody tr th {\n",
              "        vertical-align: top;\n",
              "    }\n",
              "\n",
              "    .dataframe thead th {\n",
              "        text-align: right;\n",
              "    }\n",
              "</style>\n",
              "<table border=\"1\" class=\"dataframe\">\n",
              "  <thead>\n",
              "    <tr style=\"text-align: right;\">\n",
              "      <th></th>\n",
              "      <th>petal_length</th>\n",
              "      <th>sepal_length</th>\n",
              "    </tr>\n",
              "  </thead>\n",
              "  <tbody>\n",
              "    <tr>\n",
              "      <th>0</th>\n",
              "      <td>1.4</td>\n",
              "      <td>5.1</td>\n",
              "    </tr>\n",
              "    <tr>\n",
              "      <th>1</th>\n",
              "      <td>1.4</td>\n",
              "      <td>4.9</td>\n",
              "    </tr>\n",
              "    <tr>\n",
              "      <th>2</th>\n",
              "      <td>1.3</td>\n",
              "      <td>4.7</td>\n",
              "    </tr>\n",
              "    <tr>\n",
              "      <th>3</th>\n",
              "      <td>1.5</td>\n",
              "      <td>4.6</td>\n",
              "    </tr>\n",
              "    <tr>\n",
              "      <th>4</th>\n",
              "      <td>1.4</td>\n",
              "      <td>5.0</td>\n",
              "    </tr>\n",
              "    <tr>\n",
              "      <th>...</th>\n",
              "      <td>...</td>\n",
              "      <td>...</td>\n",
              "    </tr>\n",
              "    <tr>\n",
              "      <th>145</th>\n",
              "      <td>5.2</td>\n",
              "      <td>6.7</td>\n",
              "    </tr>\n",
              "    <tr>\n",
              "      <th>146</th>\n",
              "      <td>5.0</td>\n",
              "      <td>6.3</td>\n",
              "    </tr>\n",
              "    <tr>\n",
              "      <th>147</th>\n",
              "      <td>5.2</td>\n",
              "      <td>6.5</td>\n",
              "    </tr>\n",
              "    <tr>\n",
              "      <th>148</th>\n",
              "      <td>5.4</td>\n",
              "      <td>6.2</td>\n",
              "    </tr>\n",
              "    <tr>\n",
              "      <th>149</th>\n",
              "      <td>5.1</td>\n",
              "      <td>5.9</td>\n",
              "    </tr>\n",
              "  </tbody>\n",
              "</table>\n",
              "<p>150 rows × 2 columns</p>\n",
              "</div>"
            ],
            "text/plain": [
              "     petal_length  sepal_length\n",
              "0             1.4           5.1\n",
              "1             1.4           4.9\n",
              "2             1.3           4.7\n",
              "3             1.5           4.6\n",
              "4             1.4           5.0\n",
              "..            ...           ...\n",
              "145           5.2           6.7\n",
              "146           5.0           6.3\n",
              "147           5.2           6.5\n",
              "148           5.4           6.2\n",
              "149           5.1           5.9\n",
              "\n",
              "[150 rows x 2 columns]"
            ]
          },
          "execution_count": 5,
          "metadata": {},
          "output_type": "execute_result"
        }
      ],
      "source": [
        "df=dataset[['petal_length','sepal_length']]\n",
        "df"
      ]
    },
    {
      "cell_type": "code",
      "execution_count": null,
      "id": "b5c2d3ff",
      "metadata": {
        "id": "b5c2d3ff"
      },
      "outputs": [],
      "source": [
        "\n",
        "x=dataset.petal_length\n",
        "y=dataset.sepal_length\n"
      ]
    },
    {
      "cell_type": "code",
      "execution_count": null,
      "id": "946c2c7e",
      "metadata": {
        "id": "946c2c7e"
      },
      "outputs": [],
      "source": []
    },
    {
      "cell_type": "code",
      "execution_count": null,
      "id": "53cf6861",
      "metadata": {
        "id": "53cf6861",
        "outputId": "7fa40942-37c0-42ec-c174-0eed2ac1938b"
      },
      "outputs": [
        {
          "data": {
            "text/plain": [
              "(150,)"
            ]
          },
          "execution_count": 7,
          "metadata": {},
          "output_type": "execute_result"
        }
      ],
      "source": [
        "x.shape"
      ]
    },
    {
      "cell_type": "code",
      "execution_count": null,
      "id": "df2012da",
      "metadata": {
        "id": "df2012da",
        "outputId": "58966997-c81c-4461-ed8e-f02e0180f96c"
      },
      "outputs": [
        {
          "data": {
            "text/plain": [
              "0      5.1\n",
              "1      4.9\n",
              "2      4.7\n",
              "3      4.6\n",
              "4      5.0\n",
              "      ... \n",
              "145    6.7\n",
              "146    6.3\n",
              "147    6.5\n",
              "148    6.2\n",
              "149    5.9\n",
              "Name: sepal_length, Length: 150, dtype: float64"
            ]
          },
          "execution_count": 8,
          "metadata": {},
          "output_type": "execute_result"
        }
      ],
      "source": [
        "y"
      ]
    },
    {
      "cell_type": "code",
      "execution_count": null,
      "id": "96f1cead",
      "metadata": {
        "id": "96f1cead",
        "outputId": "6c0a92aa-306d-40f4-a8ee-840e155a7839"
      },
      "outputs": [
        {
          "data": {
            "text/plain": [
              "(150,)"
            ]
          },
          "execution_count": 9,
          "metadata": {},
          "output_type": "execute_result"
        }
      ],
      "source": [
        "y.shape"
      ]
    },
    {
      "cell_type": "markdown",
      "id": "107cf286",
      "metadata": {
        "id": "107cf286"
      },
      "source": [
        "Important: Après avoir vérifié les dimensions de x et y, On remarque que y n'a pas les dimensions (150, 1) et x n'a pas les dimensions (150,2). On corrige le problème avec np.reshape et values."
      ]
    },
    {
      "cell_type": "code",
      "execution_count": null,
      "id": "0cda34fb",
      "metadata": {
        "id": "0cda34fb",
        "outputId": "57d019b0-34c2-43ce-c6c8-395adec0cfed"
      },
      "outputs": [
        {
          "data": {
            "text/plain": [
              "array([1.4, 1.4, 1.3, 1.5, 1.4, 1.7, 1.4, 1.5, 1.4, 1.5, 1.5, 1.6, 1.4,\n",
              "       1.1, 1.2, 1.5, 1.3, 1.4, 1.7, 1.5, 1.7, 1.5, 1. , 1.7, 1.9, 1.6,\n",
              "       1.6, 1.5, 1.4, 1.6, 1.6, 1.5, 1.5, 1.4, 1.5, 1.2, 1.3, 1.5, 1.3,\n",
              "       1.5, 1.3, 1.3, 1.3, 1.6, 1.9, 1.4, 1.6, 1.4, 1.5, 1.4, 4.7, 4.5,\n",
              "       4.9, 4. , 4.6, 4.5, 4.7, 3.3, 4.6, 3.9, 3.5, 4.2, 4. , 4.7, 3.6,\n",
              "       4.4, 4.5, 4.1, 4.5, 3.9, 4.8, 4. , 4.9, 4.7, 4.3, 4.4, 4.8, 5. ,\n",
              "       4.5, 3.5, 3.8, 3.7, 3.9, 5.1, 4.5, 4.5, 4.7, 4.4, 4.1, 4. , 4.4,\n",
              "       4.6, 4. , 3.3, 4.2, 4.2, 4.2, 4.3, 3. , 4.1, 6. , 5.1, 5.9, 5.6,\n",
              "       5.8, 6.6, 4.5, 6.3, 5.8, 6.1, 5.1, 5.3, 5.5, 5. , 5.1, 5.3, 5.5,\n",
              "       6.7, 6.9, 5. , 5.7, 4.9, 6.7, 4.9, 5.7, 6. , 4.8, 4.9, 5.6, 5.8,\n",
              "       6.1, 6.4, 5.6, 5.1, 5.6, 6.1, 5.6, 5.5, 4.8, 5.4, 5.6, 5.1, 5.1,\n",
              "       5.9, 5.7, 5.2, 5. , 5.2, 5.4, 5.1])"
            ]
          },
          "execution_count": 10,
          "metadata": {},
          "output_type": "execute_result"
        }
      ],
      "source": [
        "X=dataset.petal_length.values\n",
        "Y=dataset.sepal_length.values\n",
        "X\n"
      ]
    },
    {
      "cell_type": "code",
      "execution_count": null,
      "id": "a111c214",
      "metadata": {
        "id": "a111c214",
        "outputId": "00def636-a7ce-4df4-c06d-4da992e784c6"
      },
      "outputs": [
        {
          "data": {
            "text/plain": [
              "(150,)"
            ]
          },
          "execution_count": 11,
          "metadata": {},
          "output_type": "execute_result"
        }
      ],
      "source": [
        "X.shape"
      ]
    },
    {
      "cell_type": "code",
      "execution_count": null,
      "id": "eb4f57d7",
      "metadata": {
        "id": "eb4f57d7"
      },
      "outputs": [],
      "source": [
        "y=dataset.sepal_length.values.reshape(150,1)\n",
        "x=dataset.petal_length.values.reshape(150,1)"
      ]
    },
    {
      "cell_type": "code",
      "execution_count": null,
      "id": "0594ec56",
      "metadata": {
        "id": "0594ec56",
        "outputId": "167f1ad5-05d2-4008-da55-7da8d5157ae5"
      },
      "outputs": [
        {
          "name": "stdout",
          "output_type": "stream",
          "text": [
            "(150, 1)\n",
            "(150, 1)\n"
          ]
        }
      ],
      "source": [
        "print(x.shape)\n",
        "print(y.shape)"
      ]
    },
    {
      "cell_type": "markdown",
      "id": "187f5058",
      "metadata": {
        "id": "187f5058"
      },
      "source": [
        "Création de la matrice X qui contient la colonne de Biais. Pour ca, on colle l'un contre l'autre le vecteur x et un vecteur 1 (avec np.ones) de dimension égale a celle de x"
      ]
    },
    {
      "cell_type": "code",
      "execution_count": null,
      "id": "e8b25651",
      "metadata": {
        "id": "e8b25651"
      },
      "outputs": [],
      "source": [
        "X=np.hstack((np.ones((150,1)),x))\n",
        "#X = np.hstack((X, np.ones((150, 1))))"
      ]
    },
    {
      "cell_type": "code",
      "execution_count": null,
      "id": "d1c71f2d",
      "metadata": {
        "id": "d1c71f2d",
        "outputId": "9ad8f267-cbce-48df-eaed-d7d75f422aa0"
      },
      "outputs": [
        {
          "data": {
            "text/plain": [
              "(150, 2)"
            ]
          },
          "execution_count": 15,
          "metadata": {},
          "output_type": "execute_result"
        }
      ],
      "source": [
        "X.shape"
      ]
    },
    {
      "cell_type": "markdown",
      "id": "1f5703e5",
      "metadata": {
        "id": "1f5703e5"
      },
      "source": [
        "Finalement, création d'un vecteur parametre θ, initialisé avec des coefficients aléatoires. Ce vecteur est de dimension (2, 1). Si on désire toujours reproduire le meme vecteur\n",
        "θ, on utilise comme avant np.random.seed(0)"
      ]
    },
    {
      "cell_type": "code",
      "execution_count": null,
      "id": "e45f2b9a",
      "metadata": {
        "id": "e45f2b9a",
        "outputId": "1caadf95-920e-4121-891d-aab4bf5eed74"
      },
      "outputs": [
        {
          "name": "stdout",
          "output_type": "stream",
          "text": [
            "Theta: [[1.76405235]\n",
            " [0.40015721]]\n"
          ]
        }
      ],
      "source": [
        "np.random.seed(0) # pour produire toujours le meme vecteur theta aléatoire\n",
        "theta=np.random.randn(2,1)\n",
        "print('Theta:',theta)"
      ]
    },
    {
      "cell_type": "markdown",
      "id": "41a0e7d5",
      "metadata": {
        "id": "41a0e7d5"
      },
      "source": [
        "## 2. Modèle Linéaire\n",
        "On implémente un modèle selon l'équation matricielle F=X.θ et puis on teste le modèle initiale défini par la valeur initiale de θ qu'on a initialisé d'une manière aléatoire.\n"
      ]
    },
    {
      "cell_type": "code",
      "execution_count": null,
      "id": "bc06c159",
      "metadata": {
        "id": "bc06c159"
      },
      "outputs": [],
      "source": [
        "def model(X, theta):\n",
        "    return X.dot(theta)"
      ]
    },
    {
      "cell_type": "code",
      "execution_count": null,
      "id": "0e86cdd4",
      "metadata": {
        "id": "0e86cdd4",
        "outputId": "cab8af4c-8737-4d2e-db01-20ad9dcaacfc"
      },
      "outputs": [
        {
          "data": {
            "image/png": "[encoded data removed]",
            "text/plain": [
              "<Figure size 640x480 with 1 Axes>"
            ]
          },
          "metadata": {},
          "output_type": "display_data"
        }
      ],
      "source": [
        "plt.plot(x,y,'o',label='dataset')\n",
        "plt.plot(x, model(X, theta), c='r',label='modèle initial')\n",
        "plt.ylabel('sepal_length')\n",
        "plt.xlabel('petal_length')\n",
        "plt.legend()\n",
        "plt.show()"
      ]
    },
    {
      "cell_type": "markdown",
      "id": "4f8ef408",
      "metadata": {
        "id": "4f8ef408"
      },
      "source": [
        "## 3. Fonction coût : Erreur Quadratique Moyenne\n",
        "On mesure les erreurs du modele sur le Dataset X, y en implémenterl'erreur quadratique moyenne, Mean Squared Error (MSE) en anglais.\n",
        "![Capture%20d'%C3%A9cran%202023-04-04%20113116.png](attachment:Capture%20d'%C3%A9cran%202023-04-04%20113116.png)\n",
        "\n",
        "Ensuite, on teste notre fonction, pour voir s'il n'y a pas de bug"
      ]
    },
    {
      "cell_type": "code",
      "execution_count": null,
      "id": "3bfb4285",
      "metadata": {
        "id": "3bfb4285"
      },
      "outputs": [],
      "source": [
        "def cost_function(X, y, theta):\n",
        "    m = len(y)\n",
        "    return 1/(2*m) * np.sum((model(X, theta) - y)**2)"
      ]
    },
    {
      "cell_type": "code",
      "execution_count": null,
      "id": "ec4ef451",
      "metadata": {
        "id": "ec4ef451",
        "outputId": "b1af678f-1384-4c59-d419-eb3cd39656ab"
      },
      "outputs": [
        {
          "data": {
            "text/plain": [
              "3.397762108486796"
            ]
          },
          "execution_count": 20,
          "metadata": {},
          "output_type": "execute_result"
        }
      ],
      "source": [
        "cost_function(X, y, theta)"
      ]
    },
    {
      "cell_type": "markdown",
      "id": "e1af8e71",
      "metadata": {
        "id": "e1af8e71"
      },
      "source": [
        "## 4. Gradients et Descente de Gradient\n",
        "On implémente la formule du gradient pour la MSE\n",
        "![grad.png](attachment:grad.png)\n",
        "Ensuite on utilise cette fonction dans la descente de gradient:\n",
        "\n"
      ]
    },
    {
      "cell_type": "markdown",
      "id": "527094e1",
      "metadata": {
        "id": "527094e1"
      },
      "source": [
        "![Capture%20d'%C3%A9cran%202023-04-04%20114408.png](attachment:Capture%20d'%C3%A9cran%202023-04-04%20114408.png)"
      ]
    },
    {
      "cell_type": "code",
      "execution_count": null,
      "id": "bc48ccbb",
      "metadata": {
        "id": "bc48ccbb"
      },
      "outputs": [],
      "source": [
        "def grad(X, y, theta):\n",
        "    m = len(y)\n",
        "    return 1/m * X.T.dot(model(X, theta) - y)"
      ]
    },
    {
      "cell_type": "code",
      "execution_count": null,
      "id": "dcda7267",
      "metadata": {
        "id": "dcda7267"
      },
      "outputs": [],
      "source": [
        "def gradient_descent(X, y, theta, learning_rate, n_iterations):\n",
        "\n",
        "    cost_history = np.zeros(n_iterations) # création d'un tableau de stockage pour enregistrer l'évolution du Cout du modele\n",
        "\n",
        "    for i in range(0, n_iterations):\n",
        "        theta = theta - learning_rate * grad(X, y, theta) # mise a jour du parametre theta (formule du gradient descent)\n",
        "        cost_history[i] = cost_function(X, y, theta) # on enregistre la valeur du Cout au tour i dans cost_history[i]\n",
        "\n",
        "    return theta, cost_history"
      ]
    },
    {
      "cell_type": "markdown",
      "id": "42add5a3",
      "metadata": {
        "id": "42add5a3"
      },
      "source": [
        "## 5. Phase d'entrainement\n",
        "On définit un nombre d'itérations, ainsi qu'un pas d'apprentissage α. Une fois le modele entrainé, on observe les resultats par rapport a notre Dataset"
      ]
    },
    {
      "cell_type": "code",
      "execution_count": null,
      "id": "1b30eb6b",
      "metadata": {
        "id": "1b30eb6b"
      },
      "outputs": [],
      "source": [
        "n_iterations = 9000\n",
        "learning_rate = 0.01\n",
        "\n",
        "\n",
        "theta_final, cost_history = gradient_descent(X, y, theta, learning_rate, n_iterations)"
      ]
    },
    {
      "cell_type": "code",
      "execution_count": null,
      "id": "ed0729ba",
      "metadata": {
        "id": "ed0729ba",
        "outputId": "3a99b9ab-4aef-40ad-f992-ee2b81d6092f"
      },
      "outputs": [
        {
          "data": {
            "text/plain": [
              "array([2.48001675, 1.86307071, 1.44814416, ..., 0.08174989, 0.08174989,\n",
              "       0.08174989])"
            ]
          },
          "execution_count": 24,
          "metadata": {},
          "output_type": "execute_result"
        }
      ],
      "source": [
        "cost_history # l'historique de la fonction coût qu'on va afficher par la suite. on remarque que sa valeur déminue et c'est ça l'objectif"
      ]
    },
    {
      "cell_type": "code",
      "execution_count": null,
      "id": "71ae7b0a",
      "metadata": {
        "id": "71ae7b0a",
        "outputId": "5b159eb6-2a44-4824-ab0b-ce66a903f6e8"
      },
      "outputs": [
        {
          "data": {
            "text/plain": [
              "array([[4.30556498],\n",
              "       [0.409126  ]])"
            ]
          },
          "execution_count": 25,
          "metadata": {},
          "output_type": "execute_result"
        }
      ],
      "source": [
        "theta_final # voici les parametres du modele une fois que la machine a été entrainée"
      ]
    },
    {
      "cell_type": "code",
      "execution_count": null,
      "id": "606bfc53",
      "metadata": {
        "id": "606bfc53",
        "outputId": "b9ffe70f-8e30-498f-e8b8-79259e46f5f7"
      },
      "outputs": [
        {
          "data": {
            "image/png": "[encoded data removed]",
            "text/plain": [
              "<Figure size 640x480 with 1 Axes>"
            ]
          },
          "metadata": {},
          "output_type": "display_data"
        }
      ],
      "source": [
        "# création d'un vecteur prédictions qui contient les prédictions de notre modele final\n",
        "predictions = model(X, theta_final)\n",
        "\n",
        "# Affichage des résultats de prédictions (en rouge) par rapport a notre Dataset (en bleu)\n",
        "plt.plot(x,y,'o',label='dataset')\n",
        "plt.plot(x,predictions , c='r',label='prédictions')\n",
        "plt.ylabel('sepal_length')\n",
        "plt.xlabel('petal_length')\n",
        "plt.legend()\n",
        "plt.show()"
      ]
    },
    {
      "cell_type": "code",
      "execution_count": null,
      "id": "415ab0a8",
      "metadata": {
        "id": "415ab0a8",
        "outputId": "8347d777-a2b2-447a-f793-fde1f99688c9"
      },
      "outputs": [
        {
          "name": "stdout",
          "output_type": "stream",
          "text": [
            "[5.32837999]\n"
          ]
        }
      ],
      "source": [
        "# Test: # prédire la largeur d'un pétale qui a une longueur de 2,5 cm\n",
        "X_2_5= np.array([1,2.5])\n",
        "pred_y_2_5=model(X_2_5, theta_final)\n",
        "print(pred_y_2_5)"
      ]
    },
    {
      "cell_type": "markdown",
      "id": "3d087de6",
      "metadata": {
        "id": "3d087de6"
      },
      "source": [
        "## 6. Courbe d'apprentissage\n",
        "\n",
        "   Pour vérifier si notre algorithme de Descente de gradient a bien fonctionné, on observe l'évolution de la fonction cout a travers les itérations. On est sensé obtenir une courbe qui diminue a chaque itération jusqu'a stagner a un niveau minimal (proche de zéro). Si la courbe ne suit pas ce motif, alors le pas learning_rate est peut-etre trop élevé, il faut prendre un pas plus faible."
      ]
    },
    {
      "cell_type": "code",
      "execution_count": null,
      "id": "519d3dbd",
      "metadata": {
        "id": "519d3dbd",
        "outputId": "72f65ebe-456f-47b0-dd53-dba12724b574"
      },
      "outputs": [
        {
          "data": {
            "image/png": "[encoded data removed]",
            "text/plain": [
              "<Figure size 640x480 with 1 Axes>"
            ]
          },
          "metadata": {},
          "output_type": "display_data"
        }
      ],
      "source": [
        "plt.plot(range(n_iterations), cost_history)\n",
        "plt.show()"
      ]
    },
    {
      "cell_type": "markdown",
      "id": "eb5cab7c",
      "metadata": {
        "id": "eb5cab7c"
      },
      "source": [
        "## 7. Evaluation du modèle - Coefficient de détermination\n",
        "\n",
        "   Le coefficient de détermination est un indice de la qualité de la prédiction de la régression linéaire. Le coefficient de détermination se situe entre 0 et 1. Plus il est proche de 1, plus la régression linéaire est en adéquation avec les données collectées"
      ]
    },
    {
      "cell_type": "markdown",
      "id": "cc10bb18",
      "metadata": {
        "id": "cc10bb18"
      },
      "source": [
        "![Capture%20d'%C3%A9cran%202023-04-04%20123236.png](attachment:Capture%20d'%C3%A9cran%202023-04-04%20123236.png)"
      ]
    },
    {
      "cell_type": "code",
      "execution_count": null,
      "id": "ea8f0458",
      "metadata": {
        "id": "ea8f0458"
      },
      "outputs": [],
      "source": [
        "def coef_determination(y, pred):\n",
        "    u = ((y - pred)**2).sum()\n",
        "    v = ((y - y.mean())**2).sum()\n",
        "    return 1 - u/v"
      ]
    },
    {
      "cell_type": "raw",
      "id": "a6c7e558",
      "metadata": {
        "id": "a6c7e558"
      },
      "source": [
        "coef_determination(y, predictions)"
      ]
    },
    {
      "cell_type": "markdown",
      "id": "1fc83ec1",
      "metadata": {
        "id": "1fc83ec1"
      },
      "source": [
        "## Question de recherche"
      ]
    },
    {
      "cell_type": "raw",
      "id": "4b989cf1",
      "metadata": {
        "id": "4b989cf1"
      },
      "source": [
        "Analysez la relation entre la valeur de la corrélation et performance du modèle établi"
      ]
    },
    {
      "cell_type": "markdown",
      "id": "6ebb44d0",
      "metadata": {
        "id": "6ebb44d0"
      },
      "source": [
        "### Test 1:"
      ]
    },
    {
      "cell_type": "markdown",
      "id": "2e97459b",
      "metadata": {
        "id": "2e97459b"
      },
      "source": [
        "# Prenons un exemple de corrélation faible, comme celle entre la largeur du sépale en fonction de la longueur du sépale. La corrélation entre ces deux variables est de -0,11"
      ]
    },
    {
      "cell_type": "code",
      "execution_count": null,
      "id": "2fd2c328",
      "metadata": {
        "id": "2fd2c328",
        "outputId": "72f0c6d8-9fa6-4d5a-b400-8b966c4cb9fe"
      },
      "outputs": [
        {
          "data": {
            "image/png": "[encoded data removed]",
            "text/plain": [
              "<Figure size 640x480 with 1 Axes>"
            ]
          },
          "metadata": {},
          "output_type": "display_data"
        }
      ],
      "source": [
        "plt.plot(dataset[\"sepal_width\"],dataset[\"sepal_length\"],'o')\n",
        "plt.xlabel('sepal_lengt')\n",
        "plt.ylabel('hsepal_width')\n",
        "plt.show()"
      ]
    },
    {
      "cell_type": "code",
      "execution_count": null,
      "id": "2cb8fadf",
      "metadata": {
        "id": "2cb8fadf",
        "outputId": "63718cd6-686a-4a87-c514-f1b66b60e6f2"
      },
      "outputs": [
        {
          "data": {
            "text/html": [
              "<div>\n",
              "<style scoped>\n",
              "    .dataframe tbody tr th:only-of-type {\n",
              "        vertical-align: middle;\n",
              "    }\n",
              "\n",
              "    .dataframe tbody tr th {\n",
              "        vertical-align: top;\n",
              "    }\n",
              "\n",
              "    .dataframe thead th {\n",
              "        text-align: right;\n",
              "    }\n",
              "</style>\n",
              "<table border=\"1\" class=\"dataframe\">\n",
              "  <thead>\n",
              "    <tr style=\"text-align: right;\">\n",
              "      <th></th>\n",
              "      <th>sepal_width</th>\n",
              "      <th>sepal_length</th>\n",
              "    </tr>\n",
              "  </thead>\n",
              "  <tbody>\n",
              "    <tr>\n",
              "      <th>0</th>\n",
              "      <td>3.5</td>\n",
              "      <td>5.1</td>\n",
              "    </tr>\n",
              "    <tr>\n",
              "      <th>1</th>\n",
              "      <td>3.0</td>\n",
              "      <td>4.9</td>\n",
              "    </tr>\n",
              "    <tr>\n",
              "      <th>2</th>\n",
              "      <td>3.2</td>\n",
              "      <td>4.7</td>\n",
              "    </tr>\n",
              "    <tr>\n",
              "      <th>3</th>\n",
              "      <td>3.1</td>\n",
              "      <td>4.6</td>\n",
              "    </tr>\n",
              "    <tr>\n",
              "      <th>4</th>\n",
              "      <td>3.6</td>\n",
              "      <td>5.0</td>\n",
              "    </tr>\n",
              "    <tr>\n",
              "      <th>...</th>\n",
              "      <td>...</td>\n",
              "      <td>...</td>\n",
              "    </tr>\n",
              "    <tr>\n",
              "      <th>145</th>\n",
              "      <td>3.0</td>\n",
              "      <td>6.7</td>\n",
              "    </tr>\n",
              "    <tr>\n",
              "      <th>146</th>\n",
              "      <td>2.5</td>\n",
              "      <td>6.3</td>\n",
              "    </tr>\n",
              "    <tr>\n",
              "      <th>147</th>\n",
              "      <td>3.0</td>\n",
              "      <td>6.5</td>\n",
              "    </tr>\n",
              "    <tr>\n",
              "      <th>148</th>\n",
              "      <td>3.4</td>\n",
              "      <td>6.2</td>\n",
              "    </tr>\n",
              "    <tr>\n",
              "      <th>149</th>\n",
              "      <td>3.0</td>\n",
              "      <td>5.9</td>\n",
              "    </tr>\n",
              "  </tbody>\n",
              "</table>\n",
              "<p>150 rows × 2 columns</p>\n",
              "</div>"
            ],
            "text/plain": [
              "     sepal_width  sepal_length\n",
              "0            3.5           5.1\n",
              "1            3.0           4.9\n",
              "2            3.2           4.7\n",
              "3            3.1           4.6\n",
              "4            3.6           5.0\n",
              "..           ...           ...\n",
              "145          3.0           6.7\n",
              "146          2.5           6.3\n",
              "147          3.0           6.5\n",
              "148          3.4           6.2\n",
              "149          3.0           5.9\n",
              "\n",
              "[150 rows x 2 columns]"
            ]
          },
          "execution_count": 31,
          "metadata": {},
          "output_type": "execute_result"
        }
      ],
      "source": [
        "df=dataset[['sepal_width','sepal_length']]\n",
        "df"
      ]
    },
    {
      "cell_type": "code",
      "execution_count": null,
      "id": "7e4304a1",
      "metadata": {
        "id": "7e4304a1"
      },
      "outputs": [],
      "source": [
        "x=dataset.sepal_length\n",
        "y=dataset.sepal_width"
      ]
    },
    {
      "cell_type": "code",
      "execution_count": null,
      "id": "713c45f9",
      "metadata": {
        "id": "713c45f9",
        "outputId": "cdcc6b04-9def-4d00-de70-c77bf779d778"
      },
      "outputs": [
        {
          "data": {
            "text/plain": [
              "(150,)"
            ]
          },
          "execution_count": 33,
          "metadata": {},
          "output_type": "execute_result"
        }
      ],
      "source": [
        "x.shape"
      ]
    },
    {
      "cell_type": "code",
      "execution_count": null,
      "id": "a4d717d4",
      "metadata": {
        "id": "a4d717d4",
        "outputId": "e062b235-c51a-42d9-9e51-62fdfb64f612"
      },
      "outputs": [
        {
          "data": {
            "text/plain": [
              "(150,)"
            ]
          },
          "execution_count": 34,
          "metadata": {},
          "output_type": "execute_result"
        }
      ],
      "source": [
        "y.shape"
      ]
    },
    {
      "cell_type": "code",
      "execution_count": null,
      "id": "f28c6d96",
      "metadata": {
        "id": "f28c6d96"
      },
      "outputs": [],
      "source": [
        "x=dataset.sepal_length.values.reshape(150,1)\n",
        "y=dataset.sepal_width.values.reshape(150,1)\n"
      ]
    },
    {
      "cell_type": "code",
      "execution_count": null,
      "id": "c5f890d4",
      "metadata": {
        "id": "c5f890d4",
        "outputId": "b9c294c9-d744-4ed6-907f-0e4b28a83527"
      },
      "outputs": [
        {
          "name": "stdout",
          "output_type": "stream",
          "text": [
            "(150, 1)\n",
            "(150, 1)\n"
          ]
        }
      ],
      "source": [
        "print(x.shape)\n",
        "print(y.shape)"
      ]
    },
    {
      "cell_type": "code",
      "execution_count": null,
      "id": "b776354d",
      "metadata": {
        "id": "b776354d"
      },
      "outputs": [],
      "source": [
        "X=np.hstack((np.ones((150,1)),x))"
      ]
    },
    {
      "cell_type": "code",
      "execution_count": null,
      "id": "8ee69929",
      "metadata": {
        "id": "8ee69929",
        "outputId": "9c800eb3-b12d-467a-f160-1f812075b0df"
      },
      "outputs": [
        {
          "data": {
            "text/plain": [
              "(150, 2)"
            ]
          },
          "execution_count": 38,
          "metadata": {},
          "output_type": "execute_result"
        }
      ],
      "source": [
        "X.shape"
      ]
    },
    {
      "cell_type": "code",
      "execution_count": null,
      "id": "3b14673d",
      "metadata": {
        "id": "3b14673d",
        "outputId": "ced82c8d-6247-4710-93af-04282a75daea"
      },
      "outputs": [
        {
          "name": "stdout",
          "output_type": "stream",
          "text": [
            "Theta: [[1.76405235]\n",
            " [0.40015721]]\n"
          ]
        }
      ],
      "source": [
        "np.random.seed(0) # pour produire toujours le meme vecteur theta aléatoire\n",
        "theta=np.random.randn(2,1)\n",
        "print('Theta:',theta)"
      ]
    },
    {
      "cell_type": "code",
      "execution_count": null,
      "id": "31a81ebb",
      "metadata": {
        "id": "31a81ebb"
      },
      "outputs": [],
      "source": [
        "def model(X, theta):\n",
        "    return X.dot(theta)"
      ]
    },
    {
      "cell_type": "code",
      "execution_count": null,
      "id": "45c21902",
      "metadata": {
        "id": "45c21902",
        "outputId": "24868830-d440-429e-9966-b7913e7689ba"
      },
      "outputs": [
        {
          "data": {
            "image/png": "[encoded data removed]",
            "text/plain": [
              "<Figure size 640x480 with 1 Axes>"
            ]
          },
          "metadata": {},
          "output_type": "display_data"
        }
      ],
      "source": [
        "plt.plot(x,y,'o',label='dataset')\n",
        "plt.plot(x, model(X, theta), c='r',label='modèle initial')\n",
        "plt.xlabel('sepal_length')\n",
        "plt.ylabel('sepal_width')\n",
        "plt.legend()\n",
        "plt.show()"
      ]
    },
    {
      "cell_type": "code",
      "execution_count": null,
      "id": "b3f08f54",
      "metadata": {
        "id": "b3f08f54"
      },
      "outputs": [],
      "source": [
        "def cost_function(X, y, theta):\n",
        "    m = len(y)\n",
        "    return 1/(2*m) * np.sum((model(X, theta) - y)**2)"
      ]
    },
    {
      "cell_type": "code",
      "execution_count": null,
      "id": "7ceeb316",
      "metadata": {
        "id": "7ceeb316",
        "outputId": "16b4a76d-0712-4443-81c0-9416a405e4c6"
      },
      "outputs": [
        {
          "data": {
            "text/plain": [
              "0.7129877025159795"
            ]
          },
          "execution_count": 43,
          "metadata": {},
          "output_type": "execute_result"
        }
      ],
      "source": [
        "cost_function(X, y, theta)"
      ]
    },
    {
      "cell_type": "code",
      "execution_count": null,
      "id": "a30105a9",
      "metadata": {
        "id": "a30105a9"
      },
      "outputs": [],
      "source": [
        "def grad(X, y, theta):\n",
        "    m = len(y)\n",
        "    return 1/m * X.T.dot(model(X, theta) - y)"
      ]
    },
    {
      "cell_type": "code",
      "execution_count": null,
      "id": "89d7dee1",
      "metadata": {
        "id": "89d7dee1"
      },
      "outputs": [],
      "source": [
        "def gradient_descent(X, y, theta, learning_rate, n_iterations):\n",
        "\n",
        "    cost_history = np.zeros(n_iterations) # création d'un tableau de stockage pour enregistrer l'évolution du Cout du modele\n",
        "\n",
        "    for i in range(0, n_iterations):\n",
        "        theta = theta - learning_rate * grad(X, y, theta) # mise a jour du parametre theta (formule du gradient descent)\n",
        "        cost_history[i] = cost_function(X, y, theta) # on enregistre la valeur du Cout au tour i dans cost_history[i]\n",
        "\n",
        "    return theta, cost_history"
      ]
    },
    {
      "cell_type": "code",
      "execution_count": null,
      "id": "9c23777d",
      "metadata": {
        "id": "9c23777d"
      },
      "outputs": [],
      "source": [
        "n_iterations = 30000\n",
        "learning_rate = 0.01\n",
        "\n",
        "\n",
        "theta_final, cost_history = gradient_descent(X, y, theta, learning_rate, n_iterations)"
      ]
    },
    {
      "cell_type": "code",
      "execution_count": null,
      "id": "b077d35c",
      "metadata": {
        "id": "b077d35c",
        "outputId": "6689731d-1132-4f4e-db53-4cc08f6b7efc"
      },
      "outputs": [
        {
          "data": {
            "text/plain": [
              "array([0.36378032, 0.21987341, 0.16056646, ..., 0.09225871, 0.09225871,\n",
              "       0.09225871])"
            ]
          },
          "execution_count": 47,
          "metadata": {},
          "output_type": "execute_result"
        }
      ],
      "source": [
        "cost_history"
      ]
    },
    {
      "cell_type": "code",
      "execution_count": null,
      "id": "e6869bd3",
      "metadata": {
        "id": "e6869bd3",
        "outputId": "a2a87b73-42b7-48d7-c0a9-773a28ed6ffa"
      },
      "outputs": [
        {
          "data": {
            "text/plain": [
              "array([[ 3.38314046],\n",
              "       [-0.05634541]])"
            ]
          },
          "execution_count": 48,
          "metadata": {},
          "output_type": "execute_result"
        }
      ],
      "source": [
        "theta_final"
      ]
    },
    {
      "cell_type": "code",
      "execution_count": null,
      "id": "e71099ef",
      "metadata": {
        "id": "e71099ef",
        "outputId": "d19f8f76-a47b-4d73-b6d8-9867abe27d94"
      },
      "outputs": [
        {
          "data": {
            "image/png": "[encoded data removed]",
            "text/plain": [
              "<Figure size 640x480 with 1 Axes>"
            ]
          },
          "metadata": {},
          "output_type": "display_data"
        }
      ],
      "source": [
        "# création d'un vecteur prédictions qui contient les prédictions de notre modele final\n",
        "predictions = model(X, theta_final)\n",
        "\n",
        "# Affichage des résultats de prédictions (en rouge) par rapport a notre Dataset (en bleu)\n",
        "plt.plot(x,y,'o',label='dataset')\n",
        "plt.plot(x,predictions , c='r',label='prédictions')\n",
        "plt.ylabel('sepal_width')\n",
        "plt.xlabel('sepal_length')\n",
        "plt.legend()\n",
        "plt.show()"
      ]
    },
    {
      "cell_type": "code",
      "execution_count": null,
      "id": "b740defc",
      "metadata": {
        "id": "b740defc",
        "outputId": "3107dc71-7c74-4ad5-cd28-a8ddd6bc82b0"
      },
      "outputs": [
        {
          "name": "stdout",
          "output_type": "stream",
          "text": [
            "[3.28735326]\n"
          ]
        }
      ],
      "source": [
        "# Test:\n",
        "X_2_5= np.array([1,1.7])\n",
        "pred_y_2_5=model(X_2_5, theta_final)\n",
        "print(pred_y_2_5)"
      ]
    },
    {
      "cell_type": "code",
      "execution_count": null,
      "id": "3a7b793a",
      "metadata": {
        "id": "3a7b793a",
        "outputId": "417e89a1-a891-4019-c9a7-5622da804d4c"
      },
      "outputs": [
        {
          "data": {
            "image/png": "[encoded data removed]",
            "text/plain": [
              "<Figure size 640x480 with 1 Axes>"
            ]
          },
          "metadata": {},
          "output_type": "display_data"
        }
      ],
      "source": [
        "plt.plot(range(n_iterations), cost_history)\n",
        "plt.show()"
      ]
    },
    {
      "cell_type": "code",
      "execution_count": null,
      "id": "bc0951e1",
      "metadata": {
        "id": "bc0951e1"
      },
      "outputs": [],
      "source": [
        "def coef_determination(y, pred):\n",
        "    u = ((y - pred)**2).sum()\n",
        "    v = ((y - y.mean())**2).sum()\n",
        "    return 1 - u/v"
      ]
    },
    {
      "cell_type": "code",
      "execution_count": null,
      "id": "4641897c",
      "metadata": {
        "id": "4641897c",
        "outputId": "22e0bd8b-67af-4017-cf24-d5d376f198a9"
      },
      "outputs": [
        {
          "data": {
            "text/plain": [
              "0.011958468307961989"
            ]
          },
          "execution_count": 53,
          "metadata": {},
          "output_type": "execute_result"
        }
      ],
      "source": [
        "coef_determination(y, predictions)"
      ]
    },
    {
      "cell_type": "markdown",
      "id": "aa60be22",
      "metadata": {
        "id": "aa60be22"
      },
      "source": [
        "### Remarque 1:"
      ]
    },
    {
      "cell_type": "raw",
      "id": "b7a27c06",
      "metadata": {
        "id": "b7a27c06"
      },
      "source": [
        "On a testé une corrélation négative très faible, plus proche de zéro, et on a remarqué que le coefficient de détermination était également très faible, proche de zéro. Par conséquent, la performance du modèle est très faible."
      ]
    },
    {
      "cell_type": "markdown",
      "id": "8cd7f435",
      "metadata": {
        "id": "8cd7f435"
      },
      "source": [
        "#### Test 2:"
      ]
    },
    {
      "cell_type": "raw",
      "id": "acdf3308",
      "metadata": {
        "id": "acdf3308"
      },
      "source": [
        "Considérons maintenant une corrélation un peu plus élevée, mais toujours négative, comme celle entre la longueur du pétale en fonction de la largeur du sépale (corr=-0,42)"
      ]
    },
    {
      "cell_type": "code",
      "execution_count": null,
      "id": "b712f379",
      "metadata": {
        "id": "b712f379",
        "outputId": "5df5e107-4610-405f-9a9e-108a2ee672ba"
      },
      "outputs": [
        {
          "data": {
            "image/png": "[encoded data removed]",
            "text/plain": [
              "<Figure size 640x480 with 1 Axes>"
            ]
          },
          "metadata": {},
          "output_type": "display_data"
        }
      ],
      "source": [
        "plt.plot(dataset[\"sepal_width\"],dataset[\"petal_length\"],'o')\n",
        "plt.xlabel('sepal_width')\n",
        "plt.ylabel('petal_length')\n",
        "plt.show()"
      ]
    },
    {
      "cell_type": "code",
      "execution_count": null,
      "id": "7bab7853",
      "metadata": {
        "id": "7bab7853",
        "outputId": "2a7dc540-4d65-407b-f0ee-0b88bfa6e6eb"
      },
      "outputs": [
        {
          "data": {
            "text/html": [
              "<div>\n",
              "<style scoped>\n",
              "    .dataframe tbody tr th:only-of-type {\n",
              "        vertical-align: middle;\n",
              "    }\n",
              "\n",
              "    .dataframe tbody tr th {\n",
              "        vertical-align: top;\n",
              "    }\n",
              "\n",
              "    .dataframe thead th {\n",
              "        text-align: right;\n",
              "    }\n",
              "</style>\n",
              "<table border=\"1\" class=\"dataframe\">\n",
              "  <thead>\n",
              "    <tr style=\"text-align: right;\">\n",
              "      <th></th>\n",
              "      <th>sepal_width</th>\n",
              "      <th>petal_length</th>\n",
              "    </tr>\n",
              "  </thead>\n",
              "  <tbody>\n",
              "    <tr>\n",
              "      <th>0</th>\n",
              "      <td>3.5</td>\n",
              "      <td>1.4</td>\n",
              "    </tr>\n",
              "    <tr>\n",
              "      <th>1</th>\n",
              "      <td>3.0</td>\n",
              "      <td>1.4</td>\n",
              "    </tr>\n",
              "    <tr>\n",
              "      <th>2</th>\n",
              "      <td>3.2</td>\n",
              "      <td>1.3</td>\n",
              "    </tr>\n",
              "    <tr>\n",
              "      <th>3</th>\n",
              "      <td>3.1</td>\n",
              "      <td>1.5</td>\n",
              "    </tr>\n",
              "    <tr>\n",
              "      <th>4</th>\n",
              "      <td>3.6</td>\n",
              "      <td>1.4</td>\n",
              "    </tr>\n",
              "    <tr>\n",
              "      <th>...</th>\n",
              "      <td>...</td>\n",
              "      <td>...</td>\n",
              "    </tr>\n",
              "    <tr>\n",
              "      <th>145</th>\n",
              "      <td>3.0</td>\n",
              "      <td>5.2</td>\n",
              "    </tr>\n",
              "    <tr>\n",
              "      <th>146</th>\n",
              "      <td>2.5</td>\n",
              "      <td>5.0</td>\n",
              "    </tr>\n",
              "    <tr>\n",
              "      <th>147</th>\n",
              "      <td>3.0</td>\n",
              "      <td>5.2</td>\n",
              "    </tr>\n",
              "    <tr>\n",
              "      <th>148</th>\n",
              "      <td>3.4</td>\n",
              "      <td>5.4</td>\n",
              "    </tr>\n",
              "    <tr>\n",
              "      <th>149</th>\n",
              "      <td>3.0</td>\n",
              "      <td>5.1</td>\n",
              "    </tr>\n",
              "  </tbody>\n",
              "</table>\n",
              "<p>150 rows × 2 columns</p>\n",
              "</div>"
            ],
            "text/plain": [
              "     sepal_width  petal_length\n",
              "0            3.5           1.4\n",
              "1            3.0           1.4\n",
              "2            3.2           1.3\n",
              "3            3.1           1.5\n",
              "4            3.6           1.4\n",
              "..           ...           ...\n",
              "145          3.0           5.2\n",
              "146          2.5           5.0\n",
              "147          3.0           5.2\n",
              "148          3.4           5.4\n",
              "149          3.0           5.1\n",
              "\n",
              "[150 rows x 2 columns]"
            ]
          },
          "execution_count": 55,
          "metadata": {},
          "output_type": "execute_result"
        }
      ],
      "source": [
        "df=dataset[['sepal_width','petal_length']]\n",
        "df"
      ]
    },
    {
      "cell_type": "code",
      "execution_count": null,
      "id": "8b8e75c5",
      "metadata": {
        "id": "8b8e75c5"
      },
      "outputs": [],
      "source": [
        "y=dataset.petal_length\n",
        "x=dataset.sepal_width"
      ]
    },
    {
      "cell_type": "code",
      "execution_count": null,
      "id": "ddc45c93",
      "metadata": {
        "id": "ddc45c93"
      },
      "outputs": [],
      "source": [
        "y=dataset.petal_length.values.reshape(150,1)\n",
        "x=dataset.sepal_width.values.reshape(150,1)"
      ]
    },
    {
      "cell_type": "code",
      "execution_count": null,
      "id": "f7d386de",
      "metadata": {
        "id": "f7d386de",
        "outputId": "21c9b92e-577f-4a76-bc18-f76e8f5a56df"
      },
      "outputs": [
        {
          "name": "stdout",
          "output_type": "stream",
          "text": [
            "(150, 1)\n",
            "(150, 1)\n"
          ]
        }
      ],
      "source": [
        "print(x.shape)\n",
        "print(y.shape)"
      ]
    },
    {
      "cell_type": "code",
      "execution_count": null,
      "id": "383082de",
      "metadata": {
        "id": "383082de"
      },
      "outputs": [],
      "source": [
        "X=np.hstack((np.ones((150,1)),x))"
      ]
    },
    {
      "cell_type": "code",
      "execution_count": null,
      "id": "aed583ae",
      "metadata": {
        "id": "aed583ae",
        "outputId": "ad36042d-4f05-48c0-da3a-f4807bba359a"
      },
      "outputs": [
        {
          "data": {
            "text/plain": [
              "(150, 2)"
            ]
          },
          "execution_count": 60,
          "metadata": {},
          "output_type": "execute_result"
        }
      ],
      "source": [
        "X.shape"
      ]
    },
    {
      "cell_type": "code",
      "execution_count": null,
      "id": "cba55593",
      "metadata": {
        "id": "cba55593",
        "outputId": "6ceb0d35-1f09-47c6-9614-fac9edaf3e38"
      },
      "outputs": [
        {
          "name": "stdout",
          "output_type": "stream",
          "text": [
            "Theta: [[1.76405235]\n",
            " [0.40015721]]\n"
          ]
        }
      ],
      "source": [
        "np.random.seed(0) # pour produire toujours le meme vecteur theta aléatoire\n",
        "theta=np.random.randn(2,1)\n",
        "print('Theta:',theta)"
      ]
    },
    {
      "cell_type": "code",
      "execution_count": null,
      "id": "a8b7bd75",
      "metadata": {
        "id": "a8b7bd75"
      },
      "outputs": [],
      "source": [
        "def model(X, theta):\n",
        "    return X.dot(theta)"
      ]
    },
    {
      "cell_type": "code",
      "execution_count": null,
      "id": "64dee78d",
      "metadata": {
        "id": "64dee78d",
        "outputId": "102280ed-a0cd-4442-ac84-ac911b3830eb"
      },
      "outputs": [
        {
          "data": {
            "image/png": "[encoded data removed]",
            "text/plain": [
              "<Figure size 640x480 with 1 Axes>"
            ]
          },
          "metadata": {},
          "output_type": "display_data"
        }
      ],
      "source": [
        "plt.plot(x,y,'o',label='dataset')\n",
        "plt.plot(x, model(X, theta), c='r',label='modèle initial')\n",
        "plt.xlabel('sepal_width')\n",
        "plt.ylabel('petal_length')\n",
        "plt.legend()\n",
        "plt.show()"
      ]
    },
    {
      "cell_type": "code",
      "execution_count": null,
      "id": "97292faf",
      "metadata": {
        "id": "97292faf"
      },
      "outputs": [],
      "source": [
        "def cost_function(X, y, theta):\n",
        "    m = len(y)\n",
        "    return 1/(2*m) * np.sum((model(X, theta) - y)**2)"
      ]
    },
    {
      "cell_type": "code",
      "execution_count": null,
      "id": "29ac715b",
      "metadata": {
        "id": "29ac715b",
        "outputId": "4b570a39-b4bb-4d0a-91bb-1bb316782bac"
      },
      "outputs": [
        {
          "data": {
            "text/plain": [
              "1.9874462323428885"
            ]
          },
          "execution_count": 65,
          "metadata": {},
          "output_type": "execute_result"
        }
      ],
      "source": [
        "cost_function(X, y, theta)"
      ]
    },
    {
      "cell_type": "code",
      "execution_count": null,
      "id": "029060f2",
      "metadata": {
        "id": "029060f2"
      },
      "outputs": [],
      "source": [
        "def grad(X, y, theta):\n",
        "    m = len(y)\n",
        "    return 1/m * X.T.dot(model(X, theta) - y)"
      ]
    },
    {
      "cell_type": "code",
      "execution_count": null,
      "id": "bf468321",
      "metadata": {
        "id": "bf468321"
      },
      "outputs": [],
      "source": [
        "def gradient_descent(X, y, theta, learning_rate, n_iterations):\n",
        "\n",
        "    cost_history = np.zeros(n_iterations) # création d'un tableau de stockage pour enregistrer l'évolution du Cout du modele\n",
        "\n",
        "    for i in range(0, n_iterations):\n",
        "        theta = theta - learning_rate * grad(X, y, theta) # mise a jour du parametre theta (formule du gradient descent)\n",
        "        cost_history[i] = cost_function(X, y, theta) # on enregistre la valeur du Cout au tour i dans cost_history[i]\n",
        "\n",
        "    return theta, cost_history"
      ]
    },
    {
      "cell_type": "code",
      "execution_count": null,
      "id": "e3d59b2b",
      "metadata": {
        "id": "e3d59b2b"
      },
      "outputs": [],
      "source": [
        "n_iterations = 50000\n",
        "learning_rate = 0.01\n",
        "\n",
        "\n",
        "theta_final, cost_history = gradient_descent(X, y, theta, learning_rate, n_iterations)"
      ]
    },
    {
      "cell_type": "code",
      "execution_count": null,
      "id": "b4aa26f4",
      "metadata": {
        "id": "b4aa26f4",
        "outputId": "49a454ec-d104-43f1-c393-fede3740f466"
      },
      "outputs": [
        {
          "data": {
            "text/plain": [
              "array([1.94519525, 1.91131248, 1.88413351, ..., 1.27278985, 1.27278985,\n",
              "       1.27278985])"
            ]
          },
          "execution_count": 69,
          "metadata": {},
          "output_type": "execute_result"
        }
      ],
      "source": [
        "cost_history"
      ]
    },
    {
      "cell_type": "code",
      "execution_count": null,
      "id": "d12fd582",
      "metadata": {
        "id": "d12fd582",
        "outputId": "80b5ec3d-49c5-40f4-a846-8413daf8e27d"
      },
      "outputs": [
        {
          "data": {
            "text/plain": [
              "array([[ 8.98369651],\n",
              "       [-1.71088647]])"
            ]
          },
          "execution_count": 70,
          "metadata": {},
          "output_type": "execute_result"
        }
      ],
      "source": [
        "theta_final"
      ]
    },
    {
      "cell_type": "code",
      "execution_count": null,
      "id": "5831dc31",
      "metadata": {
        "id": "5831dc31",
        "outputId": "07dbc15b-e2af-425e-dcd8-d1f3e86f618f"
      },
      "outputs": [
        {
          "data": {
            "image/png": "[encoded data removed]",
            "text/plain": [
              "<Figure size 640x480 with 1 Axes>"
            ]
          },
          "metadata": {},
          "output_type": "display_data"
        }
      ],
      "source": [
        "# création d'un vecteur prédictions qui contient les prédictions de notre modele final\n",
        "predictions = model(X, theta_final)\n",
        "\n",
        "# Affichage des résultats de prédictions (en rouge) par rapport a notre Dataset (en bleu)\n",
        "plt.plot(x,y,'o',label='dataset')\n",
        "plt.plot(x,predictions , c='r',label='prédictions')\n",
        "plt.ylabel('petal_length')\n",
        "plt.xlabel('sepal_width')\n",
        "plt.legend()\n",
        "plt.show()"
      ]
    },
    {
      "cell_type": "code",
      "execution_count": null,
      "id": "4d316960",
      "metadata": {
        "id": "4d316960",
        "outputId": "a24d5403-c3b6-4173-cfbc-05e3a2b78b7f"
      },
      "outputs": [
        {
          "name": "stdout",
          "output_type": "stream",
          "text": [
            "[3.16668253]\n"
          ]
        }
      ],
      "source": [
        "# Test:\n",
        "X_2_5= np.array([1,3.4])\n",
        "pred_y_2_5=model(X_2_5, theta_final)\n",
        "print(pred_y_2_5)"
      ]
    },
    {
      "cell_type": "code",
      "execution_count": null,
      "id": "e519de0b",
      "metadata": {
        "id": "e519de0b",
        "outputId": "3686369a-7b8d-4fbd-d080-830efb36dbd7"
      },
      "outputs": [
        {
          "data": {
            "image/png": "[encoded data removed]",
            "text/plain": [
              "<Figure size 640x480 with 1 Axes>"
            ]
          },
          "metadata": {},
          "output_type": "display_data"
        }
      ],
      "source": [
        "plt.plot(range(n_iterations), cost_history)\n",
        "plt.show()"
      ]
    },
    {
      "cell_type": "code",
      "execution_count": null,
      "id": "6a994ddf",
      "metadata": {
        "id": "6a994ddf"
      },
      "outputs": [],
      "source": [
        "def coef_determination(y, pred):\n",
        "    u = ((y - pred)**2).sum()\n",
        "    v = ((y - y.mean())**2).sum()\n",
        "    return 1 - u/v"
      ]
    },
    {
      "cell_type": "code",
      "execution_count": null,
      "id": "f7e22a6f",
      "metadata": {
        "id": "f7e22a6f",
        "outputId": "96388944-fbc5-44b2-8a87-2341b940bfeb"
      },
      "outputs": [
        {
          "data": {
            "text/plain": [
              "0.1768337812451517"
            ]
          },
          "execution_count": 75,
          "metadata": {},
          "output_type": "execute_result"
        }
      ],
      "source": [
        "coef_determination(y, predictions)"
      ]
    },
    {
      "cell_type": "markdown",
      "id": "23a80ecc",
      "metadata": {
        "id": "23a80ecc"
      },
      "source": [
        "### Remarque 2:"
      ]
    },
    {
      "cell_type": "raw",
      "id": "f263420c",
      "metadata": {
        "id": "f263420c"
      },
      "source": [
        "on a testé une corrélation négative plus élevée que la première, et on a constaté que le coefficient de détermination demeurait faible, se rapprochant de zéro. Par conséquent, la performance du modèle est faible, bien que légèrement meilleure que dans le premier cas."
      ]
    },
    {
      "cell_type": "markdown",
      "id": "c1e64dfe",
      "metadata": {
        "id": "c1e64dfe"
      },
      "source": [
        "### Test 3:"
      ]
    },
    {
      "cell_type": "raw",
      "id": "8c5b959b",
      "metadata": {
        "id": "8c5b959b"
      },
      "source": [
        "Maintenant, prenons une corrélation positive, proche de 1.\n",
        "petal lentgh en fonction de petal width (corr=0,96)\n"
      ]
    },
    {
      "cell_type": "code",
      "execution_count": null,
      "id": "cd01f181",
      "metadata": {
        "id": "cd01f181",
        "outputId": "50222d75-8dec-4099-e04e-d1fdc95d66ea"
      },
      "outputs": [
        {
          "data": {
            "image/png": "[encoded data removed]",
            "text/plain": [
              "<Figure size 640x480 with 1 Axes>"
            ]
          },
          "metadata": {},
          "output_type": "display_data"
        }
      ],
      "source": [
        "plt.plot(dataset[\"petal_width\"],dataset[\"petal_length\"],'o')\n",
        "plt.xlabel('petal_width')\n",
        "plt.ylabel('petal_length')\n",
        "plt.show()"
      ]
    },
    {
      "cell_type": "code",
      "execution_count": null,
      "id": "d9f5541d",
      "metadata": {
        "id": "d9f5541d",
        "outputId": "39197919-dddc-4c62-aa8c-cf460b0c4abd"
      },
      "outputs": [
        {
          "data": {
            "text/html": [
              "<div>\n",
              "<style scoped>\n",
              "    .dataframe tbody tr th:only-of-type {\n",
              "        vertical-align: middle;\n",
              "    }\n",
              "\n",
              "    .dataframe tbody tr th {\n",
              "        vertical-align: top;\n",
              "    }\n",
              "\n",
              "    .dataframe thead th {\n",
              "        text-align: right;\n",
              "    }\n",
              "</style>\n",
              "<table border=\"1\" class=\"dataframe\">\n",
              "  <thead>\n",
              "    <tr style=\"text-align: right;\">\n",
              "      <th></th>\n",
              "      <th>petal_width</th>\n",
              "      <th>petal_length</th>\n",
              "    </tr>\n",
              "  </thead>\n",
              "  <tbody>\n",
              "    <tr>\n",
              "      <th>0</th>\n",
              "      <td>0.2</td>\n",
              "      <td>1.4</td>\n",
              "    </tr>\n",
              "    <tr>\n",
              "      <th>1</th>\n",
              "      <td>0.2</td>\n",
              "      <td>1.4</td>\n",
              "    </tr>\n",
              "    <tr>\n",
              "      <th>2</th>\n",
              "      <td>0.2</td>\n",
              "      <td>1.3</td>\n",
              "    </tr>\n",
              "    <tr>\n",
              "      <th>3</th>\n",
              "      <td>0.2</td>\n",
              "      <td>1.5</td>\n",
              "    </tr>\n",
              "    <tr>\n",
              "      <th>4</th>\n",
              "      <td>0.2</td>\n",
              "      <td>1.4</td>\n",
              "    </tr>\n",
              "    <tr>\n",
              "      <th>...</th>\n",
              "      <td>...</td>\n",
              "      <td>...</td>\n",
              "    </tr>\n",
              "    <tr>\n",
              "      <th>145</th>\n",
              "      <td>2.3</td>\n",
              "      <td>5.2</td>\n",
              "    </tr>\n",
              "    <tr>\n",
              "      <th>146</th>\n",
              "      <td>1.9</td>\n",
              "      <td>5.0</td>\n",
              "    </tr>\n",
              "    <tr>\n",
              "      <th>147</th>\n",
              "      <td>2.0</td>\n",
              "      <td>5.2</td>\n",
              "    </tr>\n",
              "    <tr>\n",
              "      <th>148</th>\n",
              "      <td>2.3</td>\n",
              "      <td>5.4</td>\n",
              "    </tr>\n",
              "    <tr>\n",
              "      <th>149</th>\n",
              "      <td>1.8</td>\n",
              "      <td>5.1</td>\n",
              "    </tr>\n",
              "  </tbody>\n",
              "</table>\n",
              "<p>150 rows × 2 columns</p>\n",
              "</div>"
            ],
            "text/plain": [
              "     petal_width  petal_length\n",
              "0            0.2           1.4\n",
              "1            0.2           1.4\n",
              "2            0.2           1.3\n",
              "3            0.2           1.5\n",
              "4            0.2           1.4\n",
              "..           ...           ...\n",
              "145          2.3           5.2\n",
              "146          1.9           5.0\n",
              "147          2.0           5.2\n",
              "148          2.3           5.4\n",
              "149          1.8           5.1\n",
              "\n",
              "[150 rows x 2 columns]"
            ]
          },
          "execution_count": 77,
          "metadata": {},
          "output_type": "execute_result"
        }
      ],
      "source": [
        "df=dataset[['petal_width','petal_length']]\n",
        "df"
      ]
    },
    {
      "cell_type": "code",
      "execution_count": null,
      "id": "4a536b29",
      "metadata": {
        "id": "4a536b29"
      },
      "outputs": [],
      "source": [
        "y=dataset.petal_length\n",
        "x=dataset.petal_width"
      ]
    },
    {
      "cell_type": "code",
      "execution_count": null,
      "id": "9b992dbe",
      "metadata": {
        "id": "9b992dbe"
      },
      "outputs": [],
      "source": [
        "y=dataset.petal_length.values.reshape(150,1)\n",
        "x=dataset.petal_width.values.reshape(150,1)"
      ]
    },
    {
      "cell_type": "code",
      "execution_count": null,
      "id": "15e7a528",
      "metadata": {
        "id": "15e7a528",
        "outputId": "53d0dbc0-e19d-480a-b2ff-3cd72ff957fc"
      },
      "outputs": [
        {
          "name": "stdout",
          "output_type": "stream",
          "text": [
            "(150, 1)\n",
            "(150, 1)\n"
          ]
        }
      ],
      "source": [
        "print(x.shape)\n",
        "print(y.shape)"
      ]
    },
    {
      "cell_type": "code",
      "execution_count": null,
      "id": "fb04df04",
      "metadata": {
        "id": "fb04df04"
      },
      "outputs": [],
      "source": [
        "X=np.hstack((np.ones((150,1)),x))"
      ]
    },
    {
      "cell_type": "code",
      "execution_count": null,
      "id": "fecda7fe",
      "metadata": {
        "id": "fecda7fe",
        "outputId": "f44b1141-39bd-4bea-a3cb-16581916c025"
      },
      "outputs": [
        {
          "data": {
            "text/plain": [
              "(150, 2)"
            ]
          },
          "execution_count": 82,
          "metadata": {},
          "output_type": "execute_result"
        }
      ],
      "source": [
        "X.shape"
      ]
    },
    {
      "cell_type": "code",
      "execution_count": null,
      "id": "b4846be5",
      "metadata": {
        "id": "b4846be5",
        "outputId": "aead7d99-6c72-4735-96ca-7b29baed1413"
      },
      "outputs": [
        {
          "name": "stdout",
          "output_type": "stream",
          "text": [
            "Theta: [[1.76405235]\n",
            " [0.40015721]]\n"
          ]
        }
      ],
      "source": [
        "np.random.seed(0) # pour produire toujours le meme vecteur theta aléatoire\n",
        "theta=np.random.randn(2,1)\n",
        "print('Theta:',theta)"
      ]
    },
    {
      "cell_type": "code",
      "execution_count": null,
      "id": "d951c076",
      "metadata": {
        "id": "d951c076"
      },
      "outputs": [],
      "source": [
        "def model(X, theta):\n",
        "    return X.dot(theta)"
      ]
    },
    {
      "cell_type": "code",
      "execution_count": null,
      "id": "4c198a57",
      "metadata": {
        "id": "4c198a57",
        "outputId": "da631075-9c44-42d9-bbca-e35659b934bf"
      },
      "outputs": [
        {
          "data": {
            "image/png": "[encoded data removed]",
            "text/plain": [
              "<Figure size 640x480 with 1 Axes>"
            ]
          },
          "metadata": {},
          "output_type": "display_data"
        }
      ],
      "source": [
        "plt.plot(x,y,'o',label='dataset')\n",
        "plt.plot(x, model(X, theta), c='r',label='modèle initial')\n",
        "plt.xlabel('petal_width')\n",
        "plt.ylabel('petal_length')\n",
        "plt.legend()\n",
        "plt.show()"
      ]
    },
    {
      "cell_type": "code",
      "execution_count": null,
      "id": "d4267558",
      "metadata": {
        "id": "d4267558"
      },
      "outputs": [],
      "source": [
        "def cost_function(X, y, theta):\n",
        "    m = len(y)\n",
        "    return 1/(2*m) * np.sum((model(X, theta) - y)**2)"
      ]
    },
    {
      "cell_type": "code",
      "execution_count": null,
      "id": "5e56d72f",
      "metadata": {
        "id": "5e56d72f",
        "outputId": "41c6bee5-6450-4d66-b3e2-e487efd2e893"
      },
      "outputs": [
        {
          "data": {
            "text/plain": [
              "2.2247816656515402"
            ]
          },
          "execution_count": 88,
          "metadata": {},
          "output_type": "execute_result"
        }
      ],
      "source": [
        "cost_function(X, y, theta)"
      ]
    },
    {
      "cell_type": "code",
      "execution_count": null,
      "id": "59135d40",
      "metadata": {
        "id": "59135d40"
      },
      "outputs": [],
      "source": [
        "def grad(X, y, theta):\n",
        "    m = len(y)\n",
        "    return 1/m * X.T.dot(model(X, theta) - y)"
      ]
    },
    {
      "cell_type": "code",
      "execution_count": null,
      "id": "522fbe1c",
      "metadata": {
        "id": "522fbe1c"
      },
      "outputs": [],
      "source": [
        "def gradient_descent(X, y, theta, learning_rate, n_iterations):\n",
        "\n",
        "    cost_history = np.zeros(n_iterations) # création d'un tableau de stockage pour enregistrer l'évolution du Cout du modele\n",
        "\n",
        "    for i in range(0, n_iterations):\n",
        "        theta = theta - learning_rate * grad(X, y, theta) # mise a jour du parametre theta (formule du gradient descent)\n",
        "        cost_history[i] = cost_function(X, y, theta) # on enregistre la valeur du Cout au tour i dans cost_history[i]\n",
        "\n",
        "    return theta, cost_history"
      ]
    },
    {
      "cell_type": "code",
      "execution_count": null,
      "id": "04a97b74",
      "metadata": {
        "id": "04a97b74"
      },
      "outputs": [],
      "source": [
        "n_iterations = 50000\n",
        "learning_rate = 0.01\n",
        "\n",
        "\n",
        "theta_final, cost_history = gradient_descent(X, y, theta, learning_rate, n_iterations)"
      ]
    },
    {
      "cell_type": "code",
      "execution_count": null,
      "id": "48d38e8a",
      "metadata": {
        "id": "48d38e8a",
        "outputId": "8d69442e-71d8-4f29-9959-347e1c4e1132"
      },
      "outputs": [
        {
          "data": {
            "text/plain": [
              "array([2.12080449, 2.022534  , 1.92965427, ..., 0.11302623, 0.11302623,\n",
              "       0.11302623])"
            ]
          },
          "execution_count": 92,
          "metadata": {},
          "output_type": "execute_result"
        }
      ],
      "source": [
        "cost_history"
      ]
    },
    {
      "cell_type": "code",
      "execution_count": null,
      "id": "11123d41",
      "metadata": {
        "id": "11123d41",
        "outputId": "bff4d9eb-a174-44cd-fd93-95a5ea38e089"
      },
      "outputs": [
        {
          "data": {
            "text/plain": [
              "array([[1.09057215],\n",
              "       [2.22588531]])"
            ]
          },
          "execution_count": 93,
          "metadata": {},
          "output_type": "execute_result"
        }
      ],
      "source": [
        "theta_final"
      ]
    },
    {
      "cell_type": "code",
      "execution_count": null,
      "id": "eadae8bc",
      "metadata": {
        "id": "eadae8bc",
        "outputId": "eb8f3eb9-7258-41f8-dfe7-51fd3f25b739"
      },
      "outputs": [
        {
          "data": {
            "image/png": "[encoded data removed]",
            "text/plain": [
              "<Figure size 640x480 with 1 Axes>"
            ]
          },
          "metadata": {},
          "output_type": "display_data"
        }
      ],
      "source": [
        "# création d'un vecteur prédictions qui contient les prédictions de notre modele final\n",
        "predictions = model(X, theta_final)\n",
        "\n",
        "# Affichage des résultats de prédictions (en rouge) par rapport a notre Dataset (en bleu)\n",
        "plt.plot(x,y,'o',label='dataset')\n",
        "plt.plot(x,predictions , c='r',label='prédictions')\n",
        "plt.ylabel('petal_length')\n",
        "plt.xlabel('petal_width')\n",
        "plt.legend()\n",
        "plt.show()"
      ]
    },
    {
      "cell_type": "code",
      "execution_count": null,
      "id": "ad3f3561",
      "metadata": {
        "id": "ad3f3561",
        "outputId": "69f4166b-8155-4446-d915-a3285b31aa21"
      },
      "outputs": [
        {
          "name": "stdout",
          "output_type": "stream",
          "text": [
            "[6.21010835]\n"
          ]
        }
      ],
      "source": [
        "# Test:\n",
        "X_2_5= np.array([1,2.3])\n",
        "pred_y_2_5=model(X_2_5, theta_final)\n",
        "print(pred_y_2_5)"
      ]
    },
    {
      "cell_type": "code",
      "execution_count": null,
      "id": "cb3b943b",
      "metadata": {
        "id": "cb3b943b",
        "outputId": "36d19335-08a2-4f74-f90e-031e40e95b7a"
      },
      "outputs": [
        {
          "data": {
            "image/png": "[encoded data removed]",
            "text/plain": [
              "<Figure size 640x480 with 1 Axes>"
            ]
          },
          "metadata": {},
          "output_type": "display_data"
        }
      ],
      "source": [
        "plt.plot(range(n_iterations), cost_history)\n",
        "plt.show()"
      ]
    },
    {
      "cell_type": "code",
      "execution_count": null,
      "id": "8350aedf",
      "metadata": {
        "id": "8350aedf"
      },
      "outputs": [],
      "source": [
        "def coef_determination(y, pred):\n",
        "    u = ((y - pred)**2).sum()\n",
        "    v = ((y - y.mean())**2).sum()\n",
        "    return 1 - u/v"
      ]
    },
    {
      "cell_type": "code",
      "execution_count": null,
      "id": "ee618a74",
      "metadata": {
        "id": "ee618a74",
        "outputId": "1a44ac29-c930-4a29-b8e4-97d74e14caef"
      },
      "outputs": [
        {
          "data": {
            "text/plain": [
              "0.9269012279220037"
            ]
          },
          "execution_count": 99,
          "metadata": {},
          "output_type": "execute_result"
        }
      ],
      "source": [
        "coef_determination(y, predictions)"
      ]
    },
    {
      "cell_type": "markdown",
      "id": "05b32b40",
      "metadata": {
        "id": "05b32b40"
      },
      "source": [
        "### Remarque 3:"
      ]
    },
    {
      "cell_type": "raw",
      "id": "e256b40f",
      "metadata": {
        "id": "e256b40f"
      },
      "source": [
        "on a testé une corrélation positive plus élevée, proche de 1, et on a remarque que le coefficient de détermination était élevé, également proche de 1. En conséquence, la performance du modèle est tres bonne."
      ]
    },
    {
      "cell_type": "markdown",
      "id": "bb6f07a5",
      "metadata": {
        "id": "bb6f07a5"
      },
      "source": [
        "# conclusion"
      ]
    },
    {
      "cell_type": "raw",
      "id": "d0ded1e5",
      "metadata": {
        "id": "d0ded1e5"
      },
      "source": [
        "[texte du lien](https://)D'après toutes les remarques, on peut conclure que lorsque la corrélation se rapproche de 1, qu'elle soit négative ou positive, on obtient un coefficient de détermination plus élevé, proche de 1, ce qui indique un modèle performant. En revanche, lorsque la corrélation est plus faible et proche de 0, le coefficient de détermination est très faible, également proche de 0, ce qui se traduit par une performance très faible du modèle."
      ]
    }
  ],
  "metadata": {
    "kernelspec": {
      "display_name": "Python 3 (ipykernel)",
      "language": "python",
      "name": "python3"
    },
    "language_info": {
      "codemirror_mode": {
        "name": "ipython",
        "version": 3
      },
      "file_extension": ".py",
      "mimetype": "text/x-python",
      "name": "python",
      "nbconvert_exporter": "python",
      "pygments_lexer": "ipython3",
      "version": "3.11.5"
    },
    "colab": {
      "provenance": []
    }
  },
  "nbformat": 4,
  "nbformat_minor": 5
}