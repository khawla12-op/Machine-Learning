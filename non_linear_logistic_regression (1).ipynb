{
  "cells": [
    {
      "cell_type": "code",
      "execution_count": null,
      "id": "initial_id",
      "metadata": {
        "ExecuteTime": {
          "end_time": "2024-04-24T09:21:34.432737Z",
          "start_time": "2024-04-24T09:21:31.551704Z"
        },
        "id": "initial_id",
        "outputId": "a5ca6842-4c04-4f9f-9fef-9dc732b444a9"
      },
      "outputs": [
        {
          "ename": "RuntimeError",
          "evalue": "module compiled against API version 0x10 but this version of numpy is 0xf",
          "output_type": "error",
          "traceback": [
            "\u001b[1;31m---------------------------------------------------------------------------\u001b[0m",
            "\u001b[1;31mRuntimeError\u001b[0m                              Traceback (most recent call last)",
            "\u001b[1;31mRuntimeError\u001b[0m: module compiled against API version 0x10 but this version of numpy is 0xf"
          ]
        },
        {
          "ename": "ImportError",
          "evalue": "numpy.core.multiarray failed to import",
          "output_type": "error",
          "traceback": [
            "\u001b[1;31m---------------------------------------------------------------------------\u001b[0m",
            "\u001b[1;31mImportError\u001b[0m                               Traceback (most recent call last)",
            "Cell \u001b[1;32mIn[1], line 2\u001b[0m\n\u001b[0;32m      1\u001b[0m \u001b[38;5;28;01mimport\u001b[39;00m \u001b[38;5;21;01mnumpy\u001b[39;00m \u001b[38;5;28;01mas\u001b[39;00m \u001b[38;5;21;01mnp\u001b[39;00m\n\u001b[1;32m----> 2\u001b[0m \u001b[38;5;28;01mimport\u001b[39;00m \u001b[38;5;21;01mmatplotlib\u001b[39;00m\u001b[38;5;21;01m.\u001b[39;00m\u001b[38;5;21;01mpyplot\u001b[39;00m \u001b[38;5;28;01mas\u001b[39;00m \u001b[38;5;21;01mplt\u001b[39;00m\n\u001b[0;32m      3\u001b[0m \u001b[38;5;28;01mimport\u001b[39;00m \u001b[38;5;21;01mpandas\u001b[39;00m \u001b[38;5;28;01mas\u001b[39;00m \u001b[38;5;21;01mpd\u001b[39;00m\n\u001b[0;32m      4\u001b[0m \u001b[38;5;28;01mimport\u001b[39;00m \u001b[38;5;21;01mnumpy\u001b[39;00m \u001b[38;5;28;01mas\u001b[39;00m \u001b[38;5;21;01mnp\u001b[39;00m\n",
            "File \u001b[1;32m~\\anaconda3\\Lib\\site-packages\\matplotlib\\__init__.py:129\u001b[0m\n\u001b[0;32m    125\u001b[0m \u001b[38;5;28;01mfrom\u001b[39;00m \u001b[38;5;21;01mpackaging\u001b[39;00m\u001b[38;5;21;01m.\u001b[39;00m\u001b[38;5;21;01mversion\u001b[39;00m \u001b[38;5;28;01mimport\u001b[39;00m parse \u001b[38;5;28;01mas\u001b[39;00m parse_version\n\u001b[0;32m    127\u001b[0m \u001b[38;5;66;03m# cbook must import matplotlib only within function\u001b[39;00m\n\u001b[0;32m    128\u001b[0m \u001b[38;5;66;03m# definitions, so it is safe to import from it here.\u001b[39;00m\n\u001b[1;32m--> 129\u001b[0m \u001b[38;5;28;01mfrom\u001b[39;00m \u001b[38;5;21;01m.\u001b[39;00m \u001b[38;5;28;01mimport\u001b[39;00m _api, _version, cbook, _docstring, rcsetup\n\u001b[0;32m    130\u001b[0m \u001b[38;5;28;01mfrom\u001b[39;00m \u001b[38;5;21;01mmatplotlib\u001b[39;00m\u001b[38;5;21;01m.\u001b[39;00m\u001b[38;5;21;01mcbook\u001b[39;00m \u001b[38;5;28;01mimport\u001b[39;00m sanitize_sequence\n\u001b[0;32m    131\u001b[0m \u001b[38;5;28;01mfrom\u001b[39;00m \u001b[38;5;21;01mmatplotlib\u001b[39;00m\u001b[38;5;21;01m.\u001b[39;00m\u001b[38;5;21;01m_api\u001b[39;00m \u001b[38;5;28;01mimport\u001b[39;00m MatplotlibDeprecationWarning\n",
            "File \u001b[1;32m~\\anaconda3\\Lib\\site-packages\\matplotlib\\rcsetup.py:27\u001b[0m\n\u001b[0;32m     25\u001b[0m \u001b[38;5;28;01mfrom\u001b[39;00m \u001b[38;5;21;01mmatplotlib\u001b[39;00m \u001b[38;5;28;01mimport\u001b[39;00m _api, cbook\n\u001b[0;32m     26\u001b[0m \u001b[38;5;28;01mfrom\u001b[39;00m \u001b[38;5;21;01mmatplotlib\u001b[39;00m\u001b[38;5;21;01m.\u001b[39;00m\u001b[38;5;21;01mcbook\u001b[39;00m \u001b[38;5;28;01mimport\u001b[39;00m ls_mapper\n\u001b[1;32m---> 27\u001b[0m \u001b[38;5;28;01mfrom\u001b[39;00m \u001b[38;5;21;01mmatplotlib\u001b[39;00m\u001b[38;5;21;01m.\u001b[39;00m\u001b[38;5;21;01mcolors\u001b[39;00m \u001b[38;5;28;01mimport\u001b[39;00m Colormap, is_color_like\n\u001b[0;32m     28\u001b[0m \u001b[38;5;28;01mfrom\u001b[39;00m \u001b[38;5;21;01mmatplotlib\u001b[39;00m\u001b[38;5;21;01m.\u001b[39;00m\u001b[38;5;21;01m_fontconfig_pattern\u001b[39;00m \u001b[38;5;28;01mimport\u001b[39;00m parse_fontconfig_pattern\n\u001b[0;32m     29\u001b[0m \u001b[38;5;28;01mfrom\u001b[39;00m \u001b[38;5;21;01mmatplotlib\u001b[39;00m\u001b[38;5;21;01m.\u001b[39;00m\u001b[38;5;21;01m_enums\u001b[39;00m \u001b[38;5;28;01mimport\u001b[39;00m JoinStyle, CapStyle\n",
            "File \u001b[1;32m~\\anaconda3\\Lib\\site-packages\\matplotlib\\colors.py:56\u001b[0m\n\u001b[0;32m     54\u001b[0m \u001b[38;5;28;01mimport\u001b[39;00m \u001b[38;5;21;01mmatplotlib\u001b[39;00m \u001b[38;5;28;01mas\u001b[39;00m \u001b[38;5;21;01mmpl\u001b[39;00m\n\u001b[0;32m     55\u001b[0m \u001b[38;5;28;01mimport\u001b[39;00m \u001b[38;5;21;01mnumpy\u001b[39;00m \u001b[38;5;28;01mas\u001b[39;00m \u001b[38;5;21;01mnp\u001b[39;00m\n\u001b[1;32m---> 56\u001b[0m \u001b[38;5;28;01mfrom\u001b[39;00m \u001b[38;5;21;01mmatplotlib\u001b[39;00m \u001b[38;5;28;01mimport\u001b[39;00m _api, _cm, cbook, scale\n\u001b[0;32m     57\u001b[0m \u001b[38;5;28;01mfrom\u001b[39;00m \u001b[38;5;21;01m.\u001b[39;00m\u001b[38;5;21;01m_color_data\u001b[39;00m \u001b[38;5;28;01mimport\u001b[39;00m BASE_COLORS, TABLEAU_COLORS, CSS4_COLORS, XKCD_COLORS\n\u001b[0;32m     60\u001b[0m \u001b[38;5;28;01mclass\u001b[39;00m \u001b[38;5;21;01m_ColorMapping\u001b[39;00m(\u001b[38;5;28mdict\u001b[39m):\n",
            "File \u001b[1;32m~\\anaconda3\\Lib\\site-packages\\matplotlib\\scale.py:22\u001b[0m\n\u001b[0;32m     20\u001b[0m \u001b[38;5;28;01mimport\u001b[39;00m \u001b[38;5;21;01mmatplotlib\u001b[39;00m \u001b[38;5;28;01mas\u001b[39;00m \u001b[38;5;21;01mmpl\u001b[39;00m\n\u001b[0;32m     21\u001b[0m \u001b[38;5;28;01mfrom\u001b[39;00m \u001b[38;5;21;01mmatplotlib\u001b[39;00m \u001b[38;5;28;01mimport\u001b[39;00m _api, _docstring\n\u001b[1;32m---> 22\u001b[0m \u001b[38;5;28;01mfrom\u001b[39;00m \u001b[38;5;21;01mmatplotlib\u001b[39;00m\u001b[38;5;21;01m.\u001b[39;00m\u001b[38;5;21;01mticker\u001b[39;00m \u001b[38;5;28;01mimport\u001b[39;00m (\n\u001b[0;32m     23\u001b[0m     NullFormatter, ScalarFormatter, LogFormatterSciNotation, LogitFormatter,\n\u001b[0;32m     24\u001b[0m     NullLocator, LogLocator, AutoLocator, AutoMinorLocator,\n\u001b[0;32m     25\u001b[0m     SymmetricalLogLocator, AsinhLocator, LogitLocator)\n\u001b[0;32m     26\u001b[0m \u001b[38;5;28;01mfrom\u001b[39;00m \u001b[38;5;21;01mmatplotlib\u001b[39;00m\u001b[38;5;21;01m.\u001b[39;00m\u001b[38;5;21;01mtransforms\u001b[39;00m \u001b[38;5;28;01mimport\u001b[39;00m Transform, IdentityTransform\n\u001b[0;32m     29\u001b[0m \u001b[38;5;28;01mclass\u001b[39;00m \u001b[38;5;21;01mScaleBase\u001b[39;00m:\n",
            "File \u001b[1;32m~\\anaconda3\\Lib\\site-packages\\matplotlib\\ticker.py:138\u001b[0m\n\u001b[0;32m    136\u001b[0m \u001b[38;5;28;01mimport\u001b[39;00m \u001b[38;5;21;01mmatplotlib\u001b[39;00m \u001b[38;5;28;01mas\u001b[39;00m \u001b[38;5;21;01mmpl\u001b[39;00m\n\u001b[0;32m    137\u001b[0m \u001b[38;5;28;01mfrom\u001b[39;00m \u001b[38;5;21;01mmatplotlib\u001b[39;00m \u001b[38;5;28;01mimport\u001b[39;00m _api, cbook\n\u001b[1;32m--> 138\u001b[0m \u001b[38;5;28;01mfrom\u001b[39;00m \u001b[38;5;21;01mmatplotlib\u001b[39;00m \u001b[38;5;28;01mimport\u001b[39;00m transforms \u001b[38;5;28;01mas\u001b[39;00m mtransforms\n\u001b[0;32m    140\u001b[0m _log \u001b[38;5;241m=\u001b[39m logging\u001b[38;5;241m.\u001b[39mgetLogger(\u001b[38;5;18m__name__\u001b[39m)\n\u001b[0;32m    142\u001b[0m __all__ \u001b[38;5;241m=\u001b[39m (\u001b[38;5;124m'\u001b[39m\u001b[38;5;124mTickHelper\u001b[39m\u001b[38;5;124m'\u001b[39m, \u001b[38;5;124m'\u001b[39m\u001b[38;5;124mFormatter\u001b[39m\u001b[38;5;124m'\u001b[39m, \u001b[38;5;124m'\u001b[39m\u001b[38;5;124mFixedFormatter\u001b[39m\u001b[38;5;124m'\u001b[39m,\n\u001b[0;32m    143\u001b[0m            \u001b[38;5;124m'\u001b[39m\u001b[38;5;124mNullFormatter\u001b[39m\u001b[38;5;124m'\u001b[39m, \u001b[38;5;124m'\u001b[39m\u001b[38;5;124mFuncFormatter\u001b[39m\u001b[38;5;124m'\u001b[39m, \u001b[38;5;124m'\u001b[39m\u001b[38;5;124mFormatStrFormatter\u001b[39m\u001b[38;5;124m'\u001b[39m,\n\u001b[0;32m    144\u001b[0m            \u001b[38;5;124m'\u001b[39m\u001b[38;5;124mStrMethodFormatter\u001b[39m\u001b[38;5;124m'\u001b[39m, \u001b[38;5;124m'\u001b[39m\u001b[38;5;124mScalarFormatter\u001b[39m\u001b[38;5;124m'\u001b[39m, \u001b[38;5;124m'\u001b[39m\u001b[38;5;124mLogFormatter\u001b[39m\u001b[38;5;124m'\u001b[39m,\n\u001b[1;32m   (...)\u001b[0m\n\u001b[0;32m    150\u001b[0m            \u001b[38;5;124m'\u001b[39m\u001b[38;5;124mMultipleLocator\u001b[39m\u001b[38;5;124m'\u001b[39m, \u001b[38;5;124m'\u001b[39m\u001b[38;5;124mMaxNLocator\u001b[39m\u001b[38;5;124m'\u001b[39m, \u001b[38;5;124m'\u001b[39m\u001b[38;5;124mAutoMinorLocator\u001b[39m\u001b[38;5;124m'\u001b[39m,\n\u001b[0;32m    151\u001b[0m            \u001b[38;5;124m'\u001b[39m\u001b[38;5;124mSymmetricalLogLocator\u001b[39m\u001b[38;5;124m'\u001b[39m, \u001b[38;5;124m'\u001b[39m\u001b[38;5;124mAsinhLocator\u001b[39m\u001b[38;5;124m'\u001b[39m, \u001b[38;5;124m'\u001b[39m\u001b[38;5;124mLogitLocator\u001b[39m\u001b[38;5;124m'\u001b[39m)\n",
            "File \u001b[1;32m~\\anaconda3\\Lib\\site-packages\\matplotlib\\transforms.py:49\u001b[0m\n\u001b[0;32m     46\u001b[0m \u001b[38;5;28;01mfrom\u001b[39;00m \u001b[38;5;21;01mnumpy\u001b[39;00m\u001b[38;5;21;01m.\u001b[39;00m\u001b[38;5;21;01mlinalg\u001b[39;00m \u001b[38;5;28;01mimport\u001b[39;00m inv\n\u001b[0;32m     48\u001b[0m \u001b[38;5;28;01mfrom\u001b[39;00m \u001b[38;5;21;01mmatplotlib\u001b[39;00m \u001b[38;5;28;01mimport\u001b[39;00m _api\n\u001b[1;32m---> 49\u001b[0m \u001b[38;5;28;01mfrom\u001b[39;00m \u001b[38;5;21;01mmatplotlib\u001b[39;00m\u001b[38;5;21;01m.\u001b[39;00m\u001b[38;5;21;01m_path\u001b[39;00m \u001b[38;5;28;01mimport\u001b[39;00m (\n\u001b[0;32m     50\u001b[0m     affine_transform, count_bboxes_overlapping_bbox, update_path_extents)\n\u001b[0;32m     51\u001b[0m \u001b[38;5;28;01mfrom\u001b[39;00m \u001b[38;5;21;01m.\u001b[39;00m\u001b[38;5;21;01mpath\u001b[39;00m \u001b[38;5;28;01mimport\u001b[39;00m Path\n\u001b[0;32m     53\u001b[0m DEBUG \u001b[38;5;241m=\u001b[39m \u001b[38;5;28;01mFalse\u001b[39;00m\n",
            "\u001b[1;31mImportError\u001b[0m: numpy.core.multiarray failed to import"
          ]
        }
      ],
      "source": [
        "import numpy as np\n",
        "import matplotlib.pyplot as plt\n",
        "import pandas as pd\n",
        "import numpy as np\n",
        "from sklearn.datasets import make_classification\n",
        "import matplotlib.pyplot as plt\n",
        "\n",
        "from sklearn.model_selection import train_test_split\n",
        "from sklearn.metrics import accuracy_score\n",
        "%config InlineBackend.figure_format = 'svg'\n",
        "plt.style.use('bmh')\n",
        "plt.rcParams['image.cmap'] = 'Paired_r'\n",
        "%matplotlib inline"
      ]
    },
    {
      "cell_type": "code",
      "execution_count": null,
      "id": "f9f84f3a3fbb32a",
      "metadata": {
        "ExecuteTime": {
          "end_time": "2024-04-24T09:21:47.560481Z",
          "start_time": "2024-04-24T09:21:47.352790Z"
        },
        "id": "f9f84f3a3fbb32a"
      },
      "outputs": [],
      "source": [
        "np.random.seed(5)\n",
        "\n",
        "def f(X):\n",
        "    X = X.copy()\n",
        "    X[:,0] -= 0.4\n",
        "    X[:,1] += 0.2\n",
        "    return 1.1*X[:,0]**2 + 0.3*X[:,1]**2 - 0.6*X[:,0]*X[:,1]\n",
        "def make_data():\n",
        "    N = 200\n",
        "    X = np.random.normal(size=(N, 2))\n",
        "    Y = f(X) < 0.5\n",
        "    X += np.random.normal(size=(N,2), scale=0.2)\n",
        "    return X, Y\n",
        "X, Y = make_data()\n",
        "\n",
        "\n",
        "plt.figure(figsize=(5,5))\n",
        "plt.scatter(X[:,0], X[:,1], c=Y, edgecolors='k');\n",
        "#dataset = pd.read_csv(\"data.csv\")\n",
        "#dataset"
      ]
    },
    {
      "cell_type": "code",
      "execution_count": null,
      "id": "c14945e7a5f8298a",
      "metadata": {
        "ExecuteTime": {
          "end_time": "2024-04-24T09:25:33.466025Z",
          "start_time": "2024-04-24T09:25:33.457678Z"
        },
        "id": "c14945e7a5f8298a"
      },
      "outputs": [],
      "source": [
        "from sklearn.preprocessing import LabelEncoder\n",
        "le = LabelEncoder()\n",
        "Y = le.fit_transform(Y)\n",
        "print(Y)"
      ]
    },
    {
      "cell_type": "code",
      "execution_count": null,
      "id": "23dbc3eff17c9312",
      "metadata": {
        "ExecuteTime": {
          "end_time": "2024-04-24T09:26:52.977484Z",
          "start_time": "2024-04-24T09:26:52.967874Z"
        },
        "id": "23dbc3eff17c9312"
      },
      "outputs": [],
      "source": [
        "def mapFeature(X1, X2, degree):\n",
        "    res = np.ones(X1.shape[0])\n",
        "    for i in range(1,degree + 1):\n",
        "        for j in range(0,i + 1):\n",
        "            res = np.column_stack((res, (X1 ** (i-j)) * (X2 ** j)))\n",
        "    return res\n",
        "degree=3\n",
        "Poly_X=mapFeature(X[:, 0],X[:, 1],degree)\n",
        "print(Poly_X)\n",
        "print(Poly_X.shape)"
      ]
    },
    {
      "cell_type": "code",
      "execution_count": null,
      "id": "accdeefb2d04ec9f",
      "metadata": {
        "ExecuteTime": {
          "end_time": "2024-04-24T09:27:13.108715Z",
          "start_time": "2024-04-24T09:27:13.101983Z"
        },
        "id": "accdeefb2d04ec9f"
      },
      "outputs": [],
      "source": [
        "# La fonction sigmoide\n",
        "def sigmoid(x):\n",
        "    return 1 / (1 + np.exp(-x))\n",
        "\n",
        "\n",
        "def initialisation(X):\n",
        "    np.random.seed(0)\n",
        "    W = np.random.randn(X.shape[1], 1)\n",
        "    b = np.random.randn(1)\n",
        "    return (W, b)\n",
        "\n",
        "\n",
        "# Modèle\n",
        "def modele(X, W, b):\n",
        "    Z = X.dot(W) + b\n",
        "    A = sigmoid(Z)\n",
        "    return A"
      ]
    },
    {
      "cell_type": "code",
      "execution_count": null,
      "id": "f324930cb17ca9e6",
      "metadata": {
        "ExecuteTime": {
          "end_time": "2024-04-24T09:27:20.356514Z",
          "start_time": "2024-04-24T09:27:20.351536Z"
        },
        "id": "f324930cb17ca9e6"
      },
      "outputs": [],
      "source": [
        "def log_loss(y, A):\n",
        "    return 1/len(y) * np.sum(-y * np.log(A) - (1 - y) * np.log(1 - A))"
      ]
    },
    {
      "cell_type": "code",
      "execution_count": null,
      "id": "a9bdd89624473b26",
      "metadata": {
        "ExecuteTime": {
          "end_time": "2024-04-24T09:27:27.588717Z",
          "start_time": "2024-04-24T09:27:27.582475Z"
        },
        "id": "a9bdd89624473b26"
      },
      "outputs": [],
      "source": [
        "def gradients(X, A, y):\n",
        "    dW = 1 / len(y) * np.dot(X.T, A - y)\n",
        "    db = 1 / len(y) * np.sum(A - y)\n",
        "    return (dW, db)\n",
        "\n",
        "\n",
        "def optimisation(X, W, b, A, y, learning_rate):\n",
        "    dW, db = gradients(X, A, y)\n",
        "    W = W - learning_rate * dW\n",
        "    b = b - learning_rate * db\n",
        "    return (W, b)"
      ]
    },
    {
      "cell_type": "code",
      "execution_count": null,
      "id": "f101aa7797d57849",
      "metadata": {
        "ExecuteTime": {
          "end_time": "2024-04-24T09:27:34.629802Z",
          "start_time": "2024-04-24T09:27:34.625606Z"
        },
        "id": "f101aa7797d57849"
      },
      "outputs": [],
      "source": [
        "def predict(X, W, b):\n",
        "    A = modele(X, W, b)\n",
        "    #print(A)\n",
        "    return A >= 0.5"
      ]
    },
    {
      "cell_type": "code",
      "execution_count": null,
      "id": "f79078dbfcb6f3eb",
      "metadata": {
        "ExecuteTime": {
          "end_time": "2024-04-24T09:58:18.078344Z",
          "start_time": "2024-04-24T09:58:18.071371Z"
        },
        "id": "f79078dbfcb6f3eb"
      },
      "outputs": [],
      "source": [
        "def regression_logistique(X, y, learning_rate=0.1, n_iter=1000):\n",
        "  # Initialisation\n",
        "    W, b = initialisation(X)\n",
        "    loss_history = []\n",
        "  # Entrainement\n",
        "    for i in range(n_iter):\n",
        "        A = modele(X, W, b)\n",
        "        loss_history.append(log_loss(y, A))\n",
        "        W, b = optimisation(X, W, b, A, y, learning_rate=0.1)\n",
        "\n",
        "  # Prediction\n",
        "    plt.plot(loss_history)\n",
        "    plt.xlabel('n_iteration')\n",
        "    plt.ylabel('Log_loss')\n",
        "    plt.title('Evolution des erreurs')\n",
        "    return W,b"
      ]
    },
    {
      "cell_type": "code",
      "execution_count": null,
      "id": "8a9923ab8800eabe",
      "metadata": {
        "ExecuteTime": {
          "end_time": "2024-04-24T09:59:49.654754Z",
          "start_time": "2024-04-24T09:59:47.043358Z"
        },
        "id": "8a9923ab8800eabe"
      },
      "outputs": [],
      "source": [
        "W,b=regression_logistique(Poly_X, Y)"
      ]
    },
    {
      "cell_type": "code",
      "execution_count": null,
      "id": "69309c1bff4268c2",
      "metadata": {
        "ExecuteTime": {
          "end_time": "2024-04-24T10:00:46.308409Z",
          "start_time": "2024-04-24T10:00:46.301949Z"
        },
        "id": "69309c1bff4268c2"
      },
      "outputs": [],
      "source": [
        "from sklearn.metrics import accuracy_score\n",
        "y_pred = predict(Poly_X, W, b)\n",
        "print(Y.shape,y_pred.shape)\n",
        "#print(\"Accuracy=\",np.round(accuracy_score(Y, y_pred)*100),'%')"
      ]
    },
    {
      "cell_type": "code",
      "execution_count": null,
      "id": "18bd991adb0f5d20",
      "metadata": {
        "id": "18bd991adb0f5d20"
      },
      "outputs": [],
      "source": []
    }
  ],
  "metadata": {
    "kernelspec": {
      "display_name": "Python 3 (ipykernel)",
      "language": "python",
      "name": "python3"
    },
    "language_info": {
      "codemirror_mode": {
        "name": "ipython",
        "version": 3
      },
      "file_extension": ".py",
      "mimetype": "text/x-python",
      "name": "python",
      "nbconvert_exporter": "python",
      "pygments_lexer": "ipython3",
      "version": "3.11.5"
    },
    "colab": {
      "provenance": []
    }
  },
  "nbformat": 4,
  "nbformat_minor": 5
}