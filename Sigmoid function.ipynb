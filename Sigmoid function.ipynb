{
 "cells": [
  {
   "cell_type": "code",
   "execution_count": 3,
   "id": "4177e3e4",
   "metadata": {},
   "outputs": [
    {
     "name": "stdout",
     "output_type": "stream",
     "text": [
      "basic_sigmoid(1) = 0.7310585786300049\n"
     ]
    }
   ],
   "source": [
    "## Implementation de la fonction Sigmoid ou l'input est un reel\n",
    "import math\n",
    "def basic_sigmoid(x):\n",
    "    s=1/(1+math.exp(-x))\n",
    "    return s\n",
    "print(\"basic_sigmoid(1) = \" + str(basic_sigmoid(1)))\n"
   ]
  },
  {
   "cell_type": "code",
   "execution_count": 5,
   "id": "6fb77ae5",
   "metadata": {},
   "outputs": [
    {
     "name": "stdout",
     "output_type": "stream",
     "text": [
      "sigmoid(t_x) = [0.73105858 0.88079708 0.95257413]\n"
     ]
    }
   ],
   "source": [
    "## Implementation de la fonction Sigmoid ou l'input est un vecteur\n",
    "# GRADED FUNCTION: sigmoid\n",
    "import numpy as np\n",
    "def sigmoid(x):  \n",
    "    s = 1/(1+np.exp(-x))    \n",
    "    return s\n",
    "t_x = np.array([1, 2, 3])\n",
    "print(\"sigmoid(t_x) = \" + str(sigmoid(t_x)))"
   ]
  },
  {
   "cell_type": "markdown",
   "id": "d09661a2",
   "metadata": {},
   "source": [
    "𝑠𝑖𝑔𝑚𝑜𝑖𝑑_𝑑𝑒𝑟𝑖𝑣𝑎𝑡𝑖𝑣𝑒(𝑥)=𝜎′(𝑥)=𝜎(𝑥)(1−𝜎(𝑥))\n",
    "You often code this function in two steps:\n",
    "1.Set s to be the sigmoid of x. You might find your sigmoid(x) function useful.\n",
    "2.Compute  𝜎′(𝑥)=𝑠(1−𝑠)"
   ]
  },
  {
   "cell_type": "code",
   "execution_count": 6,
   "id": "e16e3a10",
   "metadata": {},
   "outputs": [
    {
     "name": "stdout",
     "output_type": "stream",
     "text": [
      "sigmoid_derivative(t_x) = [0.19661193 0.10499359 0.04517666]\n"
     ]
    }
   ],
   "source": [
    "def sigmoid_derivative(x):\n",
    "    s=sigmoid(x)\n",
    "    ds=s*(1-s)\n",
    "    return ds\n",
    "t_x = np.array([1, 2, 3])\n",
    "print (\"sigmoid_derivative(t_x) = \" + str(sigmoid_derivative(t_x)))"
   ]
  },
  {
   "cell_type": "code",
   "execution_count": 8,
   "id": "96f6f9cc",
   "metadata": {},
   "outputs": [
    {
     "name": "stdout",
     "output_type": "stream",
     "text": [
      "normalizeRows(x) = [[0.         0.6        0.8       ]\n",
      " [0.13736056 0.82416338 0.54944226]]\n"
     ]
    }
   ],
   "source": [
    "##Normalizing rows:\n",
    "# GRADED FUNCTION: normalize_rows\n",
    "\n",
    "def normalize_rows(x):   \n",
    "    x_norm =np.linalg.norm(x,ord=2, axis=1, keepdims=True)\n",
    "    x/=x_norm\n",
    "    return x\n",
    "x = np.array([[0., 3., 4.],\n",
    "              [1., 6., 4.]])\n",
    "print(\"normalizeRows(x) = \" + str(normalize_rows(x)))"
   ]
  },
  {
   "cell_type": "code",
   "execution_count": 9,
   "id": "ce978749",
   "metadata": {},
   "outputs": [
    {
     "name": "stdout",
     "output_type": "stream",
     "text": [
      "softmax(x) = [[9.80897665e-01 8.94462891e-04 1.79657674e-02 1.21052389e-04\n",
      "  1.21052389e-04]\n",
      " [8.78679856e-01 1.18916387e-01 8.01252314e-04 8.01252314e-04\n",
      "  8.01252314e-04]]\n"
     ]
    }
   ],
   "source": [
    "#Softmax Function:\n",
    "\n",
    "def softmax(x):\n",
    "    x_exp=np.exp(x)\n",
    "    x_sum=np.sum(x_exp,axis=1,keepdims=True)\n",
    "    s=x_exp / x_sum\n",
    "    return s\n",
    "t_x = np.array([[9, 2, 5, 0, 0],\n",
    "                [7, 5, 0, 0 ,0]])\n",
    "print(\"softmax(x) = \" + str(softmax(t_x)))\n",
    "\n",
    "    \n"
   ]
  },
  {
   "cell_type": "markdown",
   "id": "3f63afca",
   "metadata": {},
   "source": [
    "# #Logistic Regression with a Neural Network mindset"
   ]
  },
  {
   "cell_type": "code",
   "execution_count": null,
   "id": "8d8f03bb",
   "metadata": {},
   "outputs": [],
   "source": [
    "import numpy as np\n",
    "import copy\n",
    "import matplotlib.pyplot as plt\n",
    "import h5py\n",
    "import scipy\n",
    "from PIL import Image\n",
    "from scipy import ndimage"
   ]
  },
  {
   "cell_type": "code",
   "execution_count": null,
   "id": "77cb8135",
   "metadata": {},
   "outputs": [],
   "source": [
    "# change this to the name of your image file\n",
    "my_image = \"my_image.jpg\"   \n",
    "\n",
    "# We preprocess the image to fit your algorithm.\n",
    "fname = \"images/\" + my_image\n",
    "image = np.array(Image.open(fname).resize((num_px, num_px)))\n",
    "plt.imshow(image)\n",
    "image = image / 255.\n",
    "image = image.reshape((1, num_px * num_px * 3)).T\n",
    "my_predicted_image = predict(logistic_regression_model[\"w\"], logistic_regression_model[\"b\"], image)\n",
    "\n",
    "print(\"y = \" + str(np.squeeze(my_predicted_image)) + \", your algorithm predicts a \\\"\" + classes[int(np.squeeze(my_predicted_image)),].decode(\"utf-8\") +  \"\\\" picture.\")"
   ]
  }
 ],
 "metadata": {
  "kernelspec": {
   "display_name": "Python 3 (ipykernel)",
   "language": "python",
   "name": "python3"
  },
  "language_info": {
   "codemirror_mode": {
    "name": "ipython",
    "version": 3
   },
   "file_extension": ".py",
   "mimetype": "text/x-python",
   "name": "python",
   "nbconvert_exporter": "python",
   "pygments_lexer": "ipython3",
   "version": "3.11.5"
  }
 },
 "nbformat": 4,
 "nbformat_minor": 5
}
