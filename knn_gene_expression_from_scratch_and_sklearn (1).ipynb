{
  "cells": [
    {
      "cell_type": "markdown",
      "id": "1f71f0d2",
      "metadata": {
        "id": "1f71f0d2"
      },
      "source": [
        "# KNN from scratch"
      ]
    },
    {
      "cell_type": "code",
      "execution_count": null,
      "id": "bded4bad",
      "metadata": {
        "id": "bded4bad"
      },
      "outputs": [],
      "source": [
        "import math\n",
        "import random\n",
        "import pandas as pd"
      ]
    },
    {
      "cell_type": "markdown",
      "id": "82025dd2",
      "metadata": {
        "id": "82025dd2"
      },
      "source": [
        "   ### Dataset\n"
      ]
    },
    {
      "cell_type": "code",
      "execution_count": null,
      "id": "4fa14039",
      "metadata": {
        "id": "4fa14039",
        "outputId": "da9bb5d9-a6d4-4885-b91a-4dc89e1c3402"
      },
      "outputs": [
        {
          "data": {
            "text/html": [
              "<div>\n",
              "<style scoped>\n",
              "    .dataframe tbody tr th:only-of-type {\n",
              "        vertical-align: middle;\n",
              "    }\n",
              "\n",
              "    .dataframe tbody tr th {\n",
              "        vertical-align: top;\n",
              "    }\n",
              "\n",
              "    .dataframe thead th {\n",
              "        text-align: right;\n",
              "    }\n",
              "</style>\n",
              "<table border=\"1\" class=\"dataframe\">\n",
              "  <thead>\n",
              "    <tr style=\"text-align: right;\">\n",
              "      <th></th>\n",
              "      <th>Gene One</th>\n",
              "      <th>Gene Two</th>\n",
              "      <th>Cancer Present</th>\n",
              "    </tr>\n",
              "  </thead>\n",
              "  <tbody>\n",
              "    <tr>\n",
              "      <th>0</th>\n",
              "      <td>4.3</td>\n",
              "      <td>3.9</td>\n",
              "      <td>1</td>\n",
              "    </tr>\n",
              "    <tr>\n",
              "      <th>1</th>\n",
              "      <td>2.5</td>\n",
              "      <td>6.3</td>\n",
              "      <td>0</td>\n",
              "    </tr>\n",
              "    <tr>\n",
              "      <th>2</th>\n",
              "      <td>5.7</td>\n",
              "      <td>3.9</td>\n",
              "      <td>1</td>\n",
              "    </tr>\n",
              "    <tr>\n",
              "      <th>3</th>\n",
              "      <td>6.1</td>\n",
              "      <td>6.2</td>\n",
              "      <td>0</td>\n",
              "    </tr>\n",
              "    <tr>\n",
              "      <th>4</th>\n",
              "      <td>7.4</td>\n",
              "      <td>3.4</td>\n",
              "      <td>1</td>\n",
              "    </tr>\n",
              "  </tbody>\n",
              "</table>\n",
              "</div>"
            ],
            "text/plain": [
              "   Gene One  Gene Two  Cancer Present\n",
              "0       4.3       3.9               1\n",
              "1       2.5       6.3               0\n",
              "2       5.7       3.9               1\n",
              "3       6.1       6.2               0\n",
              "4       7.4       3.4               1"
            ]
          },
          "execution_count": 2,
          "metadata": {},
          "output_type": "execute_result"
        }
      ],
      "source": [
        "dataset = pd.read_csv(\"gene_expression.csv\")\n",
        "dataset.head()"
      ]
    },
    {
      "cell_type": "code",
      "execution_count": null,
      "id": "64823e3a",
      "metadata": {
        "id": "64823e3a",
        "outputId": "365a138e-a38c-4f48-833c-4896218adc4b"
      },
      "outputs": [
        {
          "name": "stdout",
          "output_type": "stream",
          "text": [
            "classes: [0, 1]\n",
            "\n",
            "number_of_records: 3000\n"
          ]
        }
      ],
      "source": [
        "# Get unique classes\n",
        "classes = list(set(dataset['Cancer Present']))\n",
        "print('classes:',classes)\n",
        "number_of_class = len(classes)\n",
        "print('\\nnumber_of_records:',len(dataset))"
      ]
    },
    {
      "cell_type": "markdown",
      "id": "acbb7fdc",
      "metadata": {
        "id": "acbb7fdc"
      },
      "source": [
        "### Dataset d'entrainement et de test\n"
      ]
    },
    {
      "cell_type": "code",
      "execution_count": null,
      "id": "13147f8a",
      "metadata": {
        "id": "13147f8a"
      },
      "outputs": [],
      "source": [
        "# Getting random indexes\n",
        "indexes = random.sample(range(0, 3000), 3000)\n",
        "\n",
        "train = []\n",
        "test = []\n",
        "\n",
        "# Splting into training and testing\n",
        "for i in range(2400):\n",
        "    train.append(dataset.iloc[indexes[i]])\n",
        "\n",
        "for i in range(2400,3000):\n",
        "    test.append(dataset.iloc[indexes[i]])\n",
        "# Normalizing data\n",
        "from sklearn.preprocessing import Normalizer\n",
        "scaler= Normalizer().fit(train)\n",
        "train= scaler.transform(train)\n",
        "test= scaler.transform(test)"
      ]
    },
    {
      "cell_type": "markdown",
      "id": "54c831ef",
      "metadata": {
        "id": "54c831ef"
      },
      "source": [
        "### La fonction de la distance euclidiènne KNN\n",
        " Cette fonction implémente l'algorithme KNN pour classifier un exemple de test en se basant sur les k exemples les plus proches dans l'ensemble de données d'entraînement."
      ]
    },
    {
      "cell_type": "code",
      "execution_count": null,
      "id": "44112d49",
      "metadata": {
        "id": "44112d49"
      },
      "outputs": [],
      "source": [
        "def knn(training_dataset, test, k):\n",
        "\n",
        "    # Euclidean Distance\n",
        "\n",
        "    # ED = list(np.sqrt(np.sum(np.square(training_dataset[:,0:-1] - test[0:-1]), axis = 1)))\n",
        "    ED = []\n",
        "    for i in range(len(training_dataset)):\n",
        "\n",
        "        add = 0.0\n",
        "        for j in range(3):\n",
        "            add +=((training_dataset[i][j]-test[j])**2 )\n",
        "\n",
        "        ED.append(math.sqrt(add))\n",
        "\n",
        "    sorted_ED = sorted(ED)\n",
        "\n",
        "    KNN = []\n",
        "    for i in range(k):\n",
        "        index = ED.index(sorted_ED[i])\n",
        "        KNN.append(training_dataset[index][-1])\n",
        "    return KNN"
      ]
    },
    {
      "cell_type": "markdown",
      "id": "f73fc7fc",
      "metadata": {
        "id": "f73fc7fc"
      },
      "source": [
        "### L'appel de la fonction KNN"
      ]
    },
    {
      "cell_type": "code",
      "execution_count": null,
      "id": "4df70017",
      "metadata": {
        "id": "4df70017"
      },
      "outputs": [],
      "source": [
        "\n",
        "k = 5\n",
        "\n",
        "# Creating new Datafra\n",
        "result = pd.DataFrame(columns=['Gene_one','Gene_two','predicted_class','actual_class','neighbours(K)','cancer','no_cancer'])\n",
        "\n",
        "for i in range(len(test)):\n",
        "    KNN = knn(train, test[i], k)\n",
        "\n",
        "    cancer=0\n",
        "    no_cancer=0\n",
        "    for element in KNN:\n",
        "        if element ==0:\n",
        "            no_cancer +=1\n",
        "        if element ==1:\n",
        "            cancer +=1\n",
        "\n",
        "    unique_counts = [no_cancer,cancer]\n",
        "    unique_values = ['no_cancer','cancer']\n",
        "    result.loc[i] = [test[i][0],test[i][1], unique_values[int(unique_counts.index(max(unique_counts)))],\n",
        "                     unique_values[int(test[i][2])],k,no_cancer,cancer]\n",
        "\n"
      ]
    },
    {
      "cell_type": "code",
      "execution_count": null,
      "id": "5079655c",
      "metadata": {
        "id": "5079655c",
        "outputId": "0d4b67d9-5a5b-4631-e7e3-c04ec98ca355"
      },
      "outputs": [
        {
          "data": {
            "text/html": [
              "<div>\n",
              "<style scoped>\n",
              "    .dataframe tbody tr th:only-of-type {\n",
              "        vertical-align: middle;\n",
              "    }\n",
              "\n",
              "    .dataframe tbody tr th {\n",
              "        vertical-align: top;\n",
              "    }\n",
              "\n",
              "    .dataframe thead th {\n",
              "        text-align: right;\n",
              "    }\n",
              "</style>\n",
              "<table border=\"1\" class=\"dataframe\">\n",
              "  <thead>\n",
              "    <tr style=\"text-align: right;\">\n",
              "      <th></th>\n",
              "      <th>Gene_one</th>\n",
              "      <th>Gene_two</th>\n",
              "      <th>predicted_class</th>\n",
              "      <th>actual_class</th>\n",
              "      <th>neighbours(K)</th>\n",
              "      <th>cancer</th>\n",
              "      <th>no_cancer</th>\n",
              "    </tr>\n",
              "  </thead>\n",
              "  <tbody>\n",
              "    <tr>\n",
              "      <th>0</th>\n",
              "      <td>0.324685</td>\n",
              "      <td>0.945822</td>\n",
              "      <td>no_cancer</td>\n",
              "      <td>no_cancer</td>\n",
              "      <td>5</td>\n",
              "      <td>5</td>\n",
              "      <td>0</td>\n",
              "    </tr>\n",
              "    <tr>\n",
              "      <th>1</th>\n",
              "      <td>0.619286</td>\n",
              "      <td>0.785166</td>\n",
              "      <td>no_cancer</td>\n",
              "      <td>no_cancer</td>\n",
              "      <td>5</td>\n",
              "      <td>5</td>\n",
              "      <td>0</td>\n",
              "    </tr>\n",
              "    <tr>\n",
              "      <th>2</th>\n",
              "      <td>0.637147</td>\n",
              "      <td>0.770742</td>\n",
              "      <td>no_cancer</td>\n",
              "      <td>no_cancer</td>\n",
              "      <td>5</td>\n",
              "      <td>5</td>\n",
              "      <td>0</td>\n",
              "    </tr>\n",
              "    <tr>\n",
              "      <th>3</th>\n",
              "      <td>0.381488</td>\n",
              "      <td>0.924374</td>\n",
              "      <td>no_cancer</td>\n",
              "      <td>no_cancer</td>\n",
              "      <td>5</td>\n",
              "      <td>5</td>\n",
              "      <td>0</td>\n",
              "    </tr>\n",
              "    <tr>\n",
              "      <th>4</th>\n",
              "      <td>0.384615</td>\n",
              "      <td>0.923077</td>\n",
              "      <td>no_cancer</td>\n",
              "      <td>no_cancer</td>\n",
              "      <td>5</td>\n",
              "      <td>5</td>\n",
              "      <td>0</td>\n",
              "    </tr>\n",
              "    <tr>\n",
              "      <th>...</th>\n",
              "      <td>...</td>\n",
              "      <td>...</td>\n",
              "      <td>...</td>\n",
              "      <td>...</td>\n",
              "      <td>...</td>\n",
              "      <td>...</td>\n",
              "      <td>...</td>\n",
              "    </tr>\n",
              "    <tr>\n",
              "      <th>595</th>\n",
              "      <td>0.806004</td>\n",
              "      <td>0.591910</td>\n",
              "      <td>no_cancer</td>\n",
              "      <td>no_cancer</td>\n",
              "      <td>5</td>\n",
              "      <td>5</td>\n",
              "      <td>0</td>\n",
              "    </tr>\n",
              "    <tr>\n",
              "      <th>596</th>\n",
              "      <td>0.494839</td>\n",
              "      <td>0.868985</td>\n",
              "      <td>no_cancer</td>\n",
              "      <td>no_cancer</td>\n",
              "      <td>5</td>\n",
              "      <td>5</td>\n",
              "      <td>0</td>\n",
              "    </tr>\n",
              "    <tr>\n",
              "      <th>597</th>\n",
              "      <td>0.557434</td>\n",
              "      <td>0.830221</td>\n",
              "      <td>no_cancer</td>\n",
              "      <td>no_cancer</td>\n",
              "      <td>5</td>\n",
              "      <td>5</td>\n",
              "      <td>0</td>\n",
              "    </tr>\n",
              "    <tr>\n",
              "      <th>598</th>\n",
              "      <td>0.538662</td>\n",
              "      <td>0.842522</td>\n",
              "      <td>no_cancer</td>\n",
              "      <td>no_cancer</td>\n",
              "      <td>5</td>\n",
              "      <td>5</td>\n",
              "      <td>0</td>\n",
              "    </tr>\n",
              "    <tr>\n",
              "      <th>599</th>\n",
              "      <td>0.754606</td>\n",
              "      <td>0.656179</td>\n",
              "      <td>no_cancer</td>\n",
              "      <td>no_cancer</td>\n",
              "      <td>5</td>\n",
              "      <td>5</td>\n",
              "      <td>0</td>\n",
              "    </tr>\n",
              "  </tbody>\n",
              "</table>\n",
              "<p>600 rows × 7 columns</p>\n",
              "</div>"
            ],
            "text/plain": [
              "     Gene_one  Gene_two predicted_class actual_class  neighbours(K)  cancer  \\\n",
              "0    0.324685  0.945822       no_cancer    no_cancer              5       5   \n",
              "1    0.619286  0.785166       no_cancer    no_cancer              5       5   \n",
              "2    0.637147  0.770742       no_cancer    no_cancer              5       5   \n",
              "3    0.381488  0.924374       no_cancer    no_cancer              5       5   \n",
              "4    0.384615  0.923077       no_cancer    no_cancer              5       5   \n",
              "..        ...       ...             ...          ...            ...     ...   \n",
              "595  0.806004  0.591910       no_cancer    no_cancer              5       5   \n",
              "596  0.494839  0.868985       no_cancer    no_cancer              5       5   \n",
              "597  0.557434  0.830221       no_cancer    no_cancer              5       5   \n",
              "598  0.538662  0.842522       no_cancer    no_cancer              5       5   \n",
              "599  0.754606  0.656179       no_cancer    no_cancer              5       5   \n",
              "\n",
              "     no_cancer  \n",
              "0            0  \n",
              "1            0  \n",
              "2            0  \n",
              "3            0  \n",
              "4            0  \n",
              "..         ...  \n",
              "595          0  \n",
              "596          0  \n",
              "597          0  \n",
              "598          0  \n",
              "599          0  \n",
              "\n",
              "[600 rows x 7 columns]"
            ]
          },
          "execution_count": 7,
          "metadata": {},
          "output_type": "execute_result"
        }
      ],
      "source": [
        "result"
      ]
    },
    {
      "cell_type": "markdown",
      "id": "040c8ac1",
      "metadata": {
        "id": "040c8ac1"
      },
      "source": [
        "## Evaluation du modèle\n",
        "### Accuracy\n"
      ]
    },
    {
      "cell_type": "code",
      "execution_count": null,
      "id": "868ae5e9",
      "metadata": {
        "id": "868ae5e9"
      },
      "outputs": [],
      "source": [
        "accuracy_data = result['actual_class']==result['predicted_class']\n",
        "\n",
        "true = 0\n",
        "false = 0\n",
        "for bool_value in accuracy_data:\n",
        "    if(bool_value == True):\n",
        "        true+=1\n",
        "    else:\n",
        "        false+=1"
      ]
    },
    {
      "cell_type": "code",
      "execution_count": null,
      "id": "7f16feaf",
      "metadata": {
        "id": "7f16feaf"
      },
      "outputs": [],
      "source": [
        "accuracy = true/len(accuracy_data)"
      ]
    },
    {
      "cell_type": "code",
      "execution_count": null,
      "id": "61c23f1c",
      "metadata": {
        "id": "61c23f1c",
        "outputId": "5ee648e7-f96d-4f20-86fe-3aaa1180eee7"
      },
      "outputs": [
        {
          "data": {
            "text/plain": [
              "1.0"
            ]
          },
          "execution_count": 10,
          "metadata": {},
          "output_type": "execute_result"
        }
      ],
      "source": [
        "accuracy"
      ]
    },
    {
      "cell_type": "markdown",
      "id": "b690620d",
      "metadata": {
        "id": "b690620d"
      },
      "source": [
        "# KNN from sklearn"
      ]
    },
    {
      "cell_type": "code",
      "execution_count": null,
      "id": "16c0103b",
      "metadata": {
        "id": "16c0103b"
      },
      "outputs": [],
      "source": [
        "X = dataset[['Gene One', 'Gene Two']].values\n",
        "y = dataset['Cancer Present'].values"
      ]
    },
    {
      "cell_type": "code",
      "execution_count": null,
      "id": "be8b5ac9",
      "metadata": {
        "id": "be8b5ac9",
        "outputId": "d7864199-25a7-4d28-97d1-5226a6b7b370"
      },
      "outputs": [
        {
          "data": {
            "text/plain": [
              "2400"
            ]
          },
          "execution_count": 12,
          "metadata": {},
          "output_type": "execute_result"
        }
      ],
      "source": [
        "from sklearn.model_selection import train_test_split\n",
        "X_train, X_test, y_train, y_test = train_test_split(X, y, test_size = 0.2, random_state = 0)\n",
        "len(X_train)"
      ]
    },
    {
      "cell_type": "code",
      "execution_count": null,
      "id": "4094c7bc",
      "metadata": {
        "id": "4094c7bc"
      },
      "outputs": [],
      "source": [
        "# Normalizing data\n",
        "from sklearn.preprocessing import Normalizer\n",
        "scaler= Normalizer().fit(X_train)\n",
        "normalized_x_train= scaler.transform(X_train)\n",
        "normalized_x_test= scaler.transform(X_test)"
      ]
    },
    {
      "cell_type": "code",
      "execution_count": null,
      "id": "824b89c6",
      "metadata": {
        "id": "824b89c6"
      },
      "outputs": [],
      "source": [
        "#standerizing data\n",
        "from sklearn.preprocessing import StandardScaler\n",
        "standScaler=StandardScaler()"
      ]
    },
    {
      "cell_type": "code",
      "execution_count": null,
      "id": "78b75f14",
      "metadata": {
        "id": "78b75f14"
      },
      "outputs": [],
      "source": [
        "# Fitting clasifier to the Training set\n",
        "# Loading libraries\n",
        "from sklearn.neighbors import KNeighborsClassifier\n",
        "from sklearn.metrics import confusion_matrix, accuracy_score\n",
        "from sklearn.model_selection import cross_val_score\n",
        "\n",
        "# Instantiate learning model (k = 5)\n",
        "classifier = KNeighborsClassifier(n_neighbors=5)\n",
        "\n",
        "# Fitting the model\n",
        "classifier.fit(normalized_x_train, y_train)\n",
        "\n",
        "# Predicting the Test set results\n",
        "y_pred = classifier.predict(normalized_x_test)"
      ]
    },
    {
      "cell_type": "code",
      "execution_count": null,
      "id": "bc57037a",
      "metadata": {
        "id": "bc57037a",
        "outputId": "6d94695b-c8a3-49dd-aa9d-e68b558c2c8a"
      },
      "outputs": [
        {
          "data": {
            "text/plain": [
              "array([[253,  45],\n",
              "       [ 49, 253]], dtype=int64)"
            ]
          },
          "execution_count": 16,
          "metadata": {},
          "output_type": "execute_result"
        }
      ],
      "source": [
        "#Evaluating predictions\n",
        "cm = confusion_matrix(y_test, y_pred)\n",
        "cm"
      ]
    },
    {
      "cell_type": "code",
      "execution_count": null,
      "id": "1d511488",
      "metadata": {
        "id": "1d511488",
        "outputId": "2a12f540-e9fb-47e1-eef4-a6f56da5096b"
      },
      "outputs": [
        {
          "data": {
            "image/png": "[encoded data removed]",
            "text/plain": [
              "<Figure size 640x480 with 2 Axes>"
            ]
          },
          "metadata": {},
          "output_type": "display_data"
        }
      ],
      "source": [
        "# Plot confusion matrix\n",
        "import seaborn as sns\n",
        "import pandas as pd\n",
        "import matplotlib.pyplot as plt\n",
        "# confusion matrix sns heatmap\n",
        "## https://www.kaggle.com/agungor2/various-confusion-matrix-plots\n",
        "ax = plt.axes()\n",
        "df_cm = cm\n",
        "sns.heatmap(df_cm, annot=True, annot_kws={\"size\": 30}, fmt='d',cmap=\"Blues\", ax = ax )\n",
        "ax.set_title('Confusion Matrix')\n",
        "plt.show()"
      ]
    },
    {
      "cell_type": "code",
      "execution_count": null,
      "id": "112e1a00",
      "metadata": {
        "id": "112e1a00",
        "outputId": "31e940a7-9f6f-4cb2-8294-3d396e245b7d"
      },
      "outputs": [
        {
          "name": "stdout",
          "output_type": "stream",
          "text": [
            "0.8433333333333334\n"
          ]
        }
      ],
      "source": [
        "from sklearn.metrics import accuracy_score\n",
        "accuracy = accuracy_score(y_test, y_pred)\n",
        "\n",
        "print(accuracy)"
      ]
    },
    {
      "cell_type": "code",
      "execution_count": null,
      "id": "2b2023e6",
      "metadata": {
        "id": "2b2023e6"
      },
      "outputs": [],
      "source": [
        "#Using cross-validation for parameter tuning\n",
        "# creating list of K for KNN\n",
        "k_list = list(range(1,50,2))\n",
        "# creating list of cv scores\n",
        "cv_scores = []\n",
        "\n",
        "# perform 10-fold cross validation\n",
        "for k in k_list:\n",
        "    knn = KNeighborsClassifier(n_neighbors=k)\n",
        "    scores = cross_val_score(knn, normalized_x_train, y_train, cv=10, scoring='accuracy')\n",
        "    cv_scores.append(scores.mean())\n",
        "\n",
        "#from scipy import stats\n",
        "#stats.mode(a, keepdims=True)"
      ]
    },
    {
      "cell_type": "code",
      "execution_count": null,
      "id": "8d04cd97",
      "metadata": {
        "id": "8d04cd97",
        "outputId": "0cfc149a-916e-41dc-b2f3-9f580f20a322"
      },
      "outputs": [
        {
          "data": {
            "text/plain": [
              "<Figure size 640x480 with 0 Axes>"
            ]
          },
          "metadata": {},
          "output_type": "display_data"
        },
        {
          "data": {
            "image/png": "[encoded data removed]",
            "text/plain": [
              "<Figure size 1500x1000 with 1 Axes>"
            ]
          },
          "metadata": {},
          "output_type": "display_data"
        }
      ],
      "source": [
        "# changing to misclassification error\n",
        "MSE = [1 - x for x in cv_scores]\n",
        "\n",
        "plt.figure()\n",
        "plt.figure(figsize=(15,10))\n",
        "plt.title('The optimal number of neighbors', fontsize=20, fontweight='bold')\n",
        "plt.xlabel('Number of Neighbors K', fontsize=15)\n",
        "plt.ylabel('Misclassification Error', fontsize=15)\n",
        "sns.set_style(\"whitegrid\")\n",
        "plt.plot(k_list, MSE)\n",
        "\n",
        "plt.show()"
      ]
    },
    {
      "cell_type": "code",
      "execution_count": null,
      "id": "1fdb367f",
      "metadata": {
        "id": "1fdb367f",
        "outputId": "38c061df-b4c6-4e55-c038-c01e0b477d37"
      },
      "outputs": [
        {
          "name": "stdout",
          "output_type": "stream",
          "text": [
            "The optimal number of neighbors is 49.\n"
          ]
        }
      ],
      "source": [
        " #finding best k\n",
        "best_k = k_list[MSE.index(min(MSE))]\n",
        "print(\"The optimal number of neighbors is %d.\" % best_k)"
      ]
    },
    {
      "cell_type": "code",
      "execution_count": null,
      "id": "4fac5c87",
      "metadata": {
        "id": "4fac5c87"
      },
      "outputs": [],
      "source": []
    }
  ],
  "metadata": {
    "kernelspec": {
      "display_name": "Python 3 (ipykernel)",
      "language": "python",
      "name": "python3"
    },
    "language_info": {
      "codemirror_mode": {
        "name": "ipython",
        "version": 3
      },
      "file_extension": ".py",
      "mimetype": "text/x-python",
      "name": "python",
      "nbconvert_exporter": "python",
      "pygments_lexer": "ipython3",
      "version": "3.11.5"
    },
    "colab": {
      "provenance": []
    }
  },
  "nbformat": 4,
  "nbformat_minor": 5
}