{
 "cells": [
  {
   "cell_type": "code",
   "execution_count": 334,
   "id": "0c258fce",
   "metadata": {},
   "outputs": [],
   "source": [
    "import numpy as np\n",
    "import pandas as pd\n",
    "import matplotlib.pyplot as plt\n",
    "import seaborn as sns"
   ]
  },
  {
   "cell_type": "code",
   "execution_count": 335,
   "id": "5bd3f678",
   "metadata": {},
   "outputs": [],
   "source": [
    "# chargement du dataset\n",
    "df = pd.read_csv(\"iris.csv\")"
   ]
  },
  {
   "cell_type": "code",
   "execution_count": 336,
   "id": "5c4070e9",
   "metadata": {},
   "outputs": [
    {
     "data": {
      "text/html": [
       "<div>\n",
       "<style scoped>\n",
       "    .dataframe tbody tr th:only-of-type {\n",
       "        vertical-align: middle;\n",
       "    }\n",
       "\n",
       "    .dataframe tbody tr th {\n",
       "        vertical-align: top;\n",
       "    }\n",
       "\n",
       "    .dataframe thead th {\n",
       "        text-align: right;\n",
       "    }\n",
       "</style>\n",
       "<table border=\"1\" class=\"dataframe\">\n",
       "  <thead>\n",
       "    <tr style=\"text-align: right;\">\n",
       "      <th></th>\n",
       "      <th>sepal_length</th>\n",
       "      <th>sepal_width</th>\n",
       "      <th>petal_length</th>\n",
       "      <th>petal_width</th>\n",
       "      <th>class</th>\n",
       "    </tr>\n",
       "  </thead>\n",
       "  <tbody>\n",
       "    <tr>\n",
       "      <th>0</th>\n",
       "      <td>5.1</td>\n",
       "      <td>3.5</td>\n",
       "      <td>1.4</td>\n",
       "      <td>0.2</td>\n",
       "      <td>Iris-setosa</td>\n",
       "    </tr>\n",
       "    <tr>\n",
       "      <th>1</th>\n",
       "      <td>4.9</td>\n",
       "      <td>3.0</td>\n",
       "      <td>1.4</td>\n",
       "      <td>0.2</td>\n",
       "      <td>Iris-setosa</td>\n",
       "    </tr>\n",
       "    <tr>\n",
       "      <th>2</th>\n",
       "      <td>4.7</td>\n",
       "      <td>3.2</td>\n",
       "      <td>1.3</td>\n",
       "      <td>0.2</td>\n",
       "      <td>Iris-setosa</td>\n",
       "    </tr>\n",
       "    <tr>\n",
       "      <th>3</th>\n",
       "      <td>4.6</td>\n",
       "      <td>3.1</td>\n",
       "      <td>1.5</td>\n",
       "      <td>0.2</td>\n",
       "      <td>Iris-setosa</td>\n",
       "    </tr>\n",
       "    <tr>\n",
       "      <th>4</th>\n",
       "      <td>5.0</td>\n",
       "      <td>3.6</td>\n",
       "      <td>1.4</td>\n",
       "      <td>0.2</td>\n",
       "      <td>Iris-setosa</td>\n",
       "    </tr>\n",
       "  </tbody>\n",
       "</table>\n",
       "</div>"
      ],
      "text/plain": [
       "   sepal_length  sepal_width  petal_length  petal_width        class\n",
       "0           5.1          3.5           1.4          0.2  Iris-setosa\n",
       "1           4.9          3.0           1.4          0.2  Iris-setosa\n",
       "2           4.7          3.2           1.3          0.2  Iris-setosa\n",
       "3           4.6          3.1           1.5          0.2  Iris-setosa\n",
       "4           5.0          3.6           1.4          0.2  Iris-setosa"
      ]
     },
     "execution_count": 336,
     "metadata": {},
     "output_type": "execute_result"
    }
   ],
   "source": [
    "df.head()"
   ]
  },
  {
   "cell_type": "code",
   "execution_count": 337,
   "id": "91268fec",
   "metadata": {},
   "outputs": [],
   "source": [
    "X = df['petal_length']\n",
    "y=df['sepal_width']"
   ]
  },
  {
   "cell_type": "code",
   "execution_count": 338,
   "id": "311a0a57",
   "metadata": {},
   "outputs": [
    {
     "data": {
      "text/plain": [
       "0      1.4\n",
       "1      1.4\n",
       "2      1.3\n",
       "3      1.5\n",
       "4      1.4\n",
       "      ... \n",
       "145    5.2\n",
       "146    5.0\n",
       "147    5.2\n",
       "148    5.4\n",
       "149    5.1\n",
       "Name: petal_length, Length: 150, dtype: float64"
      ]
     },
     "execution_count": 338,
     "metadata": {},
     "output_type": "execute_result"
    }
   ],
   "source": [
    "X"
   ]
  },
  {
   "cell_type": "code",
   "execution_count": 339,
   "id": "8a3ad3ab",
   "metadata": {},
   "outputs": [
    {
     "data": {
      "text/plain": [
       "0      3.5\n",
       "1      3.0\n",
       "2      3.2\n",
       "3      3.1\n",
       "4      3.6\n",
       "      ... \n",
       "145    3.0\n",
       "146    2.5\n",
       "147    3.0\n",
       "148    3.4\n",
       "149    3.0\n",
       "Name: sepal_width, Length: 150, dtype: float64"
      ]
     },
     "execution_count": 339,
     "metadata": {},
     "output_type": "execute_result"
    }
   ],
   "source": [
    "y"
   ]
  },
  {
   "cell_type": "code",
   "execution_count": 340,
   "id": "8709924c",
   "metadata": {},
   "outputs": [],
   "source": [
    "from sklearn.preprocessing import PolynomialFeatures"
   ]
  },
  {
   "cell_type": "code",
   "execution_count": 341,
   "id": "03e0dea7",
   "metadata": {},
   "outputs": [],
   "source": [
    "polynomial_converter = PolynomialFeatures(degree=6,include_bias=True)"
   ]
  },
  {
   "cell_type": "code",
   "execution_count": 342,
   "id": "13a38c7c",
   "metadata": {},
   "outputs": [],
   "source": [
    "# Le convertisseur s'adapte aux données, dans ce cas, il lit chaque colonne X.\n",
    "# Puis il \"transforme\" et sort les nouvelles données polynomiales.\n",
    "#Reshape your data either using array.reshape(-1, 1) if your data has a single feature or array.\n",
    "#reshape(1, -1) if it contains a single sample.\n",
    "#\n",
    "X=X.values.reshape(-1, 1)\n"
   ]
  },
  {
   "cell_type": "code",
   "execution_count": 343,
   "id": "6da757ce",
   "metadata": {},
   "outputs": [],
   "source": [
    "# Le convertisseur s'adapte aux données, dans ce cas, il lit chaque colonne X.\n",
    "# Puis il \"transforme\" et sort les nouvelles données polynomiales.\n",
    "poly_features = polynomial_converter.fit_transform(X) "
   ]
  },
  {
   "cell_type": "code",
   "execution_count": 344,
   "id": "b768e066",
   "metadata": {},
   "outputs": [
    {
     "data": {
      "text/plain": [
       "(150, 7)"
      ]
     },
     "execution_count": 344,
     "metadata": {},
     "output_type": "execute_result"
    }
   ],
   "source": [
    "poly_features.shape"
   ]
  },
  {
   "cell_type": "code",
   "execution_count": 345,
   "id": "ca381594",
   "metadata": {},
   "outputs": [
    {
     "data": {
      "text/plain": [
       "array([1.4])"
      ]
     },
     "execution_count": 345,
     "metadata": {},
     "output_type": "execute_result"
    }
   ],
   "source": [
    "X[0]"
   ]
  },
  {
   "cell_type": "code",
   "execution_count": 346,
   "id": "bdf49be1",
   "metadata": {},
   "outputs": [
    {
     "data": {
      "text/plain": [
       "array([1.      , 1.4     , 1.96    , 2.744   , 3.8416  , 5.37824 ,\n",
       "       7.529536])"
      ]
     },
     "execution_count": 346,
     "metadata": {},
     "output_type": "execute_result"
    }
   ],
   "source": [
    "poly_features[0]"
   ]
  },
  {
   "cell_type": "code",
   "execution_count": 347,
   "id": "88a9bd90",
   "metadata": {},
   "outputs": [
    {
     "data": {
      "image/png": "[encoded data removed]",
      "text/plain": [
       "<Figure size 640x480 with 1 Axes>"
      ]
     },
     "metadata": {},
     "output_type": "display_data"
    }
   ],
   "source": [
    "plt.plot(y,X,'o')\n",
    "plt.xlabel('petal_length')\n",
    "plt.ylabel('sepal_width')\n",
    "plt.show()"
   ]
  },
  {
   "cell_type": "code",
   "execution_count": 348,
   "id": "0f4b9f18",
   "metadata": {},
   "outputs": [
    {
     "data": {
      "text/plain": [
       "(150, 1)"
      ]
     },
     "execution_count": 348,
     "metadata": {},
     "output_type": "execute_result"
    }
   ],
   "source": [
    "X.shape"
   ]
  },
  {
   "cell_type": "code",
   "execution_count": 349,
   "id": "90079162",
   "metadata": {},
   "outputs": [
    {
     "data": {
      "text/plain": [
       "array([1.4])"
      ]
     },
     "execution_count": 349,
     "metadata": {},
     "output_type": "execute_result"
    }
   ],
   "source": [
    "X[0]"
   ]
  },
  {
   "cell_type": "code",
   "execution_count": 350,
   "id": "d06073b2",
   "metadata": {},
   "outputs": [
    {
     "data": {
      "text/plain": [
       "array([1.      , 1.4     , 1.96    , 2.744   , 3.8416  , 5.37824 ,\n",
       "       7.529536])"
      ]
     },
     "execution_count": 350,
     "metadata": {},
     "output_type": "execute_result"
    }
   ],
   "source": [
    "poly_features[0]"
   ]
  },
  {
   "cell_type": "code",
   "execution_count": 351,
   "id": "fc2001d4",
   "metadata": {},
   "outputs": [],
   "source": [
    "from sklearn.model_selection import train_test_split"
   ]
  },
  {
   "cell_type": "code",
   "execution_count": 352,
   "id": "3d226e20",
   "metadata": {},
   "outputs": [],
   "source": [
    "# Spliting the data\n",
    "# random_state: \n",
    "# https://stackoverflow.com/questions/28064634/random-state-pseudo-random-number-in-scikit-learn\n",
    "X_train, X_test, y_train, y_test = train_test_split(poly_features, y, test_size=0.3, random_state=101)"
   ]
  },
  {
   "cell_type": "code",
   "execution_count": 353,
   "id": "b2c90a22",
   "metadata": {},
   "outputs": [],
   "source": [
    "from sklearn.linear_model import LinearRegression"
   ]
  },
  {
   "cell_type": "code",
   "execution_count": 354,
   "id": "ae5dcd32",
   "metadata": {},
   "outputs": [],
   "source": [
    "model = LinearRegression(fit_intercept=True)"
   ]
  },
  {
   "cell_type": "code",
   "execution_count": 355,
   "id": "37baa006",
   "metadata": {},
   "outputs": [
    {
     "data": {
      "text/plain": [
       "LinearRegression()"
      ]
     },
     "execution_count": 355,
     "metadata": {},
     "output_type": "execute_result"
    }
   ],
   "source": [
    "model.fit(X_train,y_train)"
   ]
  },
  {
   "cell_type": "code",
   "execution_count": 356,
   "id": "59e3ef2c",
   "metadata": {},
   "outputs": [],
   "source": [
    "test_predictions = model.predict(X_test)\n",
    "train_predictions = model.predict(X_train)\n",
    "predictions=model.predict(poly_features)"
   ]
  },
  {
   "cell_type": "code",
   "execution_count": 357,
   "id": "de118bc5",
   "metadata": {},
   "outputs": [
    {
     "data": {
      "image/png": "[encoded data removed]",
      "text/plain": [
       "<Figure size 640x480 with 1 Axes>"
      ]
     },
     "metadata": {},
     "output_type": "display_data"
    }
   ],
   "source": [
    "plt.plot(df['petal_length'], df['sepal_width'],'o', label='Dataset')\n",
    "plt.plot(df['petal_length'], predictions,'o', label='modèle')\n",
    "plt.xlabel('Petal lenght')\n",
    "plt.ylabel('Sepal width')\n",
    "plt.legend()\n",
    "plt.show()"
   ]
  },
  {
   "cell_type": "code",
   "execution_count": 358,
   "id": "24e60ea5",
   "metadata": {},
   "outputs": [],
   "source": [
    "from sklearn.metrics import mean_absolute_error,mean_squared_error\n",
    "MAE = mean_absolute_error(y_test,test_predictions)\n",
    "MSE = mean_squared_error(y_test,test_predictions)\n",
    "RMSE = np.sqrt(MSE)"
   ]
  },
  {
   "cell_type": "code",
   "execution_count": 359,
   "id": "835e189c",
   "metadata": {},
   "outputs": [
    {
     "data": {
      "text/plain": [
       "0.28012979543507766"
      ]
     },
     "execution_count": 359,
     "metadata": {},
     "output_type": "execute_result"
    }
   ],
   "source": [
    "MAE"
   ]
  },
  {
   "cell_type": "code",
   "execution_count": 360,
   "id": "14808978",
   "metadata": {},
   "outputs": [
    {
     "data": {
      "text/plain": [
       "0.13567696698723042"
      ]
     },
     "execution_count": 360,
     "metadata": {},
     "output_type": "execute_result"
    }
   ],
   "source": [
    "MSE"
   ]
  },
  {
   "cell_type": "code",
   "execution_count": 361,
   "id": "fb3041fb",
   "metadata": {},
   "outputs": [
    {
     "data": {
      "text/plain": [
       "0.3683435447883272"
      ]
     },
     "execution_count": 361,
     "metadata": {},
     "output_type": "execute_result"
    }
   ],
   "source": [
    "RMSE"
   ]
  },
  {
   "cell_type": "code",
   "execution_count": 362,
   "id": "0214e7bc",
   "metadata": {},
   "outputs": [],
   "source": [
    "# ERREUR D'ENTRAÎNEMENT PAR DEGRÉ\n",
    "train_rmse_errors = []\n",
    "# ERREUR DE TEST PAR DEGRÉ\n",
    "test_rmse_errors = []\n",
    "\n",
    "for d in range(1,10):\n",
    "    \n",
    "    # CRÉER DATA SET POLY POUR DEGRÉ \"d\"\n",
    "    polynomial_converter = PolynomialFeatures(degree=d,include_bias=True)\n",
    "    poly_features = polynomial_converter.fit_transform(X)\n",
    "    \n",
    "    # DIVISER CE NOUVEAU DATA SET POLY\n",
    "    X_train, X_test, y_train, y_test = train_test_split(poly_features, y, test_size=0.3, random_state=101)\n",
    "    \n",
    "    # ENTRAÎNER SUR CE NOUVEAU SET POLY\n",
    "    model = LinearRegression(fit_intercept=True)\n",
    "    model.fit(X_train,y_train)\n",
    "    \n",
    "    # PRÉDIRE À LA FOIS SUR TRAIN ET SUR TEST\n",
    "    train_pred = model.predict(X_train)\n",
    "    test_pred = model.predict(X_test)\n",
    "    \n",
    "    # Calcul des erreurs\n",
    "    \n",
    "    # Erreurs sur Training Set\n",
    "    train_RMSE = np.sqrt(mean_squared_error(y_train,train_pred))\n",
    "    \n",
    "    # Erreurs sur test Set\n",
    "    test_RMSE = np.sqrt(mean_squared_error(y_test,test_pred))\n",
    "\n",
    "    # Ajoutez (append) les erreurs à des listes pour les tracer ultérieurement\n",
    "    \n",
    "    train_rmse_errors.append(train_RMSE)\n",
    "    test_rmse_errors.append(test_RMSE)"
   ]
  },
  {
   "cell_type": "code",
   "execution_count": 363,
   "id": "3b20b2c2",
   "metadata": {},
   "outputs": [
    {
     "data": {
      "image/png": "[encoded data removed]",
      "text/plain": [
       "<Figure size 640x480 with 1 Axes>"
      ]
     },
     "metadata": {},
     "output_type": "display_data"
    }
   ],
   "source": [
    "# Affichage de l'erreur RMSE en fonction du degré du modèle polynomial: de degré 1 à 5\n",
    "plt.plot(range(1,6),train_rmse_errors[:5],label='TRAIN')\n",
    "plt.plot(range(1,6),test_rmse_errors[:5],label='TEST')\n",
    "plt.xlabel(\"Complexité Polynomiale\")\n",
    "plt.ylabel(\"RMSE\")\n",
    "plt.legend();"
   ]
  },
  {
   "cell_type": "code",
   "execution_count": 364,
   "id": "202a377c",
   "metadata": {},
   "outputs": [
    {
     "data": {
      "image/png": "[encoded data removed]",
      "text/plain": [
       "<Figure size 640x480 with 1 Axes>"
      ]
     },
     "metadata": {},
     "output_type": "display_data"
    }
   ],
   "source": [
    "# Affichage de l'erreur RMSE en fonction du degré du modèle polynomial: de degré 1 à 9\n",
    "plt.plot(range(1,10),train_rmse_errors,label='TRAIN')\n",
    "plt.plot(range(1,10),test_rmse_errors,label='TEST')\n",
    "plt.xlabel(\"Complexité Polynomiale\")\n",
    "plt.ylabel(\"RMSE\")\n",
    "plt.legend();"
   ]
  },
  {
   "cell_type": "code",
   "execution_count": 365,
   "id": "7589000a",
   "metadata": {},
   "outputs": [
    {
     "data": {
      "text/plain": [
       "array([2.91552114, 3.15708458, 2.6857784 , 3.4742569 , 2.50416216,\n",
       "       2.62496182, 3.42575173, 2.92951991, 3.436182  , 2.49084195,\n",
       "       3.12278077, 2.65540099, 3.4742569 , 3.4742569 , 2.82126303,\n",
       "       3.436182  , 2.79704653, 2.94695005, 3.05764465, 2.79704653,\n",
       "       3.17217467, 2.79704653, 3.4742569 , 2.92951991, 3.08937172,\n",
       "       2.79704653, 3.0005959 , 2.82126303, 3.19104987, 3.34028732,\n",
       "       3.436182  , 3.4742569 , 2.82126303, 3.436182  , 3.46712549,\n",
       "       3.46712549, 3.22291813, 3.4742569 , 3.42575173, 2.86599149,\n",
       "       2.86599149, 3.46712549, 3.17217467, 3.19104987, 3.22291813,\n",
       "       2.90818511, 3.27666202, 2.51934906, 3.15708458, 3.436182  ,\n",
       "       3.436182  , 2.90818511, 3.05764465, 3.4742569 , 2.65540099,\n",
       "       3.42575173, 2.79704653, 3.18322865, 3.34028732, 3.05764465,\n",
       "       2.84414902, 2.88718079, 3.08937172, 3.4742569 , 3.0005959 ,\n",
       "       3.436182  , 2.6857784 , 2.92951991, 3.34028732, 2.65540099,\n",
       "       3.436182  , 3.05764465, 2.84414902, 3.24148917, 3.436182  ,\n",
       "       3.08937172, 3.27019407, 2.92951991, 2.86599149, 3.4742569 ,\n",
       "       3.4742569 , 2.88718079, 2.88718079, 3.27666202, 2.62496182,\n",
       "       3.27867768, 2.9752627 , 2.9752627 , 2.92951991, 3.436182  ,\n",
       "       2.92951991, 3.42575173, 2.92951991, 2.51934906, 2.95171269,\n",
       "       3.05764465, 3.34028732, 3.02801501, 2.77133664, 2.77133664,\n",
       "       2.84414902, 2.86599149, 2.56700782, 3.46712549, 2.71549602])"
      ]
     },
     "execution_count": 365,
     "metadata": {},
     "output_type": "execute_result"
    }
   ],
   "source": [
    "train_predictions"
   ]
  },
  {
   "cell_type": "code",
   "execution_count": 366,
   "id": "91c9e749",
   "metadata": {},
   "outputs": [
    {
     "data": {
      "text/plain": [
       "array([3.436182  , 3.34028732, 3.46712549, 3.12278077, 2.84414902,\n",
       "       2.88718079, 2.79704653, 2.65540099, 2.90818511, 3.436182  ,\n",
       "       2.95171269, 3.4742569 , 3.4742569 , 3.18322865, 2.88718079,\n",
       "       2.74411046, 2.6857784 , 2.71549602, 3.34028732, 3.05764465,\n",
       "       2.59520511, 3.4742569 , 2.77133664, 2.77133664, 2.74411046,\n",
       "       2.54136149, 2.49084195, 2.92951991, 3.46712549, 3.34028732,\n",
       "       3.12278077, 2.65540099, 3.02801501, 2.62496182, 3.02801501,\n",
       "       2.79704653, 2.84414902, 2.71549602, 2.71549602, 3.22291813,\n",
       "       3.4742569 , 2.55193423, 3.46712549, 2.90818511, 2.79704653])"
      ]
     },
     "execution_count": 366,
     "metadata": {},
     "output_type": "execute_result"
    }
   ],
   "source": [
    "test_predictions"
   ]
  },
  {
   "cell_type": "code",
   "execution_count": 367,
   "id": "c637aee7",
   "metadata": {},
   "outputs": [],
   "source": [
    "from sklearn.metrics import mean_squared_error, r2_score"
   ]
  },
  {
   "cell_type": "code",
   "execution_count": 368,
   "id": "56ab4949",
   "metadata": {},
   "outputs": [
    {
     "data": {
      "text/plain": [
       "0.3267023032173173"
      ]
     },
     "execution_count": 368,
     "metadata": {},
     "output_type": "execute_result"
    }
   ],
   "source": [
    "r2_test = r2_score(y_test, test_predictions)\n",
    "r2_test"
   ]
  },
  {
   "cell_type": "code",
   "execution_count": 369,
   "id": "643de4c9",
   "metadata": {},
   "outputs": [
    {
     "data": {
      "text/plain": [
       "0.48101854656310217"
      ]
     },
     "execution_count": 369,
     "metadata": {},
     "output_type": "execute_result"
    }
   ],
   "source": [
    "r2_train = r2_score(y_train, train_predictions)\n",
    "r2_train"
   ]
  },
  {
   "cell_type": "code",
   "execution_count": 370,
   "id": "0b88ae48",
   "metadata": {},
   "outputs": [
    {
     "data": {
      "image/png": "[encoded data removed]",
      "text/plain": [
       "<Figure size 640x480 with 1 Axes>"
      ]
     },
     "metadata": {},
     "output_type": "display_data"
    }
   ],
   "source": [
    "plt.plot(y_test,'o',label='y_test')\n",
    "plt.plot(test_predictions,'o', label='y_tes_pred')\n",
    "plt.xlabel('Exemples')\n",
    "plt.ylabel('Largeur')\n",
    "plt.legend\n",
    "plt.show()"
   ]
  },
  {
   "cell_type": "code",
   "execution_count": null,
   "id": "6ca10c75",
   "metadata": {},
   "outputs": [],
   "source": []
  },
  {
   "cell_type": "code",
   "execution_count": null,
   "id": "9d0d60a8",
   "metadata": {},
   "outputs": [],
   "source": []
  },
  {
   "cell_type": "code",
   "execution_count": null,
   "id": "a343b6ac",
   "metadata": {},
   "outputs": [],
   "source": []
  }
 ],
 "metadata": {
  "kernelspec": {
   "display_name": "Python 3 (ipykernel)",
   "language": "python",
   "name": "python3"
  },
  "language_info": {
   "codemirror_mode": {
    "name": "ipython",
    "version": 3
   },
   "file_extension": ".py",
   "mimetype": "text/x-python",
   "name": "python",
   "nbconvert_exporter": "python",
   "pygments_lexer": "ipython3",
   "version": "3.11.5"
  }
 },
 "nbformat": 4,
 "nbformat_minor": 5
}
