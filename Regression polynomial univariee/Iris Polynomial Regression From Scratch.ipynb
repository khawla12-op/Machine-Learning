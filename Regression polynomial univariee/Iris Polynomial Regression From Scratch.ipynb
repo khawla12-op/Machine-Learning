{
 "cells": [
  {
   "cell_type": "markdown",
   "id": "952e8adb",
   "metadata": {},
   "source": [
    "# Regression Linéaire Simple du dataset Iris - Gradient Descent"
   ]
  },
  {
   "cell_type": "code",
   "execution_count": 28,
   "id": "4aaf4dbc",
   "metadata": {},
   "outputs": [],
   "source": [
    "import pandas as pd\n",
    "import numpy as np\n",
    "import matplotlib.pyplot as plt\n",
    "%matplotlib inline"
   ]
  },
  {
   "cell_type": "markdown",
   "id": "52aab10c",
   "metadata": {},
   "source": [
    "## 1. Dataset\n",
    "Chargement du dataset Iris pour effectuer les prédictions de la largeur des pétales en fonction de longueur des pétales"
   ]
  },
  {
   "cell_type": "code",
   "execution_count": 29,
   "id": "fd4ad33b",
   "metadata": {},
   "outputs": [],
   "source": [
    "dataset=pd.read_csv(\"iris.csv\")"
   ]
  },
  {
   "cell_type": "code",
   "execution_count": 30,
   "id": "b1933fdf",
   "metadata": {},
   "outputs": [
    {
     "data": {
      "text/html": [
       "<div>\n",
       "<style scoped>\n",
       "    .dataframe tbody tr th:only-of-type {\n",
       "        vertical-align: middle;\n",
       "    }\n",
       "\n",
       "    .dataframe tbody tr th {\n",
       "        vertical-align: top;\n",
       "    }\n",
       "\n",
       "    .dataframe thead th {\n",
       "        text-align: right;\n",
       "    }\n",
       "</style>\n",
       "<table border=\"1\" class=\"dataframe\">\n",
       "  <thead>\n",
       "    <tr style=\"text-align: right;\">\n",
       "      <th></th>\n",
       "      <th>sepal_length</th>\n",
       "      <th>sepal_width</th>\n",
       "      <th>petal_length</th>\n",
       "      <th>petal_width</th>\n",
       "      <th>class</th>\n",
       "    </tr>\n",
       "  </thead>\n",
       "  <tbody>\n",
       "    <tr>\n",
       "      <th>0</th>\n",
       "      <td>5.1</td>\n",
       "      <td>3.5</td>\n",
       "      <td>1.4</td>\n",
       "      <td>0.2</td>\n",
       "      <td>Iris-setosa</td>\n",
       "    </tr>\n",
       "    <tr>\n",
       "      <th>1</th>\n",
       "      <td>4.9</td>\n",
       "      <td>3.0</td>\n",
       "      <td>1.4</td>\n",
       "      <td>0.2</td>\n",
       "      <td>Iris-setosa</td>\n",
       "    </tr>\n",
       "    <tr>\n",
       "      <th>2</th>\n",
       "      <td>4.7</td>\n",
       "      <td>3.2</td>\n",
       "      <td>1.3</td>\n",
       "      <td>0.2</td>\n",
       "      <td>Iris-setosa</td>\n",
       "    </tr>\n",
       "    <tr>\n",
       "      <th>3</th>\n",
       "      <td>4.6</td>\n",
       "      <td>3.1</td>\n",
       "      <td>1.5</td>\n",
       "      <td>0.2</td>\n",
       "      <td>Iris-setosa</td>\n",
       "    </tr>\n",
       "    <tr>\n",
       "      <th>4</th>\n",
       "      <td>5.0</td>\n",
       "      <td>3.6</td>\n",
       "      <td>1.4</td>\n",
       "      <td>0.2</td>\n",
       "      <td>Iris-setosa</td>\n",
       "    </tr>\n",
       "  </tbody>\n",
       "</table>\n",
       "</div>"
      ],
      "text/plain": [
       "   sepal_length  sepal_width  petal_length  petal_width        class\n",
       "0           5.1          3.5           1.4          0.2  Iris-setosa\n",
       "1           4.9          3.0           1.4          0.2  Iris-setosa\n",
       "2           4.7          3.2           1.3          0.2  Iris-setosa\n",
       "3           4.6          3.1           1.5          0.2  Iris-setosa\n",
       "4           5.0          3.6           1.4          0.2  Iris-setosa"
      ]
     },
     "execution_count": 30,
     "metadata": {},
     "output_type": "execute_result"
    }
   ],
   "source": [
    "dataset.head()"
   ]
  },
  {
   "cell_type": "code",
   "execution_count": 31,
   "id": "7b6ad56e",
   "metadata": {},
   "outputs": [
    {
     "data": {
      "image/png": "[encoded data removed]",
      "text/plain": [
       "<Figure size 640x480 with 1 Axes>"
      ]
     },
     "metadata": {},
     "output_type": "display_data"
    }
   ],
   "source": [
    "plt.plot(dataset[\"sepal_width\"],dataset[\"petal_length\"],'o')\n",
    "plt.xlabel('petal_length')\n",
    "plt.ylabel('sepal_width')\n",
    "plt.show()"
   ]
  },
  {
   "cell_type": "code",
   "execution_count": 32,
   "id": "dc5a27ae",
   "metadata": {},
   "outputs": [
    {
     "data": {
      "text/html": [
       "<div>\n",
       "<style scoped>\n",
       "    .dataframe tbody tr th:only-of-type {\n",
       "        vertical-align: middle;\n",
       "    }\n",
       "\n",
       "    .dataframe tbody tr th {\n",
       "        vertical-align: top;\n",
       "    }\n",
       "\n",
       "    .dataframe thead th {\n",
       "        text-align: right;\n",
       "    }\n",
       "</style>\n",
       "<table border=\"1\" class=\"dataframe\">\n",
       "  <thead>\n",
       "    <tr style=\"text-align: right;\">\n",
       "      <th></th>\n",
       "      <th>petal_length</th>\n",
       "      <th>sepal_width</th>\n",
       "    </tr>\n",
       "  </thead>\n",
       "  <tbody>\n",
       "    <tr>\n",
       "      <th>0</th>\n",
       "      <td>1.4</td>\n",
       "      <td>3.5</td>\n",
       "    </tr>\n",
       "    <tr>\n",
       "      <th>1</th>\n",
       "      <td>1.4</td>\n",
       "      <td>3.0</td>\n",
       "    </tr>\n",
       "    <tr>\n",
       "      <th>2</th>\n",
       "      <td>1.3</td>\n",
       "      <td>3.2</td>\n",
       "    </tr>\n",
       "    <tr>\n",
       "      <th>3</th>\n",
       "      <td>1.5</td>\n",
       "      <td>3.1</td>\n",
       "    </tr>\n",
       "    <tr>\n",
       "      <th>4</th>\n",
       "      <td>1.4</td>\n",
       "      <td>3.6</td>\n",
       "    </tr>\n",
       "    <tr>\n",
       "      <th>...</th>\n",
       "      <td>...</td>\n",
       "      <td>...</td>\n",
       "    </tr>\n",
       "    <tr>\n",
       "      <th>145</th>\n",
       "      <td>5.2</td>\n",
       "      <td>3.0</td>\n",
       "    </tr>\n",
       "    <tr>\n",
       "      <th>146</th>\n",
       "      <td>5.0</td>\n",
       "      <td>2.5</td>\n",
       "    </tr>\n",
       "    <tr>\n",
       "      <th>147</th>\n",
       "      <td>5.2</td>\n",
       "      <td>3.0</td>\n",
       "    </tr>\n",
       "    <tr>\n",
       "      <th>148</th>\n",
       "      <td>5.4</td>\n",
       "      <td>3.4</td>\n",
       "    </tr>\n",
       "    <tr>\n",
       "      <th>149</th>\n",
       "      <td>5.1</td>\n",
       "      <td>3.0</td>\n",
       "    </tr>\n",
       "  </tbody>\n",
       "</table>\n",
       "<p>150 rows × 2 columns</p>\n",
       "</div>"
      ],
      "text/plain": [
       "     petal_length  sepal_width\n",
       "0             1.4          3.5\n",
       "1             1.4          3.0\n",
       "2             1.3          3.2\n",
       "3             1.5          3.1\n",
       "4             1.4          3.6\n",
       "..            ...          ...\n",
       "145           5.2          3.0\n",
       "146           5.0          2.5\n",
       "147           5.2          3.0\n",
       "148           5.4          3.4\n",
       "149           5.1          3.0\n",
       "\n",
       "[150 rows x 2 columns]"
      ]
     },
     "execution_count": 32,
     "metadata": {},
     "output_type": "execute_result"
    }
   ],
   "source": [
    "df=dataset[['petal_length','sepal_width']]\n",
    "df"
   ]
  },
  {
   "cell_type": "code",
   "execution_count": 33,
   "id": "b5c2d3ff",
   "metadata": {},
   "outputs": [],
   "source": [
    "\n",
    "x=dataset.petal_length\n",
    "y=dataset.sepal_width\n"
   ]
  },
  {
   "cell_type": "code",
   "execution_count": 34,
   "id": "946c2c7e",
   "metadata": {},
   "outputs": [
    {
     "data": {
      "text/plain": [
       "0      1.4\n",
       "1      1.4\n",
       "2      1.3\n",
       "3      1.5\n",
       "4      1.4\n",
       "      ... \n",
       "145    5.2\n",
       "146    5.0\n",
       "147    5.2\n",
       "148    5.4\n",
       "149    5.1\n",
       "Name: petal_length, Length: 150, dtype: float64"
      ]
     },
     "execution_count": 34,
     "metadata": {},
     "output_type": "execute_result"
    }
   ],
   "source": [
    "x"
   ]
  },
  {
   "cell_type": "code",
   "execution_count": 35,
   "id": "53cf6861",
   "metadata": {},
   "outputs": [
    {
     "data": {
      "text/plain": [
       "(150,)"
      ]
     },
     "execution_count": 35,
     "metadata": {},
     "output_type": "execute_result"
    }
   ],
   "source": [
    "x.shape"
   ]
  },
  {
   "cell_type": "code",
   "execution_count": 36,
   "id": "df2012da",
   "metadata": {},
   "outputs": [
    {
     "data": {
      "text/plain": [
       "0      3.5\n",
       "1      3.0\n",
       "2      3.2\n",
       "3      3.1\n",
       "4      3.6\n",
       "      ... \n",
       "145    3.0\n",
       "146    2.5\n",
       "147    3.0\n",
       "148    3.4\n",
       "149    3.0\n",
       "Name: sepal_width, Length: 150, dtype: float64"
      ]
     },
     "execution_count": 36,
     "metadata": {},
     "output_type": "execute_result"
    }
   ],
   "source": [
    "y"
   ]
  },
  {
   "cell_type": "code",
   "execution_count": 37,
   "id": "96f1cead",
   "metadata": {},
   "outputs": [
    {
     "data": {
      "text/plain": [
       "(150,)"
      ]
     },
     "execution_count": 37,
     "metadata": {},
     "output_type": "execute_result"
    }
   ],
   "source": [
    "y.shape"
   ]
  },
  {
   "cell_type": "markdown",
   "id": "107cf286",
   "metadata": {},
   "source": [
    "Important: Après avoir vérifié les dimensions de x et y, On remarque que y n'a pas les dimensions (150, 1) et x n'a pas les dimensions (150,2). On corrige le problème avec np.reshape et values."
   ]
  },
  {
   "cell_type": "code",
   "execution_count": 38,
   "id": "0cda34fb",
   "metadata": {},
   "outputs": [
    {
     "data": {
      "text/plain": [
       "array([1.4, 1.4, 1.3, 1.5, 1.4, 1.7, 1.4, 1.5, 1.4, 1.5, 1.5, 1.6, 1.4,\n",
       "       1.1, 1.2, 1.5, 1.3, 1.4, 1.7, 1.5, 1.7, 1.5, 1. , 1.7, 1.9, 1.6,\n",
       "       1.6, 1.5, 1.4, 1.6, 1.6, 1.5, 1.5, 1.4, 1.5, 1.2, 1.3, 1.5, 1.3,\n",
       "       1.5, 1.3, 1.3, 1.3, 1.6, 1.9, 1.4, 1.6, 1.4, 1.5, 1.4, 4.7, 4.5,\n",
       "       4.9, 4. , 4.6, 4.5, 4.7, 3.3, 4.6, 3.9, 3.5, 4.2, 4. , 4.7, 3.6,\n",
       "       4.4, 4.5, 4.1, 4.5, 3.9, 4.8, 4. , 4.9, 4.7, 4.3, 4.4, 4.8, 5. ,\n",
       "       4.5, 3.5, 3.8, 3.7, 3.9, 5.1, 4.5, 4.5, 4.7, 4.4, 4.1, 4. , 4.4,\n",
       "       4.6, 4. , 3.3, 4.2, 4.2, 4.2, 4.3, 3. , 4.1, 6. , 5.1, 5.9, 5.6,\n",
       "       5.8, 6.6, 4.5, 6.3, 5.8, 6.1, 5.1, 5.3, 5.5, 5. , 5.1, 5.3, 5.5,\n",
       "       6.7, 6.9, 5. , 5.7, 4.9, 6.7, 4.9, 5.7, 6. , 4.8, 4.9, 5.6, 5.8,\n",
       "       6.1, 6.4, 5.6, 5.1, 5.6, 6.1, 5.6, 5.5, 4.8, 5.4, 5.6, 5.1, 5.1,\n",
       "       5.9, 5.7, 5.2, 5. , 5.2, 5.4, 5.1])"
      ]
     },
     "execution_count": 38,
     "metadata": {},
     "output_type": "execute_result"
    }
   ],
   "source": [
    "X=dataset.petal_length.values\n",
    "Y=dataset.sepal_width.values\n",
    "X"
   ]
  },
  {
   "cell_type": "code",
   "execution_count": 39,
   "id": "a111c214",
   "metadata": {},
   "outputs": [
    {
     "data": {
      "text/plain": [
       "(150,)"
      ]
     },
     "execution_count": 39,
     "metadata": {},
     "output_type": "execute_result"
    }
   ],
   "source": [
    "X.shape"
   ]
  },
  {
   "cell_type": "code",
   "execution_count": 40,
   "id": "eb4f57d7",
   "metadata": {},
   "outputs": [],
   "source": [
    "x=dataset.petal_length.values.reshape(150,1)\n",
    "y=dataset.sepal_width.values.reshape(150,1)"
   ]
  },
  {
   "cell_type": "code",
   "execution_count": 41,
   "id": "0594ec56",
   "metadata": {},
   "outputs": [
    {
     "name": "stdout",
     "output_type": "stream",
     "text": [
      "(150, 1)\n",
      "(150, 1)\n",
      "[[3.5]\n",
      " [3. ]\n",
      " [3.2]\n",
      " [3.1]\n",
      " [3.6]\n",
      " [3.9]\n",
      " [3.4]\n",
      " [3.4]\n",
      " [2.9]\n",
      " [3.1]\n",
      " [3.7]\n",
      " [3.4]\n",
      " [3. ]\n",
      " [3. ]\n",
      " [4. ]\n",
      " [4.4]\n",
      " [3.9]\n",
      " [3.5]\n",
      " [3.8]\n",
      " [3.8]\n",
      " [3.4]\n",
      " [3.7]\n",
      " [3.6]\n",
      " [3.3]\n",
      " [3.4]\n",
      " [3. ]\n",
      " [3.4]\n",
      " [3.5]\n",
      " [3.4]\n",
      " [3.2]\n",
      " [3.1]\n",
      " [3.4]\n",
      " [4.1]\n",
      " [4.2]\n",
      " [3.1]\n",
      " [3.2]\n",
      " [3.5]\n",
      " [3.1]\n",
      " [3. ]\n",
      " [3.4]\n",
      " [3.5]\n",
      " [2.3]\n",
      " [3.2]\n",
      " [3.5]\n",
      " [3.8]\n",
      " [3. ]\n",
      " [3.8]\n",
      " [3.2]\n",
      " [3.7]\n",
      " [3.3]\n",
      " [3.2]\n",
      " [3.2]\n",
      " [3.1]\n",
      " [2.3]\n",
      " [2.8]\n",
      " [2.8]\n",
      " [3.3]\n",
      " [2.4]\n",
      " [2.9]\n",
      " [2.7]\n",
      " [2. ]\n",
      " [3. ]\n",
      " [2.2]\n",
      " [2.9]\n",
      " [2.9]\n",
      " [3.1]\n",
      " [3. ]\n",
      " [2.7]\n",
      " [2.2]\n",
      " [2.5]\n",
      " [3.2]\n",
      " [2.8]\n",
      " [2.5]\n",
      " [2.8]\n",
      " [2.9]\n",
      " [3. ]\n",
      " [2.8]\n",
      " [3. ]\n",
      " [2.9]\n",
      " [2.6]\n",
      " [2.4]\n",
      " [2.4]\n",
      " [2.7]\n",
      " [2.7]\n",
      " [3. ]\n",
      " [3.4]\n",
      " [3.1]\n",
      " [2.3]\n",
      " [3. ]\n",
      " [2.5]\n",
      " [2.6]\n",
      " [3. ]\n",
      " [2.6]\n",
      " [2.3]\n",
      " [2.7]\n",
      " [3. ]\n",
      " [2.9]\n",
      " [2.9]\n",
      " [2.5]\n",
      " [2.8]\n",
      " [3.3]\n",
      " [2.7]\n",
      " [3. ]\n",
      " [2.9]\n",
      " [3. ]\n",
      " [3. ]\n",
      " [2.5]\n",
      " [2.9]\n",
      " [2.5]\n",
      " [3.6]\n",
      " [3.2]\n",
      " [2.7]\n",
      " [3. ]\n",
      " [2.5]\n",
      " [2.8]\n",
      " [3.2]\n",
      " [3. ]\n",
      " [3.8]\n",
      " [2.6]\n",
      " [2.2]\n",
      " [3.2]\n",
      " [2.8]\n",
      " [2.8]\n",
      " [2.7]\n",
      " [3.3]\n",
      " [3.2]\n",
      " [2.8]\n",
      " [3. ]\n",
      " [2.8]\n",
      " [3. ]\n",
      " [2.8]\n",
      " [3.8]\n",
      " [2.8]\n",
      " [2.8]\n",
      " [2.6]\n",
      " [3. ]\n",
      " [3.4]\n",
      " [3.1]\n",
      " [3. ]\n",
      " [3.1]\n",
      " [3.1]\n",
      " [3.1]\n",
      " [2.7]\n",
      " [3.2]\n",
      " [3.3]\n",
      " [3. ]\n",
      " [2.5]\n",
      " [3. ]\n",
      " [3.4]\n",
      " [3. ]]\n"
     ]
    }
   ],
   "source": [
    "print(x.shape)\n",
    "print(y.shape)\n",
    "print(y)"
   ]
  },
  {
   "cell_type": "markdown",
   "id": "187f5058",
   "metadata": {},
   "source": [
    "Création de la matrice X qui contient la colonne de Biais. Pour ca, on colle l'un contre l'autre le vecteur x et un vecteur 1 (avec np.ones) de dimension égale a celle de x"
   ]
  },
  {
   "cell_type": "code",
   "execution_count": 42,
   "id": "e8b25651",
   "metadata": {},
   "outputs": [],
   "source": [
    "X = np.hstack((x, np.ones(x.shape)))\n",
    "X = np.hstack((x**2, X))\n",
    "\n"
   ]
  },
  {
   "cell_type": "code",
   "execution_count": 43,
   "id": "d1c71f2d",
   "metadata": {},
   "outputs": [
    {
     "name": "stdout",
     "output_type": "stream",
     "text": [
      "[[1.96 1.4  1.  ]\n",
      " [1.96 1.4  1.  ]\n",
      " [1.69 1.3  1.  ]\n",
      " [2.25 1.5  1.  ]\n",
      " [1.96 1.4  1.  ]\n",
      " [2.89 1.7  1.  ]\n",
      " [1.96 1.4  1.  ]\n",
      " [2.25 1.5  1.  ]\n",
      " [1.96 1.4  1.  ]\n",
      " [2.25 1.5  1.  ]]\n"
     ]
    }
   ],
   "source": [
    "X.shape\n",
    "print(X[:10])"
   ]
  },
  {
   "cell_type": "markdown",
   "id": "1f5703e5",
   "metadata": {},
   "source": [
    "Finalement, création d'un vecteur parametre θ, initialisé avec des coefficients aléatoires. Ce vecteur est de dimension (2, 1). Si on désire toujours reproduire le meme vecteur \n",
    "θ, on utilise comme avant np.random.seed(0)"
   ]
  },
  {
   "cell_type": "code",
   "execution_count": 44,
   "id": "e45f2b9a",
   "metadata": {},
   "outputs": [
    {
     "name": "stdout",
     "output_type": "stream",
     "text": [
      "Theta: [[1.76405235]\n",
      " [0.40015721]\n",
      " [0.97873798]]\n"
     ]
    }
   ],
   "source": [
    "np.random.seed(0) # pour produire toujours le meme vecteur theta aléatoire\n",
    "theta=np.random.randn(3,1)\n",
    "print('Theta:',theta)"
   ]
  },
  {
   "cell_type": "code",
   "execution_count": 45,
   "id": "421104a4",
   "metadata": {},
   "outputs": [
    {
     "name": "stdout",
     "output_type": "stream",
     "text": [
      "x_train shape  :  (120, 3)\n",
      "x_test shape  :  (30, 3)\n",
      "y_train shape  :  (120, 1)\n",
      "y_test shape  :  (30, 1)\n"
     ]
    }
   ],
   "source": [
    "x_train, x_test, y_train, y_test =  train_test_split(X, y, test_size=0.2, random_state=42)\n",
    "\n",
    "print('x_train shape  : ', x_train.shape)\n",
    "print('x_test shape  : ', x_test.shape)\n",
    "print('y_train shape  : ', y_train.shape)\n",
    "print('y_test shape  : ', y_test.shape)"
   ]
  },
  {
   "cell_type": "code",
   "execution_count": 46,
   "id": "0d3df2ef",
   "metadata": {},
   "outputs": [],
   "source": [
    "def z_score_normalization(data):\n",
    "    \"\"\"\n",
    "    Normalise les caractéristiques d'un ensemble de données en utilisant la méthode Z-score.\n",
    "\n",
    "    Args:\n",
    "    - data : un tableau NumPy contenant les données à normaliser. Chaque colonne représente une caractéristique.\n",
    "\n",
    "    Returns:\n",
    "    - data_normalized : le tableau NumPy contenant les données normalisées.\n",
    "    - mean : le tableau NumPy contenant les moyennes de chaque caractéristique avant normalisation.\n",
    "    - std : le tableau NumPy contenant les déviations standard de chaque caractéristique avant normalisation.\n",
    "    \"\"\"\n",
    "    # Calcul des moyennes et des déviations standard de chaque caractéristique\n",
    "    mean = np.mean(data, axis=0)\n",
    "    std = np.std(data, axis=0)\n",
    "\n",
    "    # Normalisation des données en utilisant la méthode Z-score\n",
    "    data_normalized = (data - mean) / std\n",
    "\n",
    "    return data_normalized, mean, std"
   ]
  },
  {
   "cell_type": "code",
   "execution_count": 47,
   "id": "6e738021",
   "metadata": {},
   "outputs": [
    {
     "name": "stderr",
     "output_type": "stream",
     "text": [
      "C:\\Users\\khawl\\AppData\\Local\\Temp\\ipykernel_18084\\511913207.py:18: RuntimeWarning: invalid value encountered in divide\n",
      "  data_normalized = (data - mean) / std\n"
     ]
    },
    {
     "data": {
      "text/plain": [
       "array([[-1.28897203, -1.5639872 ,         nan],\n",
       "       [-1.18786403, -1.27728011,         nan],\n",
       "       [ 0.19610235,  0.38562104,         nan],\n",
       "       [-1.16278924, -1.21993869,         nan],\n",
       "       [-1.23316041, -1.39196294,         nan],\n",
       "       [ 0.65230166,  0.72966956,         nan],\n",
       "       [ 0.26809125,  0.44296246,         nan],\n",
       "       [-1.18786403, -1.27728011,         nan],\n",
       "       [-1.21132108, -1.33462153,         nan],\n",
       "       [-1.18786403, -1.27728011,         nan],\n",
       "       [ 0.73399693,  0.78701097,         nan],\n",
       "       [ 0.26809125,  0.44296246,         nan],\n",
       "       [ 0.41692223,  0.5576453 ,         nan],\n",
       "       [-1.23316041, -1.39196294,         nan],\n",
       "       [-1.18786403, -1.27728011,         nan],\n",
       "       [-0.26252356, -0.01576889,         nan],\n",
       "       [ 0.73399693,  0.78701097,         nan],\n",
       "       [ 1.07695529,  1.01637665,         nan],\n",
       "       [ 0.19610235,  0.38562104,         nan],\n",
       "       [ 1.63992466,  1.36042516,         nan],\n",
       "       [ 0.05697773,  0.2709382 ,         nan],\n",
       "       [ 2.15355332,  1.64713226,         nan],\n",
       "       [ 0.26809125,  0.44296246,         nan],\n",
       "       [-1.21132108, -1.33462153,         nan],\n",
       "       [ 2.26113224,  1.70447368,         nan],\n",
       "       [-0.01015798,  0.21359679,         nan],\n",
       "       [-1.21132108, -1.33462153,         nan],\n",
       "       [-1.23316041, -1.39196294,         nan],\n",
       "       [-1.07785852, -1.04791443,         nan],\n",
       "       [-0.37899999, -0.13045173,         nan],\n",
       "       [ 0.57222412,  0.67232814,         nan],\n",
       "       [-1.07785852, -1.04791443,         nan],\n",
       "       [-1.16278924, -1.21993869,         nan],\n",
       "       [-1.13609673, -1.16259727,         nan],\n",
       "       [ 0.05697773,  0.2709382 ,         nan],\n",
       "       [-1.18786403, -1.27728011,         nan],\n",
       "       [ 0.05697773,  0.2709382 ,         nan],\n",
       "       [ 2.26113224,  1.70447368,         nan],\n",
       "       [-1.21132108, -1.33462153,         nan],\n",
       "       [ 0.12573117,  0.32827962,         nan],\n",
       "       [ 0.65230166,  0.72966956,         nan],\n",
       "       [-1.21132108, -1.33462153,         nan],\n",
       "       [ 0.49376431,  0.61498672,         nan],\n",
       "       [ 0.73399693,  0.78701097,         nan],\n",
       "       [-0.07567597,  0.15625537,         nan],\n",
       "       [ 0.26809125,  0.44296246,         nan],\n",
       "       [ 0.98878911,  0.95903523,         nan],\n",
       "       [-0.07567597,  0.15625537,         nan],\n",
       "       [-1.13609673, -1.16259727,         nan],\n",
       "       [-0.4890055 , -0.24513457,         nan],\n",
       "       [ 0.90224065,  0.90169381,         nan],\n",
       "       [-1.21132108, -1.33462153,         nan],\n",
       "       [-1.25338201, -1.44930436,         nan],\n",
       "       [-0.20185876,  0.04157253,         nan],\n",
       "       [ 0.65230166,  0.72966956,         nan],\n",
       "       [-1.18786403, -1.27728011,         nan],\n",
       "       [ 0.73399693,  0.78701097,         nan],\n",
       "       [-1.18786403, -1.27728011,         nan],\n",
       "       [-1.16278924, -1.21993869,         nan],\n",
       "       [ 0.49376431,  0.61498672,         nan],\n",
       "       [-0.6418808 , -0.41715882,         nan],\n",
       "       [ 1.25814083,  1.13105949,         nan],\n",
       "       [ 0.73399693,  0.78701097,         nan],\n",
       "       [ 1.16673919,  1.07371807,         nan],\n",
       "       [ 1.63992466,  1.36042516,         nan],\n",
       "       [-0.07567597,  0.15625537,         nan],\n",
       "       [-1.21132108, -1.33462153,         nan],\n",
       "       [-1.27198589, -1.50664578,         nan],\n",
       "       [ 0.65230166,  0.72966956,         nan],\n",
       "       [ 1.54205211,  1.30308374,         nan],\n",
       "       [-1.18786403, -1.27728011,         nan],\n",
       "       [-1.21132108, -1.33462153,         nan],\n",
       "       [-1.23316041, -1.39196294,         nan],\n",
       "       [ 0.57222412,  0.67232814,         nan],\n",
       "       [ 1.16673919,  1.07371807,         nan],\n",
       "       [-1.21132108, -1.33462153,         nan],\n",
       "       [ 1.07695529,  1.01637665,         nan],\n",
       "       [ 1.54205211,  1.30308374,         nan],\n",
       "       [-1.23316041, -1.39196294,         nan],\n",
       "       [ 0.41692223,  0.5576453 ,         nan],\n",
       "       [ 0.34169787,  0.50030388,         nan],\n",
       "       [ 0.49376431,  0.61498672,         nan],\n",
       "       [ 0.41692223,  0.5576453 ,         nan],\n",
       "       [ 0.90224065,  0.90169381,         nan],\n",
       "       [-1.16278924, -1.21993869,         nan],\n",
       "       [ 0.98878911,  0.95903523,         nan],\n",
       "       [ 0.05697773,  0.2709382 ,         nan],\n",
       "       [ 0.81730993,  0.84435239,         nan],\n",
       "       [-0.37899999, -0.13045173,         nan],\n",
       "       [-0.13957623,  0.09891395,         nan],\n",
       "       [ 0.34169787,  0.50030388,         nan],\n",
       "       [-1.23316041, -1.39196294,         nan],\n",
       "       [ 0.34169787,  0.50030388,         nan],\n",
       "       [ 0.19610235,  0.38562104,         nan],\n",
       "       [-1.18786403, -1.27728011,         nan],\n",
       "       [-0.01015798,  0.21359679,         nan],\n",
       "       [ 1.84052294,  1.475108  ,         nan],\n",
       "       [ 1.25814083,  1.13105949,         nan],\n",
       "       [-1.18786403, -1.27728011,         nan],\n",
       "       [-0.4890055 , -0.24513457,         nan],\n",
       "       [ 1.25814083,  1.13105949,         nan],\n",
       "       [ 1.3511602 ,  1.18840091,         nan],\n",
       "       [-1.18786403, -1.27728011,         nan],\n",
       "       [ 1.16673919,  1.07371807,         nan],\n",
       "       [-1.21132108, -1.33462153,         nan],\n",
       "       [ 0.57222412,  0.67232814,         nan],\n",
       "       [ 1.63992466,  1.36042516,         nan],\n",
       "       [ 1.16673919,  1.07371807,         nan],\n",
       "       [-0.01015798,  0.21359679,         nan],\n",
       "       [ 1.07695529,  1.01637665,         nan],\n",
       "       [ 0.19610235,  0.38562104,         nan],\n",
       "       [ 0.12573117,  0.32827962,         nan],\n",
       "       [ 0.57222412,  0.67232814,         nan],\n",
       "       [ 0.73399693,  0.78701097,         nan],\n",
       "       [-1.13609673, -1.16259727,         nan],\n",
       "       [-0.07567597,  0.15625537,         nan],\n",
       "       [ 0.26809125,  0.44296246,         nan],\n",
       "       [-1.25338201, -1.44930436,         nan],\n",
       "       [-0.07567597,  0.15625537,         nan],\n",
       "       [ 1.44579729,  1.24574233,         nan]])"
      ]
     },
     "execution_count": 47,
     "metadata": {},
     "output_type": "execute_result"
    }
   ],
   "source": [
    "x_train_norm, mean,std=z_score_normalization(x_train)\n",
    "x_train_norm"
   ]
  },
  {
   "cell_type": "code",
   "execution_count": null,
   "id": "a37e88be",
   "metadata": {},
   "outputs": [],
   "source": []
  },
  {
   "cell_type": "code",
   "execution_count": 48,
   "id": "2bfd85ad",
   "metadata": {},
   "outputs": [
    {
     "name": "stderr",
     "output_type": "stream",
     "text": [
      "C:\\Users\\khawl\\AppData\\Local\\Temp\\ipykernel_18084\\329464685.py:1: RuntimeWarning: invalid value encountered in divide\n",
      "  x_test_norm= (x_test - mean)/std\n"
     ]
    },
    {
     "data": {
      "text/plain": [
       "array([[ 0.41692223,  0.5576453 ,         nan],\n",
       "       [-1.13609673, -1.16259727,         nan],\n",
       "       [ 2.48114326,  1.81915651,         nan],\n",
       "       [ 0.26809125,  0.44296246,         nan],\n",
       "       [ 0.49376431,  0.61498672,         nan],\n",
       "       [-1.18786403, -1.27728011,         nan],\n",
       "       [-0.32157064, -0.07311031,         nan],\n",
       "       [ 0.73399693,  0.78701097,         nan],\n",
       "       [ 0.26809125,  0.44296246,         nan],\n",
       "       [-0.13957623,  0.09891395,         nan],\n",
       "       [ 0.73399693,  0.78701097,         nan],\n",
       "       [-1.21132108, -1.33462153,         nan],\n",
       "       [-1.23316041, -1.39196294,         nan],\n",
       "       [-1.18786403, -1.27728011,         nan],\n",
       "       [-1.18786403, -1.27728011,         nan],\n",
       "       [ 0.41692223,  0.5576453 ,         nan],\n",
       "       [ 1.3511602 ,  1.18840091,         nan],\n",
       "       [-0.13957623,  0.09891395,         nan],\n",
       "       [ 0.26809125,  0.44296246,         nan],\n",
       "       [ 1.16673919,  1.07371807,         nan],\n",
       "       [-1.16278924, -1.21993869,         nan],\n",
       "       [ 0.57222412,  0.67232814,         nan],\n",
       "       [-1.16278924, -1.21993869,         nan],\n",
       "       [ 1.16673919,  1.07371807,         nan],\n",
       "       [ 1.94324867,  1.53244942,         nan],\n",
       "       [ 0.81730993,  0.84435239,         nan],\n",
       "       [ 1.3511602 ,  1.18840091,         nan],\n",
       "       [ 1.44579729,  1.24574233,         nan],\n",
       "       [-1.21132108, -1.33462153,         nan],\n",
       "       [-1.16278924, -1.21993869,         nan]])"
      ]
     },
     "execution_count": 48,
     "metadata": {},
     "output_type": "execute_result"
    }
   ],
   "source": [
    "x_test_norm= (x_test - mean)/std\n",
    "x_test_norm"
   ]
  },
  {
   "cell_type": "code",
   "execution_count": 66,
   "id": "059bf9f7",
   "metadata": {},
   "outputs": [
    {
     "data": {
      "text/plain": [
       "array([[-1.28897203, -1.5639872 ,         nan,  1.        ,  1.        ],\n",
       "       [-1.18786403, -1.27728011,         nan,  1.        ,  1.        ],\n",
       "       [ 0.19610235,  0.38562104,         nan,  1.        ,  1.        ],\n",
       "       [-1.16278924, -1.21993869,         nan,  1.        ,  1.        ],\n",
       "       [-1.23316041, -1.39196294,         nan,  1.        ,  1.        ],\n",
       "       [ 0.65230166,  0.72966956,         nan,  1.        ,  1.        ],\n",
       "       [ 0.26809125,  0.44296246,         nan,  1.        ,  1.        ],\n",
       "       [-1.18786403, -1.27728011,         nan,  1.        ,  1.        ],\n",
       "       [-1.21132108, -1.33462153,         nan,  1.        ,  1.        ],\n",
       "       [-1.18786403, -1.27728011,         nan,  1.        ,  1.        ],\n",
       "       [ 0.73399693,  0.78701097,         nan,  1.        ,  1.        ],\n",
       "       [ 0.26809125,  0.44296246,         nan,  1.        ,  1.        ],\n",
       "       [ 0.41692223,  0.5576453 ,         nan,  1.        ,  1.        ],\n",
       "       [-1.23316041, -1.39196294,         nan,  1.        ,  1.        ],\n",
       "       [-1.18786403, -1.27728011,         nan,  1.        ,  1.        ],\n",
       "       [-0.26252356, -0.01576889,         nan,  1.        ,  1.        ],\n",
       "       [ 0.73399693,  0.78701097,         nan,  1.        ,  1.        ],\n",
       "       [ 1.07695529,  1.01637665,         nan,  1.        ,  1.        ],\n",
       "       [ 0.19610235,  0.38562104,         nan,  1.        ,  1.        ],\n",
       "       [ 1.63992466,  1.36042516,         nan,  1.        ,  1.        ],\n",
       "       [ 0.05697773,  0.2709382 ,         nan,  1.        ,  1.        ],\n",
       "       [ 2.15355332,  1.64713226,         nan,  1.        ,  1.        ],\n",
       "       [ 0.26809125,  0.44296246,         nan,  1.        ,  1.        ],\n",
       "       [-1.21132108, -1.33462153,         nan,  1.        ,  1.        ],\n",
       "       [ 2.26113224,  1.70447368,         nan,  1.        ,  1.        ],\n",
       "       [-0.01015798,  0.21359679,         nan,  1.        ,  1.        ],\n",
       "       [-1.21132108, -1.33462153,         nan,  1.        ,  1.        ],\n",
       "       [-1.23316041, -1.39196294,         nan,  1.        ,  1.        ],\n",
       "       [-1.07785852, -1.04791443,         nan,  1.        ,  1.        ],\n",
       "       [-0.37899999, -0.13045173,         nan,  1.        ,  1.        ],\n",
       "       [ 0.57222412,  0.67232814,         nan,  1.        ,  1.        ],\n",
       "       [-1.07785852, -1.04791443,         nan,  1.        ,  1.        ],\n",
       "       [-1.16278924, -1.21993869,         nan,  1.        ,  1.        ],\n",
       "       [-1.13609673, -1.16259727,         nan,  1.        ,  1.        ],\n",
       "       [ 0.05697773,  0.2709382 ,         nan,  1.        ,  1.        ],\n",
       "       [-1.18786403, -1.27728011,         nan,  1.        ,  1.        ],\n",
       "       [ 0.05697773,  0.2709382 ,         nan,  1.        ,  1.        ],\n",
       "       [ 2.26113224,  1.70447368,         nan,  1.        ,  1.        ],\n",
       "       [-1.21132108, -1.33462153,         nan,  1.        ,  1.        ],\n",
       "       [ 0.12573117,  0.32827962,         nan,  1.        ,  1.        ],\n",
       "       [ 0.65230166,  0.72966956,         nan,  1.        ,  1.        ],\n",
       "       [-1.21132108, -1.33462153,         nan,  1.        ,  1.        ],\n",
       "       [ 0.49376431,  0.61498672,         nan,  1.        ,  1.        ],\n",
       "       [ 0.73399693,  0.78701097,         nan,  1.        ,  1.        ],\n",
       "       [-0.07567597,  0.15625537,         nan,  1.        ,  1.        ],\n",
       "       [ 0.26809125,  0.44296246,         nan,  1.        ,  1.        ],\n",
       "       [ 0.98878911,  0.95903523,         nan,  1.        ,  1.        ],\n",
       "       [-0.07567597,  0.15625537,         nan,  1.        ,  1.        ],\n",
       "       [-1.13609673, -1.16259727,         nan,  1.        ,  1.        ],\n",
       "       [-0.4890055 , -0.24513457,         nan,  1.        ,  1.        ],\n",
       "       [ 0.90224065,  0.90169381,         nan,  1.        ,  1.        ],\n",
       "       [-1.21132108, -1.33462153,         nan,  1.        ,  1.        ],\n",
       "       [-1.25338201, -1.44930436,         nan,  1.        ,  1.        ],\n",
       "       [-0.20185876,  0.04157253,         nan,  1.        ,  1.        ],\n",
       "       [ 0.65230166,  0.72966956,         nan,  1.        ,  1.        ],\n",
       "       [-1.18786403, -1.27728011,         nan,  1.        ,  1.        ],\n",
       "       [ 0.73399693,  0.78701097,         nan,  1.        ,  1.        ],\n",
       "       [-1.18786403, -1.27728011,         nan,  1.        ,  1.        ],\n",
       "       [-1.16278924, -1.21993869,         nan,  1.        ,  1.        ],\n",
       "       [ 0.49376431,  0.61498672,         nan,  1.        ,  1.        ],\n",
       "       [-0.6418808 , -0.41715882,         nan,  1.        ,  1.        ],\n",
       "       [ 1.25814083,  1.13105949,         nan,  1.        ,  1.        ],\n",
       "       [ 0.73399693,  0.78701097,         nan,  1.        ,  1.        ],\n",
       "       [ 1.16673919,  1.07371807,         nan,  1.        ,  1.        ],\n",
       "       [ 1.63992466,  1.36042516,         nan,  1.        ,  1.        ],\n",
       "       [-0.07567597,  0.15625537,         nan,  1.        ,  1.        ],\n",
       "       [-1.21132108, -1.33462153,         nan,  1.        ,  1.        ],\n",
       "       [-1.27198589, -1.50664578,         nan,  1.        ,  1.        ],\n",
       "       [ 0.65230166,  0.72966956,         nan,  1.        ,  1.        ],\n",
       "       [ 1.54205211,  1.30308374,         nan,  1.        ,  1.        ],\n",
       "       [-1.18786403, -1.27728011,         nan,  1.        ,  1.        ],\n",
       "       [-1.21132108, -1.33462153,         nan,  1.        ,  1.        ],\n",
       "       [-1.23316041, -1.39196294,         nan,  1.        ,  1.        ],\n",
       "       [ 0.57222412,  0.67232814,         nan,  1.        ,  1.        ],\n",
       "       [ 1.16673919,  1.07371807,         nan,  1.        ,  1.        ],\n",
       "       [-1.21132108, -1.33462153,         nan,  1.        ,  1.        ],\n",
       "       [ 1.07695529,  1.01637665,         nan,  1.        ,  1.        ],\n",
       "       [ 1.54205211,  1.30308374,         nan,  1.        ,  1.        ],\n",
       "       [-1.23316041, -1.39196294,         nan,  1.        ,  1.        ],\n",
       "       [ 0.41692223,  0.5576453 ,         nan,  1.        ,  1.        ],\n",
       "       [ 0.34169787,  0.50030388,         nan,  1.        ,  1.        ],\n",
       "       [ 0.49376431,  0.61498672,         nan,  1.        ,  1.        ],\n",
       "       [ 0.41692223,  0.5576453 ,         nan,  1.        ,  1.        ],\n",
       "       [ 0.90224065,  0.90169381,         nan,  1.        ,  1.        ],\n",
       "       [-1.16278924, -1.21993869,         nan,  1.        ,  1.        ],\n",
       "       [ 0.98878911,  0.95903523,         nan,  1.        ,  1.        ],\n",
       "       [ 0.05697773,  0.2709382 ,         nan,  1.        ,  1.        ],\n",
       "       [ 0.81730993,  0.84435239,         nan,  1.        ,  1.        ],\n",
       "       [-0.37899999, -0.13045173,         nan,  1.        ,  1.        ],\n",
       "       [-0.13957623,  0.09891395,         nan,  1.        ,  1.        ],\n",
       "       [ 0.34169787,  0.50030388,         nan,  1.        ,  1.        ],\n",
       "       [-1.23316041, -1.39196294,         nan,  1.        ,  1.        ],\n",
       "       [ 0.34169787,  0.50030388,         nan,  1.        ,  1.        ],\n",
       "       [ 0.19610235,  0.38562104,         nan,  1.        ,  1.        ],\n",
       "       [-1.18786403, -1.27728011,         nan,  1.        ,  1.        ],\n",
       "       [-0.01015798,  0.21359679,         nan,  1.        ,  1.        ],\n",
       "       [ 1.84052294,  1.475108  ,         nan,  1.        ,  1.        ],\n",
       "       [ 1.25814083,  1.13105949,         nan,  1.        ,  1.        ],\n",
       "       [-1.18786403, -1.27728011,         nan,  1.        ,  1.        ],\n",
       "       [-0.4890055 , -0.24513457,         nan,  1.        ,  1.        ],\n",
       "       [ 1.25814083,  1.13105949,         nan,  1.        ,  1.        ],\n",
       "       [ 1.3511602 ,  1.18840091,         nan,  1.        ,  1.        ],\n",
       "       [-1.18786403, -1.27728011,         nan,  1.        ,  1.        ],\n",
       "       [ 1.16673919,  1.07371807,         nan,  1.        ,  1.        ],\n",
       "       [-1.21132108, -1.33462153,         nan,  1.        ,  1.        ],\n",
       "       [ 0.57222412,  0.67232814,         nan,  1.        ,  1.        ],\n",
       "       [ 1.63992466,  1.36042516,         nan,  1.        ,  1.        ],\n",
       "       [ 1.16673919,  1.07371807,         nan,  1.        ,  1.        ],\n",
       "       [-0.01015798,  0.21359679,         nan,  1.        ,  1.        ],\n",
       "       [ 1.07695529,  1.01637665,         nan,  1.        ,  1.        ],\n",
       "       [ 0.19610235,  0.38562104,         nan,  1.        ,  1.        ],\n",
       "       [ 0.12573117,  0.32827962,         nan,  1.        ,  1.        ],\n",
       "       [ 0.57222412,  0.67232814,         nan,  1.        ,  1.        ],\n",
       "       [ 0.73399693,  0.78701097,         nan,  1.        ,  1.        ],\n",
       "       [-1.13609673, -1.16259727,         nan,  1.        ,  1.        ],\n",
       "       [-0.07567597,  0.15625537,         nan,  1.        ,  1.        ],\n",
       "       [ 0.26809125,  0.44296246,         nan,  1.        ,  1.        ],\n",
       "       [-1.25338201, -1.44930436,         nan,  1.        ,  1.        ],\n",
       "       [-0.07567597,  0.15625537,         nan,  1.        ,  1.        ],\n",
       "       [ 1.44579729,  1.24574233,         nan,  1.        ,  1.        ]])"
      ]
     },
     "execution_count": 66,
     "metadata": {},
     "output_type": "execute_result"
    }
   ],
   "source": [
    "#x train:\n",
    "X_train_norm_1 = np.hstack((x_train_norm, np.ones((x_train.shape[0], 2))))\n",
    "X_train_norm_1"
   ]
  },
  {
   "cell_type": "code",
   "execution_count": 67,
   "id": "d0721275",
   "metadata": {},
   "outputs": [
    {
     "data": {
      "text/plain": [
       "array([[ 0.41692223,  0.5576453 ,         nan,  1.        ],\n",
       "       [-1.13609673, -1.16259727,         nan,  1.        ],\n",
       "       [ 2.48114326,  1.81915651,         nan,  1.        ],\n",
       "       [ 0.26809125,  0.44296246,         nan,  1.        ],\n",
       "       [ 0.49376431,  0.61498672,         nan,  1.        ],\n",
       "       [-1.18786403, -1.27728011,         nan,  1.        ],\n",
       "       [-0.32157064, -0.07311031,         nan,  1.        ],\n",
       "       [ 0.73399693,  0.78701097,         nan,  1.        ],\n",
       "       [ 0.26809125,  0.44296246,         nan,  1.        ],\n",
       "       [-0.13957623,  0.09891395,         nan,  1.        ],\n",
       "       [ 0.73399693,  0.78701097,         nan,  1.        ],\n",
       "       [-1.21132108, -1.33462153,         nan,  1.        ],\n",
       "       [-1.23316041, -1.39196294,         nan,  1.        ],\n",
       "       [-1.18786403, -1.27728011,         nan,  1.        ],\n",
       "       [-1.18786403, -1.27728011,         nan,  1.        ],\n",
       "       [ 0.41692223,  0.5576453 ,         nan,  1.        ],\n",
       "       [ 1.3511602 ,  1.18840091,         nan,  1.        ],\n",
       "       [-0.13957623,  0.09891395,         nan,  1.        ],\n",
       "       [ 0.26809125,  0.44296246,         nan,  1.        ],\n",
       "       [ 1.16673919,  1.07371807,         nan,  1.        ],\n",
       "       [-1.16278924, -1.21993869,         nan,  1.        ],\n",
       "       [ 0.57222412,  0.67232814,         nan,  1.        ],\n",
       "       [-1.16278924, -1.21993869,         nan,  1.        ],\n",
       "       [ 1.16673919,  1.07371807,         nan,  1.        ],\n",
       "       [ 1.94324867,  1.53244942,         nan,  1.        ],\n",
       "       [ 0.81730993,  0.84435239,         nan,  1.        ],\n",
       "       [ 1.3511602 ,  1.18840091,         nan,  1.        ],\n",
       "       [ 1.44579729,  1.24574233,         nan,  1.        ],\n",
       "       [-1.21132108, -1.33462153,         nan,  1.        ],\n",
       "       [-1.16278924, -1.21993869,         nan,  1.        ]])"
      ]
     },
     "execution_count": 67,
     "metadata": {},
     "output_type": "execute_result"
    }
   ],
   "source": [
    "X_test_norm_1 = np.hstack((x_test_norm, np.ones((x_test.shape[0], 1))))\n",
    "X_test_norm_1"
   ]
  },
  {
   "cell_type": "code",
   "execution_count": null,
   "id": "90ff073a",
   "metadata": {},
   "outputs": [],
   "source": []
  },
  {
   "cell_type": "code",
   "execution_count": 68,
   "id": "bc06c159",
   "metadata": {},
   "outputs": [],
   "source": [
    "def model(X, theta):\n",
    "    return X.dot(theta)"
   ]
  },
  {
   "cell_type": "code",
   "execution_count": 69,
   "id": "f4259e47",
   "metadata": {},
   "outputs": [
    {
     "name": "stdout",
     "output_type": "stream",
     "text": [
      "[[ 4.99650067]\n",
      " [ 4.99650067]\n",
      " [ 4.48019082]\n",
      " [ 5.54809158]\n",
      " [ 4.99650067]\n",
      " [ 6.75711652]\n",
      " [ 4.99650067]\n",
      " [ 5.54809158]\n",
      " [ 4.99650067]\n",
      " [ 5.54809158]\n",
      " [ 5.54809158]\n",
      " [ 6.13496352]\n",
      " [ 4.99650067]\n",
      " [ 3.55341425]\n",
      " [ 3.99916201]\n",
      " [ 5.54809158]\n",
      " [ 4.48019082]\n",
      " [ 4.99650067]\n",
      " [ 6.75711652]\n",
      " [ 5.54809158]\n",
      " [ 6.75711652]\n",
      " [ 5.54809158]\n",
      " [ 3.14294754]\n",
      " [ 6.75711652]\n",
      " [ 8.10726565]\n",
      " [ 6.13496352]\n",
      " [ 6.13496352]\n",
      " [ 5.54809158]\n",
      " [ 4.99650067]\n",
      " [ 6.13496352]\n",
      " [ 6.13496352]\n",
      " [ 5.54809158]\n",
      " [ 5.54809158]\n",
      " [ 4.99650067]\n",
      " [ 5.54809158]\n",
      " [ 3.99916201]\n",
      " [ 4.48019082]\n",
      " [ 5.54809158]\n",
      " [ 4.48019082]\n",
      " [ 5.54809158]\n",
      " [ 4.48019082]\n",
      " [ 4.48019082]\n",
      " [ 4.48019082]\n",
      " [ 6.13496352]\n",
      " [ 8.10726565]\n",
      " [ 4.99650067]\n",
      " [ 6.13496352]\n",
      " [ 4.99650067]\n",
      " [ 5.54809158]\n",
      " [ 4.99650067]\n",
      " [41.82739319]\n",
      " [38.50150543]\n",
      " [45.29440513]\n",
      " [30.80420435]\n",
      " [40.14680878]\n",
      " [38.50150543]\n",
      " [41.82739319]\n",
      " [21.50978682]\n",
      " [40.14680878]\n",
      " [29.37058728]\n",
      " [23.98892945]\n",
      " [33.77728164]\n",
      " [30.80420435]\n",
      " [41.82739319]\n",
      " [25.28142234]\n",
      " [36.89148312]\n",
      " [38.50150543]\n",
      " [32.27310247]\n",
      " [38.50150543]\n",
      " [29.37058728]\n",
      " [43.54325864]\n",
      " [30.80420435]\n",
      " [45.29440513]\n",
      " [41.82739319]\n",
      " [35.31674186]\n",
      " [36.89148312]\n",
      " [43.54325864]\n",
      " [47.08083268]\n",
      " [38.50150543]\n",
      " [23.98892945]\n",
      " [27.97225125]\n",
      " [26.60919627]\n",
      " [29.37058728]\n",
      " [48.90254127]\n",
      " [38.50150543]\n",
      " [38.50150543]\n",
      " [41.82739319]\n",
      " [36.89148312]\n",
      " [32.27310247]\n",
      " [30.80420435]\n",
      " [36.89148312]\n",
      " [40.14680878]\n",
      " [30.80420435]\n",
      " [21.50978682]\n",
      " [33.77728164]\n",
      " [33.77728164]\n",
      " [33.77728164]\n",
      " [35.31674186]\n",
      " [18.05568072]\n",
      " [32.27310247]\n",
      " [66.88556569]\n",
      " [48.90254127]\n",
      " [64.74632768]\n",
      " [58.54029992]\n",
      " [62.64237071]\n",
      " [80.46189575]\n",
      " [38.50150543]\n",
      " [73.51496601]\n",
      " [62.64237071]\n",
      " [69.06008475]\n",
      " [48.90254127]\n",
      " [52.65180159]\n",
      " [56.5421861 ]\n",
      " [47.08083268]\n",
      " [48.90254127]\n",
      " [52.65180159]\n",
      " [56.5421861 ]\n",
      " [82.84810109]\n",
      " [87.72635491]\n",
      " [47.08083268]\n",
      " [60.57369479]\n",
      " [45.29440513]\n",
      " [82.84810109]\n",
      " [45.29440513]\n",
      " [60.57369479]\n",
      " [66.88556569]\n",
      " [43.54325864]\n",
      " [45.29440513]\n",
      " [58.54029992]\n",
      " [62.64237071]\n",
      " [69.06008475]\n",
      " [75.79532821]\n",
      " [58.54029992]\n",
      " [48.90254127]\n",
      " [58.54029992]\n",
      " [69.06008475]\n",
      " [58.54029992]\n",
      " [56.5421861 ]\n",
      " [43.54325864]\n",
      " [54.57935332]\n",
      " [58.54029992]\n",
      " [48.90254127]\n",
      " [48.90254127]\n",
      " [64.74632768]\n",
      " [60.57369479]\n",
      " [50.7595309 ]\n",
      " [47.08083268]\n",
      " [50.7595309 ]\n",
      " [54.57935332]\n",
      " [48.90254127]]\n"
     ]
    }
   ],
   "source": [
    "print(model(X, theta))"
   ]
  },
  {
   "cell_type": "code",
   "execution_count": 70,
   "id": "0e86cdd4",
   "metadata": {},
   "outputs": [
    {
     "data": {
      "image/png": "[encoded data removed]",
      "text/plain": [
       "<Figure size 640x480 with 1 Axes>"
      ]
     },
     "metadata": {},
     "output_type": "display_data"
    }
   ],
   "source": [
    "\n",
    "plt.plot(x,y,'o',label='dataset')\n",
    "#plt.plot(dataset[\"sepal_width\"],dataset[\"petal_length\"],'o',label='dataset')\n",
    "plt.plot(x, model(X, theta),'o',c='r',label='modèle initial')\n",
    "plt.xlabel('petal_length')\n",
    "plt.ylabel('sepal_width')\n",
    "#plt.xlim(0, 5)\n",
    "#plt.ylim(0, 7)\n",
    "plt.legend()\n",
    "plt.show()"
   ]
  },
  {
   "attachments": {
    "Capture%20d'%C3%A9cran%202023-04-04%20113116.png": {
     "image/png": "[encoded data removed]"
    }
   },
   "cell_type": "markdown",
   "id": "4f8ef408",
   "metadata": {},
   "source": [
    "## 3. Fonction coût : Erreur Quadratique Moyenne\n",
    "On mesure les erreurs du modele sur le Dataset X, y en implémenterl'erreur quadratique moyenne, Mean Squared Error (MSE) en anglais.\n",
    "![Capture%20d'%C3%A9cran%202023-04-04%20113116.png](attachment:Capture%20d'%C3%A9cran%202023-04-04%20113116.png)\n",
    "\n",
    "Ensuite, on teste notre fonction, pour voir s'il n'y a pas de bug"
   ]
  },
  {
   "cell_type": "code",
   "execution_count": 71,
   "id": "3bfb4285",
   "metadata": {},
   "outputs": [],
   "source": [
    "def cost_function(X, y, theta):\n",
    "    m = len(y)\n",
    "    return 1/(2*m) * np.sum((model(X, theta) - y)**2)"
   ]
  },
  {
   "cell_type": "code",
   "execution_count": 72,
   "id": "ec4ef451",
   "metadata": {},
   "outputs": [
    {
     "data": {
      "text/plain": [
       "709.569060166302"
      ]
     },
     "execution_count": 72,
     "metadata": {},
     "output_type": "execute_result"
    }
   ],
   "source": [
    "cost_function(X, y, theta)"
   ]
  },
  {
   "attachments": {
    "grad.png": {
     "image/png": "[encoded data removed]"
    }
   },
   "cell_type": "markdown",
   "id": "e1af8e71",
   "metadata": {},
   "source": [
    "## 4. Gradients et Descente de Gradient\n",
    "On implémente la formule du gradient pour la MSE\n",
    "![grad.png](attachment:grad.png)\n",
    "Ensuite on utilise cette fonction dans la descente de gradient:\n",
    "\n"
   ]
  },
  {
   "attachments": {
    "Capture%20d'%C3%A9cran%202023-04-04%20114408.png": {
     "image/png": "[encoded data removed]"
    }
   },
   "cell_type": "markdown",
   "id": "527094e1",
   "metadata": {},
   "source": [
    "![Capture%20d'%C3%A9cran%202023-04-04%20114408.png](attachment:Capture%20d'%C3%A9cran%202023-04-04%20114408.png)"
   ]
  },
  {
   "cell_type": "code",
   "execution_count": 73,
   "id": "bc48ccbb",
   "metadata": {},
   "outputs": [],
   "source": [
    "def grad(X, y, theta):\n",
    "    m = len(y)\n",
    "    return 1/m * X.T.dot(model(X, theta) - y)"
   ]
  },
  {
   "cell_type": "code",
   "execution_count": 74,
   "id": "dcda7267",
   "metadata": {},
   "outputs": [],
   "source": [
    "def gradient_descent(X, y, theta, learning_rate, n_iterations):\n",
    "    \n",
    "    cost_history = np.zeros(n_iterations) # création d'un tableau de stockage pour enregistrer l'évolution du Cout du modele\n",
    "    \n",
    "    for i in range(0, n_iterations):\n",
    "        theta = theta - learning_rate * grad(X, y, theta) # mise a jour du parametre theta (formule du gradient descent)\n",
    "        cost_history[i] = cost_function(X, y, theta) # on enregistre la valeur du Cout au tour i dans cost_history[i]\n",
    "        \n",
    "    return theta, cost_history"
   ]
  },
  {
   "cell_type": "markdown",
   "id": "42add5a3",
   "metadata": {},
   "source": [
    "## 5. Phase d'entrainement\n",
    "On définit un nombre d'itérations, ainsi qu'un pas d'apprentissage α. Une fois le modele entrainé, on observe les resultats par rapport a notre Dataset"
   ]
  },
  {
   "cell_type": "code",
   "execution_count": 75,
   "id": "1b30eb6b",
   "metadata": {},
   "outputs": [],
   "source": [
    "n_iterations = 40000\n",
    "learning_rate = 0.004\n",
    "\n",
    "theta_final, cost_history = gradient_descent(X, y, theta, learning_rate, n_iterations)"
   ]
  },
  {
   "cell_type": "code",
   "execution_count": 76,
   "id": "ed0729ba",
   "metadata": {},
   "outputs": [
    {
     "data": {
      "text/plain": [
       "array([5.59635739e+02, 4.41423748e+02, 3.48221561e+02, ...,\n",
       "       5.83470591e-02, 5.83470574e-02, 5.83470557e-02])"
      ]
     },
     "execution_count": 76,
     "metadata": {},
     "output_type": "execute_result"
    }
   ],
   "source": [
    "cost_history # l'historique de la fonction coût qu'on va afficher par la suite. on remarque que sa valeur déminue et c'est ça l'objectif"
   ]
  },
  {
   "cell_type": "code",
   "execution_count": 77,
   "id": "71ae7b0a",
   "metadata": {},
   "outputs": [
    {
     "data": {
      "text/plain": [
       "array([[ 0.08394072],\n",
       "       [-0.69346787],\n",
       "       [ 4.2145133 ]])"
      ]
     },
     "execution_count": 77,
     "metadata": {},
     "output_type": "execute_result"
    }
   ],
   "source": [
    "theta_final # voici les parametres du modele une fois que la machine a été entrainée"
   ]
  },
  {
   "cell_type": "code",
   "execution_count": 78,
   "id": "606bfc53",
   "metadata": {},
   "outputs": [
    {
     "data": {
      "image/png": "[encoded data removed]",
      "text/plain": [
       "<Figure size 640x480 with 1 Axes>"
      ]
     },
     "metadata": {},
     "output_type": "display_data"
    }
   ],
   "source": [
    "# création d'un vecteur prédictions qui contient les prédictions de notre modele final\n",
    "predictions = model(X, theta_final)\n",
    "\n",
    "# Affichage des résultats de prédictions (en rouge) par rapport a notre Dataset (en bleu)\n",
    "plt.plot(x,y,'o',label='dataset')\n",
    "plt.plot(x,predictions ,'o',c='r',label='prédictions')\n",
    "plt.xlabel('petal_length')\n",
    "plt.ylabel('sepal_width')\n",
    "plt.legend()\n",
    "plt.show()"
   ]
  },
  {
   "cell_type": "code",
   "execution_count": 60,
   "id": "676bedbd",
   "metadata": {},
   "outputs": [
    {
     "data": {
      "text/plain": [
       "array([[3.4081821 ],\n",
       "       [3.4081821 ],\n",
       "       [3.45486489],\n",
       "       [3.36317812],\n",
       "       [3.4081821 ],\n",
       "       [3.27820661],\n",
       "       [3.4081821 ],\n",
       "       [3.36317812],\n",
       "       [3.4081821 ],\n",
       "       [3.36317812],\n",
       "       [3.36317812],\n",
       "       [3.31985296],\n",
       "       [3.4081821 ],\n",
       "       [3.55326692],\n",
       "       [3.5032265 ],\n",
       "       [3.36317812],\n",
       "       [3.45486489],\n",
       "       [3.4081821 ],\n",
       "       [3.27820661],\n",
       "       [3.36317812],\n",
       "       [3.27820661],\n",
       "       [3.36317812],\n",
       "       [3.60498616],\n",
       "       [3.27820661],\n",
       "       [3.19995036],\n",
       "       [3.31985296],\n",
       "       [3.31985296],\n",
       "       [3.36317812],\n",
       "       [3.4081821 ],\n",
       "       [3.31985296],\n",
       "       [3.31985296],\n",
       "       [3.36317812],\n",
       "       [3.36317812],\n",
       "       [3.4081821 ],\n",
       "       [3.36317812],\n",
       "       [3.5032265 ],\n",
       "       [3.45486489],\n",
       "       [3.36317812],\n",
       "       [3.45486489],\n",
       "       [3.36317812],\n",
       "       [3.45486489],\n",
       "       [3.45486489],\n",
       "       [3.45486489],\n",
       "       [3.31985296],\n",
       "       [3.19995036],\n",
       "       [3.4081821 ],\n",
       "       [3.31985296],\n",
       "       [3.4081821 ],\n",
       "       [3.36317812],\n",
       "       [3.4081821 ],\n",
       "       [2.80946484],\n",
       "       [2.79370749],\n",
       "       [2.83193745],\n",
       "       [2.78369336],\n",
       "       [2.80074675],\n",
       "       [2.79370749],\n",
       "       [2.80946484],\n",
       "       [2.84018378],\n",
       "       [2.80074675],\n",
       "       [2.78672698],\n",
       "       [2.81564959],\n",
       "       [2.78266257],\n",
       "       [2.78369336],\n",
       "       [2.80946484],\n",
       "       [2.80590071],\n",
       "       [2.78834703],\n",
       "       [2.79370749],\n",
       "       [2.78233855],\n",
       "       [2.79370749],\n",
       "       [2.78672698],\n",
       "       [2.81986173],\n",
       "       [2.78369336],\n",
       "       [2.83193745],\n",
       "       [2.80946484],\n",
       "       [2.78466539],\n",
       "       [2.78834703],\n",
       "       [2.81986173],\n",
       "       [2.84569197],\n",
       "       [2.79370749],\n",
       "       [2.81564959],\n",
       "       [2.79143941],\n",
       "       [2.79783065],\n",
       "       [2.78672698],\n",
       "       [2.86112531],\n",
       "       [2.79370749],\n",
       "       [2.79370749],\n",
       "       [2.80946484],\n",
       "       [2.78834703],\n",
       "       [2.78233855],\n",
       "       [2.78369336],\n",
       "       [2.78834703],\n",
       "       [2.80074675],\n",
       "       [2.78369336],\n",
       "       [2.84018378],\n",
       "       [2.78266257],\n",
       "       [2.78266257],\n",
       "       [2.78266257],\n",
       "       [2.78466539],\n",
       "       [2.88957618],\n",
       "       [2.78233855],\n",
       "       [3.07557203],\n",
       "       [2.86112531],\n",
       "       [3.04502936],\n",
       "       [2.96347423],\n",
       "       [3.0161655 ],\n",
       "       [3.29408315],\n",
       "       [2.79370749],\n",
       "       [3.17727293],\n",
       "       [3.0161655 ],\n",
       "       [3.10779351],\n",
       "       [2.86112531],\n",
       "       [2.89702844],\n",
       "       [2.93964682],\n",
       "       [2.84569197],\n",
       "       [2.86112531],\n",
       "       [2.89702844],\n",
       "       [2.93964682],\n",
       "       [3.33637753],\n",
       "       [3.42600271],\n",
       "       [2.84569197],\n",
       "       [2.98898046],\n",
       "       [2.83193745],\n",
       "       [3.33637753],\n",
       "       [2.83193745],\n",
       "       [2.98898046],\n",
       "       [3.07557203],\n",
       "       [2.81986173],\n",
       "       [2.83193745],\n",
       "       [2.96347423],\n",
       "       [3.0161655 ],\n",
       "       [3.10779351],\n",
       "       [3.21453085],\n",
       "       [2.96347423],\n",
       "       [2.86112531],\n",
       "       [2.96347423],\n",
       "       [3.10779351],\n",
       "       [2.96347423],\n",
       "       [2.93964682],\n",
       "       [2.81986173],\n",
       "       [2.91749822],\n",
       "       [2.96347423],\n",
       "       [2.86112531],\n",
       "       [2.86112531],\n",
       "       [3.04502936],\n",
       "       [2.98898046],\n",
       "       [2.87823747],\n",
       "       [2.84569197],\n",
       "       [2.87823747],\n",
       "       [2.91749822],\n",
       "       [2.86112531]])"
      ]
     },
     "execution_count": 60,
     "metadata": {},
     "output_type": "execute_result"
    }
   ],
   "source": [
    "predictions"
   ]
  },
  {
   "cell_type": "code",
   "execution_count": 61,
   "id": "415ab0a8",
   "metadata": {},
   "outputs": [
    {
     "name": "stdout",
     "output_type": "stream",
     "text": [
      "[2.88957618]\n"
     ]
    }
   ],
   "source": [
    "# Test: # prédire la largeur d'un pétale qui a une longueur de 2,5 cm\n",
    "X_2_5= np.array([9,3,1])\n",
    "pred_y_2_5=model(X_2_5, theta_final) \n",
    "print(pred_y_2_5)"
   ]
  },
  {
   "cell_type": "markdown",
   "id": "3d087de6",
   "metadata": {},
   "source": [
    "## 6. Courbe d'apprentissage\n",
    "\n",
    "   Pour vérifier si notre algorithme de Descente de gradient a bien fonctionné, on observe l'évolution de la fonction cout a travers les itérations. On est sensé obtenir une courbe qui diminue a chaque itération jusqu'a stagner a un niveau minimal (proche de zéro). Si la courbe ne suit pas ce motif, alors le pas learning_rate est peut-etre trop élevé, il faut prendre un pas plus faible."
   ]
  },
  {
   "cell_type": "code",
   "execution_count": 62,
   "id": "519d3dbd",
   "metadata": {},
   "outputs": [
    {
     "data": {
      "image/png": "[encoded data removed]",
      "text/plain": [
       "<Figure size 640x480 with 1 Axes>"
      ]
     },
     "metadata": {},
     "output_type": "display_data"
    }
   ],
   "source": [
    "plt.plot(range(n_iterations), cost_history)\n",
    "plt.show()"
   ]
  },
  {
   "cell_type": "markdown",
   "id": "eb5cab7c",
   "metadata": {},
   "source": [
    "## 7. Evaluation du modèle - Coefficient de détermination\n",
    "\n",
    "   Le coefficient de détermination est un indice de la qualité de la prédiction de la régression linéaire. Le coefficient de détermination se situe entre 0 et 1. Plus il est proche de 1, plus la régression linéaire est en adéquation avec les données collectées\n",
    "  "
   ]
  },
  {
   "attachments": {
    "Capture%20d'%C3%A9cran%202023-04-04%20123236.png": {
     "image/png": "[encoded data removed]"
    }
   },
   "cell_type": "markdown",
   "id": "cc10bb18",
   "metadata": {},
   "source": [
    "![Capture%20d'%C3%A9cran%202023-04-04%20123236.png](attachment:Capture%20d'%C3%A9cran%202023-04-04%20123236.png)"
   ]
  },
  {
   "cell_type": "code",
   "execution_count": 63,
   "id": "ea8f0458",
   "metadata": {},
   "outputs": [],
   "source": [
    "def coef_determination(y, pred):\n",
    "    u = ((y - pred)**2).sum()\n",
    "    v = ((y - y.mean())**2).sum()\n",
    "    return 1 - u/v"
   ]
  },
  {
   "cell_type": "code",
   "execution_count": 64,
   "id": "406b1dfe",
   "metadata": {},
   "outputs": [
    {
     "data": {
      "text/plain": [
       "0.3751341642801218"
      ]
     },
     "execution_count": 64,
     "metadata": {},
     "output_type": "execute_result"
    }
   ],
   "source": [
    "coef_determination(y, predictions)"
   ]
  },
  {
   "cell_type": "code",
   "execution_count": 65,
   "id": "84d1f8e1",
   "metadata": {},
   "outputs": [
    {
     "name": "stdout",
     "output_type": "stream",
     "text": [
      "<class 'pandas.core.frame.DataFrame'>\n",
      "RangeIndex: 150 entries, 0 to 149\n",
      "Data columns (total 5 columns):\n",
      " #   Column        Non-Null Count  Dtype  \n",
      "---  ------        --------------  -----  \n",
      " 0   sepal_length  150 non-null    float64\n",
      " 1   sepal_width   150 non-null    float64\n",
      " 2   petal_length  150 non-null    float64\n",
      " 3   petal_width   150 non-null    float64\n",
      " 4   class         150 non-null    object \n",
      "dtypes: float64(4), object(1)\n",
      "memory usage: 6.0+ KB\n"
     ]
    }
   ],
   "source": [
    "dataset.info()"
   ]
  },
  {
   "cell_type": "code",
   "execution_count": null,
   "id": "b81b4293",
   "metadata": {},
   "outputs": [],
   "source": []
  }
 ],
 "metadata": {
  "kernelspec": {
   "display_name": "Python 3 (ipykernel)",
   "language": "python",
   "name": "python3"
  },
  "language_info": {
   "codemirror_mode": {
    "name": "ipython",
    "version": 3
   },
   "file_extension": ".py",
   "mimetype": "text/x-python",
   "name": "python",
   "nbconvert_exporter": "python",
   "pygments_lexer": "ipython3",
   "version": "3.11.5"
  }
 },
 "nbformat": 4,
 "nbformat_minor": 5
}
