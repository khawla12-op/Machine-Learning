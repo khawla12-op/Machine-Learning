{
 "cells": [
  {
   "cell_type": "code",
   "execution_count": 4,
   "id": "d4108d79",
   "metadata": {},
   "outputs": [],
   "source": [
    "import numpy as np\n",
    "import pandas as pd\n",
    "import matplotlib.pyplot as plt\n",
    "from mpl_toolkits.mplot3d import Axes3D\n",
    "from sklearn.model_selection import train_test_split\n",
    "from sklearn.metrics import r2_score\n"
   ]
  },
  {
   "cell_type": "code",
   "execution_count": 5,
   "id": "256b8043",
   "metadata": {},
   "outputs": [
    {
     "name": "stdout",
     "output_type": "stream",
     "text": [
      "      TV  Radio  Newspaper  Sales\n",
      "0  230.1   37.8       69.2   22.1\n",
      "1   44.5   39.3       45.1   10.4\n",
      "2   17.2   45.9       69.3   12.0\n",
      "3  151.5   41.3       58.5   16.5\n",
      "4  180.8   10.8       58.4   17.9\n"
     ]
    }
   ],
   "source": [
    "\n",
    "# Load the dataset\n",
    "data = pd.read_csv(\"Advertising.csv\")\n",
    "\n",
    "# Display the first few rows of the dataset\n",
    "print(data.head())"
   ]
  },
  {
   "cell_type": "code",
   "execution_count": 6,
   "id": "b58f3175",
   "metadata": {},
   "outputs": [],
   "source": [
    "\n",
    "# Define features (X) and target variable (y)\n",
    "X = data[['TV', 'Radio', 'Newspaper']].values\n",
    "y = data['Sales'].values.reshape(-1, 1)"
   ]
  },
  {
   "cell_type": "code",
   "execution_count": 7,
   "id": "adfd44f3",
   "metadata": {},
   "outputs": [],
   "source": [
    "\n",
    "# Split the dataset into training and testing sets\n",
    "X_train, X_test, y_train, y_test = train_test_split(X, y, test_size=0.2, random_state=42)"
   ]
  },
  {
   "cell_type": "code",
   "execution_count": 8,
   "id": "bbff9225",
   "metadata": {},
   "outputs": [
    {
     "name": "stdout",
     "output_type": "stream",
     "text": [
      "(200, 3)\n",
      "(200, 1)\n",
      "(200, 1)\n"
     ]
    }
   ],
   "source": [
    "# Verification des dimensions\n",
    "print(X.shape)\n",
    "print(y.shape)\n",
    "\n",
    "# redimensionner y\n",
    "y = y.reshape(y.shape[0], 1)\n",
    "print(y.shape)\n"
   ]
  },
  {
   "cell_type": "code",
   "execution_count": 9,
   "id": "84fc9854",
   "metadata": {},
   "outputs": [
    {
     "name": "stdout",
     "output_type": "stream",
     "text": [
      "(200, 4)\n",
      "[[230.1  37.8  69.2   1. ]\n",
      " [ 44.5  39.3  45.1   1. ]\n",
      " [ 17.2  45.9  69.3   1. ]\n",
      " [151.5  41.3  58.5   1. ]\n",
      " [180.8  10.8  58.4   1. ]\n",
      " [  8.7  48.9  75.    1. ]\n",
      " [ 57.5  32.8  23.5   1. ]\n",
      " [120.2  19.6  11.6   1. ]\n",
      " [  8.6   2.1   1.    1. ]\n",
      " [199.8   2.6  21.2   1. ]]\n"
     ]
    }
   ],
   "source": [
    "\n",
    "# Création de la matrice X, inclut le Biais\n",
    "X = np.hstack((X, np.ones((X.shape[0], 1)))) # ajoute un vecteur Biais de dimension (X.shape[0], 1)\n",
    "\n",
    "print(X.shape)\n",
    "print(X[:10])"
   ]
  },
  {
   "cell_type": "code",
   "execution_count": 10,
   "id": "51d600b0",
   "metadata": {},
   "outputs": [
    {
     "data": {
      "text/plain": [
       "array([[0.53691666],\n",
       "       [0.77513422],\n",
       "       [1.40170968],\n",
       "       [0.99348576]])"
      ]
     },
     "execution_count": 10,
     "metadata": {},
     "output_type": "execute_result"
    }
   ],
   "source": [
    "# Initialisation du vecteur theta aléatoire, avec 4 éléments (car X a quatre colonnes maintenant)\n",
    "theta = np.random.randn(4, 1)\n",
    "theta\n"
   ]
  },
  {
   "cell_type": "code",
   "execution_count": 11,
   "id": "71045cd8",
   "metadata": {},
   "outputs": [],
   "source": [
    "# Model function\n",
    "def model(X, theta):\n",
    "    return X.dot(theta)"
   ]
  },
  {
   "cell_type": "code",
   "execution_count": 12,
   "id": "3ac8074a",
   "metadata": {},
   "outputs": [],
   "source": [
    "\n",
    "# Cost function\n",
    "def cost_function(X, y, theta):\n",
    "    m = len(y)\n",
    "    return 1/(2*m) * np.sum((model(X, theta) - y)**2)"
   ]
  },
  {
   "cell_type": "code",
   "execution_count": 13,
   "id": "39c0d465",
   "metadata": {},
   "outputs": [],
   "source": [
    "\n",
    "# Gradient function\n",
    "def grad(X, y, theta):\n",
    "    m = len(y)\n",
    "    return 1/m * X.T.dot(model(X, theta) - y)"
   ]
  },
  {
   "cell_type": "code",
   "execution_count": 14,
   "id": "746dc810",
   "metadata": {},
   "outputs": [],
   "source": [
    "\n",
    "# Gradient descent\n",
    "def gradient_descent(X, y, theta, learning_rate, n_iterations):\n",
    "    cost_history = np.zeros(n_iterations)\n",
    "    for i in range(0, n_iterations):\n",
    "        theta = theta - learning_rate * grad(X, y, theta)\n",
    "        cost_history[i] = cost_function(X, y, theta)\n",
    "    return theta, cost_history"
   ]
  },
  {
   "cell_type": "code",
   "execution_count": 15,
   "id": "16408b87",
   "metadata": {},
   "outputs": [],
   "source": [
    "\n",
    "# Train the model\n",
    "n_iterations = 100000\n",
    "learning_rate = 0.00003\n",
    "\n",
    "theta_final, cost_history = gradient_descent(X, y, theta, learning_rate, n_iterations)"
   ]
  },
  {
   "cell_type": "code",
   "execution_count": 16,
   "id": "92ab6c9f",
   "metadata": {},
   "outputs": [
    {
     "ename": "NameError",
     "evalue": "name 'ax' is not defined",
     "output_type": "error",
     "traceback": [
      "\u001b[1;31m---------------------------------------------------------------------------\u001b[0m",
      "\u001b[1;31mNameError\u001b[0m                                 Traceback (most recent call last)",
      "Cell \u001b[1;32mIn[16], line 8\u001b[0m\n\u001b[0;32m      4\u001b[0m theta_final\n\u001b[0;32m      5\u001b[0m \u001b[38;5;66;03m#%matplotlib notebook\u001b[39;00m\n\u001b[0;32m      6\u001b[0m \n\u001b[0;32m      7\u001b[0m \u001b[38;5;66;03m# affiche les noms des axes\u001b[39;00m\n\u001b[1;32m----> 8\u001b[0m ax\u001b[38;5;241m.\u001b[39mset_xlabel(\u001b[38;5;124m'\u001b[39m\u001b[38;5;124mTV\u001b[39m\u001b[38;5;124m'\u001b[39m)\n\u001b[0;32m      9\u001b[0m ax\u001b[38;5;241m.\u001b[39mset_ylabel(\u001b[38;5;124m'\u001b[39m\u001b[38;5;124mRadio\u001b[39m\u001b[38;5;124m'\u001b[39m)\n\u001b[0;32m     10\u001b[0m ax\u001b[38;5;241m.\u001b[39mset_zlabel(\u001b[38;5;124m'\u001b[39m\u001b[38;5;124mNewspaper\u001b[39m\u001b[38;5;124m'\u001b[39m)\n",
      "\u001b[1;31mNameError\u001b[0m: name 'ax' is not defined"
     ]
    }
   ],
   "source": [
    "\n",
    "\n",
    "\n",
    "# création d'un vecteur prédictions qui contient les prédictions de notre modele final\n",
    "predictions = model(X, theta_final)\n",
    "\n",
    "theta_final\n",
    "#%matplotlib notebook\n",
    "\n",
    "# affiche les noms des axes\n",
    "ax.set_xlabel('TV')\n",
    "ax.set_ylabel('Radio')\n",
    "ax.set_zlabel('Newspaper')\n",
    "plt.plot(range(n_iterations), cost_history)\n",
    "plt.show()"
   ]
  },
  {
   "cell_type": "code",
   "execution_count": null,
   "id": "a558a003",
   "metadata": {},
   "outputs": [],
   "source": [
    "fig = plt.figure()\n",
    "ax = fig.add_subplot(111, projection='3d')\n",
    "ax.scatter(X[:,0], X[:,1], y)\n",
    "ax.scatter(X[:,0], X[:,1], predictions)"
   ]
  },
  {
   "cell_type": "code",
   "execution_count": null,
   "id": "bda8d0fc",
   "metadata": {},
   "outputs": [],
   "source": [
    "\n",
    "def coef_determination(y, pred):\n",
    "    u = ((y - pred)**2).sum()\n",
    "    v = ((y - y.mean())**2).sum()\n",
    "    return 1 - u/v\n",
    "coef_determination(y, predictions) "
   ]
  },
  {
   "cell_type": "code",
   "execution_count": null,
   "id": "0d4fe0a5",
   "metadata": {},
   "outputs": [],
   "source": [
    "\n",
    "# Make predictions\n",
    "predictions = model(np.hstack((X_test, np.ones((X_test.shape[0], 1)))), theta_final)"
   ]
  },
  {
   "cell_type": "code",
   "execution_count": null,
   "id": "42aa74a3",
   "metadata": {},
   "outputs": [],
   "source": [
    "\n",
    "\n",
    "# Evaluate the model\n",
    "r2 = r2_score(y_test, predictions)"
   ]
  },
  {
   "cell_type": "code",
   "execution_count": null,
   "id": "32a58f1a",
   "metadata": {},
   "outputs": [],
   "source": [
    "\n",
    "# Print the coefficients\n",
    "coefficients = theta_final[:-1].flatten()\n",
    "intercept = theta_final[-1]\n",
    "print(\"Coefficients:\", coefficients)\n",
    "print(\"Intercept:\", intercept)\n"
   ]
  },
  {
   "cell_type": "code",
   "execution_count": null,
   "id": "1d69841b",
   "metadata": {},
   "outputs": [],
   "source": [
    "\n",
    "# Print the R-squared value\n",
    "print(\"R-squared:\", r2)"
   ]
  },
  {
   "cell_type": "code",
   "execution_count": null,
   "id": "ad056ee3",
   "metadata": {},
   "outputs": [],
   "source": [
    "\n",
    "# Display correlation matrix\n",
    "correlation_matrix = np.corrcoef(X_train[:, :-1], rowvar=False)\n",
    "\n",
    "print(\"Correlation Matrix:\")\n",
    "print(correlation_matrix)"
   ]
  },
  {
   "cell_type": "code",
   "execution_count": null,
   "id": "cdd2d0b1",
   "metadata": {},
   "outputs": [],
   "source": [
    "\n",
    "\n",
    "\n",
    "# Plot predictions vs actual\n",
    "plt.scatter(y_test, predictions)\n",
    "plt.xlabel(\"Actual Sales\")\n",
    "plt.ylabel(\"Predicted Sales\")\n",
    "plt.title(\"Actual vs Predicted Sales\")\n",
    "plt.show()"
   ]
  },
  {
   "cell_type": "code",
   "execution_count": 19,
   "id": "081b7704",
   "metadata": {},
   "outputs": [],
   "source": [
    "import joblib \n",
    "joblib.dump(model,'model.joblib')"
   ]
  },
  {
   "cell_type": "code",
   "execution_count": null,
   "id": "c5caced9",
   "metadata": {},
   "outputs": [],
   "source": [
    "model"
   ]
  },
  {
   "cell_type": "code",
   "execution_count": null,
   "id": "431c2d93",
   "metadata": {},
   "outputs": [],
   "source": []
  }
 ],
 "metadata": {
  "kernelspec": {
   "display_name": "Python 3 (ipykernel)",
   "language": "python",
   "name": "python3"
  },
  "language_info": {
   "codemirror_mode": {
    "name": "ipython",
    "version": 3
   },
   "file_extension": ".py",
   "mimetype": "text/x-python",
   "name": "python",
   "nbconvert_exporter": "python",
   "pygments_lexer": "ipython3",
   "version": "3.11.5"
  }
 },
 "nbformat": 4,
 "nbformat_minor": 5
}
