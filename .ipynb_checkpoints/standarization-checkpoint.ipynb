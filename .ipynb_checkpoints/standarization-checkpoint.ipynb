{
 "cells": [
  {
   "cell_type": "code",
   "execution_count": null,
   "id": "33e30ed4",
   "metadata": {
    "id": "33e30ed4"
   },
   "outputs": [],
   "source": [
    "import numpy as np"
   ]
  },
  {
   "cell_type": "code",
   "execution_count": null,
   "id": "7d2449f2",
   "metadata": {
    "id": "7d2449f2",
    "outputId": "adbd673a-b722-425a-c853-0c6aaa953a12"
   },
   "outputs": [
    {
     "name": "stdout",
     "output_type": "stream",
     "text": [
      "-Données normalisées :\n",
      " [[-1.22474487  1.38218948  1.02538886]\n",
      " [ 0.         -0.43193421  0.3307706 ]\n",
      " [ 1.22474487 -0.95025527 -1.35615946]]\n",
      "\n",
      "-Moyennes avant normalisation :\n",
      " [ 4.          6.66666667 22.66666667]\n",
      "\n",
      "-Déviations standard avant normalisation : [ 2.44948974  3.8586123  10.07747764]\n",
      "\n",
      "-Moyenne sur l'ensemble du tableau aplati (pas d'axe spécifié): 11.11111111111111\n",
      "\n",
      "-Écart-type sur l'ensemble du tableau aplati (pas d'axe spécifié): 10.429066693562058\n"
     ]
    }
   ],
   "source": [
    "def z_score_normalization(data):\n",
    "    \"\"\"\n",
    "    Normalise les caractéristiques d'un ensemble de données en utilisant la méthode Z-score.\n",
    "\n",
    "    Args:\n",
    "    - data : un tableau NumPy contenant les données à normaliser. Chaque colonne représente une caractéristique.\n",
    "\n",
    "    Returns:\n",
    "    - data_normalized : le tableau NumPy contenant les données normalisées.\n",
    "    - mean : le tableau NumPy contenant les moyennes de chaque caractéristique avant normalisation.\n",
    "    - std : le tableau NumPy contenant les déviations standard de chaque caractéristique avant normalisation.\n",
    "    \"\"\"\n",
    "    # Calcul des moyennes et des déviations standard de chaque caractéristique\n",
    "    mean = np.mean(data, axis=0)\n",
    "    std = np.std(data, axis=0)\n",
    "    mean_no_axis = np.mean(data)\n",
    "    std_dev_no_axis = np.std(data)\n",
    "    # Normalisation des données en utilisant la méthode Z-score\n",
    "    data_normalized = (data - mean) / std\n",
    "\n",
    "    return data_normalized, mean, std, mean_no_axis,  std_dev_no_axis\n",
    "\n",
    "# Exemple d'utilisation :\n",
    "data = np.array([[1, 12, 33],\n",
    "                 [4, 5, 26],\n",
    "                 [7, 3, 9]])\n",
    "\n",
    "data_normalized, mean, std,mean_no_axis, std_dev_no_axis = z_score_normalization(data)\n",
    "print(\"-Données normalisées :\\n\", data_normalized)\n",
    "print(\"\\n-Moyennes avant normalisation :\\n\", mean)\n",
    "print(\"\\n-Déviations standard avant normalisation :\", std)\n",
    "print(\"\\n-Moyenne sur l'ensemble du tableau aplati (pas d'axe spécifié):\", mean_no_axis)\n",
    "print(\"\\n-Écart-type sur l'ensemble du tableau aplati (pas d'axe spécifié):\", std_dev_no_axis)\n"
   ]
  },
  {
   "cell_type": "code",
   "execution_count": null,
   "id": "3d32647c",
   "metadata": {
    "id": "3d32647c"
   },
   "outputs": [],
   "source": []
  }
 ],
 "metadata": {
  "colab": {
   "provenance": []
  },
  "kernelspec": {
   "display_name": "Python 3 (ipykernel)",
   "language": "python",
   "name": "python3"
  },
  "language_info": {
   "codemirror_mode": {
    "name": "ipython",
    "version": 3
   },
   "file_extension": ".py",
   "mimetype": "text/x-python",
   "name": "python",
   "nbconvert_exporter": "python",
   "pygments_lexer": "ipython3",
   "version": "3.11.5"
  }
 },
 "nbformat": 4,
 "nbformat_minor": 5
}
