{
 "cells": [
  {
   "cell_type": "code",
   "execution_count": 85,
   "id": "6a936f00",
   "metadata": {
    "id": "6a936f00"
   },
   "outputs": [],
   "source": [
    "import numpy as np\n",
    "import pandas as pd\n",
    "import matplotlib.pyplot as plt\n",
    "from sklearn.model_selection import train_test_split\n",
    "%matplotlib inline\n"
   ]
  },
  {
   "cell_type": "markdown",
   "id": "61a62d0e",
   "metadata": {
    "id": "61a62d0e"
   },
   "source": [
    "###  Régression linéaire Simple\n",
    "Adversitising sales Using TV"
   ]
  },
  {
   "cell_type": "code",
   "execution_count": 86,
   "id": "4d41624e",
   "metadata": {
    "id": "4d41624e"
   },
   "outputs": [],
   "source": [
    "# chargement du dataset\n",
    "df = pd.read_csv(\"advertising.csv\")"
   ]
  },
  {
   "cell_type": "code",
   "execution_count": 87,
   "id": "239edbda",
   "metadata": {
    "id": "239edbda",
    "outputId": "2da996b2-c962-4cab-8106-e468056864f2"
   },
   "outputs": [
    {
     "data": {
      "text/html": [
       "<div>\n",
       "<style scoped>\n",
       "    .dataframe tbody tr th:only-of-type {\n",
       "        vertical-align: middle;\n",
       "    }\n",
       "\n",
       "    .dataframe tbody tr th {\n",
       "        vertical-align: top;\n",
       "    }\n",
       "\n",
       "    .dataframe thead th {\n",
       "        text-align: right;\n",
       "    }\n",
       "</style>\n",
       "<table border=\"1\" class=\"dataframe\">\n",
       "  <thead>\n",
       "    <tr style=\"text-align: right;\">\n",
       "      <th></th>\n",
       "      <th>TV</th>\n",
       "      <th>Radio</th>\n",
       "      <th>Newspaper</th>\n",
       "      <th>Sales</th>\n",
       "    </tr>\n",
       "  </thead>\n",
       "  <tbody>\n",
       "    <tr>\n",
       "      <th>0</th>\n",
       "      <td>230.1</td>\n",
       "      <td>37.8</td>\n",
       "      <td>69.2</td>\n",
       "      <td>22.1</td>\n",
       "    </tr>\n",
       "    <tr>\n",
       "      <th>1</th>\n",
       "      <td>44.5</td>\n",
       "      <td>39.3</td>\n",
       "      <td>45.1</td>\n",
       "      <td>10.4</td>\n",
       "    </tr>\n",
       "    <tr>\n",
       "      <th>2</th>\n",
       "      <td>17.2</td>\n",
       "      <td>45.9</td>\n",
       "      <td>69.3</td>\n",
       "      <td>12.0</td>\n",
       "    </tr>\n",
       "    <tr>\n",
       "      <th>3</th>\n",
       "      <td>151.5</td>\n",
       "      <td>41.3</td>\n",
       "      <td>58.5</td>\n",
       "      <td>16.5</td>\n",
       "    </tr>\n",
       "    <tr>\n",
       "      <th>4</th>\n",
       "      <td>180.8</td>\n",
       "      <td>10.8</td>\n",
       "      <td>58.4</td>\n",
       "      <td>17.9</td>\n",
       "    </tr>\n",
       "  </tbody>\n",
       "</table>\n",
       "</div>"
      ],
      "text/plain": [
       "      TV  Radio  Newspaper  Sales\n",
       "0  230.1   37.8       69.2   22.1\n",
       "1   44.5   39.3       45.1   10.4\n",
       "2   17.2   45.9       69.3   12.0\n",
       "3  151.5   41.3       58.5   16.5\n",
       "4  180.8   10.8       58.4   17.9"
      ]
     },
     "execution_count": 87,
     "metadata": {},
     "output_type": "execute_result"
    }
   ],
   "source": [
    "df.head()"
   ]
  },
  {
   "cell_type": "code",
   "execution_count": 101,
   "id": "67512aa0",
   "metadata": {
    "id": "67512aa0"
   },
   "outputs": [],
   "source": [
    "# Extraction des colonnes X\n",
    "X = df[['TV', 'Radio', 'Newspaper']]\n",
    "# Extraction de la colonne y\n",
    "y = df['Sales']"
   ]
  },
  {
   "cell_type": "code",
   "execution_count": 90,
   "id": "c4b03c22",
   "metadata": {
    "id": "c4b03c22",
    "outputId": "7291a45d-1234-4c16-f712-9c7efa08edfa"
   },
   "outputs": [
    {
     "data": {
      "text/plain": [
       "0      22.1\n",
       "1      10.4\n",
       "2      12.0\n",
       "3      16.5\n",
       "4      17.9\n",
       "       ... \n",
       "195     7.6\n",
       "196    14.0\n",
       "197    14.8\n",
       "198    25.5\n",
       "199    18.4\n",
       "Name: Sales, Length: 200, dtype: float64"
      ]
     },
     "execution_count": 90,
     "metadata": {},
     "output_type": "execute_result"
    }
   ],
   "source": [
    "y"
   ]
  },
  {
   "cell_type": "code",
   "execution_count": 103,
   "id": "952300ab",
   "metadata": {},
   "outputs": [],
   "source": [
    "x1=df.TV\n",
    "x2=df.Radio\n",
    "x3=df.Newspaper"
   ]
  },
  {
   "cell_type": "code",
   "execution_count": 91,
   "id": "e932d4aa",
   "metadata": {
    "id": "e932d4aa",
    "outputId": "1ee7dd9a-1e8a-4b03-d6a2-bac35550c1b8"
   },
   "outputs": [
    {
     "name": "stdout",
     "output_type": "stream",
     "text": [
      "(200, 3)\n",
      "(200,)\n"
     ]
    }
   ],
   "source": [
    "print(X.shape)\n",
    "print(y.shape)\n"
   ]
  },
  {
   "cell_type": "code",
   "execution_count": 104,
   "id": "5bc7fb02",
   "metadata": {},
   "outputs": [
    {
     "data": {
      "text/plain": [
       "0      230.1\n",
       "1       44.5\n",
       "2       17.2\n",
       "3      151.5\n",
       "4      180.8\n",
       "       ...  \n",
       "195     38.2\n",
       "196     94.2\n",
       "197    177.0\n",
       "198    283.6\n",
       "199    232.1\n",
       "Name: TV, Length: 200, dtype: float64"
      ]
     },
     "execution_count": 104,
     "metadata": {},
     "output_type": "execute_result"
    }
   ],
   "source": [
    "x"
   ]
  },
  {
   "cell_type": "code",
   "execution_count": 92,
   "id": "3ce39950",
   "metadata": {
    "id": "3ce39950",
    "outputId": "dbd036ef-0387-41b4-fe48-23f93773267f"
   },
   "outputs": [
    {
     "data": {
      "text/plain": [
       "(200, 3)"
      ]
     },
     "execution_count": 92,
     "metadata": {},
     "output_type": "execute_result"
    }
   ],
   "source": [
    "X.shape"
   ]
  },
  {
   "cell_type": "code",
   "execution_count": 93,
   "id": "11522822",
   "metadata": {
    "id": "11522822",
    "outputId": "0994e430-253d-45fe-af85-4147cb5f88b9"
   },
   "outputs": [
    {
     "data": {
      "text/plain": [
       "(200, 1)"
      ]
     },
     "execution_count": 93,
     "metadata": {},
     "output_type": "execute_result"
    }
   ],
   "source": [
    "y=y.values.reshape(-1,1)\n",
    "y.shape"
   ]
  },
  {
   "cell_type": "code",
   "execution_count": 105,
   "id": "f9d190d4",
   "metadata": {
    "id": "f9d190d4"
   },
   "outputs": [],
   "source": [
    "from sklearn.model_selection import train_test_split\n",
    "x1_train, x1_test, y_train, y_test = train_test_split(x, y, test_size=0.2, random_state=42)"
   ]
  },
  {
   "cell_type": "code",
   "execution_count": 107,
   "id": "f448fb4b",
   "metadata": {},
   "outputs": [
    {
     "name": "stdout",
     "output_type": "stream",
     "text": [
      "(160,)\n",
      "(40,)\n",
      "(160,)\n",
      "(40,)\n"
     ]
    }
   ],
   "source": [
    "print(x1_train.shape)\n",
    "print(x1_test.shape)\n",
    "print(y_train.shape)\n",
    "print(y_test.shape)"
   ]
  },
  {
   "cell_type": "code",
   "execution_count": null,
   "id": "fe869d23",
   "metadata": {
    "id": "fe869d23",
    "outputId": "3d6fe5a8-f1bb-4eca-8abe-d1e092c9cb4e"
   },
   "outputs": [],
   "source": []
  },
  {
   "cell_type": "code",
   "execution_count": 97,
   "id": "903acd87",
   "metadata": {
    "id": "903acd87",
    "outputId": "e97865f3-f630-4686-8285-b9d7eacdc275"
   },
   "outputs": [
    {
     "name": "stdout",
     "output_type": "stream",
     "text": [
      "Theta: [[1.76405235]\n",
      " [0.40015721]\n",
      " [0.97873798]\n",
      " [2.2408932 ]]\n"
     ]
    }
   ],
   "source": [
    "np.random.seed(0) # pour produire toujours le meme vecteur theta aléatoire\n",
    "theta=np.random.randn(4,1)\n",
    "print('Theta:',theta)"
   ]
  },
  {
   "cell_type": "code",
   "execution_count": 98,
   "id": "98e7cea8",
   "metadata": {
    "id": "98e7cea8"
   },
   "outputs": [],
   "source": [
    "def model(X, theta):\n",
    "    return X.dot(theta)"
   ]
  },
  {
   "cell_type": "code",
   "execution_count": 99,
   "id": "e519da26",
   "metadata": {
    "id": "e519da26"
   },
   "outputs": [],
   "source": [
    "def cost_function(X, y, theta):\n",
    "    m = len(y)\n",
    "    return 1/(2*m) * np.sum((model(X, theta) - y)**2)"
   ]
  },
  {
   "cell_type": "code",
   "execution_count": 100,
   "id": "00538829",
   "metadata": {
    "id": "00538829",
    "outputId": "53350551-7486-4862-ca93-2b93dc5bb773"
   },
   "outputs": [
    {
     "ename": "ValueError",
     "evalue": "shapes (320,) and (4,1) not aligned: 320 (dim 0) != 4 (dim 0)",
     "output_type": "error",
     "traceback": [
      "\u001b[1;31m---------------------------------------------------------------------------\u001b[0m",
      "\u001b[1;31mValueError\u001b[0m                                Traceback (most recent call last)",
      "Cell \u001b[1;32mIn[100], line 1\u001b[0m\n\u001b[1;32m----> 1\u001b[0m cost_function(X_train, y_train, theta)\n",
      "Cell \u001b[1;32mIn[99], line 3\u001b[0m, in \u001b[0;36mcost_function\u001b[1;34m(X, y, theta)\u001b[0m\n\u001b[0;32m      1\u001b[0m \u001b[38;5;28;01mdef\u001b[39;00m \u001b[38;5;21mcost_function\u001b[39m(X, y, theta):\n\u001b[0;32m      2\u001b[0m     m \u001b[38;5;241m=\u001b[39m \u001b[38;5;28mlen\u001b[39m(y)\n\u001b[1;32m----> 3\u001b[0m     \u001b[38;5;28;01mreturn\u001b[39;00m \u001b[38;5;241m1\u001b[39m\u001b[38;5;241m/\u001b[39m(\u001b[38;5;241m2\u001b[39m\u001b[38;5;241m*\u001b[39mm) \u001b[38;5;241m*\u001b[39m np\u001b[38;5;241m.\u001b[39msum((model(X, theta) \u001b[38;5;241m-\u001b[39m y)\u001b[38;5;241m*\u001b[39m\u001b[38;5;241m*\u001b[39m\u001b[38;5;241m2\u001b[39m)\n",
      "Cell \u001b[1;32mIn[98], line 2\u001b[0m, in \u001b[0;36mmodel\u001b[1;34m(X, theta)\u001b[0m\n\u001b[0;32m      1\u001b[0m \u001b[38;5;28;01mdef\u001b[39;00m \u001b[38;5;21mmodel\u001b[39m(X, theta):\n\u001b[1;32m----> 2\u001b[0m     \u001b[38;5;28;01mreturn\u001b[39;00m X\u001b[38;5;241m.\u001b[39mdot(theta)\n",
      "\u001b[1;31mValueError\u001b[0m: shapes (320,) and (4,1) not aligned: 320 (dim 0) != 4 (dim 0)"
     ]
    }
   ],
   "source": [
    "cost_function(X_train, y_train, theta)"
   ]
  },
  {
   "cell_type": "code",
   "execution_count": null,
   "id": "21a9984a",
   "metadata": {
    "id": "21a9984a"
   },
   "outputs": [],
   "source": [
    "def grad(X, y, theta):\n",
    "    m = len(y)\n",
    "    return 1/m * X.T.dot(model(X, theta) - y)"
   ]
  },
  {
   "cell_type": "code",
   "execution_count": null,
   "id": "f76b6720",
   "metadata": {
    "id": "f76b6720"
   },
   "outputs": [],
   "source": [
    "def gradient_descent(X, y, theta, learning_rate, n_iterations):\n",
    "\n",
    "    cost_history = np.zeros(n_iterations) # création d'un tableau de stockage pour enregistrer l'évolution du Cout du modele\n",
    "\n",
    "    for i in range(0, n_iterations):\n",
    "        theta = theta - learning_rate * grad(X, y, theta) # mise a jour du parametre theta (formule du gradient descent)\n",
    "        cost_history[i] = cost_function(X, y, theta) # on enregistre la valeur du Cout au tour i dans cost_history[i]\n",
    "\n",
    "    return theta, cost_history"
   ]
  },
  {
   "cell_type": "code",
   "execution_count": null,
   "id": "e665382e",
   "metadata": {
    "id": "e665382e"
   },
   "outputs": [],
   "source": [
    "n_iterations = 10000\n",
    "learning_rate = 0.03\n",
    "\n",
    "theta_final, cost_history = gradient_descent(X_train, y_train, theta, learning_rate, n_iterations)"
   ]
  },
  {
   "cell_type": "code",
   "execution_count": null,
   "id": "b65649e1",
   "metadata": {
    "id": "b65649e1",
    "outputId": "f7678370-6815-45bd-b91a-18e77abee9de"
   },
   "outputs": [],
   "source": [
    "theta_final"
   ]
  },
  {
   "cell_type": "code",
   "execution_count": null,
   "id": "42937239",
   "metadata": {
    "id": "42937239"
   },
   "outputs": [],
   "source": [
    "# création d'un vecteur prédictions qui contient les prédictions de notre modele final\n",
    "predictions_test = model(X_test, theta_final)\n",
    "predictions_train = model(X_train, theta_final)"
   ]
  },
  {
   "cell_type": "code",
   "execution_count": null,
   "id": "9c921e53",
   "metadata": {
    "id": "9c921e53",
    "outputId": "bf31191a-9208-4a5d-93e3-444564e6fabc"
   },
   "outputs": [],
   "source": [
    "predictions_train"
   ]
  },
  {
   "cell_type": "code",
   "execution_count": null,
   "id": "1797c159",
   "metadata": {
    "id": "1797c159",
    "outputId": "8cf353f0-c5cc-4be9-aecf-49cd5e3cd6d2"
   },
   "outputs": [],
   "source": [
    "plt.plot(range(n_iterations), cost_history)\n",
    "plt.show()"
   ]
  },
  {
   "cell_type": "code",
   "execution_count": null,
   "id": "85432689",
   "metadata": {
    "id": "85432689"
   },
   "outputs": [],
   "source": [
    "def coef_determination(y, pred):\n",
    "    u = ((y - pred)**2).sum()\n",
    "    v = ((y - y.mean())**2).sum()\n",
    "    return 1 - u/v"
   ]
  },
  {
   "cell_type": "code",
   "execution_count": null,
   "id": "caec1640",
   "metadata": {
    "id": "caec1640",
    "outputId": "72ef1181-a18c-4bf1-a1ed-13620ff7a44b"
   },
   "outputs": [],
   "source": [
    "coef_determination(y_test, predictions_test)"
   ]
  },
  {
   "cell_type": "code",
   "execution_count": null,
   "id": "4608f6ec",
   "metadata": {
    "id": "4608f6ec",
    "outputId": "96339362-6b81-419c-a85f-94292e91b97d"
   },
   "outputs": [],
   "source": [
    "coef_determination(y_train, predictions_train)"
   ]
  },
  {
   "cell_type": "markdown",
   "id": "f86b406e",
   "metadata": {
    "id": "f86b406e"
   },
   "source": [
    "###  Régression polynômiale multivariée de degré 2"
   ]
  },
  {
   "cell_type": "code",
   "execution_count": null,
   "id": "63208253",
   "metadata": {
    "id": "63208253"
   },
   "outputs": [],
   "source": [
    "# chargement du dataset\n",
    "data = pd.read_csv(\"advertising.csv\")"
   ]
  },
  {
   "cell_type": "code",
   "execution_count": null,
   "id": "96e9d2ba",
   "metadata": {
    "id": "96e9d2ba",
    "outputId": "685fca22-b6bf-487c-f6bb-d0bd36e47f04"
   },
   "outputs": [],
   "source": [
    "# Extraction des colonnes X\n",
    "X = data[['TV', 'Radio', 'Newspaper']]\n",
    "\n",
    "#X = df[['TV', 'Radio']]\n",
    "# Extraction de la colonne y\n",
    "y = data['Sales']\n",
    "a=X.iloc[:,0:1].values\n",
    "b=X.iloc[:,1:2].values\n",
    "c=X.iloc[:,2:3].values\n",
    "print(a)\n"
   ]
  },
  {
   "cell_type": "code",
   "execution_count": null,
   "id": "0f0cb8b7",
   "metadata": {
    "id": "0f0cb8b7"
   },
   "outputs": [],
   "source": [
    "X = np.hstack((a,b,c,a**2,b**2,c**2,a*b,a*c,b*c))"
   ]
  },
  {
   "cell_type": "code",
   "execution_count": null,
   "id": "205df7aa",
   "metadata": {
    "id": "205df7aa",
    "outputId": "8bc86c3d-042d-46bb-f3ee-665484427e51"
   },
   "outputs": [],
   "source": [
    "X.shape"
   ]
  },
  {
   "cell_type": "code",
   "execution_count": null,
   "id": "b562980d",
   "metadata": {
    "id": "b562980d",
    "outputId": "03385c97-653e-473d-a424-8e10c2468fbc"
   },
   "outputs": [],
   "source": [
    "X"
   ]
  },
  {
   "cell_type": "code",
   "execution_count": null,
   "id": "f2f6f7c9",
   "metadata": {
    "id": "f2f6f7c9",
    "outputId": "b8c7b1d3-56fe-4709-d695-488a72e8e26a"
   },
   "outputs": [],
   "source": [
    "y=y.values.reshape(-1,1)\n",
    "y.shape"
   ]
  },
  {
   "cell_type": "code",
   "execution_count": null,
   "id": "eb4bb3de",
   "metadata": {
    "id": "eb4bb3de",
    "outputId": "66bc838f-08c2-42cf-d215-a63523d52b4f"
   },
   "outputs": [],
   "source": [
    "from sklearn.model_selection import train_test_split\n",
    "X_train, X_test, y_train, y_test = train_test_split(X, y, test_size=0.2, random_state=42)\n",
    "X_train.shape"
   ]
  },
  {
   "cell_type": "code",
   "execution_count": null,
   "id": "790ae95e",
   "metadata": {
    "id": "790ae95e"
   },
   "outputs": [],
   "source": [
    "\n",
    "X_train=(X_train-X_train.mean())/X_train.std()\n",
    "X_test=(X_test-X_test.mean())/X_test.std()\n",
    "\n",
    "#from sklearn.preprocessing import StandardScaler\n",
    "# Initialisez le StandardScaler\n",
    "#scaler = StandardScaler()\n",
    "# Normalisez X_train et X_test\n",
    "#X_train = scaler.fit_transform(X_train)\n",
    "#X_test= scaler.fit_transform(X_test)\n",
    "\n",
    "X_train = np.hstack((X_train, np.ones((X_train.shape[0], 1))))\n",
    "X_test = np.hstack((X_test, np.ones((X_test.shape[0], 1))))\n"
   ]
  },
  {
   "cell_type": "code",
   "execution_count": null,
   "id": "5b46ff44",
   "metadata": {
    "id": "5b46ff44",
    "outputId": "d3956c30-65ae-4fc4-f70e-3665cae67c23"
   },
   "outputs": [],
   "source": [
    "X_train.shape"
   ]
  },
  {
   "cell_type": "code",
   "execution_count": null,
   "id": "3c3855dc",
   "metadata": {
    "id": "3c3855dc",
    "outputId": "86fe59f7-5ba7-4bc2-b371-12f96bbd4000"
   },
   "outputs": [],
   "source": [
    "X_train"
   ]
  },
  {
   "cell_type": "code",
   "execution_count": null,
   "id": "4e24df76",
   "metadata": {
    "id": "4e24df76",
    "outputId": "1a78fa5a-4618-412a-cff8-c6b4adc51bd5"
   },
   "outputs": [],
   "source": [
    "np.random.seed(0) # pour produire toujours le meme vecteur theta aléatoire\n",
    "theta=np.random.randn(10,1)\n",
    "print('Theta:',theta)"
   ]
  },
  {
   "cell_type": "code",
   "execution_count": null,
   "id": "887a6236",
   "metadata": {
    "id": "887a6236"
   },
   "outputs": [],
   "source": [
    "#def model(X, theta):\n",
    "    #return X.dot(theta)\n",
    "def model(X, theta):\n",
    "    return np.dot(X, theta)"
   ]
  },
  {
   "cell_type": "code",
   "execution_count": null,
   "id": "55f77563",
   "metadata": {
    "id": "55f77563"
   },
   "outputs": [],
   "source": [
    "def cost_function(X, y, theta):\n",
    "    m = len(y)\n",
    "    return 1/(2*m) * np.sum((model(X, theta) - y)**2)\n"
   ]
  },
  {
   "cell_type": "code",
   "execution_count": null,
   "id": "d6e28948",
   "metadata": {
    "id": "d6e28948",
    "outputId": "7e7464d1-d6b6-4b64-8ec6-fd9cf9a0249f"
   },
   "outputs": [],
   "source": [
    "cost_function(X_train, y_train, theta)"
   ]
  },
  {
   "cell_type": "code",
   "execution_count": null,
   "id": "a5e26266",
   "metadata": {
    "id": "a5e26266"
   },
   "outputs": [],
   "source": [
    "# définir la fonction de gradient\n",
    "def grad(X, y, theta):\n",
    "    m = len(y)\n",
    "    return 1/m * X.T.dot(model(X, theta) - y)"
   ]
  },
  {
   "cell_type": "code",
   "execution_count": null,
   "id": "8022da72",
   "metadata": {
    "id": "8022da72"
   },
   "outputs": [],
   "source": [
    "# Définir la descente de gradient\n",
    "def gradient_descent(X, y, theta, learning_rate, n_iterations):\n",
    "\n",
    "    cost_history = np.zeros(n_iterations) # création d'un tableau de stockage pour enregistrer l'évolution du Cout du modele\n",
    "\n",
    "    for i in range(0, n_iterations):\n",
    "        theta = theta - learning_rate * grad(X, y, theta) # mise a jour du parametre theta (formule du gradient descent)\n",
    "        cost_history[i] = cost_function(X, y, theta) # on enregistre la valeur du Cout au tour i dans cost_history[i]\n",
    "\n",
    "    return theta, cost_history"
   ]
  },
  {
   "cell_type": "code",
   "execution_count": null,
   "id": "83c5bbd0",
   "metadata": {
    "id": "83c5bbd0"
   },
   "outputs": [],
   "source": [
    "# Entrainement du modèle\n",
    "n_iterations = 10000\n",
    "learning_rate = 0.03\n",
    "\n",
    "theta_final, cost_history = gradient_descent(X_train, y_train, theta, learning_rate, n_iterations)"
   ]
  },
  {
   "cell_type": "code",
   "execution_count": null,
   "id": "3dcece11",
   "metadata": {
    "id": "3dcece11",
    "outputId": "9396451f-e029-4536-82a3-95f7d2b54c1a"
   },
   "outputs": [],
   "source": [
    "theta_final"
   ]
  },
  {
   "cell_type": "code",
   "execution_count": null,
   "id": "dcfc0e89",
   "metadata": {
    "id": "dcfc0e89"
   },
   "outputs": [],
   "source": [
    "# création d'un vecteur prédictions qui contient les prédictions de notre modele final\n",
    "predictions_test = model(X_test, theta_final)\n",
    "predictions_train = model(X_train, theta_final)"
   ]
  },
  {
   "cell_type": "code",
   "execution_count": null,
   "id": "0c938940",
   "metadata": {
    "id": "0c938940"
   },
   "outputs": [],
   "source": []
  },
  {
   "cell_type": "code",
   "execution_count": null,
   "id": "5cbcd295",
   "metadata": {
    "id": "5cbcd295",
    "outputId": "ee2ee3b7-2828-4ce9-e488-9496031f6325"
   },
   "outputs": [],
   "source": [
    "plt.plot(range(n_iterations), cost_history)\n",
    "plt.show()"
   ]
  },
  {
   "cell_type": "code",
   "execution_count": null,
   "id": "54c2ed52",
   "metadata": {
    "id": "54c2ed52"
   },
   "outputs": [],
   "source": [
    "def coef_determination(y, pred):\n",
    "    u = ((y - pred)**2).sum()\n",
    "    v = ((y - y.mean())**2).sum()\n",
    "    return 1 - u/v\n"
   ]
  },
  {
   "cell_type": "code",
   "execution_count": null,
   "id": "d16bccea",
   "metadata": {
    "id": "d16bccea",
    "outputId": "fc7ebca8-b09a-4647-e1c4-66ed80535cd2"
   },
   "outputs": [],
   "source": [
    "coef_determination(y_test, predictions_test)"
   ]
  },
  {
   "cell_type": "code",
   "execution_count": null,
   "id": "1fea33bb",
   "metadata": {
    "id": "1fea33bb",
    "outputId": "77157f43-22c9-41f0-dd64-9fac8a3e6c73"
   },
   "outputs": [],
   "source": [
    "coef_determination(y_train, predictions_train)"
   ]
  }
 ],
 "metadata": {
  "colab": {
   "provenance": []
  },
  "kernelspec": {
   "display_name": "Python 3 (ipykernel)",
   "language": "python",
   "name": "python3"
  },
  "language_info": {
   "codemirror_mode": {
    "name": "ipython",
    "version": 3
   },
   "file_extension": ".py",
   "mimetype": "text/x-python",
   "name": "python",
   "nbconvert_exporter": "python",
   "pygments_lexer": "ipython3",
   "version": "3.11.5"
  }
 },
 "nbformat": 4,
 "nbformat_minor": 5
}
