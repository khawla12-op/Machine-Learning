{
  "cells": [
    {
      "cell_type": "code",
      "execution_count": null,
      "id": "6a936f00",
      "metadata": {
        "id": "6a936f00"
      },
      "outputs": [],
      "source": [
        "import numpy as np\n",
        "import pandas as pd\n",
        "import matplotlib.pyplot as plt\n",
        "import seaborn as sns"
      ]
    },
    {
      "cell_type": "markdown",
      "id": "2ded133a",
      "metadata": {
        "id": "2ded133a"
      },
      "source": [
        "###  Régression linéaire multiple"
      ]
    },
    {
      "cell_type": "code",
      "execution_count": null,
      "id": "4d41624e",
      "metadata": {
        "id": "4d41624e"
      },
      "outputs": [],
      "source": [
        "# chargement du dataset\n",
        "df = pd.read_csv(\"advertising.csv\")"
      ]
    },
    {
      "cell_type": "code",
      "execution_count": null,
      "id": "239edbda",
      "metadata": {
        "id": "239edbda",
        "outputId": "fe191e21-8650-4d70-acfe-cfdfe51d0626"
      },
      "outputs": [
        {
          "data": {
            "text/html": [
              "<div>\n",
              "<style scoped>\n",
              "    .dataframe tbody tr th:only-of-type {\n",
              "        vertical-align: middle;\n",
              "    }\n",
              "\n",
              "    .dataframe tbody tr th {\n",
              "        vertical-align: top;\n",
              "    }\n",
              "\n",
              "    .dataframe thead th {\n",
              "        text-align: right;\n",
              "    }\n",
              "</style>\n",
              "<table border=\"1\" class=\"dataframe\">\n",
              "  <thead>\n",
              "    <tr style=\"text-align: right;\">\n",
              "      <th></th>\n",
              "      <th>TV</th>\n",
              "      <th>Radio</th>\n",
              "      <th>Newspaper</th>\n",
              "      <th>Sales</th>\n",
              "    </tr>\n",
              "  </thead>\n",
              "  <tbody>\n",
              "    <tr>\n",
              "      <th>0</th>\n",
              "      <td>230.1</td>\n",
              "      <td>37.8</td>\n",
              "      <td>69.2</td>\n",
              "      <td>22.1</td>\n",
              "    </tr>\n",
              "    <tr>\n",
              "      <th>1</th>\n",
              "      <td>44.5</td>\n",
              "      <td>39.3</td>\n",
              "      <td>45.1</td>\n",
              "      <td>10.4</td>\n",
              "    </tr>\n",
              "    <tr>\n",
              "      <th>2</th>\n",
              "      <td>17.2</td>\n",
              "      <td>45.9</td>\n",
              "      <td>69.3</td>\n",
              "      <td>12.0</td>\n",
              "    </tr>\n",
              "    <tr>\n",
              "      <th>3</th>\n",
              "      <td>151.5</td>\n",
              "      <td>41.3</td>\n",
              "      <td>58.5</td>\n",
              "      <td>16.5</td>\n",
              "    </tr>\n",
              "    <tr>\n",
              "      <th>4</th>\n",
              "      <td>180.8</td>\n",
              "      <td>10.8</td>\n",
              "      <td>58.4</td>\n",
              "      <td>17.9</td>\n",
              "    </tr>\n",
              "  </tbody>\n",
              "</table>\n",
              "</div>"
            ],
            "text/plain": [
              "      TV  Radio  Newspaper  Sales\n",
              "0  230.1   37.8       69.2   22.1\n",
              "1   44.5   39.3       45.1   10.4\n",
              "2   17.2   45.9       69.3   12.0\n",
              "3  151.5   41.3       58.5   16.5\n",
              "4  180.8   10.8       58.4   17.9"
            ]
          },
          "execution_count": 3,
          "metadata": {},
          "output_type": "execute_result"
        }
      ],
      "source": [
        "df.head()"
      ]
    },
    {
      "cell_type": "code",
      "execution_count": null,
      "id": "67512aa0",
      "metadata": {
        "id": "67512aa0"
      },
      "outputs": [],
      "source": [
        "# Extraction des colonnes X\n",
        "X = df[['TV', 'Radio', 'Newspaper']]\n",
        "\n",
        "#X = df[['TV', 'Radio']]\n",
        "# Extraction de la colonne y\n",
        "y = df['Sales']"
      ]
    },
    {
      "cell_type": "code",
      "execution_count": null,
      "id": "de8f0c28",
      "metadata": {
        "id": "de8f0c28",
        "outputId": "184af816-2d35-43f2-c4f1-ba7f7befaeac"
      },
      "outputs": [
        {
          "data": {
            "text/html": [
              "<div>\n",
              "<style scoped>\n",
              "    .dataframe tbody tr th:only-of-type {\n",
              "        vertical-align: middle;\n",
              "    }\n",
              "\n",
              "    .dataframe tbody tr th {\n",
              "        vertical-align: top;\n",
              "    }\n",
              "\n",
              "    .dataframe thead th {\n",
              "        text-align: right;\n",
              "    }\n",
              "</style>\n",
              "<table border=\"1\" class=\"dataframe\">\n",
              "  <thead>\n",
              "    <tr style=\"text-align: right;\">\n",
              "      <th></th>\n",
              "      <th>TV</th>\n",
              "      <th>Radio</th>\n",
              "      <th>Newspaper</th>\n",
              "    </tr>\n",
              "  </thead>\n",
              "  <tbody>\n",
              "    <tr>\n",
              "      <th>0</th>\n",
              "      <td>230.1</td>\n",
              "      <td>37.8</td>\n",
              "      <td>69.2</td>\n",
              "    </tr>\n",
              "    <tr>\n",
              "      <th>1</th>\n",
              "      <td>44.5</td>\n",
              "      <td>39.3</td>\n",
              "      <td>45.1</td>\n",
              "    </tr>\n",
              "    <tr>\n",
              "      <th>2</th>\n",
              "      <td>17.2</td>\n",
              "      <td>45.9</td>\n",
              "      <td>69.3</td>\n",
              "    </tr>\n",
              "    <tr>\n",
              "      <th>3</th>\n",
              "      <td>151.5</td>\n",
              "      <td>41.3</td>\n",
              "      <td>58.5</td>\n",
              "    </tr>\n",
              "    <tr>\n",
              "      <th>4</th>\n",
              "      <td>180.8</td>\n",
              "      <td>10.8</td>\n",
              "      <td>58.4</td>\n",
              "    </tr>\n",
              "    <tr>\n",
              "      <th>...</th>\n",
              "      <td>...</td>\n",
              "      <td>...</td>\n",
              "      <td>...</td>\n",
              "    </tr>\n",
              "    <tr>\n",
              "      <th>195</th>\n",
              "      <td>38.2</td>\n",
              "      <td>3.7</td>\n",
              "      <td>13.8</td>\n",
              "    </tr>\n",
              "    <tr>\n",
              "      <th>196</th>\n",
              "      <td>94.2</td>\n",
              "      <td>4.9</td>\n",
              "      <td>8.1</td>\n",
              "    </tr>\n",
              "    <tr>\n",
              "      <th>197</th>\n",
              "      <td>177.0</td>\n",
              "      <td>9.3</td>\n",
              "      <td>6.4</td>\n",
              "    </tr>\n",
              "    <tr>\n",
              "      <th>198</th>\n",
              "      <td>283.6</td>\n",
              "      <td>42.0</td>\n",
              "      <td>66.2</td>\n",
              "    </tr>\n",
              "    <tr>\n",
              "      <th>199</th>\n",
              "      <td>232.1</td>\n",
              "      <td>8.6</td>\n",
              "      <td>8.7</td>\n",
              "    </tr>\n",
              "  </tbody>\n",
              "</table>\n",
              "<p>200 rows × 3 columns</p>\n",
              "</div>"
            ],
            "text/plain": [
              "        TV  Radio  Newspaper\n",
              "0    230.1   37.8       69.2\n",
              "1     44.5   39.3       45.1\n",
              "2     17.2   45.9       69.3\n",
              "3    151.5   41.3       58.5\n",
              "4    180.8   10.8       58.4\n",
              "..     ...    ...        ...\n",
              "195   38.2    3.7       13.8\n",
              "196   94.2    4.9        8.1\n",
              "197  177.0    9.3        6.4\n",
              "198  283.6   42.0       66.2\n",
              "199  232.1    8.6        8.7\n",
              "\n",
              "[200 rows x 3 columns]"
            ]
          },
          "execution_count": 5,
          "metadata": {},
          "output_type": "execute_result"
        }
      ],
      "source": [
        "X"
      ]
    },
    {
      "cell_type": "code",
      "execution_count": null,
      "id": "c4b03c22",
      "metadata": {
        "id": "c4b03c22",
        "outputId": "a849875a-8639-4628-ee94-8bf22d4b81a2"
      },
      "outputs": [
        {
          "data": {
            "text/plain": [
              "0      22.1\n",
              "1      10.4\n",
              "2      12.0\n",
              "3      16.5\n",
              "4      17.9\n",
              "       ... \n",
              "195     7.6\n",
              "196    14.0\n",
              "197    14.8\n",
              "198    25.5\n",
              "199    18.4\n",
              "Name: Sales, Length: 200, dtype: float64"
            ]
          },
          "execution_count": 6,
          "metadata": {},
          "output_type": "execute_result"
        }
      ],
      "source": [
        "y"
      ]
    },
    {
      "cell_type": "code",
      "execution_count": null,
      "id": "e932d4aa",
      "metadata": {
        "id": "e932d4aa",
        "outputId": "6b6845cc-23dd-4e88-a1c0-1df5d2f13151"
      },
      "outputs": [
        {
          "name": "stdout",
          "output_type": "stream",
          "text": [
            "(200, 3)\n",
            "(200,)\n"
          ]
        }
      ],
      "source": [
        "print(X.shape)\n",
        "print(y.shape)\n"
      ]
    },
    {
      "cell_type": "code",
      "execution_count": null,
      "id": "3ce39950",
      "metadata": {
        "id": "3ce39950",
        "outputId": "77eb2325-92a6-4710-c2e9-eb4fb03ab686"
      },
      "outputs": [
        {
          "data": {
            "text/plain": [
              "(200, 3)"
            ]
          },
          "execution_count": 8,
          "metadata": {},
          "output_type": "execute_result"
        }
      ],
      "source": [
        "X.shape"
      ]
    },
    {
      "cell_type": "code",
      "execution_count": null,
      "id": "11522822",
      "metadata": {
        "id": "11522822",
        "outputId": "e53c325a-1d74-4b41-979b-3cb490038879"
      },
      "outputs": [
        {
          "data": {
            "text/plain": [
              "(200, 1)"
            ]
          },
          "execution_count": 9,
          "metadata": {},
          "output_type": "execute_result"
        }
      ],
      "source": [
        "y=y.values.reshape(-1,1)\n",
        "y.shape"
      ]
    },
    {
      "cell_type": "code",
      "execution_count": null,
      "id": "f9d190d4",
      "metadata": {
        "id": "f9d190d4"
      },
      "outputs": [],
      "source": [
        "from sklearn.model_selection import train_test_split\n",
        "X_train, X_test, y_train, y_test = train_test_split(X, y, test_size=0.2, random_state=42)"
      ]
    },
    {
      "cell_type": "code",
      "execution_count": null,
      "id": "c29cddbe",
      "metadata": {
        "id": "c29cddbe"
      },
      "outputs": [],
      "source": [
        "X_train=(X_train-X_train.mean())/X_train.std()\n",
        "X_test=(X_test-X_test.mean())/X_test.std()\n",
        "\n",
        "#from sklearn.preprocessing import MinMaxScaler\n",
        "# create an instance of MinMaxScaler\n",
        "#scaler = MinMaxScaler()\n",
        "# fit and transform the x train data qnd x test\n",
        "#X_train = scaler.fit_transform(X_train)\n",
        "#X_test = scaler.fit_transform(X_test)\n",
        "\n",
        "X_train = np.hstack((X_train, np.ones((X_train.shape[0], 1))))\n",
        "X_test = np.hstack((X_test, np.ones((X_test.shape[0], 1))))"
      ]
    },
    {
      "cell_type": "code",
      "execution_count": null,
      "id": "fe869d23",
      "metadata": {
        "id": "fe869d23",
        "outputId": "83b86ca7-a55d-428c-f0b9-e795b5e340c7"
      },
      "outputs": [
        {
          "name": "stdout",
          "output_type": "stream",
          "text": [
            "(40, 4)\n",
            "(160, 4)\n"
          ]
        }
      ],
      "source": [
        "print(X_test.shape)\n",
        "print(X_train.shape)"
      ]
    },
    {
      "cell_type": "code",
      "execution_count": null,
      "id": "903acd87",
      "metadata": {
        "id": "903acd87",
        "outputId": "275f317f-0f71-4ea3-e055-a93cc4462d12"
      },
      "outputs": [
        {
          "name": "stdout",
          "output_type": "stream",
          "text": [
            "Theta: [[1.76405235]\n",
            " [0.40015721]\n",
            " [0.97873798]\n",
            " [2.2408932 ]]\n"
          ]
        }
      ],
      "source": [
        "np.random.seed(0) # pour produire toujours le meme vecteur theta aléatoire\n",
        "theta=np.random.randn(4,1)\n",
        "print('Theta:',theta)"
      ]
    },
    {
      "cell_type": "code",
      "execution_count": null,
      "id": "98e7cea8",
      "metadata": {
        "id": "98e7cea8"
      },
      "outputs": [],
      "source": [
        "def model(X, theta):\n",
        "    return X.dot(theta)"
      ]
    },
    {
      "cell_type": "code",
      "execution_count": null,
      "id": "e519da26",
      "metadata": {
        "id": "e519da26"
      },
      "outputs": [],
      "source": [
        "#Fonction de cout non regularisee\n",
        "def cost_function(X, y, theta):\n",
        "    m = len(y)\n",
        "    return 1/(2*m) * np.sum((model(X, theta) - y)**2)\n",
        "#Fonction de cout regularisee\n",
        "def cost_function_Regularisation(X, y, theta):\n",
        "    m = len(y)\n",
        "    return 1/(2*m) * np.sum((model(X, theta) - y)**2)+1/(2*m)* np.sum(theta**2)"
      ]
    },
    {
      "cell_type": "code",
      "execution_count": null,
      "id": "00538829",
      "metadata": {
        "id": "00538829",
        "outputId": "908ad4ec-8f57-46f7-b1af-190ec88fde33"
      },
      "outputs": [
        {
          "data": {
            "text/plain": [
              "91.74091996597303"
            ]
          },
          "execution_count": 16,
          "metadata": {},
          "output_type": "execute_result"
        }
      ],
      "source": [
        "cost_function(X_train, y_train, theta)"
      ]
    },
    {
      "cell_type": "code",
      "execution_count": null,
      "id": "3b0f1689",
      "metadata": {
        "id": "3b0f1689",
        "outputId": "01db7c3b-3d97-46c5-f2ef-b2cb492c2005"
      },
      "outputs": [
        {
          "data": {
            "text/plain": [
              "91.76983101860579"
            ]
          },
          "execution_count": 17,
          "metadata": {},
          "output_type": "execute_result"
        }
      ],
      "source": [
        "cost_function_Regularisation(X_train, y_train, theta)"
      ]
    },
    {
      "cell_type": "code",
      "execution_count": null,
      "id": "21a9984a",
      "metadata": {
        "id": "21a9984a"
      },
      "outputs": [],
      "source": [
        "#gradient non regularisee\n",
        "def grad(X, y, theta):\n",
        "    m = len(y)\n",
        "    return 1/m * X.T.dot(model(X, theta) - y)\n",
        "#gradient regularisee\n",
        "def grad_Regularisation(X, y, theta):\n",
        "    m = len(y)\n",
        "    return 1/m * X.T.dot(model(X, theta) - y)+(1/m) *theta"
      ]
    },
    {
      "cell_type": "code",
      "execution_count": null,
      "id": "f76b6720",
      "metadata": {
        "id": "f76b6720"
      },
      "outputs": [],
      "source": [
        "#descente de gradient non regularisee\n",
        "def gradient_descent(X, y, theta, learning_rate, n_iterations):\n",
        "\n",
        "    cost_history = np.zeros(n_iterations) # création d'un tableau de stockage pour enregistrer l'évolution du Cout du modele\n",
        "\n",
        "    for i in range(0, n_iterations):\n",
        "        theta = theta - learning_rate * grad(X, y, theta) # mise a jour du parametre theta (formule du gradient descent)\n",
        "        cost_history[i] = cost_function(X, y, theta) # on enregistre la valeur du Cout au tour i dans cost_history[i]\n",
        "\n",
        "    return theta, cost_history\n",
        "#descente de gradient regularisee\n",
        "def gradient_descent_Regularisation(X, y, theta, learning_rate, n_iterations):\n",
        "\n",
        "    cost_history = np.zeros(n_iterations) # création d'un tableau de stockage pour enregistrer l'évolution du Cout du modele\n",
        "\n",
        "    for i in range(0, n_iterations):\n",
        "        theta = theta - learning_rate * grad_Regularisation(X, y, theta) # mise a jour du parametre theta (formule du gradient descent)\n",
        "        cost_history[i] = cost_function_Regularisation(X, y, theta) # on enregistre la valeur du Cout au tour i dans cost_history[i]\n",
        "\n",
        "    return theta, cost_history"
      ]
    },
    {
      "cell_type": "code",
      "execution_count": null,
      "id": "e665382e",
      "metadata": {
        "id": "e665382e"
      },
      "outputs": [],
      "source": [
        "n_iterations = 10000\n",
        "learning_rate = 0.03\n",
        "\n",
        "theta_final_reg, cost_history_reg = gradient_descent_Regularisation(X_train, y_train, theta, learning_rate, n_iterations)\n",
        "theta_final, cost_history = gradient_descent(X_train, y_train, theta, learning_rate, n_iterations)"
      ]
    },
    {
      "cell_type": "code",
      "execution_count": null,
      "id": "b65649e1",
      "metadata": {
        "id": "b65649e1",
        "outputId": "4adaaffe-ba07-4b5a-bda2-f4b6c81c86e2"
      },
      "outputs": [
        {
          "data": {
            "text/plain": [
              "array([[ 4.60161031],\n",
              "       [ 1.49451794],\n",
              "       [ 0.088192  ],\n",
              "       [15.330625  ]])"
            ]
          },
          "execution_count": 21,
          "metadata": {},
          "output_type": "execute_result"
        }
      ],
      "source": [
        "theta_final"
      ]
    },
    {
      "cell_type": "code",
      "execution_count": null,
      "id": "e610c8da",
      "metadata": {
        "id": "e610c8da",
        "outputId": "dde7d21b-f614-4e8b-bf35-fd9b74d2911e"
      },
      "outputs": [
        {
          "data": {
            "text/plain": [
              "array([[ 4.57327503],\n",
              "       [ 1.48533353],\n",
              "       [ 0.09172014],\n",
              "       [15.23540373]])"
            ]
          },
          "execution_count": 22,
          "metadata": {},
          "output_type": "execute_result"
        }
      ],
      "source": [
        "theta_final_reg"
      ]
    },
    {
      "cell_type": "code",
      "execution_count": null,
      "id": "42937239",
      "metadata": {
        "id": "42937239"
      },
      "outputs": [],
      "source": [
        "# création d'un vecteur prédictions qui contient les prédictions de notre modele final\n",
        "predictions_test = model(X_test, theta_final)\n",
        "predictions_train = model(X_train, theta_final)\n",
        "predictions_testReg = model(X_test, theta_final_reg)\n",
        "predictions_trainReg = model(X_train, theta_final_reg)"
      ]
    },
    {
      "cell_type": "code",
      "execution_count": null,
      "id": "1797c159",
      "metadata": {
        "id": "1797c159",
        "outputId": "45fa6913-9982-406f-df55-63c0ea1e4142"
      },
      "outputs": [
        {
          "data": {
            "image/png": "[encoded data removed]",
            "text/plain": [
              "<Figure size 640x480 with 1 Axes>"
            ]
          },
          "metadata": {},
          "output_type": "display_data"
        }
      ],
      "source": [
        "plt.plot(range(n_iterations), cost_history)\n",
        "plt.show()"
      ]
    },
    {
      "cell_type": "code",
      "execution_count": null,
      "id": "ecc32c1e",
      "metadata": {
        "id": "ecc32c1e",
        "outputId": "072f9fe8-a3e9-4324-ea26-57f7954582a2"
      },
      "outputs": [
        {
          "data": {
            "image/png": "[encoded data removed]",
            "text/plain": [
              "<Figure size 640x480 with 1 Axes>"
            ]
          },
          "metadata": {},
          "output_type": "display_data"
        }
      ],
      "source": [
        "plt.plot(range(n_iterations), cost_history_reg)\n",
        "plt.show()"
      ]
    },
    {
      "cell_type": "code",
      "execution_count": null,
      "id": "85432689",
      "metadata": {
        "id": "85432689"
      },
      "outputs": [],
      "source": [
        "def coef_determination(y, pred):\n",
        "    u = ((y - pred)**2).sum()\n",
        "    v = ((y - y.mean())**2).sum()\n",
        "    return 1 - u/v"
      ]
    },
    {
      "cell_type": "code",
      "execution_count": null,
      "id": "caec1640",
      "metadata": {
        "id": "caec1640",
        "outputId": "97d35434-0052-43a1-d1d3-b05485c9a043"
      },
      "outputs": [
        {
          "data": {
            "text/plain": [
              "0.8753224470083143"
            ]
          },
          "execution_count": 27,
          "metadata": {},
          "output_type": "execute_result"
        }
      ],
      "source": [
        "c_test=coef_determination(y_test, predictions_test)\n",
        "c_test"
      ]
    },
    {
      "cell_type": "code",
      "execution_count": null,
      "id": "5ecf5d18",
      "metadata": {
        "id": "5ecf5d18",
        "outputId": "8d4e0c4b-1dd8-4f4c-d3b8-88271528a7a4"
      },
      "outputs": [
        {
          "data": {
            "text/plain": [
              "0.8803518567834501"
            ]
          },
          "execution_count": 28,
          "metadata": {},
          "output_type": "execute_result"
        }
      ],
      "source": [
        "c_testReg=coef_determination(y_test, predictions_testReg)\n",
        "c_testReg"
      ]
    },
    {
      "cell_type": "code",
      "execution_count": null,
      "id": "3bccc683",
      "metadata": {
        "id": "3bccc683",
        "outputId": "a573db49-0c69-49cf-df32-33f3e50d5012"
      },
      "outputs": [
        {
          "data": {
            "text/plain": [
              "0.9001416005862131"
            ]
          },
          "execution_count": 29,
          "metadata": {},
          "output_type": "execute_result"
        }
      ],
      "source": [
        "c_train=coef_determination(y_train, predictions_train)\n",
        "c_train"
      ]
    },
    {
      "cell_type": "code",
      "execution_count": null,
      "id": "e0966132",
      "metadata": {
        "id": "e0966132",
        "outputId": "e21c75c7-e4e3-4965-dd60-f68b833bf15b"
      },
      "outputs": [
        {
          "data": {
            "text/plain": [
              "0.8997699412855069"
            ]
          },
          "execution_count": 30,
          "metadata": {},
          "output_type": "execute_result"
        }
      ],
      "source": [
        "c_trainReg=coef_determination(y_train, predictions_trainReg)\n",
        "c_trainReg"
      ]
    },
    {
      "cell_type": "code",
      "execution_count": null,
      "id": "1ebb3d54",
      "metadata": {
        "id": "1ebb3d54",
        "outputId": "748a36d8-399e-46ff-83b2-def30c556a2c"
      },
      "outputs": [
        {
          "name": "stdout",
          "output_type": "stream",
          "text": [
            "-0.005029409775135774\n",
            "0.00037165930070615083\n"
          ]
        }
      ],
      "source": [
        "print(c_test-c_testReg)\n",
        "print(c_train-c_trainReg)"
      ]
    },
    {
      "cell_type": "markdown",
      "id": "ad0e8b51",
      "metadata": {
        "id": "ad0e8b51"
      },
      "source": [
        "\n",
        "|            |Avec regularisation|Sans regularisation|\n",
        "------|------|--------|\n",
        " Fonction cout|91.76983101860579|91.74091996597303|\n",
        " Coef determination TEST|0.8803518567834501|0.8753224470083143|\n",
        " Coef determination TRAIN|0.8997699412855069|0.9001416005862131"
      ]
    },
    {
      "cell_type": "markdown",
      "id": "f86b406e",
      "metadata": {
        "id": "f86b406e"
      },
      "source": [
        "###  Régression polynômiale multivariée de degré 2"
      ]
    },
    {
      "cell_type": "code",
      "execution_count": null,
      "id": "63208253",
      "metadata": {
        "id": "63208253"
      },
      "outputs": [],
      "source": [
        "# chargement du dataset\n",
        "data = pd.read_csv(\"advertising.csv\")"
      ]
    },
    {
      "cell_type": "code",
      "execution_count": null,
      "id": "96e9d2ba",
      "metadata": {
        "id": "96e9d2ba"
      },
      "outputs": [],
      "source": [
        "# Extraction des colonnes X\n",
        "X = data[['TV', 'Radio', 'Newspaper']]\n",
        "\n",
        "#X = df[['TV', 'Radio']]\n",
        "# Extraction de la colonne y\n",
        "y = data['Sales']\n",
        "a=X.iloc[:,0:1].values\n",
        "b=X.iloc[:,1:2].values\n",
        "c=X.iloc[:,2:3].values\n",
        "\n"
      ]
    },
    {
      "cell_type": "code",
      "execution_count": null,
      "id": "0f0cb8b7",
      "metadata": {
        "id": "0f0cb8b7"
      },
      "outputs": [],
      "source": [
        "X = np.hstack((a,b,c,a**2,b**2,c**2,a*b,a*c,b*c))"
      ]
    },
    {
      "cell_type": "code",
      "execution_count": null,
      "id": "205df7aa",
      "metadata": {
        "id": "205df7aa",
        "outputId": "31452591-5b46-473a-c6fb-476c38669992"
      },
      "outputs": [
        {
          "data": {
            "text/plain": [
              "(200, 9)"
            ]
          },
          "execution_count": 35,
          "metadata": {},
          "output_type": "execute_result"
        }
      ],
      "source": [
        "X.shape"
      ]
    },
    {
      "cell_type": "code",
      "execution_count": null,
      "id": "b562980d",
      "metadata": {
        "id": "b562980d",
        "outputId": "1c089350-4e72-411e-a50a-194729d2edd6"
      },
      "outputs": [
        {
          "data": {
            "text/plain": [
              "array([[2.301000e+02, 3.780000e+01, 6.920000e+01, ..., 8.697780e+03,\n",
              "        1.592292e+04, 2.615760e+03],\n",
              "       [4.450000e+01, 3.930000e+01, 4.510000e+01, ..., 1.748850e+03,\n",
              "        2.006950e+03, 1.772430e+03],\n",
              "       [1.720000e+01, 4.590000e+01, 6.930000e+01, ..., 7.894800e+02,\n",
              "        1.191960e+03, 3.180870e+03],\n",
              "       ...,\n",
              "       [1.770000e+02, 9.300000e+00, 6.400000e+00, ..., 1.646100e+03,\n",
              "        1.132800e+03, 5.952000e+01],\n",
              "       [2.836000e+02, 4.200000e+01, 6.620000e+01, ..., 1.191120e+04,\n",
              "        1.877432e+04, 2.780400e+03],\n",
              "       [2.321000e+02, 8.600000e+00, 8.700000e+00, ..., 1.996060e+03,\n",
              "        2.019270e+03, 7.482000e+01]])"
            ]
          },
          "execution_count": 36,
          "metadata": {},
          "output_type": "execute_result"
        }
      ],
      "source": [
        "X"
      ]
    },
    {
      "cell_type": "code",
      "execution_count": null,
      "id": "f2f6f7c9",
      "metadata": {
        "id": "f2f6f7c9",
        "outputId": "ce00a921-7a69-4c0c-a65d-ddbcaeded181"
      },
      "outputs": [
        {
          "data": {
            "text/plain": [
              "(200, 1)"
            ]
          },
          "execution_count": 37,
          "metadata": {},
          "output_type": "execute_result"
        }
      ],
      "source": [
        "y=y.values.reshape(-1,1)\n",
        "y.shape"
      ]
    },
    {
      "cell_type": "code",
      "execution_count": null,
      "id": "eb4bb3de",
      "metadata": {
        "id": "eb4bb3de",
        "outputId": "c83362b4-baa1-4044-a1cf-8e1b021b31cf"
      },
      "outputs": [
        {
          "data": {
            "text/plain": [
              "(160, 9)"
            ]
          },
          "execution_count": 38,
          "metadata": {},
          "output_type": "execute_result"
        }
      ],
      "source": [
        "from sklearn.model_selection import train_test_split\n",
        "X_train, X_test, y_train, y_test = train_test_split(X, y, test_size=0.2, random_state=42)\n",
        "X_train.shape"
      ]
    },
    {
      "cell_type": "code",
      "execution_count": null,
      "id": "790ae95e",
      "metadata": {
        "id": "790ae95e"
      },
      "outputs": [],
      "source": [
        "\n",
        "X_train=(X_train-X_train.mean())/X_train.std()\n",
        "X_test=(X_test-X_test.mean())/X_test.std()\n",
        "\n",
        "#from sklearn.preprocessing import StandardScaler\n",
        "# Initialisez le StandardScaler\n",
        "#scaler = StandardScaler()\n",
        "# Normalisez X_train et X_test\n",
        "#X_train = scaler.fit_transform(X_train)\n",
        "#X_test= scaler.fit_transform(X_test)\n",
        "\n",
        "X_train = np.hstack((X_train, np.ones((X_train.shape[0], 1))))\n",
        "X_test = np.hstack((X_test, np.ones((X_test.shape[0], 1))))\n"
      ]
    },
    {
      "cell_type": "code",
      "execution_count": null,
      "id": "5b46ff44",
      "metadata": {
        "id": "5b46ff44",
        "outputId": "a2caf4dd-495b-4b15-bbb2-a59ae859b612"
      },
      "outputs": [
        {
          "data": {
            "text/plain": [
              "(160, 10)"
            ]
          },
          "execution_count": 40,
          "metadata": {},
          "output_type": "execute_result"
        }
      ],
      "source": [
        "X_train.shape"
      ]
    },
    {
      "cell_type": "code",
      "execution_count": null,
      "id": "3c3855dc",
      "metadata": {
        "id": "3c3855dc",
        "outputId": "8d8bc0bf-eaa0-4639-978a-b9f4d79d9037"
      },
      "outputs": [
        {
          "data": {
            "text/plain": [
              "array([[-0.35164069, -0.36029141, -0.3590613 , ..., -0.14686712,\n",
              "        -0.34669868,  1.        ],\n",
              "       [-0.34676817, -0.3601636 , -0.36039525, ..., -0.2704214 ,\n",
              "        -0.35615216,  1.        ],\n",
              "       [-0.35746375, -0.35877374, -0.35810277, ..., -0.24006721,\n",
              "        -0.28604781,  1.        ],\n",
              "       ...,\n",
              "       [-0.34351716, -0.35823057, -0.3561937 , ...,  0.66506219,\n",
              "        -0.20302888,  1.        ],\n",
              "       [-0.34767877, -0.36010769, -0.35950062, ..., -0.12809913,\n",
              "        -0.34684805,  1.        ],\n",
              "       [-0.33852483, -0.3600997 , -0.35919709, ...,  0.11806049,\n",
              "        -0.34364177,  1.        ]])"
            ]
          },
          "execution_count": 41,
          "metadata": {},
          "output_type": "execute_result"
        }
      ],
      "source": [
        "X_train"
      ]
    },
    {
      "cell_type": "code",
      "execution_count": null,
      "id": "4e24df76",
      "metadata": {
        "id": "4e24df76",
        "outputId": "0bf0c930-6d84-4f53-dbb9-0687d86351b9"
      },
      "outputs": [
        {
          "name": "stdout",
          "output_type": "stream",
          "text": [
            "Theta: [[ 1.76405235]\n",
            " [ 0.40015721]\n",
            " [ 0.97873798]\n",
            " [ 2.2408932 ]\n",
            " [ 1.86755799]\n",
            " [-0.97727788]\n",
            " [ 0.95008842]\n",
            " [-0.15135721]\n",
            " [-0.10321885]\n",
            " [ 0.4105985 ]]\n"
          ]
        }
      ],
      "source": [
        "np.random.seed(0) # pour produire toujours le meme vecteur theta aléatoire\n",
        "theta=np.random.randn(10,1)\n",
        "print('Theta:',theta)"
      ]
    },
    {
      "cell_type": "code",
      "execution_count": null,
      "id": "887a6236",
      "metadata": {
        "id": "887a6236"
      },
      "outputs": [],
      "source": [
        "def model(X, theta):\n",
        "    return np.dot(X, theta)"
      ]
    },
    {
      "cell_type": "code",
      "execution_count": null,
      "id": "55f77563",
      "metadata": {
        "id": "55f77563"
      },
      "outputs": [],
      "source": [
        "def cost_function(X, y, theta):\n",
        "    m = len(y)\n",
        "    return (1/(2*m) * np.sum((model(X, theta) - y)**2))\n",
        "\n",
        "def cost_function_Regularisation(X, y, theta):\n",
        "    m = len(y)\n",
        "    return 1/(2*m) * np.sum((model(X, theta) - y)**2)+(1/(2*m))* np.sum(theta**2)"
      ]
    },
    {
      "cell_type": "code",
      "execution_count": null,
      "id": "d6e28948",
      "metadata": {
        "id": "d6e28948",
        "outputId": "2db87f70-40c4-43a1-8eb0-ab93c48dec08"
      },
      "outputs": [
        {
          "data": {
            "text/plain": [
              "74.28430598427326"
            ]
          },
          "execution_count": 45,
          "metadata": {},
          "output_type": "execute_result"
        }
      ],
      "source": [
        "cost_function(X_train, y_train, theta)\n"
      ]
    },
    {
      "cell_type": "code",
      "execution_count": null,
      "id": "bb9136d1",
      "metadata": {
        "id": "bb9136d1",
        "outputId": "8c1925e4-9562-405c-8500-5f3ee1d6777c"
      },
      "outputs": [
        {
          "data": {
            "text/plain": [
              "74.33055349680554"
            ]
          },
          "execution_count": 46,
          "metadata": {},
          "output_type": "execute_result"
        }
      ],
      "source": [
        "cost_function_Regularisation(X_train, y_train, theta)"
      ]
    },
    {
      "cell_type": "code",
      "execution_count": null,
      "id": "a5e26266",
      "metadata": {
        "id": "a5e26266"
      },
      "outputs": [],
      "source": [
        "# définir la fonction de gradient\n",
        "def grad(X, y, theta):\n",
        "    m = len(y)\n",
        "    return 1/m * X.T.dot(model(X, theta) - y)\n",
        "def grad_Regularisation(X, y, theta):\n",
        "    m = len(y)\n",
        "    return 1/m * X.T.dot(model(X, theta) - y)+(1/m) *theta"
      ]
    },
    {
      "cell_type": "code",
      "execution_count": null,
      "id": "8022da72",
      "metadata": {
        "id": "8022da72"
      },
      "outputs": [],
      "source": [
        "# Définir la descente de gradient\n",
        "def gradient_descent(X, y, theta, learning_rate, n_iterations):\n",
        "\n",
        "    cost_history = np.zeros(n_iterations) # création d'un tableau de stockage pour enregistrer l'évolution du Cout du modele\n",
        "\n",
        "    for i in range(0, n_iterations):\n",
        "        theta = theta - learning_rate * grad(X, y, theta) # mise a jour du parametre theta (formule du gradient descent)\n",
        "        cost_history[i] = cost_function(X, y, theta) # on enregistre la valeur du Cout au tour i dans cost_history[i]\n",
        "\n",
        "    return theta, cost_history\n",
        "def gradient_descent_Regularisation(X, y, theta, learning_rate, n_iterations):\n",
        "\n",
        "    cost_history = np.zeros(n_iterations) # création d'un tableau de stockage pour enregistrer l'évolution du Cout du modele\n",
        "\n",
        "    for i in range(0, n_iterations):\n",
        "        theta = theta - learning_rate * grad_Regularisation(X, y, theta) # mise a jour du parametre theta (formule du gradient descent)\n",
        "        cost_history[i] = cost_function_Regularisation(X, y, theta) # on enregistre la valeur du Cout au tour i dans cost_history[i]\n",
        "\n",
        "    return theta, cost_history"
      ]
    },
    {
      "cell_type": "code",
      "execution_count": null,
      "id": "83c5bbd0",
      "metadata": {
        "id": "83c5bbd0"
      },
      "outputs": [],
      "source": [
        "# Entrainement du modèle\n",
        "n_iterations = 10000\n",
        "learning_rate = 0.03\n",
        "\n",
        "theta_final, cost_history = gradient_descent(X_train, y_train, theta, learning_rate, n_iterations)\n",
        "theta_final_reg, cost_history_reg = gradient_descent_Regularisation(X_train, y_train, theta, learning_rate, n_iterations)"
      ]
    },
    {
      "cell_type": "code",
      "execution_count": null,
      "id": "3dcece11",
      "metadata": {
        "id": "3dcece11",
        "outputId": "74147b7e-61e2-4698-a398-e2a322ea52a0"
      },
      "outputs": [
        {
          "data": {
            "text/plain": [
              "array([[-1.03187977],\n",
              "       [-3.08723893],\n",
              "       [-2.53275551],\n",
              "       [ 1.27041938],\n",
              "       [ 1.4499159 ],\n",
              "       [-3.594568  ],\n",
              "       [ 8.56183517],\n",
              "       [ 1.89775269],\n",
              "       [-1.29092133],\n",
              "       [10.23807425]])"
            ]
          },
          "execution_count": 50,
          "metadata": {},
          "output_type": "execute_result"
        }
      ],
      "source": [
        "theta_final"
      ]
    },
    {
      "cell_type": "code",
      "execution_count": null,
      "id": "c932ceb2",
      "metadata": {
        "id": "c932ceb2",
        "outputId": "114e43a0-b898-46cb-913d-16514c3df3c0"
      },
      "outputs": [
        {
          "data": {
            "text/plain": [
              "array([[-2.5646367 ],\n",
              "       [-3.09125665],\n",
              "       [-3.03137047],\n",
              "       [ 1.42249306],\n",
              "       [-0.10601907],\n",
              "       [-2.3575314 ],\n",
              "       [ 7.3681838 ],\n",
              "       [ 1.63648109],\n",
              "       [-1.13837719],\n",
              "       [ 8.959988  ]])"
            ]
          },
          "execution_count": 51,
          "metadata": {},
          "output_type": "execute_result"
        }
      ],
      "source": [
        "theta_final_reg"
      ]
    },
    {
      "cell_type": "code",
      "execution_count": null,
      "id": "dcfc0e89",
      "metadata": {
        "id": "dcfc0e89"
      },
      "outputs": [],
      "source": [
        "# création d'un vecteur prédictions qui contient les prédictions de notre modele final\n",
        "predictions_test = model(X_test, theta_final)\n",
        "predictions_train = model(X_train, theta_final)\n",
        "#Avec regularisation\n",
        "predictions_testReg = model(X_test, theta_final_reg)\n",
        "predictions_trainReg = model(X_train, theta_final_reg)"
      ]
    },
    {
      "cell_type": "code",
      "execution_count": null,
      "id": "5cbcd295",
      "metadata": {
        "id": "5cbcd295",
        "outputId": "590cbf65-60a2-48ff-f074-252665204694"
      },
      "outputs": [
        {
          "data": {
            "image/png": "[encoded data removed]",
            "text/plain": [
              "<Figure size 640x480 with 1 Axes>"
            ]
          },
          "metadata": {},
          "output_type": "display_data"
        }
      ],
      "source": [
        "plt.plot(range(n_iterations), cost_history)\n",
        "plt.show()"
      ]
    },
    {
      "cell_type": "code",
      "execution_count": null,
      "id": "cdbec1fa",
      "metadata": {
        "id": "cdbec1fa",
        "outputId": "cfb69680-e0e4-46d9-93b0-d0216b0d8ba7"
      },
      "outputs": [
        {
          "data": {
            "image/png": "[encoded data removed]",
            "text/plain": [
              "<Figure size 640x480 with 1 Axes>"
            ]
          },
          "metadata": {},
          "output_type": "display_data"
        }
      ],
      "source": [
        "plt.plot(range(n_iterations), cost_history_reg)\n",
        "plt.show()"
      ]
    },
    {
      "cell_type": "code",
      "execution_count": null,
      "id": "54c2ed52",
      "metadata": {
        "id": "54c2ed52"
      },
      "outputs": [],
      "source": [
        "def coef_determination(y, pred):\n",
        "    u = ((y - pred)**2).sum()\n",
        "    v = ((y - y.mean())**2).sum()\n",
        "    return 1 - u/v\n"
      ]
    },
    {
      "cell_type": "code",
      "execution_count": null,
      "id": "d16bccea",
      "metadata": {
        "id": "d16bccea",
        "outputId": "e55fed3f-90ca-4be0-ba7f-ce83288546ac"
      },
      "outputs": [
        {
          "data": {
            "text/plain": [
              "0.8424098927323636"
            ]
          },
          "execution_count": 56,
          "metadata": {},
          "output_type": "execute_result"
        }
      ],
      "source": [
        "c_test=coef_determination(y_test, predictions_test)\n",
        "c_test"
      ]
    },
    {
      "cell_type": "code",
      "execution_count": null,
      "id": "2ee59751",
      "metadata": {
        "id": "2ee59751",
        "outputId": "fd49c1b1-9980-4c36-c063-a41898c3dfe0"
      },
      "outputs": [
        {
          "data": {
            "text/plain": [
              "0.8371583484477874"
            ]
          },
          "execution_count": 57,
          "metadata": {},
          "output_type": "execute_result"
        }
      ],
      "source": [
        "c_testReg=coef_determination(y_test, predictions_testReg)\n",
        "c_testReg"
      ]
    },
    {
      "cell_type": "code",
      "execution_count": null,
      "id": "b6bf64c6",
      "metadata": {
        "id": "b6bf64c6",
        "outputId": "ba41a420-5714-4589-f250-e493166809c7"
      },
      "outputs": [
        {
          "data": {
            "text/plain": [
              "0.8471731704870359"
            ]
          },
          "execution_count": 58,
          "metadata": {},
          "output_type": "execute_result"
        }
      ],
      "source": [
        "c_train=coef_determination(y_train, predictions_train)\n",
        "c_train"
      ]
    },
    {
      "cell_type": "code",
      "execution_count": null,
      "id": "77a3f031",
      "metadata": {
        "id": "77a3f031",
        "outputId": "30c0dc0e-7409-4c3d-b928-f2ee61e3c35c"
      },
      "outputs": [
        {
          "data": {
            "text/plain": [
              "0.8428880755158681"
            ]
          },
          "execution_count": 59,
          "metadata": {},
          "output_type": "execute_result"
        }
      ],
      "source": [
        "c_trainReg=coef_determination(y_train, predictions_trainReg)\n",
        "c_trainReg"
      ]
    },
    {
      "cell_type": "code",
      "execution_count": null,
      "id": "f1685f0f",
      "metadata": {
        "id": "f1685f0f",
        "outputId": "8390913b-8d2d-4cdb-815c-29f7ee33eb8b"
      },
      "outputs": [
        {
          "name": "stdout",
          "output_type": "stream",
          "text": [
            "0.005251544284576193\n",
            "0.004285094971167802\n"
          ]
        }
      ],
      "source": [
        "print(c_test-c_testReg)\n",
        "print(c_train-c_trainReg)"
      ]
    },
    {
      "cell_type": "markdown",
      "id": "7ca89e4e",
      "metadata": {
        "id": "7ca89e4e"
      },
      "source": [
        " |            |Avec regularisation|Sans regularisation|\n",
        "------|------|--------|\n",
        " Fonction cout|74.33055349680554|74.28430598427326|\n",
        " Coef determination TEST|0.8371583484477874|0.8424098927323636|\n",
        " Coef determination TRAIN|0.8428880755158681|0.8471731704870359"
      ]
    },
    {
      "cell_type": "code",
      "execution_count": null,
      "id": "764c41e8",
      "metadata": {
        "id": "764c41e8"
      },
      "outputs": [],
      "source": []
    }
  ],
  "metadata": {
    "kernelspec": {
      "display_name": "Python 3 (ipykernel)",
      "language": "python",
      "name": "python3"
    },
    "language_info": {
      "codemirror_mode": {
        "name": "ipython",
        "version": 3
      },
      "file_extension": ".py",
      "mimetype": "text/x-python",
      "name": "python",
      "nbconvert_exporter": "python",
      "pygments_lexer": "ipython3",
      "version": "3.11.5"
    },
    "colab": {
      "provenance": []
    }
  },
  "nbformat": 4,
  "nbformat_minor": 5
}