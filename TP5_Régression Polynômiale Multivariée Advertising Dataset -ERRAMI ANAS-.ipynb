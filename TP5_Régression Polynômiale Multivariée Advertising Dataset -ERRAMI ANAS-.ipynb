{
 "cells": [
  {
   "cell_type": "markdown",
   "id": "9c13e2d2",
   "metadata": {},
   "source": [
    "# Régression Linéaire Multiple"
   ]
  },
  {
   "cell_type": "code",
   "execution_count": 1,
   "id": "21602f9c",
   "metadata": {},
   "outputs": [],
   "source": [
    "import pandas as pd\n",
    "import numpy as np\n",
    "import seaborn as sns\n",
    "from sklearn.model_selection import train_test_split\n",
    "import matplotlib.pyplot as plt\n",
    "%matplotlib inline"
   ]
  },
  {
   "cell_type": "markdown",
   "id": "9ec4fe7b",
   "metadata": {},
   "source": [
    "# 1. Dataset"
   ]
  },
  {
   "cell_type": "code",
   "execution_count": 2,
   "id": "0ffd1f29",
   "metadata": {},
   "outputs": [],
   "source": [
    "dataset = pd.read_csv('Advertising.csv')"
   ]
  },
  {
   "cell_type": "code",
   "execution_count": 3,
   "id": "7503e188",
   "metadata": {},
   "outputs": [
    {
     "data": {
      "text/html": [
       "<div>\n",
       "<style scoped>\n",
       "    .dataframe tbody tr th:only-of-type {\n",
       "        vertical-align: middle;\n",
       "    }\n",
       "\n",
       "    .dataframe tbody tr th {\n",
       "        vertical-align: top;\n",
       "    }\n",
       "\n",
       "    .dataframe thead th {\n",
       "        text-align: right;\n",
       "    }\n",
       "</style>\n",
       "<table border=\"1\" class=\"dataframe\">\n",
       "  <thead>\n",
       "    <tr style=\"text-align: right;\">\n",
       "      <th></th>\n",
       "      <th>TV</th>\n",
       "      <th>Radio</th>\n",
       "      <th>Newspaper</th>\n",
       "      <th>Sales</th>\n",
       "    </tr>\n",
       "  </thead>\n",
       "  <tbody>\n",
       "    <tr>\n",
       "      <th>0</th>\n",
       "      <td>230.1</td>\n",
       "      <td>37.8</td>\n",
       "      <td>69.2</td>\n",
       "      <td>22.1</td>\n",
       "    </tr>\n",
       "    <tr>\n",
       "      <th>1</th>\n",
       "      <td>44.5</td>\n",
       "      <td>39.3</td>\n",
       "      <td>45.1</td>\n",
       "      <td>10.4</td>\n",
       "    </tr>\n",
       "    <tr>\n",
       "      <th>2</th>\n",
       "      <td>17.2</td>\n",
       "      <td>45.9</td>\n",
       "      <td>69.3</td>\n",
       "      <td>12.0</td>\n",
       "    </tr>\n",
       "    <tr>\n",
       "      <th>3</th>\n",
       "      <td>151.5</td>\n",
       "      <td>41.3</td>\n",
       "      <td>58.5</td>\n",
       "      <td>16.5</td>\n",
       "    </tr>\n",
       "    <tr>\n",
       "      <th>4</th>\n",
       "      <td>180.8</td>\n",
       "      <td>10.8</td>\n",
       "      <td>58.4</td>\n",
       "      <td>17.9</td>\n",
       "    </tr>\n",
       "    <tr>\n",
       "      <th>5</th>\n",
       "      <td>8.7</td>\n",
       "      <td>48.9</td>\n",
       "      <td>75.0</td>\n",
       "      <td>7.2</td>\n",
       "    </tr>\n",
       "    <tr>\n",
       "      <th>6</th>\n",
       "      <td>57.5</td>\n",
       "      <td>32.8</td>\n",
       "      <td>23.5</td>\n",
       "      <td>11.8</td>\n",
       "    </tr>\n",
       "    <tr>\n",
       "      <th>7</th>\n",
       "      <td>120.2</td>\n",
       "      <td>19.6</td>\n",
       "      <td>11.6</td>\n",
       "      <td>13.2</td>\n",
       "    </tr>\n",
       "    <tr>\n",
       "      <th>8</th>\n",
       "      <td>8.6</td>\n",
       "      <td>2.1</td>\n",
       "      <td>1.0</td>\n",
       "      <td>4.8</td>\n",
       "    </tr>\n",
       "    <tr>\n",
       "      <th>9</th>\n",
       "      <td>199.8</td>\n",
       "      <td>2.6</td>\n",
       "      <td>21.2</td>\n",
       "      <td>15.6</td>\n",
       "    </tr>\n",
       "  </tbody>\n",
       "</table>\n",
       "</div>"
      ],
      "text/plain": [
       "      TV  Radio  Newspaper  Sales\n",
       "0  230.1   37.8       69.2   22.1\n",
       "1   44.5   39.3       45.1   10.4\n",
       "2   17.2   45.9       69.3   12.0\n",
       "3  151.5   41.3       58.5   16.5\n",
       "4  180.8   10.8       58.4   17.9\n",
       "5    8.7   48.9       75.0    7.2\n",
       "6   57.5   32.8       23.5   11.8\n",
       "7  120.2   19.6       11.6   13.2\n",
       "8    8.6    2.1        1.0    4.8\n",
       "9  199.8    2.6       21.2   15.6"
      ]
     },
     "execution_count": 3,
     "metadata": {},
     "output_type": "execute_result"
    }
   ],
   "source": [
    "dataset.head(10)"
   ]
  },
  {
   "cell_type": "code",
   "execution_count": 4,
   "id": "5a45633f",
   "metadata": {},
   "outputs": [
    {
     "data": {
      "text/html": [
       "<div>\n",
       "<style scoped>\n",
       "    .dataframe tbody tr th:only-of-type {\n",
       "        vertical-align: middle;\n",
       "    }\n",
       "\n",
       "    .dataframe tbody tr th {\n",
       "        vertical-align: top;\n",
       "    }\n",
       "\n",
       "    .dataframe thead th {\n",
       "        text-align: right;\n",
       "    }\n",
       "</style>\n",
       "<table border=\"1\" class=\"dataframe\">\n",
       "  <thead>\n",
       "    <tr style=\"text-align: right;\">\n",
       "      <th></th>\n",
       "      <th>TV</th>\n",
       "      <th>Radio</th>\n",
       "      <th>Newspaper</th>\n",
       "      <th>Sales</th>\n",
       "    </tr>\n",
       "  </thead>\n",
       "  <tbody>\n",
       "    <tr>\n",
       "      <th>0</th>\n",
       "      <td>230.1</td>\n",
       "      <td>37.8</td>\n",
       "      <td>69.2</td>\n",
       "      <td>22.1</td>\n",
       "    </tr>\n",
       "    <tr>\n",
       "      <th>1</th>\n",
       "      <td>44.5</td>\n",
       "      <td>39.3</td>\n",
       "      <td>45.1</td>\n",
       "      <td>10.4</td>\n",
       "    </tr>\n",
       "    <tr>\n",
       "      <th>2</th>\n",
       "      <td>17.2</td>\n",
       "      <td>45.9</td>\n",
       "      <td>69.3</td>\n",
       "      <td>12.0</td>\n",
       "    </tr>\n",
       "    <tr>\n",
       "      <th>3</th>\n",
       "      <td>151.5</td>\n",
       "      <td>41.3</td>\n",
       "      <td>58.5</td>\n",
       "      <td>16.5</td>\n",
       "    </tr>\n",
       "    <tr>\n",
       "      <th>4</th>\n",
       "      <td>180.8</td>\n",
       "      <td>10.8</td>\n",
       "      <td>58.4</td>\n",
       "      <td>17.9</td>\n",
       "    </tr>\n",
       "    <tr>\n",
       "      <th>...</th>\n",
       "      <td>...</td>\n",
       "      <td>...</td>\n",
       "      <td>...</td>\n",
       "      <td>...</td>\n",
       "    </tr>\n",
       "    <tr>\n",
       "      <th>195</th>\n",
       "      <td>38.2</td>\n",
       "      <td>3.7</td>\n",
       "      <td>13.8</td>\n",
       "      <td>7.6</td>\n",
       "    </tr>\n",
       "    <tr>\n",
       "      <th>196</th>\n",
       "      <td>94.2</td>\n",
       "      <td>4.9</td>\n",
       "      <td>8.1</td>\n",
       "      <td>14.0</td>\n",
       "    </tr>\n",
       "    <tr>\n",
       "      <th>197</th>\n",
       "      <td>177.0</td>\n",
       "      <td>9.3</td>\n",
       "      <td>6.4</td>\n",
       "      <td>14.8</td>\n",
       "    </tr>\n",
       "    <tr>\n",
       "      <th>198</th>\n",
       "      <td>283.6</td>\n",
       "      <td>42.0</td>\n",
       "      <td>66.2</td>\n",
       "      <td>25.5</td>\n",
       "    </tr>\n",
       "    <tr>\n",
       "      <th>199</th>\n",
       "      <td>232.1</td>\n",
       "      <td>8.6</td>\n",
       "      <td>8.7</td>\n",
       "      <td>18.4</td>\n",
       "    </tr>\n",
       "  </tbody>\n",
       "</table>\n",
       "<p>200 rows × 4 columns</p>\n",
       "</div>"
      ],
      "text/plain": [
       "        TV  Radio  Newspaper  Sales\n",
       "0    230.1   37.8       69.2   22.1\n",
       "1     44.5   39.3       45.1   10.4\n",
       "2     17.2   45.9       69.3   12.0\n",
       "3    151.5   41.3       58.5   16.5\n",
       "4    180.8   10.8       58.4   17.9\n",
       "..     ...    ...        ...    ...\n",
       "195   38.2    3.7       13.8    7.6\n",
       "196   94.2    4.9        8.1   14.0\n",
       "197  177.0    9.3        6.4   14.8\n",
       "198  283.6   42.0       66.2   25.5\n",
       "199  232.1    8.6        8.7   18.4\n",
       "\n",
       "[200 rows x 4 columns]"
      ]
     },
     "execution_count": 4,
     "metadata": {},
     "output_type": "execute_result"
    }
   ],
   "source": [
    "dataset"
   ]
  },
  {
   "cell_type": "code",
   "execution_count": 5,
   "id": "3efd50b5",
   "metadata": {},
   "outputs": [
    {
     "data": {
      "text/html": [
       "<div>\n",
       "<style scoped>\n",
       "    .dataframe tbody tr th:only-of-type {\n",
       "        vertical-align: middle;\n",
       "    }\n",
       "\n",
       "    .dataframe tbody tr th {\n",
       "        vertical-align: top;\n",
       "    }\n",
       "\n",
       "    .dataframe thead th {\n",
       "        text-align: right;\n",
       "    }\n",
       "</style>\n",
       "<table border=\"1\" class=\"dataframe\">\n",
       "  <thead>\n",
       "    <tr style=\"text-align: right;\">\n",
       "      <th></th>\n",
       "      <th>TV</th>\n",
       "      <th>Radio</th>\n",
       "      <th>Newspaper</th>\n",
       "      <th>Sales</th>\n",
       "    </tr>\n",
       "  </thead>\n",
       "  <tbody>\n",
       "    <tr>\n",
       "      <th>TV</th>\n",
       "      <td>1.000000</td>\n",
       "      <td>0.054809</td>\n",
       "      <td>0.056648</td>\n",
       "      <td>0.901208</td>\n",
       "    </tr>\n",
       "    <tr>\n",
       "      <th>Radio</th>\n",
       "      <td>0.054809</td>\n",
       "      <td>1.000000</td>\n",
       "      <td>0.354104</td>\n",
       "      <td>0.349631</td>\n",
       "    </tr>\n",
       "    <tr>\n",
       "      <th>Newspaper</th>\n",
       "      <td>0.056648</td>\n",
       "      <td>0.354104</td>\n",
       "      <td>1.000000</td>\n",
       "      <td>0.157960</td>\n",
       "    </tr>\n",
       "    <tr>\n",
       "      <th>Sales</th>\n",
       "      <td>0.901208</td>\n",
       "      <td>0.349631</td>\n",
       "      <td>0.157960</td>\n",
       "      <td>1.000000</td>\n",
       "    </tr>\n",
       "  </tbody>\n",
       "</table>\n",
       "</div>"
      ],
      "text/plain": [
       "                 TV     Radio  Newspaper     Sales\n",
       "TV         1.000000  0.054809   0.056648  0.901208\n",
       "Radio      0.054809  1.000000   0.354104  0.349631\n",
       "Newspaper  0.056648  0.354104   1.000000  0.157960\n",
       "Sales      0.901208  0.349631   0.157960  1.000000"
      ]
     },
     "execution_count": 5,
     "metadata": {},
     "output_type": "execute_result"
    }
   ],
   "source": [
    "dataset.corr()"
   ]
  },
  {
   "cell_type": "code",
   "execution_count": 6,
   "id": "58037ddc",
   "metadata": {},
   "outputs": [
    {
     "data": {
      "image/png": "[encoded data removed]",
      "text/plain": [
       "<Figure size 640x480 with 2 Axes>"
      ]
     },
     "metadata": {},
     "output_type": "display_data"
    }
   ],
   "source": [
    "plt.figure()\n",
    "sns.heatmap(dataset.corr(),annot=True)\n",
    "plt.show()"
   ]
  },
  {
   "cell_type": "code",
   "execution_count": 7,
   "id": "2c62a229",
   "metadata": {},
   "outputs": [],
   "source": [
    "x = dataset[['TV', 'Radio', 'Newspaper']].values\n",
    "y = dataset[['Sales']].values"
   ]
  },
  {
   "cell_type": "code",
   "execution_count": 8,
   "id": "18964335",
   "metadata": {},
   "outputs": [
    {
     "data": {
      "text/plain": [
       "array([[230.1,  37.8,  69.2],\n",
       "       [ 44.5,  39.3,  45.1],\n",
       "       [ 17.2,  45.9,  69.3],\n",
       "       [151.5,  41.3,  58.5],\n",
       "       [180.8,  10.8,  58.4],\n",
       "       [  8.7,  48.9,  75. ],\n",
       "       [ 57.5,  32.8,  23.5],\n",
       "       [120.2,  19.6,  11.6],\n",
       "       [  8.6,   2.1,   1. ],\n",
       "       [199.8,   2.6,  21.2],\n",
       "       [ 66.1,   5.8,  24.2],\n",
       "       [214.7,  24. ,   4. ],\n",
       "       [ 23.8,  35.1,  65.9],\n",
       "       [ 97.5,   7.6,   7.2],\n",
       "       [204.1,  32.9,  46. ],\n",
       "       [195.4,  47.7,  52.9],\n",
       "       [ 67.8,  36.6, 114. ],\n",
       "       [281.4,  39.6,  55.8],\n",
       "       [ 69.2,  20.5,  18.3],\n",
       "       [147.3,  23.9,  19.1],\n",
       "       [218.4,  27.7,  53.4],\n",
       "       [237.4,   5.1,  23.5],\n",
       "       [ 13.2,  15.9,  49.6],\n",
       "       [228.3,  16.9,  26.2],\n",
       "       [ 62.3,  12.6,  18.3],\n",
       "       [262.9,   3.5,  19.5],\n",
       "       [142.9,  29.3,  12.6],\n",
       "       [240.1,  16.7,  22.9],\n",
       "       [248.8,  27.1,  22.9],\n",
       "       [ 70.6,  16. ,  40.8],\n",
       "       [292.9,  28.3,  43.2],\n",
       "       [112.9,  17.4,  38.6],\n",
       "       [ 97.2,   1.5,  30. ],\n",
       "       [265.6,  20. ,   0.3],\n",
       "       [ 95.7,   1.4,   7.4],\n",
       "       [290.7,   4.1,   8.5],\n",
       "       [266.9,  43.8,   5. ],\n",
       "       [ 74.7,  49.4,  45.7],\n",
       "       [ 43.1,  26.7,  35.1],\n",
       "       [228. ,  37.7,  32. ],\n",
       "       [202.5,  22.3,  31.6],\n",
       "       [177. ,  33.4,  38.7],\n",
       "       [293.6,  27.7,   1.8],\n",
       "       [206.9,   8.4,  26.4],\n",
       "       [ 25.1,  25.7,  43.3],\n",
       "       [175.1,  22.5,  31.5],\n",
       "       [ 89.7,   9.9,  35.7],\n",
       "       [239.9,  41.5,  18.5],\n",
       "       [227.2,  15.8,  49.9],\n",
       "       [ 66.9,  11.7,  36.8],\n",
       "       [199.8,   3.1,  34.6],\n",
       "       [100.4,   9.6,   3.6],\n",
       "       [216.4,  41.7,  39.6],\n",
       "       [182.6,  46.2,  58.7],\n",
       "       [262.7,  28.8,  15.9],\n",
       "       [198.9,  49.4,  60. ],\n",
       "       [  7.3,  28.1,  41.4],\n",
       "       [136.2,  19.2,  16.6],\n",
       "       [210.8,  49.6,  37.7],\n",
       "       [210.7,  29.5,   9.3],\n",
       "       [ 53.5,   2. ,  21.4],\n",
       "       [261.3,  42.7,  54.7],\n",
       "       [239.3,  15.5,  27.3],\n",
       "       [102.7,  29.6,   8.4],\n",
       "       [131.1,  42.8,  28.9],\n",
       "       [ 69. ,   9.3,   0.9],\n",
       "       [ 31.5,  24.6,   2.2],\n",
       "       [139.3,  14.5,  10.2],\n",
       "       [237.4,  27.5,  11. ],\n",
       "       [216.8,  43.9,  27.2],\n",
       "       [199.1,  30.6,  38.7],\n",
       "       [109.8,  14.3,  31.7],\n",
       "       [ 26.8,  33. ,  19.3],\n",
       "       [129.4,   5.7,  31.3],\n",
       "       [213.4,  24.6,  13.1],\n",
       "       [ 16.9,  43.7,  89.4],\n",
       "       [ 27.5,   1.6,  20.7],\n",
       "       [120.5,  28.5,  14.2],\n",
       "       [  5.4,  29.9,   9.4],\n",
       "       [116. ,   7.7,  23.1],\n",
       "       [ 76.4,  26.7,  22.3],\n",
       "       [239.8,   4.1,  36.9],\n",
       "       [ 75.3,  20.3,  32.5],\n",
       "       [ 68.4,  44.5,  35.6],\n",
       "       [213.5,  43. ,  33.8],\n",
       "       [193.2,  18.4,  65.7],\n",
       "       [ 76.3,  27.5,  16. ],\n",
       "       [110.7,  40.6,  63.2],\n",
       "       [ 88.3,  25.5,  73.4],\n",
       "       [109.8,  47.8,  51.4],\n",
       "       [134.3,   4.9,   9.3],\n",
       "       [ 28.6,   1.5,  33. ],\n",
       "       [217.7,  33.5,  59. ],\n",
       "       [250.9,  36.5,  72.3],\n",
       "       [107.4,  14. ,  10.9],\n",
       "       [163.3,  31.6,  52.9],\n",
       "       [197.6,   3.5,   5.9],\n",
       "       [184.9,  21. ,  22. ],\n",
       "       [289.7,  42.3,  51.2],\n",
       "       [135.2,  41.7,  45.9],\n",
       "       [222.4,   4.3,  49.8],\n",
       "       [296.4,  36.3, 100.9],\n",
       "       [280.2,  10.1,  21.4],\n",
       "       [187.9,  17.2,  17.9],\n",
       "       [238.2,  34.3,   5.3],\n",
       "       [137.9,  46.4,  59. ],\n",
       "       [ 25. ,  11. ,  29.7],\n",
       "       [ 90.4,   0.3,  23.2],\n",
       "       [ 13.1,   0.4,  25.6],\n",
       "       [255.4,  26.9,   5.5],\n",
       "       [225.8,   8.2,  56.5],\n",
       "       [241.7,  38. ,  23.2],\n",
       "       [175.7,  15.4,   2.4],\n",
       "       [209.6,  20.6,  10.7],\n",
       "       [ 78.2,  46.8,  34.5],\n",
       "       [ 75.1,  35. ,  52.7],\n",
       "       [139.2,  14.3,  25.6],\n",
       "       [ 76.4,   0.8,  14.8],\n",
       "       [125.7,  36.9,  79.2],\n",
       "       [ 19.4,  16. ,  22.3],\n",
       "       [141.3,  26.8,  46.2],\n",
       "       [ 18.8,  21.7,  50.4],\n",
       "       [224. ,   2.4,  15.6],\n",
       "       [123.1,  34.6,  12.4],\n",
       "       [229.5,  32.3,  74.2],\n",
       "       [ 87.2,  11.8,  25.9],\n",
       "       [  7.8,  38.9,  50.6],\n",
       "       [ 80.2,   0. ,   9.2],\n",
       "       [220.3,  49. ,   3.2],\n",
       "       [ 59.6,  12. ,  43.1],\n",
       "       [  0.7,  39.6,   8.7],\n",
       "       [265.2,   2.9,  43. ],\n",
       "       [  8.4,  27.2,   2.1],\n",
       "       [219.8,  33.5,  45.1],\n",
       "       [ 36.9,  38.6,  65.6],\n",
       "       [ 48.3,  47. ,   8.5],\n",
       "       [ 25.6,  39. ,   9.3],\n",
       "       [273.7,  28.9,  59.7],\n",
       "       [ 43. ,  25.9,  20.5],\n",
       "       [184.9,  43.9,   1.7],\n",
       "       [ 73.4,  17. ,  12.9],\n",
       "       [193.7,  35.4,  75.6],\n",
       "       [220.5,  33.2,  37.9],\n",
       "       [104.6,   5.7,  34.4],\n",
       "       [ 96.2,  14.8,  38.9],\n",
       "       [140.3,   1.9,   9. ],\n",
       "       [240.1,   7.3,   8.7],\n",
       "       [243.2,  49. ,  44.3],\n",
       "       [ 38. ,  40.3,  11.9],\n",
       "       [ 44.7,  25.8,  20.6],\n",
       "       [280.7,  13.9,  37. ],\n",
       "       [121. ,   8.4,  48.7],\n",
       "       [197.6,  23.3,  14.2],\n",
       "       [171.3,  39.7,  37.7],\n",
       "       [187.8,  21.1,   9.5],\n",
       "       [  4.1,  11.6,   5.7],\n",
       "       [ 93.9,  43.5,  50.5],\n",
       "       [149.8,   1.3,  24.3],\n",
       "       [ 11.7,  36.9,  45.2],\n",
       "       [131.7,  18.4,  34.6],\n",
       "       [172.5,  18.1,  30.7],\n",
       "       [ 85.7,  35.8,  49.3],\n",
       "       [188.4,  18.1,  25.6],\n",
       "       [163.5,  36.8,   7.4],\n",
       "       [117.2,  14.7,   5.4],\n",
       "       [234.5,   3.4,  84.8],\n",
       "       [ 17.9,  37.6,  21.6],\n",
       "       [206.8,   5.2,  19.4],\n",
       "       [215.4,  23.6,  57.6],\n",
       "       [284.3,  10.6,   6.4],\n",
       "       [ 50. ,  11.6,  18.4],\n",
       "       [164.5,  20.9,  47.4],\n",
       "       [ 19.6,  20.1,  17. ],\n",
       "       [168.4,   7.1,  12.8],\n",
       "       [222.4,   3.4,  13.1],\n",
       "       [276.9,  48.9,  41.8],\n",
       "       [248.4,  30.2,  20.3],\n",
       "       [170.2,   7.8,  35.2],\n",
       "       [276.7,   2.3,  23.7],\n",
       "       [165.6,  10. ,  17.6],\n",
       "       [156.6,   2.6,   8.3],\n",
       "       [218.5,   5.4,  27.4],\n",
       "       [ 56.2,   5.7,  29.7],\n",
       "       [287.6,  43. ,  71.8],\n",
       "       [253.8,  21.3,  30. ],\n",
       "       [205. ,  45.1,  19.6],\n",
       "       [139.5,   2.1,  26.6],\n",
       "       [191.1,  28.7,  18.2],\n",
       "       [286. ,  13.9,   3.7],\n",
       "       [ 18.7,  12.1,  23.4],\n",
       "       [ 39.5,  41.1,   5.8],\n",
       "       [ 75.5,  10.8,   6. ],\n",
       "       [ 17.2,   4.1,  31.6],\n",
       "       [166.8,  42. ,   3.6],\n",
       "       [149.7,  35.6,   6. ],\n",
       "       [ 38.2,   3.7,  13.8],\n",
       "       [ 94.2,   4.9,   8.1],\n",
       "       [177. ,   9.3,   6.4],\n",
       "       [283.6,  42. ,  66.2],\n",
       "       [232.1,   8.6,   8.7]])"
      ]
     },
     "execution_count": 8,
     "metadata": {},
     "output_type": "execute_result"
    }
   ],
   "source": [
    "x"
   ]
  },
  {
   "cell_type": "code",
   "execution_count": 9,
   "id": "2e0e6fab",
   "metadata": {},
   "outputs": [
    {
     "data": {
      "text/plain": [
       "array([[22.1],\n",
       "       [10.4],\n",
       "       [12. ],\n",
       "       [16.5],\n",
       "       [17.9],\n",
       "       [ 7.2],\n",
       "       [11.8],\n",
       "       [13.2],\n",
       "       [ 4.8],\n",
       "       [15.6],\n",
       "       [12.6],\n",
       "       [17.4],\n",
       "       [ 9.2],\n",
       "       [13.7],\n",
       "       [19. ],\n",
       "       [22.4],\n",
       "       [12.5],\n",
       "       [24.4],\n",
       "       [11.3],\n",
       "       [14.6],\n",
       "       [18. ],\n",
       "       [17.5],\n",
       "       [ 5.6],\n",
       "       [20.5],\n",
       "       [ 9.7],\n",
       "       [17. ],\n",
       "       [15. ],\n",
       "       [20.9],\n",
       "       [18.9],\n",
       "       [10.5],\n",
       "       [21.4],\n",
       "       [11.9],\n",
       "       [13.2],\n",
       "       [17.4],\n",
       "       [11.9],\n",
       "       [17.8],\n",
       "       [25.4],\n",
       "       [14.7],\n",
       "       [10.1],\n",
       "       [21.5],\n",
       "       [16.6],\n",
       "       [17.1],\n",
       "       [20.7],\n",
       "       [17.9],\n",
       "       [ 8.5],\n",
       "       [16.1],\n",
       "       [10.6],\n",
       "       [23.2],\n",
       "       [19.8],\n",
       "       [ 9.7],\n",
       "       [16.4],\n",
       "       [10.7],\n",
       "       [22.6],\n",
       "       [21.2],\n",
       "       [20.2],\n",
       "       [23.7],\n",
       "       [ 5.5],\n",
       "       [13.2],\n",
       "       [23.8],\n",
       "       [18.4],\n",
       "       [ 8.1],\n",
       "       [24.2],\n",
       "       [20.7],\n",
       "       [14. ],\n",
       "       [16. ],\n",
       "       [11.3],\n",
       "       [11. ],\n",
       "       [13.4],\n",
       "       [18.9],\n",
       "       [22.3],\n",
       "       [18.3],\n",
       "       [12.4],\n",
       "       [ 8.8],\n",
       "       [11. ],\n",
       "       [17. ],\n",
       "       [ 8.7],\n",
       "       [ 6.9],\n",
       "       [14.2],\n",
       "       [ 5.3],\n",
       "       [11. ],\n",
       "       [11.8],\n",
       "       [17.3],\n",
       "       [11.3],\n",
       "       [13.6],\n",
       "       [21.7],\n",
       "       [20.2],\n",
       "       [12. ],\n",
       "       [16. ],\n",
       "       [12.9],\n",
       "       [16.7],\n",
       "       [14. ],\n",
       "       [ 7.3],\n",
       "       [19.4],\n",
       "       [22.2],\n",
       "       [11.5],\n",
       "       [16.9],\n",
       "       [16.7],\n",
       "       [20.5],\n",
       "       [25.4],\n",
       "       [17.2],\n",
       "       [16.7],\n",
       "       [23.8],\n",
       "       [19.8],\n",
       "       [19.7],\n",
       "       [20.7],\n",
       "       [15. ],\n",
       "       [ 7.2],\n",
       "       [12. ],\n",
       "       [ 5.3],\n",
       "       [19.8],\n",
       "       [18.4],\n",
       "       [21.8],\n",
       "       [17.1],\n",
       "       [20.9],\n",
       "       [14.6],\n",
       "       [12.6],\n",
       "       [12.2],\n",
       "       [ 9.4],\n",
       "       [15.9],\n",
       "       [ 6.6],\n",
       "       [15.5],\n",
       "       [ 7. ],\n",
       "       [16.6],\n",
       "       [15.2],\n",
       "       [19.7],\n",
       "       [10.6],\n",
       "       [ 6.6],\n",
       "       [11.9],\n",
       "       [24.7],\n",
       "       [ 9.7],\n",
       "       [ 1.6],\n",
       "       [17.7],\n",
       "       [ 5.7],\n",
       "       [19.6],\n",
       "       [10.8],\n",
       "       [11.6],\n",
       "       [ 9.5],\n",
       "       [20.8],\n",
       "       [ 9.6],\n",
       "       [20.7],\n",
       "       [10.9],\n",
       "       [19.2],\n",
       "       [20.1],\n",
       "       [10.4],\n",
       "       [12.3],\n",
       "       [10.3],\n",
       "       [18.2],\n",
       "       [25.4],\n",
       "       [10.9],\n",
       "       [10.1],\n",
       "       [16.1],\n",
       "       [11.6],\n",
       "       [16.6],\n",
       "       [16. ],\n",
       "       [20.6],\n",
       "       [ 3.2],\n",
       "       [15.3],\n",
       "       [10.1],\n",
       "       [ 7.3],\n",
       "       [12.9],\n",
       "       [16.4],\n",
       "       [13.3],\n",
       "       [19.9],\n",
       "       [18. ],\n",
       "       [11.9],\n",
       "       [16.9],\n",
       "       [ 8. ],\n",
       "       [17.2],\n",
       "       [17.1],\n",
       "       [20. ],\n",
       "       [ 8.4],\n",
       "       [17.5],\n",
       "       [ 7.6],\n",
       "       [16.7],\n",
       "       [16.5],\n",
       "       [27. ],\n",
       "       [20.2],\n",
       "       [16.7],\n",
       "       [16.8],\n",
       "       [17.6],\n",
       "       [15.5],\n",
       "       [17.2],\n",
       "       [ 8.7],\n",
       "       [26.2],\n",
       "       [17.6],\n",
       "       [22.6],\n",
       "       [10.3],\n",
       "       [17.3],\n",
       "       [20.9],\n",
       "       [ 6.7],\n",
       "       [10.8],\n",
       "       [11.9],\n",
       "       [ 5.9],\n",
       "       [19.6],\n",
       "       [17.3],\n",
       "       [ 7.6],\n",
       "       [14. ],\n",
       "       [14.8],\n",
       "       [25.5],\n",
       "       [18.4]])"
      ]
     },
     "execution_count": 9,
     "metadata": {},
     "output_type": "execute_result"
    }
   ],
   "source": [
    "y"
   ]
  },
  {
   "cell_type": "code",
   "execution_count": 10,
   "id": "d193e99f",
   "metadata": {},
   "outputs": [
    {
     "data": {
      "image/png": "[encoded data removed]",
      "text/plain": [
       "<Figure size 640x480 with 1 Axes>"
      ]
     },
     "metadata": {},
     "output_type": "display_data"
    }
   ],
   "source": [
    "plt.scatter(x[:,0], y)# afficher les résultats. x_1 en abscisse et y en ordonnée\n",
    "plt.xlabel('x1')\n",
    "plt.ylabel('y')\n",
    "plt.show()"
   ]
  },
  {
   "cell_type": "code",
   "execution_count": 11,
   "id": "b8e40517",
   "metadata": {},
   "outputs": [
    {
     "data": {
      "image/png": "[encoded data removed]",
      "text/plain": [
       "<Figure size 640x480 with 1 Axes>"
      ]
     },
     "metadata": {},
     "output_type": "display_data"
    }
   ],
   "source": [
    "plt.scatter(x[:,1], y)# afficher les résultats. x_2 en abscisse et y en ordonnée\n",
    "plt.xlabel('x2')\n",
    "plt.ylabel('y')\n",
    "plt.show()"
   ]
  },
  {
   "cell_type": "code",
   "execution_count": 12,
   "id": "b3a83cbc",
   "metadata": {},
   "outputs": [
    {
     "data": {
      "image/png": "[encoded data removed]",
      "text/plain": [
       "<Figure size 640x480 with 1 Axes>"
      ]
     },
     "metadata": {},
     "output_type": "display_data"
    }
   ],
   "source": [
    "plt.scatter(x[:,2], y)# afficher les résultats. x_3 en abscisse et y en ordonnée\n",
    "plt.xlabel('x3')\n",
    "plt.ylabel('y')\n",
    "plt.show()"
   ]
  },
  {
   "cell_type": "code",
   "execution_count": 13,
   "id": "3ddf6fb2",
   "metadata": {},
   "outputs": [
    {
     "name": "stdout",
     "output_type": "stream",
     "text": [
      "(200, 3)\n",
      "(200, 1)\n"
     ]
    }
   ],
   "source": [
    "# Verification des dimensions\n",
    "print(x.shape)\n",
    "print(y.shape)"
   ]
  },
  {
   "cell_type": "code",
   "execution_count": 14,
   "id": "9c52651f",
   "metadata": {},
   "outputs": [
    {
     "name": "stdout",
     "output_type": "stream",
     "text": [
      "(200, 4)\n",
      "[[230.1  37.8  69.2   1. ]\n",
      " [ 44.5  39.3  45.1   1. ]\n",
      " [ 17.2  45.9  69.3   1. ]\n",
      " [151.5  41.3  58.5   1. ]\n",
      " [180.8  10.8  58.4   1. ]\n",
      " [  8.7  48.9  75.    1. ]\n",
      " [ 57.5  32.8  23.5   1. ]\n",
      " [120.2  19.6  11.6   1. ]\n",
      " [  8.6   2.1   1.    1. ]\n",
      " [199.8   2.6  21.2   1. ]]\n"
     ]
    }
   ],
   "source": [
    "# Création de la matrice X, inclut le Biais\n",
    "X = np.hstack((x, np.ones((x.shape[0], 1)))) # ajoute un vecteur Biais de dimension (x.shape[0], 1)\n",
    "print(X.shape)\n",
    "print(X[:10])"
   ]
  },
  {
   "cell_type": "code",
   "execution_count": 15,
   "id": "afe8d7f3",
   "metadata": {},
   "outputs": [
    {
     "name": "stdout",
     "output_type": "stream",
     "text": [
      "(160, 4)\n",
      "(40, 4)\n",
      "(160, 1)\n",
      "(40, 1)\n"
     ]
    }
   ],
   "source": [
    "X_train, X_test, y_train, y_test = train_test_split(X, y, test_size=0.2, random_state=42)\n",
    "\n",
    "print(X_train.shape)\n",
    "print(X_test.shape)\n",
    "print(y_train.shape)\n",
    "print(y_test.shape)"
   ]
  },
  {
   "cell_type": "code",
   "execution_count": 16,
   "id": "200c3cf6",
   "metadata": {},
   "outputs": [
    {
     "data": {
      "text/plain": [
       "array([[-1.55539097],\n",
       "       [-0.48016418],\n",
       "       [-0.08388371],\n",
       "       [ 1.12322344]])"
      ]
     },
     "execution_count": 16,
     "metadata": {},
     "output_type": "execute_result"
    }
   ],
   "source": [
    "# Initialisation du vecteur theta aléatoire, avec 4 éléments (car X a quatre colonnes)\n",
    "theta = np.random.randn(4, 1)\n",
    "theta"
   ]
  },
  {
   "cell_type": "markdown",
   "id": "5864a48a",
   "metadata": {},
   "source": [
    "## 2. Modèle Linéaire"
   ]
  },
  {
   "cell_type": "code",
   "execution_count": 17,
   "id": "df6a3d34",
   "metadata": {},
   "outputs": [],
   "source": [
    "def model(X, theta):\n",
    "    return X.dot(theta)"
   ]
  },
  {
   "cell_type": "markdown",
   "id": "5e357771",
   "metadata": {},
   "source": [
    "## 3. Fonction coût : Erreur Quadratique Moyenne"
   ]
  },
  {
   "cell_type": "code",
   "execution_count": 18,
   "id": "f871d643",
   "metadata": {},
   "outputs": [],
   "source": [
    "def cost_function(X, y, theta):\n",
    "    m = len(y)\n",
    "    return 1/(2*m) * np.sum((model(X, theta) - y)**2)"
   ]
  },
  {
   "cell_type": "code",
   "execution_count": 19,
   "id": "58a59853",
   "metadata": {},
   "outputs": [
    {
     "data": {
      "text/plain": [
       "43361.89376582432"
      ]
     },
     "execution_count": 19,
     "metadata": {},
     "output_type": "execute_result"
    }
   ],
   "source": [
    "cost_function(X_train, y_train, theta)"
   ]
  },
  {
   "cell_type": "markdown",
   "id": "eac8b818",
   "metadata": {},
   "source": [
    "## 4. Gradients et Descente de Gradient"
   ]
  },
  {
   "cell_type": "code",
   "execution_count": 20,
   "id": "2276d8fe",
   "metadata": {},
   "outputs": [],
   "source": [
    "def grad(X, y, theta):\n",
    "    m = len(y)\n",
    "    return 1/m * X.T.dot(model(X, theta) - y)"
   ]
  },
  {
   "cell_type": "code",
   "execution_count": 21,
   "id": "17ba848f",
   "metadata": {},
   "outputs": [],
   "source": [
    "def gradient_descent(X, y, theta, learning_rate, n_iterations):\n",
    "    \n",
    "    cost_history = np.zeros(n_iterations) # création d'un tableau de stockage pour enregistrer l'évolution du Cout du modele\n",
    "    \n",
    "    for i in range(0, n_iterations):\n",
    "        theta = theta - learning_rate * grad(X, y, theta) # mise a jour du parametre theta (formule du gradient descent)\n",
    "        cost_history[i] = cost_function(X, y, theta) # on enregistre la valeur du Cout au tour i dans cost_history[i]\n",
    "        \n",
    "    return theta, cost_history"
   ]
  },
  {
   "cell_type": "markdown",
   "id": "4cab4ef1",
   "metadata": {},
   "source": [
    "## 5. Phase d'entrainement"
   ]
  },
  {
   "cell_type": "code",
   "execution_count": 22,
   "id": "710212ae",
   "metadata": {},
   "outputs": [
    {
     "data": {
      "text/plain": [
       "array([[0.05513715],\n",
       "       [0.10316398],\n",
       "       [0.00591738],\n",
       "       [4.4908708 ]])"
      ]
     },
     "execution_count": 22,
     "metadata": {},
     "output_type": "execute_result"
    }
   ],
   "source": [
    "n_iterations = 2000000\n",
    "learning_rate = 0.00001\n",
    "\n",
    "theta_final, cost_history = gradient_descent(X_train, y_train, theta, learning_rate, n_iterations)\n",
    "theta_final"
   ]
  },
  {
   "cell_type": "markdown",
   "id": "de887af6",
   "metadata": {},
   "source": [
    "## 6. Courbe d'apprentissage"
   ]
  },
  {
   "cell_type": "code",
   "execution_count": 23,
   "id": "ac37b799",
   "metadata": {},
   "outputs": [
    {
     "data": {
      "image/png": "[encoded data removed]",
      "text/plain": [
       "<Figure size 640x480 with 1 Axes>"
      ]
     },
     "metadata": {},
     "output_type": "display_data"
    }
   ],
   "source": [
    "plt.plot(range(n_iterations), cost_history)\n",
    "plt.show()"
   ]
  },
  {
   "cell_type": "markdown",
   "id": "74ef425c",
   "metadata": {},
   "source": [
    "## 7. Evaluation du modèle - Coefficient de détermination"
   ]
  },
  {
   "cell_type": "code",
   "execution_count": 24,
   "id": "d13585bf",
   "metadata": {},
   "outputs": [],
   "source": [
    "def coef_determination(y, pred):\n",
    "    u = ((y - pred)**2).sum()\n",
    "    v = ((y - y.mean())**2).sum()\n",
    "    return 1 - u/v"
   ]
  },
  {
   "cell_type": "code",
   "execution_count": 25,
   "id": "0afc13ac",
   "metadata": {},
   "outputs": [
    {
     "name": "stdout",
     "output_type": "stream",
     "text": [
      "Coefficient de détermination de Régression Multiple (training set) =  0.8998835385838682\n"
     ]
    }
   ],
   "source": [
    "predictions = model(X_train, theta_final)\n",
    "cd_train_Reg_Mult = coef_determination(y_train, predictions)\n",
    "print(\"Coefficient de détermination de Régression Multiple (training set) = \", cd_train_Reg_Mult)"
   ]
  },
  {
   "cell_type": "code",
   "execution_count": 26,
   "id": "811f6534",
   "metadata": {},
   "outputs": [
    {
     "name": "stdout",
     "output_type": "stream",
     "text": [
      "Coefficient de détermination de Régression Multiple (training set) =  0.9063249719575114\n"
     ]
    }
   ],
   "source": [
    "predictions = model(X_test, theta_final)\n",
    "cd_test_Reg_Mult = coef_determination(y_test, predictions)\n",
    "print(\"Coefficient de détermination de Régression Multiple (training set) = \", cd_test_Reg_Mult)"
   ]
  },
  {
   "cell_type": "code",
   "execution_count": 27,
   "id": "d5152930",
   "metadata": {},
   "outputs": [
    {
     "data": {
      "image/png": "[encoded data removed]",
      "text/plain": [
       "<Figure size 640x480 with 2 Axes>"
      ]
     },
     "metadata": {},
     "output_type": "display_data"
    }
   ],
   "source": [
    "from mpl_toolkits.mplot3d import Axes3D\n",
    "\n",
    "# Generate sample 4D data\n",
    "x = dataset[\"TV\"]\n",
    "y = dataset[\"Radio\"]\n",
    "z = dataset[\"Newspaper\"]\n",
    "w = dataset[\"Sales\"]  # Fourth dimension\n",
    "\n",
    "# Plotting\n",
    "fig = plt.figure()\n",
    "ax = fig.add_subplot(111, projection='3d')\n",
    "\n",
    "# Represent the fourth dimension using color\n",
    "sc = ax.scatter(x, y, w, c=w, cmap='viridis')\n",
    "plt.colorbar(sc, label='Fourth Dimension')\n",
    "\n",
    "ax.set_xlabel('X')\n",
    "ax.set_ylabel('Y')\n",
    "ax.set_zlabel('Z')\n",
    "\n",
    "plt.show()"
   ]
  },
  {
   "cell_type": "markdown",
   "id": "54e4e104",
   "metadata": {},
   "source": [
    "# Régression Polynomiale"
   ]
  },
  {
   "cell_type": "markdown",
   "id": "c3f3416a",
   "metadata": {},
   "source": [
    "# 1. Dataset"
   ]
  },
  {
   "cell_type": "code",
   "execution_count": 28,
   "id": "3b9dacdf",
   "metadata": {},
   "outputs": [
    {
     "data": {
      "text/html": [
       "<div>\n",
       "<style scoped>\n",
       "    .dataframe tbody tr th:only-of-type {\n",
       "        vertical-align: middle;\n",
       "    }\n",
       "\n",
       "    .dataframe tbody tr th {\n",
       "        vertical-align: top;\n",
       "    }\n",
       "\n",
       "    .dataframe thead th {\n",
       "        text-align: right;\n",
       "    }\n",
       "</style>\n",
       "<table border=\"1\" class=\"dataframe\">\n",
       "  <thead>\n",
       "    <tr style=\"text-align: right;\">\n",
       "      <th></th>\n",
       "      <th>TV</th>\n",
       "      <th>Radio</th>\n",
       "      <th>Newspaper</th>\n",
       "      <th>Sales</th>\n",
       "    </tr>\n",
       "  </thead>\n",
       "  <tbody>\n",
       "    <tr>\n",
       "      <th>0</th>\n",
       "      <td>230.1</td>\n",
       "      <td>37.8</td>\n",
       "      <td>69.2</td>\n",
       "      <td>22.1</td>\n",
       "    </tr>\n",
       "    <tr>\n",
       "      <th>1</th>\n",
       "      <td>44.5</td>\n",
       "      <td>39.3</td>\n",
       "      <td>45.1</td>\n",
       "      <td>10.4</td>\n",
       "    </tr>\n",
       "    <tr>\n",
       "      <th>2</th>\n",
       "      <td>17.2</td>\n",
       "      <td>45.9</td>\n",
       "      <td>69.3</td>\n",
       "      <td>12.0</td>\n",
       "    </tr>\n",
       "    <tr>\n",
       "      <th>3</th>\n",
       "      <td>151.5</td>\n",
       "      <td>41.3</td>\n",
       "      <td>58.5</td>\n",
       "      <td>16.5</td>\n",
       "    </tr>\n",
       "    <tr>\n",
       "      <th>4</th>\n",
       "      <td>180.8</td>\n",
       "      <td>10.8</td>\n",
       "      <td>58.4</td>\n",
       "      <td>17.9</td>\n",
       "    </tr>\n",
       "    <tr>\n",
       "      <th>5</th>\n",
       "      <td>8.7</td>\n",
       "      <td>48.9</td>\n",
       "      <td>75.0</td>\n",
       "      <td>7.2</td>\n",
       "    </tr>\n",
       "    <tr>\n",
       "      <th>6</th>\n",
       "      <td>57.5</td>\n",
       "      <td>32.8</td>\n",
       "      <td>23.5</td>\n",
       "      <td>11.8</td>\n",
       "    </tr>\n",
       "    <tr>\n",
       "      <th>7</th>\n",
       "      <td>120.2</td>\n",
       "      <td>19.6</td>\n",
       "      <td>11.6</td>\n",
       "      <td>13.2</td>\n",
       "    </tr>\n",
       "    <tr>\n",
       "      <th>8</th>\n",
       "      <td>8.6</td>\n",
       "      <td>2.1</td>\n",
       "      <td>1.0</td>\n",
       "      <td>4.8</td>\n",
       "    </tr>\n",
       "    <tr>\n",
       "      <th>9</th>\n",
       "      <td>199.8</td>\n",
       "      <td>2.6</td>\n",
       "      <td>21.2</td>\n",
       "      <td>15.6</td>\n",
       "    </tr>\n",
       "  </tbody>\n",
       "</table>\n",
       "</div>"
      ],
      "text/plain": [
       "      TV  Radio  Newspaper  Sales\n",
       "0  230.1   37.8       69.2   22.1\n",
       "1   44.5   39.3       45.1   10.4\n",
       "2   17.2   45.9       69.3   12.0\n",
       "3  151.5   41.3       58.5   16.5\n",
       "4  180.8   10.8       58.4   17.9\n",
       "5    8.7   48.9       75.0    7.2\n",
       "6   57.5   32.8       23.5   11.8\n",
       "7  120.2   19.6       11.6   13.2\n",
       "8    8.6    2.1        1.0    4.8\n",
       "9  199.8    2.6       21.2   15.6"
      ]
     },
     "execution_count": 28,
     "metadata": {},
     "output_type": "execute_result"
    }
   ],
   "source": [
    "dataset = pd.read_csv('Advertising.csv')\n",
    "dataset.head(10)"
   ]
  },
  {
   "cell_type": "code",
   "execution_count": 29,
   "id": "4070a280",
   "metadata": {},
   "outputs": [
    {
     "data": {
      "text/html": [
       "<div>\n",
       "<style scoped>\n",
       "    .dataframe tbody tr th:only-of-type {\n",
       "        vertical-align: middle;\n",
       "    }\n",
       "\n",
       "    .dataframe tbody tr th {\n",
       "        vertical-align: top;\n",
       "    }\n",
       "\n",
       "    .dataframe thead th {\n",
       "        text-align: right;\n",
       "    }\n",
       "</style>\n",
       "<table border=\"1\" class=\"dataframe\">\n",
       "  <thead>\n",
       "    <tr style=\"text-align: right;\">\n",
       "      <th></th>\n",
       "      <th>TV</th>\n",
       "      <th>Radio</th>\n",
       "      <th>Newspaper</th>\n",
       "      <th>Sales</th>\n",
       "    </tr>\n",
       "  </thead>\n",
       "  <tbody>\n",
       "    <tr>\n",
       "      <th>TV</th>\n",
       "      <td>1.000000</td>\n",
       "      <td>0.054809</td>\n",
       "      <td>0.056648</td>\n",
       "      <td>0.901208</td>\n",
       "    </tr>\n",
       "    <tr>\n",
       "      <th>Radio</th>\n",
       "      <td>0.054809</td>\n",
       "      <td>1.000000</td>\n",
       "      <td>0.354104</td>\n",
       "      <td>0.349631</td>\n",
       "    </tr>\n",
       "    <tr>\n",
       "      <th>Newspaper</th>\n",
       "      <td>0.056648</td>\n",
       "      <td>0.354104</td>\n",
       "      <td>1.000000</td>\n",
       "      <td>0.157960</td>\n",
       "    </tr>\n",
       "    <tr>\n",
       "      <th>Sales</th>\n",
       "      <td>0.901208</td>\n",
       "      <td>0.349631</td>\n",
       "      <td>0.157960</td>\n",
       "      <td>1.000000</td>\n",
       "    </tr>\n",
       "  </tbody>\n",
       "</table>\n",
       "</div>"
      ],
      "text/plain": [
       "                 TV     Radio  Newspaper     Sales\n",
       "TV         1.000000  0.054809   0.056648  0.901208\n",
       "Radio      0.054809  1.000000   0.354104  0.349631\n",
       "Newspaper  0.056648  0.354104   1.000000  0.157960\n",
       "Sales      0.901208  0.349631   0.157960  1.000000"
      ]
     },
     "execution_count": 29,
     "metadata": {},
     "output_type": "execute_result"
    }
   ],
   "source": [
    "dataset.corr()"
   ]
  },
  {
   "cell_type": "markdown",
   "id": "0f47fb37",
   "metadata": {},
   "source": [
    "# 2. Handling missing data"
   ]
  },
  {
   "cell_type": "code",
   "execution_count": 30,
   "id": "b5f7ad25",
   "metadata": {},
   "outputs": [
    {
     "data": {
      "text/plain": [
       "0"
      ]
     },
     "execution_count": 30,
     "metadata": {},
     "output_type": "execute_result"
    }
   ],
   "source": [
    "dataset.isnull().values.sum()"
   ]
  },
  {
   "cell_type": "code",
   "execution_count": 31,
   "id": "b503444c",
   "metadata": {},
   "outputs": [],
   "source": [
    "x = dataset[['TV', 'Radio', 'Newspaper']].values\n",
    "y = dataset[['Sales']].values"
   ]
  },
  {
   "cell_type": "code",
   "execution_count": 32,
   "id": "e45eca28",
   "metadata": {},
   "outputs": [
    {
     "name": "stdout",
     "output_type": "stream",
     "text": [
      "(200, 3)\n",
      "(200, 1)\n"
     ]
    }
   ],
   "source": [
    "print(x.shape)\n",
    "print(y.shape)"
   ]
  },
  {
   "cell_type": "markdown",
   "id": "22dc9164",
   "metadata": {},
   "source": [
    "# 3. Matrice polynomiale"
   ]
  },
  {
   "cell_type": "code",
   "execution_count": 33,
   "id": "4c60d70c",
   "metadata": {},
   "outputs": [
    {
     "name": "stdout",
     "output_type": "stream",
     "text": [
      "(200, 9)\n",
      "[[2.301000e+02 3.780000e+01 6.920000e+01 5.294601e+04 1.428840e+03\n",
      "  4.788640e+03 8.697780e+03 1.592292e+04 2.615760e+03]\n",
      " [4.450000e+01 3.930000e+01 4.510000e+01 1.980250e+03 1.544490e+03\n",
      "  2.034010e+03 1.748850e+03 2.006950e+03 1.772430e+03]\n",
      " [1.720000e+01 4.590000e+01 6.930000e+01 2.958400e+02 2.106810e+03\n",
      "  4.802490e+03 7.894800e+02 1.191960e+03 3.180870e+03]\n",
      " [1.515000e+02 4.130000e+01 5.850000e+01 2.295225e+04 1.705690e+03\n",
      "  3.422250e+03 6.256950e+03 8.862750e+03 2.416050e+03]\n",
      " [1.808000e+02 1.080000e+01 5.840000e+01 3.268864e+04 1.166400e+02\n",
      "  3.410560e+03 1.952640e+03 1.055872e+04 6.307200e+02]\n",
      " [8.700000e+00 4.890000e+01 7.500000e+01 7.569000e+01 2.391210e+03\n",
      "  5.625000e+03 4.254300e+02 6.525000e+02 3.667500e+03]\n",
      " [5.750000e+01 3.280000e+01 2.350000e+01 3.306250e+03 1.075840e+03\n",
      "  5.522500e+02 1.886000e+03 1.351250e+03 7.708000e+02]\n",
      " [1.202000e+02 1.960000e+01 1.160000e+01 1.444804e+04 3.841600e+02\n",
      "  1.345600e+02 2.355920e+03 1.394320e+03 2.273600e+02]\n",
      " [8.600000e+00 2.100000e+00 1.000000e+00 7.396000e+01 4.410000e+00\n",
      "  1.000000e+00 1.806000e+01 8.600000e+00 2.100000e+00]\n",
      " [1.998000e+02 2.600000e+00 2.120000e+01 3.992004e+04 6.760000e+00\n",
      "  4.494400e+02 5.194800e+02 4.235760e+03 5.512000e+01]]\n"
     ]
    }
   ],
   "source": [
    "# Ajout des termes polynomiaux\n",
    "X = np.hstack((x, x[:, 0:1]**2, x[:, 1:2]**2, x[:, 2:3]**2, x[:, 0:1]*x[:, 1:2], x[:, 0:1]*x[:, 2:3], x[:, 1:2]*x[:, 2:3]))\n",
    "\n",
    "print(X.shape)\n",
    "print(X[:10])"
   ]
  },
  {
   "cell_type": "code",
   "execution_count": 34,
   "id": "ee9e62a2",
   "metadata": {},
   "outputs": [
    {
     "data": {
      "text/plain": [
       "(200, 1)"
      ]
     },
     "execution_count": 34,
     "metadata": {},
     "output_type": "execute_result"
    }
   ],
   "source": [
    "y = y.reshape(-1,1)\n",
    "y.shape"
   ]
  },
  {
   "cell_type": "markdown",
   "id": "2bfc2866",
   "metadata": {},
   "source": [
    "# 4. Spliting the data to train and test"
   ]
  },
  {
   "cell_type": "code",
   "execution_count": 35,
   "id": "fbd15cf7",
   "metadata": {},
   "outputs": [
    {
     "name": "stdout",
     "output_type": "stream",
     "text": [
      "x_train shape  :  (160, 9)\n",
      "x_test shape  :  (40, 9)\n",
      "y_train shape  :  (160, 1)\n",
      "y_test shape  :  (40, 1)\n"
     ]
    }
   ],
   "source": [
    "x_train, x_test, y_train, y_test =  train_test_split(X, y, test_size=0.2, random_state=42)\n",
    "\n",
    "print('x_train shape  : ', x_train.shape)\n",
    "print('x_test shape  : ', x_test.shape)\n",
    "print('y_train shape  : ', y_train.shape)\n",
    "print('y_test shape  : ', y_test.shape)"
   ]
  },
  {
   "cell_type": "code",
   "execution_count": 36,
   "id": "b52f2b12",
   "metadata": {},
   "outputs": [
    {
     "data": {
      "text/plain": [
       "4518.257833333333"
      ]
     },
     "execution_count": 36,
     "metadata": {},
     "output_type": "execute_result"
    }
   ],
   "source": [
    "x_train.mean()"
   ]
  },
  {
   "cell_type": "code",
   "execution_count": 37,
   "id": "f1206904",
   "metadata": {},
   "outputs": [
    {
     "data": {
      "text/plain": [
       "12519.193430080999"
      ]
     },
     "execution_count": 37,
     "metadata": {},
     "output_type": "execute_result"
    }
   ],
   "source": [
    "x_train.std()"
   ]
  },
  {
   "cell_type": "markdown",
   "id": "2a62c8d1",
   "metadata": {},
   "source": [
    "# 5. Normalization"
   ]
  },
  {
   "cell_type": "code",
   "execution_count": 38,
   "id": "c16cf5f1",
   "metadata": {},
   "outputs": [],
   "source": [
    "def z_score_normalization(data):\n",
    "    # Calcul des moyennes et des déviations standard de chaque caractéristique\n",
    "    mean = np.mean(data, axis=0)\n",
    "    std = np.std(data, axis=0)\n",
    "\n",
    "    # Normalisation des données en utilisant la méthode Z-score\n",
    "    data_normalized = (data - mean) / std\n",
    "\n",
    "    return data_normalized, mean, std"
   ]
  },
  {
   "cell_type": "code",
   "execution_count": 39,
   "id": "70d08e0c",
   "metadata": {},
   "outputs": [
    {
     "data": {
      "text/plain": [
       "array([[-0.40424839, -1.02823707, -0.33767538, ..., -0.78692467,\n",
       "        -0.39505518, -0.69943124],\n",
       "       [ 0.32060772, -0.91982774, -1.16143931, ..., -0.5595303 ,\n",
       "        -0.72619044, -0.83224356],\n",
       "       [-1.27051084,  0.2591237 ,  0.25425079, ..., -0.70913217,\n",
       "        -0.64483881,  0.15265483],\n",
       "       ...,\n",
       "       [ 0.80424121,  0.71986334,  1.43317042, ...,  1.1459577 ,\n",
       "         1.78097963,  1.31899043],\n",
       "       [ 0.1851428 , -0.87239866, -0.60897488, ..., -0.55654025,\n",
       "        -0.3447555 , -0.70152976],\n",
       "       [ 1.54692165, -0.86562307, -0.42153159, ..., -0.20195725,\n",
       "         0.31497179, -0.65648467]])"
      ]
     },
     "execution_count": 39,
     "metadata": {},
     "output_type": "execute_result"
    }
   ],
   "source": [
    "x_train_norm, mean, std = z_score_normalization(x_train)\n",
    "x_train_norm"
   ]
  },
  {
   "cell_type": "code",
   "execution_count": 40,
   "id": "24401742",
   "metadata": {},
   "outputs": [
    {
     "data": {
      "text/plain": [
       "-4.934324553889585e-18"
      ]
     },
     "execution_count": 40,
     "metadata": {},
     "output_type": "execute_result"
    }
   ],
   "source": [
    "x_train_norm.mean()"
   ]
  },
  {
   "cell_type": "code",
   "execution_count": 41,
   "id": "ca06438b",
   "metadata": {},
   "outputs": [
    {
     "data": {
      "text/plain": [
       "1.0"
      ]
     },
     "execution_count": 41,
     "metadata": {},
     "output_type": "execute_result"
    }
   ],
   "source": [
    "x_train_norm.std()"
   ]
  },
  {
   "cell_type": "code",
   "execution_count": 42,
   "id": "00a6319b",
   "metadata": {},
   "outputs": [
    {
     "data": {
      "text/plain": [
       "array([1.50019375e+02, 2.28756250e+01, 2.99456250e+01, 2.95878153e+04,\n",
       "       7.41118688e+02, 1.30772681e+03, 3.49869800e+03, 4.52498288e+03,\n",
       "       8.01138187e+02])"
      ]
     },
     "execution_count": 42,
     "metadata": {},
     "output_type": "execute_result"
    }
   ],
   "source": [
    "mean"
   ]
  },
  {
   "cell_type": "code",
   "execution_count": 43,
   "id": "7ca81ddf",
   "metadata": {},
   "outputs": [
    {
     "data": {
      "text/plain": [
       "array([8.41546341e+01, 1.47588776e+01, 2.02727984e+01, 2.54284484e+04,\n",
       "       7.27294449e+02, 1.58236832e+03, 3.31098783e+03, 4.67120285e+03,\n",
       "       8.91107156e+02])"
      ]
     },
     "execution_count": 43,
     "metadata": {},
     "output_type": "execute_result"
    }
   ],
   "source": [
    "std"
   ]
  },
  {
   "cell_type": "code",
   "execution_count": 44,
   "id": "be8e85cf",
   "metadata": {},
   "outputs": [],
   "source": [
    "x_test_norm = (x_test - mean)/std"
   ]
  },
  {
   "cell_type": "code",
   "execution_count": 45,
   "id": "8b626d70",
   "metadata": {},
   "outputs": [],
   "source": [
    "X_train_norm = np.hstack((x_train_norm, np.ones((x_train.shape[0], 1))))\n",
    "X_test_norm = np.hstack((x_test_norm, np.ones((x_test.shape[0], 1))))\n",
    "Y_train = y_train\n",
    "Y_test = y_test"
   ]
  },
  {
   "cell_type": "code",
   "execution_count": 46,
   "id": "5995f905",
   "metadata": {},
   "outputs": [
    {
     "data": {
      "text/plain": [
       "array([[-0.51501097],\n",
       "       [-0.62504386],\n",
       "       [ 0.75751543],\n",
       "       [ 2.61186019],\n",
       "       [-0.3275637 ],\n",
       "       [ 0.89454335],\n",
       "       [-1.23995204],\n",
       "       [ 0.68431248],\n",
       "       [-0.30689285],\n",
       "       [ 0.44238161]])"
      ]
     },
     "execution_count": 46,
     "metadata": {},
     "output_type": "execute_result"
    }
   ],
   "source": [
    "# Initialisation du vecteur theta aléatoire, avec 3 éléments (car X a trois colonnes)\n",
    "theta = np.random.randn(10, 1)\n",
    "theta"
   ]
  },
  {
   "cell_type": "markdown",
   "id": "46d7d881",
   "metadata": {},
   "source": [
    "# 6. Modèle Linéaire "
   ]
  },
  {
   "cell_type": "code",
   "execution_count": 47,
   "id": "d3eaee8b",
   "metadata": {},
   "outputs": [],
   "source": [
    "def model(X, theta):\n",
    "    return X.dot(theta)"
   ]
  },
  {
   "cell_type": "markdown",
   "id": "e5c1dc2d",
   "metadata": {},
   "source": [
    "# 7. Fonction coût : Erreur Quadratique Moyenne"
   ]
  },
  {
   "cell_type": "code",
   "execution_count": 48,
   "id": "6e966479",
   "metadata": {},
   "outputs": [],
   "source": [
    "def cost_function(X, y, theta):\n",
    "    m = len(y)\n",
    "    return 1/(2*m) * np.sum((model(X, theta) - y)**2)"
   ]
  },
  {
   "cell_type": "code",
   "execution_count": 49,
   "id": "c322829b",
   "metadata": {},
   "outputs": [
    {
     "data": {
      "text/plain": [
       "122.75769213661493"
      ]
     },
     "execution_count": 49,
     "metadata": {},
     "output_type": "execute_result"
    }
   ],
   "source": [
    "cost_function(X_train_norm, Y_train, theta)"
   ]
  },
  {
   "cell_type": "markdown",
   "id": "cecdd8c3",
   "metadata": {},
   "source": [
    "# 8. Gradients et Descente de Gradient"
   ]
  },
  {
   "cell_type": "code",
   "execution_count": 50,
   "id": "cfde6f64",
   "metadata": {},
   "outputs": [],
   "source": [
    "def grad(X, y, theta):\n",
    "    m = len(y)\n",
    "    return 1/m * X.T.dot(model(X, theta) - y)"
   ]
  },
  {
   "cell_type": "code",
   "execution_count": 51,
   "id": "affc89c6",
   "metadata": {},
   "outputs": [],
   "source": [
    "def gradient_descent(X, y, theta, learning_rate, n_iterations):\n",
    "    \n",
    "    cost_history = np.zeros(n_iterations) # création d'un tableau de stockage pour enregistrer l'évolution du Cout du modele\n",
    "    \n",
    "    for i in range(0, n_iterations):\n",
    "        theta = theta - learning_rate * grad(X, y, theta) # mise a jour du parametre theta (formule du gradient descent)\n",
    "        cost_history[i] = cost_function(X, y, theta) # on enregistre la valeur du Cout au tour i dans cost_history[i]\n",
    "        \n",
    "    return theta, cost_history"
   ]
  },
  {
   "cell_type": "markdown",
   "id": "067b33a7",
   "metadata": {},
   "source": [
    "# 9. Phase d'entrainement"
   ]
  },
  {
   "cell_type": "code",
   "execution_count": 52,
   "id": "aa3b7fe4",
   "metadata": {},
   "outputs": [],
   "source": [
    "n_iterations = 1000\n",
    "learning_rate = 0.3\n",
    "\n",
    "theta_final, cost_history = gradient_descent(X_train_norm, Y_train, theta, learning_rate, n_iterations)"
   ]
  },
  {
   "cell_type": "markdown",
   "id": "c4303a00",
   "metadata": {},
   "source": [
    "# 10. Courbe d'apprentissage"
   ]
  },
  {
   "cell_type": "code",
   "execution_count": 53,
   "id": "d6f373eb",
   "metadata": {},
   "outputs": [
    {
     "data": {
      "image/png": "[encoded data removed]",
      "text/plain": [
       "<Figure size 640x480 with 1 Axes>"
      ]
     },
     "metadata": {},
     "output_type": "display_data"
    }
   ],
   "source": [
    "plt.plot(range(n_iterations), cost_history)\n",
    "plt.show()"
   ]
  },
  {
   "cell_type": "markdown",
   "id": "d66eee70",
   "metadata": {},
   "source": [
    "# 11. Evaluation du modèle - Coefficient de détermination"
   ]
  },
  {
   "cell_type": "code",
   "execution_count": 54,
   "id": "5dc42ab6",
   "metadata": {},
   "outputs": [],
   "source": [
    "def coef_determination(y, pred):\n",
    "    u = ((y - pred)**2).sum()\n",
    "    v = ((y - y.mean())**2).sum()\n",
    "    return 1 - u/v"
   ]
  },
  {
   "cell_type": "code",
   "execution_count": 55,
   "id": "2a370af6",
   "metadata": {},
   "outputs": [
    {
     "name": "stdout",
     "output_type": "stream",
     "text": [
      "Coefficient de détermination de Régression Polynomiale (training set) =  0.9288133475505796\n"
     ]
    }
   ],
   "source": [
    "cd_train_Reg_Poly = coef_determination(Y_train, model(X_train_norm, theta_final))\n",
    "print(\"Coefficient de détermination de Régression Polynomiale (training set) = \", cd_train_Reg_Poly)"
   ]
  },
  {
   "cell_type": "code",
   "execution_count": 56,
   "id": "ebd18c0e",
   "metadata": {},
   "outputs": [
    {
     "name": "stdout",
     "output_type": "stream",
     "text": [
      "Coefficient de détermination de Régression Polynomiale (test set) =  0.9533150015628652\n"
     ]
    }
   ],
   "source": [
    "cd_test_Reg_Poly = coef_determination(Y_test, model(X_test_norm, theta_final))\n",
    "print(\"Coefficient de détermination de Régression Polynomiale (test set) = \", cd_test_Reg_Poly)"
   ]
  },
  {
   "cell_type": "code",
   "execution_count": 57,
   "id": "aed4f06d",
   "metadata": {},
   "outputs": [
    {
     "name": "stdout",
     "output_type": "stream",
     "text": [
      "+--------------------------------+------------------------------------+\n",
      "|             Model              | Coefficient de détermination (R^2) |\n",
      "+--------------------------------+------------------------------------+\n",
      "|  Regression Multiple (train)   |         0.8998835385838682         |\n",
      "|   Regression Multiple (test)   |         0.9063249719575114         |\n",
      "| Regression Polynomiale (train) |         0.9288133475505796         |\n",
      "| Regression Polynomiale (test)  |         0.9533150015628652         |\n",
      "+--------------------------------+------------------------------------+\n",
      "Le meilleur modèle est : Regression Polynomiale\n"
     ]
    }
   ],
   "source": [
    "from tabulate import tabulate\n",
    "\n",
    "# Assuming you have calculated cd_train_Reg_Mult, cd_test_Reg_Mult, cd_train_Reg_Poly, cd_test_Reg_Poly\n",
    "\n",
    "data = [\n",
    "    [\"Regression Multiple (train)\", cd_train_Reg_Mult],\n",
    "    [\"Regression Multiple (test)\", cd_test_Reg_Mult],\n",
    "    [\"Regression Polynomiale (train)\", cd_train_Reg_Poly],\n",
    "    [\"Regression Polynomiale (test)\", cd_test_Reg_Poly],\n",
    "]\n",
    "\n",
    "print(tabulate(data, headers=[\"Model\", \"Coefficient de détermination (R^2)\"], tablefmt=\"pretty\"))\n",
    "\n",
    "best_model = \"Regression Multiple\" if cd_train_Reg_Mult > cd_train_Reg_Poly else \"Regression Polynomiale\"\n",
    "print(\"Le meilleur modèle est :\", best_model)"
   ]
  },
  {
   "cell_type": "code",
   "execution_count": 63,
   "id": "f1050ed8",
   "metadata": {},
   "outputs": [
    {
     "data": {
      "image/png": "[encoded data removed]",
      "text/plain": [
       "<Figure size 1200x800 with 1 Axes>"
      ]
     },
     "metadata": {},
     "output_type": "display_data"
    }
   ],
   "source": [
    "models = [\"Regression Multiple (train)\", \"Regression Multiple (test)\", \"Regression Polynomiale (train)\", \"Regression Polynomiale (test)\"]\n",
    "r2_values = [cd_train_Reg_Mult, cd_test_Reg_Mult, cd_train_Reg_Poly, cd_test_Reg_Poly]\n",
    "\n",
    "plt.figure(figsize=(12, 8))\n",
    "plt.bar(models, r2_values, color=['blue', 'orange', 'green', 'red'])\n",
    "plt.xlabel('Modèles')\n",
    "plt.ylabel('Coefficient de détermination (R^2)')\n",
    "plt.title('Comparaison des modèles de régression')\n",
    "plt.ylim(0, 1)  # Set y-axis limit from 0 to 1\n",
    "plt.axhline(max(r2_values), color='gray', linestyle='--', label='Meilleur modèle')  # Add horizontal line for the best model\n",
    "plt.legend()\n",
    "plt.show()"
   ]
  },
  {
   "cell_type": "code",
   "execution_count": null,
   "id": "b6d91289",
   "metadata": {},
   "outputs": [],
   "source": []
  }
 ],
 "metadata": {
  "kernelspec": {
   "display_name": "Python 3 (ipykernel)",
   "language": "python",
   "name": "python3"
  },
  "language_info": {
   "codemirror_mode": {
    "name": "ipython",
    "version": 3
   },
   "file_extension": ".py",
   "mimetype": "text/x-python",
   "name": "python",
   "nbconvert_exporter": "python",
   "pygments_lexer": "ipython3",
   "version": "3.11.5"
  }
 },
 "nbformat": 4,
 "nbformat_minor": 5
}
