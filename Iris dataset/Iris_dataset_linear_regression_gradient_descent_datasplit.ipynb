{
 "cells": [
  {
   "cell_type": "markdown",
   "id": "952e8adb",
   "metadata": {
    "id": "952e8adb"
   },
   "source": [
    "# Regression Linéaire Simple du dataset Iris - Gradient Descent"
   ]
  },
  {
   "cell_type": "code",
   "execution_count": null,
   "id": "4aaf4dbc",
   "metadata": {
    "id": "4aaf4dbc"
   },
   "outputs": [],
   "source": [
    "import pandas as pd\n",
    "import numpy as np\n",
    "import matplotlib.pyplot as plt\n",
    "from sklearn.model_selection import train_test_split\n",
    "%matplotlib inline"
   ]
  },
  {
   "cell_type": "markdown",
   "id": "52aab10c",
   "metadata": {
    "id": "52aab10c"
   },
   "source": [
    "## 1. Dataset\n",
    "Chargement du dataset Iris pour effectuer les prédictions de la largeur des pétales en fonction de longueur des pétales"
   ]
  },
  {
   "cell_type": "code",
   "execution_count": null,
   "id": "fd4ad33b",
   "metadata": {
    "id": "fd4ad33b"
   },
   "outputs": [],
   "source": [
    "dataset=pd.read_csv(\"iris.csv\")"
   ]
  },
  {
   "cell_type": "code",
   "execution_count": null,
   "id": "b1933fdf",
   "metadata": {
    "id": "b1933fdf",
    "outputId": "be5013e4-6792-46a2-81c8-29c254f4bb35"
   },
   "outputs": [
    {
     "data": {
      "text/html": [
       "<div>\n",
       "<style scoped>\n",
       "    .dataframe tbody tr th:only-of-type {\n",
       "        vertical-align: middle;\n",
       "    }\n",
       "\n",
       "    .dataframe tbody tr th {\n",
       "        vertical-align: top;\n",
       "    }\n",
       "\n",
       "    .dataframe thead th {\n",
       "        text-align: right;\n",
       "    }\n",
       "</style>\n",
       "<table border=\"1\" class=\"dataframe\">\n",
       "  <thead>\n",
       "    <tr style=\"text-align: right;\">\n",
       "      <th></th>\n",
       "      <th>sepal_length</th>\n",
       "      <th>sepal_width</th>\n",
       "      <th>petal_length</th>\n",
       "      <th>petal_width</th>\n",
       "      <th>class</th>\n",
       "    </tr>\n",
       "  </thead>\n",
       "  <tbody>\n",
       "    <tr>\n",
       "      <th>0</th>\n",
       "      <td>5.1</td>\n",
       "      <td>3.5</td>\n",
       "      <td>1.4</td>\n",
       "      <td>0.2</td>\n",
       "      <td>Iris-setosa</td>\n",
       "    </tr>\n",
       "    <tr>\n",
       "      <th>1</th>\n",
       "      <td>4.9</td>\n",
       "      <td>3.0</td>\n",
       "      <td>1.4</td>\n",
       "      <td>0.2</td>\n",
       "      <td>Iris-setosa</td>\n",
       "    </tr>\n",
       "    <tr>\n",
       "      <th>2</th>\n",
       "      <td>4.7</td>\n",
       "      <td>3.2</td>\n",
       "      <td>1.3</td>\n",
       "      <td>0.2</td>\n",
       "      <td>Iris-setosa</td>\n",
       "    </tr>\n",
       "    <tr>\n",
       "      <th>3</th>\n",
       "      <td>4.6</td>\n",
       "      <td>3.1</td>\n",
       "      <td>1.5</td>\n",
       "      <td>0.2</td>\n",
       "      <td>Iris-setosa</td>\n",
       "    </tr>\n",
       "    <tr>\n",
       "      <th>4</th>\n",
       "      <td>5.0</td>\n",
       "      <td>3.6</td>\n",
       "      <td>1.4</td>\n",
       "      <td>0.2</td>\n",
       "      <td>Iris-setosa</td>\n",
       "    </tr>\n",
       "  </tbody>\n",
       "</table>\n",
       "</div>"
      ],
      "text/plain": [
       "   sepal_length  sepal_width  petal_length  petal_width        class\n",
       "0           5.1          3.5           1.4          0.2  Iris-setosa\n",
       "1           4.9          3.0           1.4          0.2  Iris-setosa\n",
       "2           4.7          3.2           1.3          0.2  Iris-setosa\n",
       "3           4.6          3.1           1.5          0.2  Iris-setosa\n",
       "4           5.0          3.6           1.4          0.2  Iris-setosa"
      ]
     },
     "execution_count": 48,
     "metadata": {},
     "output_type": "execute_result"
    }
   ],
   "source": [
    "dataset.head()"
   ]
  },
  {
   "cell_type": "code",
   "execution_count": null,
   "id": "7b6ad56e",
   "metadata": {
    "id": "7b6ad56e",
    "outputId": "5e9e1628-04ca-40b9-ec10-23524e87defd"
   },
   "outputs": [
    {
     "data": {
      "image/png": "[encoded data removed]",
      "text/plain": [
       "<Figure size 640x480 with 1 Axes>"
      ]
     },
     "metadata": {},
     "output_type": "display_data"
    }
   ],
   "source": [
    "plt.plot(dataset[\"petal_width\"],dataset[\"petal_length\"],'o')\n",
    "plt.xlabel('petal_length')\n",
    "plt.ylabel('petal_width')\n",
    "plt.show()"
   ]
  },
  {
   "cell_type": "code",
   "execution_count": null,
   "id": "dc5a27ae",
   "metadata": {
    "id": "dc5a27ae",
    "outputId": "d65d155c-39f0-4fa6-cf9f-5dfc5c5fc52e"
   },
   "outputs": [
    {
     "data": {
      "text/html": [
       "<div>\n",
       "<style scoped>\n",
       "    .dataframe tbody tr th:only-of-type {\n",
       "        vertical-align: middle;\n",
       "    }\n",
       "\n",
       "    .dataframe tbody tr th {\n",
       "        vertical-align: top;\n",
       "    }\n",
       "\n",
       "    .dataframe thead th {\n",
       "        text-align: right;\n",
       "    }\n",
       "</style>\n",
       "<table border=\"1\" class=\"dataframe\">\n",
       "  <thead>\n",
       "    <tr style=\"text-align: right;\">\n",
       "      <th></th>\n",
       "      <th>petal_length</th>\n",
       "      <th>petal_width</th>\n",
       "    </tr>\n",
       "  </thead>\n",
       "  <tbody>\n",
       "    <tr>\n",
       "      <th>0</th>\n",
       "      <td>1.4</td>\n",
       "      <td>0.2</td>\n",
       "    </tr>\n",
       "    <tr>\n",
       "      <th>1</th>\n",
       "      <td>1.4</td>\n",
       "      <td>0.2</td>\n",
       "    </tr>\n",
       "    <tr>\n",
       "      <th>2</th>\n",
       "      <td>1.3</td>\n",
       "      <td>0.2</td>\n",
       "    </tr>\n",
       "    <tr>\n",
       "      <th>3</th>\n",
       "      <td>1.5</td>\n",
       "      <td>0.2</td>\n",
       "    </tr>\n",
       "    <tr>\n",
       "      <th>4</th>\n",
       "      <td>1.4</td>\n",
       "      <td>0.2</td>\n",
       "    </tr>\n",
       "    <tr>\n",
       "      <th>...</th>\n",
       "      <td>...</td>\n",
       "      <td>...</td>\n",
       "    </tr>\n",
       "    <tr>\n",
       "      <th>145</th>\n",
       "      <td>5.2</td>\n",
       "      <td>2.3</td>\n",
       "    </tr>\n",
       "    <tr>\n",
       "      <th>146</th>\n",
       "      <td>5.0</td>\n",
       "      <td>1.9</td>\n",
       "    </tr>\n",
       "    <tr>\n",
       "      <th>147</th>\n",
       "      <td>5.2</td>\n",
       "      <td>2.0</td>\n",
       "    </tr>\n",
       "    <tr>\n",
       "      <th>148</th>\n",
       "      <td>5.4</td>\n",
       "      <td>2.3</td>\n",
       "    </tr>\n",
       "    <tr>\n",
       "      <th>149</th>\n",
       "      <td>5.1</td>\n",
       "      <td>1.8</td>\n",
       "    </tr>\n",
       "  </tbody>\n",
       "</table>\n",
       "<p>150 rows × 2 columns</p>\n",
       "</div>"
      ],
      "text/plain": [
       "     petal_length  petal_width\n",
       "0             1.4          0.2\n",
       "1             1.4          0.2\n",
       "2             1.3          0.2\n",
       "3             1.5          0.2\n",
       "4             1.4          0.2\n",
       "..            ...          ...\n",
       "145           5.2          2.3\n",
       "146           5.0          1.9\n",
       "147           5.2          2.0\n",
       "148           5.4          2.3\n",
       "149           5.1          1.8\n",
       "\n",
       "[150 rows x 2 columns]"
      ]
     },
     "execution_count": 50,
     "metadata": {},
     "output_type": "execute_result"
    }
   ],
   "source": [
    "df=dataset[['petal_length','petal_width']]\n",
    "df"
   ]
  },
  {
   "cell_type": "code",
   "execution_count": null,
   "id": "b5c2d3ff",
   "metadata": {
    "id": "b5c2d3ff"
   },
   "outputs": [],
   "source": [
    "\n",
    "x=dataset.petal_length\n",
    "y=dataset.petal_width\n"
   ]
  },
  {
   "cell_type": "code",
   "execution_count": null,
   "id": "946c2c7e",
   "metadata": {
    "id": "946c2c7e"
   },
   "outputs": [],
   "source": []
  },
  {
   "cell_type": "code",
   "execution_count": null,
   "id": "53cf6861",
   "metadata": {
    "id": "53cf6861",
    "outputId": "d4362cb3-9615-488b-f3eb-99aee38da362"
   },
   "outputs": [
    {
     "data": {
      "text/plain": [
       "(150,)"
      ]
     },
     "execution_count": 52,
     "metadata": {},
     "output_type": "execute_result"
    }
   ],
   "source": [
    "x.shape"
   ]
  },
  {
   "cell_type": "code",
   "execution_count": null,
   "id": "df2012da",
   "metadata": {
    "id": "df2012da",
    "outputId": "8a1d4123-7ec2-4084-c715-b39d3a699ee3"
   },
   "outputs": [
    {
     "data": {
      "text/plain": [
       "0      0.2\n",
       "1      0.2\n",
       "2      0.2\n",
       "3      0.2\n",
       "4      0.2\n",
       "      ... \n",
       "145    2.3\n",
       "146    1.9\n",
       "147    2.0\n",
       "148    2.3\n",
       "149    1.8\n",
       "Name: petal_width, Length: 150, dtype: float64"
      ]
     },
     "execution_count": 53,
     "metadata": {},
     "output_type": "execute_result"
    }
   ],
   "source": [
    "y"
   ]
  },
  {
   "cell_type": "code",
   "execution_count": null,
   "id": "96f1cead",
   "metadata": {
    "id": "96f1cead",
    "outputId": "9a7b28a6-605b-46c5-caa4-3e1117491304"
   },
   "outputs": [
    {
     "data": {
      "text/plain": [
       "(150,)"
      ]
     },
     "execution_count": 54,
     "metadata": {},
     "output_type": "execute_result"
    }
   ],
   "source": [
    "y.shape"
   ]
  },
  {
   "cell_type": "markdown",
   "id": "107cf286",
   "metadata": {
    "id": "107cf286"
   },
   "source": [
    "Important: Après avoir vérifié les dimensions de x et y, On remarque que y n'a pas les dimensions (150, 1) et x n'a pas les dimensions (150,2). On corrige le problème avec np.reshape et values."
   ]
  },
  {
   "cell_type": "code",
   "execution_count": null,
   "id": "0cda34fb",
   "metadata": {
    "id": "0cda34fb",
    "outputId": "c51cd9f8-eb26-4f11-a6f2-0efb720c3573"
   },
   "outputs": [
    {
     "data": {
      "text/plain": [
       "array([1.4, 1.4, 1.3, 1.5, 1.4, 1.7, 1.4, 1.5, 1.4, 1.5, 1.5, 1.6, 1.4,\n",
       "       1.1, 1.2, 1.5, 1.3, 1.4, 1.7, 1.5, 1.7, 1.5, 1. , 1.7, 1.9, 1.6,\n",
       "       1.6, 1.5, 1.4, 1.6, 1.6, 1.5, 1.5, 1.4, 1.5, 1.2, 1.3, 1.5, 1.3,\n",
       "       1.5, 1.3, 1.3, 1.3, 1.6, 1.9, 1.4, 1.6, 1.4, 1.5, 1.4, 4.7, 4.5,\n",
       "       4.9, 4. , 4.6, 4.5, 4.7, 3.3, 4.6, 3.9, 3.5, 4.2, 4. , 4.7, 3.6,\n",
       "       4.4, 4.5, 4.1, 4.5, 3.9, 4.8, 4. , 4.9, 4.7, 4.3, 4.4, 4.8, 5. ,\n",
       "       4.5, 3.5, 3.8, 3.7, 3.9, 5.1, 4.5, 4.5, 4.7, 4.4, 4.1, 4. , 4.4,\n",
       "       4.6, 4. , 3.3, 4.2, 4.2, 4.2, 4.3, 3. , 4.1, 6. , 5.1, 5.9, 5.6,\n",
       "       5.8, 6.6, 4.5, 6.3, 5.8, 6.1, 5.1, 5.3, 5.5, 5. , 5.1, 5.3, 5.5,\n",
       "       6.7, 6.9, 5. , 5.7, 4.9, 6.7, 4.9, 5.7, 6. , 4.8, 4.9, 5.6, 5.8,\n",
       "       6.1, 6.4, 5.6, 5.1, 5.6, 6.1, 5.6, 5.5, 4.8, 5.4, 5.6, 5.1, 5.1,\n",
       "       5.9, 5.7, 5.2, 5. , 5.2, 5.4, 5.1])"
      ]
     },
     "execution_count": 55,
     "metadata": {},
     "output_type": "execute_result"
    }
   ],
   "source": [
    "X=dataset.petal_length.values\n",
    "Y=dataset.petal_width.values\n",
    "X\n"
   ]
  },
  {
   "cell_type": "code",
   "execution_count": null,
   "id": "a111c214",
   "metadata": {
    "id": "a111c214",
    "outputId": "43934115-02e1-4c1f-fbc1-581b41d69aa7"
   },
   "outputs": [
    {
     "data": {
      "text/plain": [
       "(150,)"
      ]
     },
     "execution_count": 56,
     "metadata": {},
     "output_type": "execute_result"
    }
   ],
   "source": [
    "X.shape"
   ]
  },
  {
   "cell_type": "code",
   "execution_count": null,
   "id": "eb4f57d7",
   "metadata": {
    "id": "eb4f57d7"
   },
   "outputs": [],
   "source": [
    "x=dataset.petal_length.values.reshape(150,1)\n",
    "y=dataset.petal_width.values.reshape(150,1)"
   ]
  },
  {
   "cell_type": "code",
   "execution_count": null,
   "id": "0594ec56",
   "metadata": {
    "id": "0594ec56",
    "outputId": "775c3007-6a97-4260-bace-f06333cfceb2"
   },
   "outputs": [
    {
     "name": "stdout",
     "output_type": "stream",
     "text": [
      "(150, 1)\n",
      "(150, 1)\n"
     ]
    }
   ],
   "source": [
    "print(x.shape)\n",
    "print(y.shape)"
   ]
  },
  {
   "cell_type": "markdown",
   "id": "187f5058",
   "metadata": {
    "id": "187f5058"
   },
   "source": [
    "Création de la matrice X qui contient la colonne de Biais. Pour ca, on colle l'un contre l'autre le vecteur x et un vecteur 1 (avec np.ones) de dimension égale a celle de x"
   ]
  },
  {
   "cell_type": "code",
   "execution_count": null,
   "id": "e8b25651",
   "metadata": {
    "id": "e8b25651"
   },
   "outputs": [],
   "source": [
    "#X=np.hstack((np.ones((150,1)),x))\n",
    "X=np.hstack((x,(np.ones(x.shape))))"
   ]
  },
  {
   "cell_type": "code",
   "execution_count": null,
   "id": "d1c71f2d",
   "metadata": {
    "id": "d1c71f2d",
    "outputId": "f4446f72-1ece-49b2-a007-571ec5418612"
   },
   "outputs": [
    {
     "name": "stdout",
     "output_type": "stream",
     "text": [
      "(150, 1)\n",
      "(150, 1)\n"
     ]
    }
   ],
   "source": [
    "print(x.shape)\n",
    "print(y.shape)"
   ]
  },
  {
   "cell_type": "code",
   "execution_count": null,
   "id": "039d154d",
   "metadata": {
    "id": "039d154d"
   },
   "outputs": [],
   "source": []
  },
  {
   "cell_type": "code",
   "execution_count": null,
   "id": "c857c0a4",
   "metadata": {
    "id": "c857c0a4",
    "outputId": "3db6bb0f-5f0b-4b09-c22a-33896dadbdd6"
   },
   "outputs": [
    {
     "name": "stdout",
     "output_type": "stream",
     "text": [
      "(120, 1)\n",
      "(30, 1)\n",
      "(120, 1)\n",
      "(30, 1)\n"
     ]
    }
   ],
   "source": [
    "# découpage du dataset en dataset d'entrainement et dataset de test\n",
    "x_train, x_test, y_train, y_test = train_test_split(x, y, test_size=0.2, random_state=42)\n",
    "print(x_train.shape)\n",
    "print(x_test.shape)\n",
    "print(y_train.shape)\n",
    "print(y_test.shape)"
   ]
  },
  {
   "cell_type": "code",
   "execution_count": null,
   "id": "97825a6d",
   "metadata": {
    "id": "97825a6d",
    "outputId": "daeb106a-1631-4ff0-d893-46e71c3343e7"
   },
   "outputs": [
    {
     "name": "stdout",
     "output_type": "stream",
     "text": [
      "(120, 2)\n",
      "(30, 2)\n",
      "(120, 1)\n",
      "(30, 1)\n"
     ]
    }
   ],
   "source": [
    "X_train=np.hstack((x_train,(np.ones(x_train.shape))))\n",
    "X_test=np.hstack((x_test,(np.ones(x_test.shape))))\n",
    "print(X_train.shape)\n",
    "print(X_test.shape)\n",
    "print(y_train.shape)\n",
    "print(y_test.shape)"
   ]
  },
  {
   "cell_type": "markdown",
   "id": "1f5703e5",
   "metadata": {
    "id": "1f5703e5"
   },
   "source": [
    "Finalement, création d'un vecteur parametre θ, initialisé avec des coefficients aléatoires. Ce vecteur est de dimension (2, 1). Si on désire toujours reproduire le meme vecteur\n",
    "θ, on utilise comme avant np.random.seed(0)"
   ]
  },
  {
   "cell_type": "code",
   "execution_count": null,
   "id": "e45f2b9a",
   "metadata": {
    "id": "e45f2b9a",
    "outputId": "ef27b749-39e6-44c3-e047-7e5300e51e4b"
   },
   "outputs": [
    {
     "name": "stdout",
     "output_type": "stream",
     "text": [
      "Theta: [[1.76405235]\n",
      " [0.40015721]]\n"
     ]
    }
   ],
   "source": [
    "np.random.seed(0) # pour produire toujours le meme vecteur theta aléatoire\n",
    "theta=np.random.randn(2,1)\n",
    "print('Theta:',theta)"
   ]
  },
  {
   "cell_type": "markdown",
   "id": "41a0e7d5",
   "metadata": {
    "id": "41a0e7d5"
   },
   "source": [
    "## 2. Modèle Linéaire\n",
    "On implémente un modèle selon l'équation matricielle F=X.θ et puis on teste le modèle initiale défini par la valeur initiale de θ qu'on a initialisé d'une manière aléatoire.\n"
   ]
  },
  {
   "cell_type": "code",
   "execution_count": null,
   "id": "bc06c159",
   "metadata": {
    "id": "bc06c159"
   },
   "outputs": [],
   "source": [
    "def model(X, theta):\n",
    "    return X.dot(theta)"
   ]
  },
  {
   "cell_type": "code",
   "execution_count": null,
   "id": "0e86cdd4",
   "metadata": {
    "id": "0e86cdd4",
    "outputId": "b82155b4-98f4-44df-ccda-07a1d0088d29"
   },
   "outputs": [
    {
     "data": {
      "image/png": "[encoded data removed]",
      "text/plain": [
       "<Figure size 640x480 with 1 Axes>"
      ]
     },
     "metadata": {},
     "output_type": "display_data"
    }
   ],
   "source": [
    "plt.plot(x_train,y_train,'o',label='dataset entraînement')\n",
    "plt.plot(x_train, model(X_train, theta), c='r',label='modèle initial')\n",
    "plt.xlabel('petal_length')\n",
    "plt.ylabel('petal_width')\n",
    "plt.legend()\n",
    "plt.show()"
   ]
  },
  {
   "cell_type": "markdown",
   "id": "4f8ef408",
   "metadata": {
    "id": "4f8ef408"
   },
   "source": [
    "## 3. Fonction coût : Erreur Quadratique Moyenne\n",
    "On mesure les erreurs du modele sur le Dataset X, y en implémenterl'erreur quadratique moyenne, Mean Squared Error (MSE) en anglais.\n",
    "![Capture%20d'%C3%A9cran%202023-04-04%20113116.png](attachment:Capture%20d'%C3%A9cran%202023-04-04%20113116.png)\n",
    "\n",
    "Ensuite, on teste notre fonction, pour voir s'il n'y a pas de bug"
   ]
  },
  {
   "cell_type": "code",
   "execution_count": null,
   "id": "3bfb4285",
   "metadata": {
    "id": "3bfb4285"
   },
   "outputs": [],
   "source": [
    "def cost_function(X, y, theta):\n",
    "    m = len(y)\n",
    "    return 1/(2*m) * np.sum((model(X, theta) - y)**2)"
   ]
  },
  {
   "cell_type": "code",
   "execution_count": null,
   "id": "ec4ef451",
   "metadata": {
    "id": "ec4ef451",
    "outputId": "0f20f31c-7680-4220-e5db-ce736a852468"
   },
   "outputs": [
    {
     "data": {
      "text/plain": [
       "19.572463404066532"
      ]
     },
     "execution_count": 120,
     "metadata": {},
     "output_type": "execute_result"
    }
   ],
   "source": [
    "cost_function(X_train, y_train, theta)"
   ]
  },
  {
   "cell_type": "markdown",
   "id": "527094e1",
   "metadata": {
    "id": "527094e1"
   },
   "source": [
    "![Capture%20d'%C3%A9cran%202023-04-04%20114408.png](attachment:Capture%20d'%C3%A9cran%202023-04-04%20114408.png)"
   ]
  },
  {
   "cell_type": "code",
   "execution_count": null,
   "id": "bc48ccbb",
   "metadata": {
    "id": "bc48ccbb"
   },
   "outputs": [],
   "source": [
    "def grad(X, y, theta):\n",
    "    m = len(y)\n",
    "    return 1/m * X.T.dot(model(X, theta) - y)"
   ]
  },
  {
   "cell_type": "code",
   "execution_count": null,
   "id": "dcda7267",
   "metadata": {
    "id": "dcda7267"
   },
   "outputs": [],
   "source": [
    "def gradient_descent(X, y, theta, learning_rate, n_iterations):\n",
    "\n",
    "    cost_history = np.zeros(n_iterations) # création d'un tableau de stockage pour enregistrer l'évolution du Cout du modele\n",
    "\n",
    "    for i in range(0, n_iterations):\n",
    "        theta = theta - learning_rate * grad(X, y, theta) # mise a jour du parametre theta (formule du gradient descent)\n",
    "        cost_history[i] = cost_function(X, y, theta) # on enregistre la valeur du Cout au tour i dans cost_history[i]\n",
    "\n",
    "    return theta, cost_history"
   ]
  },
  {
   "cell_type": "code",
   "execution_count": null,
   "id": "1b30eb6b",
   "metadata": {
    "id": "1b30eb6b"
   },
   "outputs": [],
   "source": [
    "n_iterations = 1000\n",
    "learning_rate = 0.01\n",
    "\n",
    "\n",
    "theta_final, cost_history = gradient_descent(X_train, y_train, theta, learning_rate, n_iterations)"
   ]
  },
  {
   "cell_type": "markdown",
   "id": "42add5a3",
   "metadata": {
    "id": "42add5a3"
   },
   "source": [
    "## 5. Phase d'entrainement\n",
    "On définit un nombre d'itérations, ainsi qu'un pas d'apprentissage α. Une fois le modele entrainé, on observe les resultats par rapport a notre Dataset"
   ]
  },
  {
   "cell_type": "code",
   "execution_count": null,
   "id": "ed0729ba",
   "metadata": {
    "id": "ed0729ba",
    "outputId": "8698d680-9830-45d9-c470-e3fb98106cc8"
   },
   "outputs": [
    {
     "data": {
      "text/plain": [
       "array([13.24853318,  8.97183163,  6.07960893,  4.12366741,  2.80090458,\n",
       "        1.9063414 ,  1.30135673,  0.89220531,  0.61549005,  0.42833743,\n",
       "        0.30175336,  0.21613003,  0.15820728,  0.11901765,  0.09249673,\n",
       "        0.07454333,  0.06238395,  0.05414296,  0.04855191,  0.04475299,\n",
       "        0.04216611,  0.04039894,  0.03918619,  0.03834844,  0.03776433,\n",
       "        0.03735183,  0.03705544,  0.03683763,  0.03667301,  0.03654444,\n",
       "        0.03644029,  0.03635273,  0.03627643,  0.03620782,  0.03614446,\n",
       "        0.03608471,  0.03602746,  0.03597195,  0.03591769,  0.03586432,\n",
       "        0.03581161,  0.03575941,  0.03570761,  0.03565613,  0.03560493,\n",
       "        0.03555397,  0.03550323,  0.0354527 ,  0.03540236,  0.0353522 ,\n",
       "        0.03530223,  0.03525244,  0.03520282,  0.03515337,  0.0351041 ,\n",
       "        0.03505499,  0.03500605,  0.03495728,  0.03490868,  0.03486025,\n",
       "        0.03481198,  0.03476387,  0.03471593,  0.03466816,  0.03462055,\n",
       "        0.0345731 ,  0.03452581,  0.03447869,  0.03443172,  0.03438492,\n",
       "        0.03433828,  0.0342918 ,  0.03424547,  0.03419931,  0.0341533 ,\n",
       "        0.03410745,  0.03406176,  0.03401622,  0.03397084,  0.03392561,\n",
       "        0.03388054,  0.03383562,  0.03379086,  0.03374625,  0.03370179,\n",
       "        0.03365749,  0.03361333,  0.03356933,  0.03352548,  0.03348177,\n",
       "        0.03343822,  0.03339482,  0.03335156,  0.03330845,  0.03326549,\n",
       "        0.03322268,  0.03318002,  0.03313749,  0.03309512,  0.03305289,\n",
       "        0.0330108 ,  0.03296886,  0.03292706,  0.03288541,  0.0328439 ,\n",
       "        0.03280253,  0.0327613 ,  0.03272021,  0.03267926,  0.03263845,\n",
       "        0.03259779,  0.03255726,  0.03251687,  0.03247662,  0.0324365 ,\n",
       "        0.03239653,  0.03235669,  0.03231698,  0.03227741,  0.03223798,\n",
       "        0.03219868,  0.03215952,  0.03212049,  0.0320816 ,  0.03204283,\n",
       "        0.0320042 ,  0.03196571,  0.03192734,  0.0318891 ,  0.031851  ,\n",
       "        0.03181303,  0.03177518,  0.03173747,  0.03169988,  0.03166243,\n",
       "        0.0316251 ,  0.0315879 ,  0.03155082,  0.03151388,  0.03147706,\n",
       "        0.03144036,  0.03140379,  0.03136735,  0.03133103,  0.03129483,\n",
       "        0.03125876,  0.03122282,  0.03118699,  0.03115129,  0.03111571,\n",
       "        0.03108025,  0.03104491,  0.0310097 ,  0.0309746 ,  0.03093963,\n",
       "        0.03090477,  0.03087004,  0.03083542,  0.03080092,  0.03076654,\n",
       "        0.03073227,  0.03069813,  0.0306641 ,  0.03063018,  0.03059639,\n",
       "        0.03056271,  0.03052914,  0.03049569,  0.03046235,  0.03042913,\n",
       "        0.03039602,  0.03036302,  0.03033014,  0.03029737,  0.03026471,\n",
       "        0.03023216,  0.03019973,  0.0301674 ,  0.03013519,  0.03010309,\n",
       "        0.03007109,  0.03003921,  0.03000743,  0.02997577,  0.02994421,\n",
       "        0.02991276,  0.02988141,  0.02985018,  0.02981905,  0.02978803,\n",
       "        0.02975711,  0.0297263 ,  0.0296956 ,  0.029665  ,  0.0296345 ,\n",
       "        0.02960411,  0.02957382,  0.02954364,  0.02951356,  0.02948358,\n",
       "        0.02945371,  0.02942394,  0.02939427,  0.0293647 ,  0.02933523,\n",
       "        0.02930586,  0.0292766 ,  0.02924743,  0.02921836,  0.0291894 ,\n",
       "        0.02916053,  0.02913176,  0.02910309,  0.02907452,  0.02904604,\n",
       "        0.02901766,  0.02898938,  0.0289612 ,  0.02893311,  0.02890512,\n",
       "        0.02887723,  0.02884943,  0.02882172,  0.02879411,  0.0287666 ,\n",
       "        0.02873917,  0.02871185,  0.02868461,  0.02865747,  0.02863042,\n",
       "        0.02860347,  0.0285766 ,  0.02854983,  0.02852315,  0.02849656,\n",
       "        0.02847007,  0.02844366,  0.02841734,  0.02839111,  0.02836498,\n",
       "        0.02833893,  0.02831297,  0.0282871 ,  0.02826132,  0.02823563,\n",
       "        0.02821002,  0.02818451,  0.02815908,  0.02813373,  0.02810848,\n",
       "        0.02808331,  0.02805822,  0.02803322,  0.02800831,  0.02798348,\n",
       "        0.02795874,  0.02793408,  0.02790951,  0.02788502,  0.02786062,\n",
       "        0.02783629,  0.02781205,  0.0277879 ,  0.02776383,  0.02773983,\n",
       "        0.02771593,  0.0276921 ,  0.02766835,  0.02764469,  0.02762111,\n",
       "        0.0275976 ,  0.02757418,  0.02755084,  0.02752758,  0.02750439,\n",
       "        0.02748129,  0.02745827,  0.02743532,  0.02741245,  0.02738966,\n",
       "        0.02736695,  0.02734432,  0.02732176,  0.02729929,  0.02727688,\n",
       "        0.02725456,  0.02723231,  0.02721014,  0.02718804,  0.02716602,\n",
       "        0.02714407,  0.0271222 ,  0.02710041,  0.02707869,  0.02705704,\n",
       "        0.02703547,  0.02701397,  0.02699254,  0.02697119,  0.02694991,\n",
       "        0.0269287 ,  0.02690757,  0.02688651,  0.02686552,  0.0268446 ,\n",
       "        0.02682376,  0.02680298,  0.02678228,  0.02676164,  0.02674108,\n",
       "        0.02672059,  0.02670017,  0.02667982,  0.02665953,  0.02663932,\n",
       "        0.02661918,  0.0265991 ,  0.0265791 ,  0.02655916,  0.02653929,\n",
       "        0.02651949,  0.02649975,  0.02648009,  0.02646049,  0.02644096,\n",
       "        0.02642149,  0.02640209,  0.02638276,  0.02636349,  0.02634429,\n",
       "        0.02632516,  0.02630609,  0.02628709,  0.02626815,  0.02624927,\n",
       "        0.02623046,  0.02621172,  0.02619304,  0.02617442,  0.02615587,\n",
       "        0.02613738,  0.02611895,  0.02610059,  0.02608229,  0.02606405,\n",
       "        0.02604587,  0.02602776,  0.02600971,  0.02599172,  0.02597379,\n",
       "        0.02595592,  0.02593812,  0.02592037,  0.02590269,  0.02588506,\n",
       "        0.0258675 ,  0.02585   ,  0.02583255,  0.02581517,  0.02579785,\n",
       "        0.02578058,  0.02576337,  0.02574623,  0.02572914,  0.02571211,\n",
       "        0.02569514,  0.02567822,  0.02566137,  0.02564457,  0.02562783,\n",
       "        0.02561115,  0.02559452,  0.02557795,  0.02556144,  0.02554498,\n",
       "        0.02552858,  0.02551224,  0.02549595,  0.02547972,  0.02546354,\n",
       "        0.02544742,  0.02543135,  0.02541534,  0.02539939,  0.02538348,\n",
       "        0.02536764,  0.02535184,  0.0253361 ,  0.02532042,  0.02530479,\n",
       "        0.02528921,  0.02527368,  0.02525821,  0.02524279,  0.02522743,\n",
       "        0.02521211,  0.02519685,  0.02518164,  0.02516649,  0.02515138,\n",
       "        0.02513633,  0.02512133,  0.02510638,  0.02509148,  0.02507663,\n",
       "        0.02506183,  0.02504708,  0.02503239,  0.02501774,  0.02500314,\n",
       "        0.0249886 ,  0.0249741 ,  0.02495965,  0.02494526,  0.02493091,\n",
       "        0.02491661,  0.02490236,  0.02488816,  0.02487401,  0.0248599 ,\n",
       "        0.02484584,  0.02483184,  0.02481788,  0.02480396,  0.0247901 ,\n",
       "        0.02477628,  0.02476251,  0.02474879,  0.02473511,  0.02472148,\n",
       "        0.0247079 ,  0.02469436,  0.02468087,  0.02466743,  0.02465403,\n",
       "        0.02464068,  0.02462738,  0.02461411,  0.0246009 ,  0.02458773,\n",
       "        0.0245746 ,  0.02456152,  0.02454849,  0.0245355 ,  0.02452255,\n",
       "        0.02450965,  0.02449679,  0.02448398,  0.02447121,  0.02445848,\n",
       "        0.0244458 ,  0.02443316,  0.02442056,  0.02440801,  0.0243955 ,\n",
       "        0.02438303,  0.02437061,  0.02435822,  0.02434588,  0.02433359,\n",
       "        0.02432133,  0.02430912,  0.02429695,  0.02428482,  0.02427273,\n",
       "        0.02426068,  0.02424867,  0.02423671,  0.02422478,  0.0242129 ,\n",
       "        0.02420106,  0.02418926,  0.02417749,  0.02416577,  0.02415409,\n",
       "        0.02414245,  0.02413085,  0.02411929,  0.02410776,  0.02409628,\n",
       "        0.02408484,  0.02407343,  0.02406207,  0.02405074,  0.02403945,\n",
       "        0.0240282 ,  0.02401699,  0.02400582,  0.02399469,  0.02398359,\n",
       "        0.02397253,  0.02396151,  0.02395053,  0.02393958,  0.02392868,\n",
       "        0.0239178 ,  0.02390697,  0.02389618,  0.02388542,  0.02387469,\n",
       "        0.02386401,  0.02385336,  0.02384275,  0.02383217,  0.02382163,\n",
       "        0.02381113,  0.02380066,  0.02379023,  0.02377983,  0.02376947,\n",
       "        0.02375914,  0.02374885,  0.0237386 ,  0.02372838,  0.02371819,\n",
       "        0.02370804,  0.02369793,  0.02368785,  0.0236778 ,  0.02366779,\n",
       "        0.02365781,  0.02364787,  0.02363796,  0.02362808,  0.02361824,\n",
       "        0.02360843,  0.02359865,  0.02358891,  0.02357921,  0.02356953,\n",
       "        0.02355989,  0.02355028,  0.0235407 ,  0.02353116,  0.02352165,\n",
       "        0.02351217,  0.02350273,  0.02349332,  0.02348393,  0.02347459,\n",
       "        0.02346527,  0.02345598,  0.02344673,  0.02343751,  0.02342832,\n",
       "        0.02341916,  0.02341003,  0.02340094,  0.02339187,  0.02338284,\n",
       "        0.02337384,  0.02336486,  0.02335592,  0.02334701,  0.02333813,\n",
       "        0.02332928,  0.02332046,  0.02331167,  0.02330291,  0.02329418,\n",
       "        0.02328548,  0.02327681,  0.02326817,  0.02325956,  0.02325098,\n",
       "        0.02324243,  0.02323391,  0.02322541,  0.02321695,  0.02320851,\n",
       "        0.02320011,  0.02319173,  0.02318338,  0.02317506,  0.02316677,\n",
       "        0.0231585 ,  0.02315027,  0.02314206,  0.02313388,  0.02312573,\n",
       "        0.02311761,  0.02310951,  0.02310144,  0.0230934 ,  0.02308539,\n",
       "        0.02307741,  0.02306945,  0.02306152,  0.02305361,  0.02304574,\n",
       "        0.02303789,  0.02303006,  0.02302227,  0.0230145 ,  0.02300676,\n",
       "        0.02299904,  0.02299135,  0.02298369,  0.02297605,  0.02296844,\n",
       "        0.02296085,  0.02295329,  0.02294576,  0.02293825,  0.02293077,\n",
       "        0.02292331,  0.02291588,  0.02290848,  0.0229011 ,  0.02289374,\n",
       "        0.02288641,  0.02287911,  0.02287183,  0.02286457,  0.02285734,\n",
       "        0.02285014,  0.02284296,  0.0228358 ,  0.02282867,  0.02282156,\n",
       "        0.02281448,  0.02280742,  0.02280039,  0.02279338,  0.02278639,\n",
       "        0.02277943,  0.02277249,  0.02276558,  0.02275868,  0.02275182,\n",
       "        0.02274497,  0.02273815,  0.02273135,  0.02272458,  0.02271783,\n",
       "        0.0227111 ,  0.0227044 ,  0.02269771,  0.02269106,  0.02268442,\n",
       "        0.02267781,  0.02267122,  0.02266465,  0.0226581 ,  0.02265158,\n",
       "        0.02264508,  0.0226386 ,  0.02263214,  0.02262571,  0.02261929,\n",
       "        0.0226129 ,  0.02260653,  0.02260019,  0.02259386,  0.02258756,\n",
       "        0.02258128,  0.02257501,  0.02256878,  0.02256256,  0.02255636,\n",
       "        0.02255019,  0.02254403,  0.0225379 ,  0.02253179,  0.02252569,\n",
       "        0.02251962,  0.02251357,  0.02250754,  0.02250154,  0.02249555,\n",
       "        0.02248958,  0.02248363,  0.02247771,  0.0224718 ,  0.02246591,\n",
       "        0.02246005,  0.0224542 ,  0.02244838,  0.02244257,  0.02243678,\n",
       "        0.02243102,  0.02242527,  0.02241954,  0.02241384,  0.02240815,\n",
       "        0.02240248,  0.02239683,  0.0223912 ,  0.02238559,  0.02238   ,\n",
       "        0.02237443,  0.02236888,  0.02236334,  0.02235783,  0.02235233,\n",
       "        0.02234685,  0.02234139,  0.02233595,  0.02233053,  0.02232513,\n",
       "        0.02231975,  0.02231438,  0.02230903,  0.0223037 ,  0.02229839,\n",
       "        0.0222931 ,  0.02228782,  0.02228257,  0.02227733,  0.02227211,\n",
       "        0.0222669 ,  0.02226172,  0.02225655,  0.0222514 ,  0.02224627,\n",
       "        0.02224116,  0.02223606,  0.02223098,  0.02222592,  0.02222087,\n",
       "        0.02221584,  0.02221083,  0.02220584,  0.02220086,  0.0221959 ,\n",
       "        0.02219096,  0.02218604,  0.02218113,  0.02217624,  0.02217136,\n",
       "        0.0221665 ,  0.02216166,  0.02215684,  0.02215203,  0.02214724,\n",
       "        0.02214246,  0.0221377 ,  0.02213296,  0.02212823,  0.02212352,\n",
       "        0.02211883,  0.02211415,  0.02210948,  0.02210484,  0.02210021,\n",
       "        0.02209559,  0.02209099,  0.02208641,  0.02208184,  0.02207729,\n",
       "        0.02207275,  0.02206823,  0.02206373,  0.02205924,  0.02205476,\n",
       "        0.0220503 ,  0.02204586,  0.02204143,  0.02203702,  0.02203262,\n",
       "        0.02202823,  0.02202386,  0.02201951,  0.02201517,  0.02201085,\n",
       "        0.02200654,  0.02200224,  0.02199797,  0.0219937 ,  0.02198945,\n",
       "        0.02198521,  0.02198099,  0.02197679,  0.02197259,  0.02196841,\n",
       "        0.02196425,  0.0219601 ,  0.02195596,  0.02195184,  0.02194774,\n",
       "        0.02194364,  0.02193956,  0.0219355 ,  0.02193145,  0.02192741,\n",
       "        0.02192339,  0.02191938,  0.02191538,  0.0219114 ,  0.02190743,\n",
       "        0.02190347,  0.02189953,  0.0218956 ,  0.02189169,  0.02188779,\n",
       "        0.0218839 ,  0.02188002,  0.02187616,  0.02187231,  0.02186848,\n",
       "        0.02186466,  0.02186085,  0.02185705,  0.02185327,  0.0218495 ,\n",
       "        0.02184574,  0.021842  ,  0.02183826,  0.02183455,  0.02183084,\n",
       "        0.02182715,  0.02182347,  0.0218198 ,  0.02181614,  0.0218125 ,\n",
       "        0.02180887,  0.02180525,  0.02180164,  0.02179805,  0.02179447,\n",
       "        0.0217909 ,  0.02178734,  0.0217838 ,  0.02178027,  0.02177675,\n",
       "        0.02177324,  0.02176974,  0.02176626,  0.02176279,  0.02175933,\n",
       "        0.02175588,  0.02175244,  0.02174901,  0.0217456 ,  0.0217422 ,\n",
       "        0.02173881,  0.02173543,  0.02173206,  0.02172871,  0.02172537,\n",
       "        0.02172203,  0.02171871,  0.0217154 ,  0.0217121 ,  0.02170882,\n",
       "        0.02170554,  0.02170228,  0.02169902,  0.02169578,  0.02169255,\n",
       "        0.02168933,  0.02168612,  0.02168292,  0.02167973,  0.02167656,\n",
       "        0.02167339,  0.02167024,  0.02166709,  0.02166396,  0.02166084,\n",
       "        0.02165773,  0.02165462,  0.02165153,  0.02164845,  0.02164539,\n",
       "        0.02164233,  0.02163928,  0.02163624,  0.02163321,  0.0216302 ,\n",
       "        0.02162719,  0.02162419,  0.02162121,  0.02161823,  0.02161526,\n",
       "        0.02161231,  0.02160936,  0.02160643,  0.0216035 ,  0.02160058,\n",
       "        0.02159768,  0.02159478,  0.0215919 ,  0.02158902,  0.02158616,\n",
       "        0.0215833 ,  0.02158045,  0.02157762,  0.02157479,  0.02157197,\n",
       "        0.02156916,  0.02156637,  0.02156358,  0.0215608 ,  0.02155803,\n",
       "        0.02155527,  0.02155252,  0.02154978,  0.02154705,  0.02154432,\n",
       "        0.02154161,  0.02153891,  0.02153621,  0.02153353,  0.02153085,\n",
       "        0.02152818,  0.02152553,  0.02152288,  0.02152024,  0.02151761,\n",
       "        0.02151498,  0.02151237,  0.02150977,  0.02150717,  0.02150459,\n",
       "        0.02150201,  0.02149944,  0.02149688,  0.02149433,  0.02149179,\n",
       "        0.02148926,  0.02148673,  0.02148421,  0.02148171,  0.02147921,\n",
       "        0.02147672,  0.02147424,  0.02147176,  0.0214693 ,  0.02146684,\n",
       "        0.02146439,  0.02146195,  0.02145952,  0.0214571 ,  0.02145468,\n",
       "        0.02145228,  0.02144988,  0.02144749,  0.02144511,  0.02144273,\n",
       "        0.02144037,  0.02143801,  0.02143566,  0.02143332,  0.02143099,\n",
       "        0.02142866,  0.02142634,  0.02142404,  0.02142173,  0.02141944,\n",
       "        0.02141715,  0.02141488,  0.02141261,  0.02141034,  0.02140809,\n",
       "        0.02140584,  0.0214036 ,  0.02140137,  0.02139915,  0.02139693,\n",
       "        0.02139472,  0.02139252,  0.02139033,  0.02138814,  0.02138596,\n",
       "        0.02138379,  0.02138163,  0.02137947,  0.02137732,  0.02137518,\n",
       "        0.02137304,  0.02137092,  0.0213688 ,  0.02136668,  0.02136458,\n",
       "        0.02136248,  0.02136039,  0.02135831,  0.02135623,  0.02135416,\n",
       "        0.0213521 ,  0.02135004,  0.02134799,  0.02134595,  0.02134392,\n",
       "        0.02134189,  0.02133987,  0.02133786,  0.02133585,  0.02133385,\n",
       "        0.02133186,  0.02132987,  0.02132789,  0.02132592,  0.02132395,\n",
       "        0.02132199,  0.02132004,  0.02131809,  0.02131615,  0.02131422])"
      ]
     },
     "execution_count": 124,
     "metadata": {},
     "output_type": "execute_result"
    }
   ],
   "source": [
    "cost_history # l'historique de la fonction coût qu'on va afficher par la suite. on remarque que sa valeur déminue et c'est ça l'objectif"
   ]
  },
  {
   "cell_type": "code",
   "execution_count": null,
   "id": "71ae7b0a",
   "metadata": {
    "id": "71ae7b0a",
    "outputId": "9860eb32-56fd-4c49-bd8a-20b9f7d53ad6"
   },
   "outputs": [
    {
     "data": {
      "text/plain": [
       "array([[ 0.39646625],\n",
       "       [-0.28177528]])"
      ]
     },
     "execution_count": 125,
     "metadata": {},
     "output_type": "execute_result"
    }
   ],
   "source": [
    "theta_final # voici les parametres du modele une fois que la machine a été entrainée"
   ]
  },
  {
   "cell_type": "code",
   "execution_count": null,
   "id": "61edd405",
   "metadata": {
    "id": "61edd405",
    "outputId": "ee803714-05b8-4e6e-e3d1-dda5e0f06eb3"
   },
   "outputs": [
    {
     "data": {
      "text/plain": [
       "array([0.39646625])"
      ]
     },
     "execution_count": 126,
     "metadata": {},
     "output_type": "execute_result"
    }
   ],
   "source": [
    "theta_final[0]"
   ]
  },
  {
   "cell_type": "code",
   "execution_count": null,
   "id": "5a4314c9",
   "metadata": {
    "id": "5a4314c9",
    "outputId": "70873f2f-7611-4003-c2b5-173bef6c7a64"
   },
   "outputs": [
    {
     "data": {
      "image/png": "[encoded data removed]",
      "text/plain": [
       "<Figure size 640x480 with 1 Axes>"
      ]
     },
     "metadata": {},
     "output_type": "display_data"
    }
   ],
   "source": [
    "plt.plot(x_train,y_train,'o',label='dataset entraînement')\n",
    "plt.plot(x_train, model(X_train, theta_final), c='r',label='modèle final')\n",
    "plt.xlabel('petal_length')\n",
    "plt.ylabel('petal_width')\n",
    "plt.legend()\n",
    "plt.show()"
   ]
  },
  {
   "cell_type": "code",
   "execution_count": null,
   "id": "606bfc53",
   "metadata": {
    "id": "606bfc53",
    "outputId": "904d4271-f12b-452d-a364-1d3ea3e51dd0"
   },
   "outputs": [
    {
     "data": {
      "image/png": "[encoded data removed]",
      "text/plain": [
       "<Figure size 640x480 with 1 Axes>"
      ]
     },
     "metadata": {},
     "output_type": "display_data"
    }
   ],
   "source": [
    "# création d'un vecteur prédictions qui contient les prédictions de notre modele final\n",
    "predictions = model(X_test, theta_final)\n",
    "\n",
    "# Affichage des résultats de prédictions (en rouge) par rapport a notre Dataset (en bleu)\n",
    "plt.plot(x_test,y_test,'o',label='dataset test')\n",
    "plt.plot(x_test,predictions , c='r',label='prédictions')\n",
    "plt.xlabel('petal_length')\n",
    "plt.ylabel('petal_width')\n",
    "plt.legend()\n",
    "plt.show()"
   ]
  },
  {
   "cell_type": "code",
   "execution_count": null,
   "id": "415ab0a8",
   "metadata": {
    "id": "415ab0a8",
    "outputId": "3bf1cf96-b4a3-41ef-e74b-898cc5a0dd9b"
   },
   "outputs": [
    {
     "name": "stdout",
     "output_type": "stream",
     "text": [
      "[0.70939036]\n"
     ]
    }
   ],
   "source": [
    "# Test: # prédire quelle serait la largeur d'un pétale qui a une longueur de 2,5 cm\n",
    "X_2_5= np.array([2.5,1])\n",
    "pred_y_2_5=model(X_2_5, theta_final)\n",
    "print(pred_y_2_5)"
   ]
  },
  {
   "cell_type": "markdown",
   "id": "3d087de6",
   "metadata": {
    "id": "3d087de6"
   },
   "source": [
    "## 6. Courbe d'apprentissage\n",
    "\n",
    "   Pour vérifier si notre algorithme de Descente de gradient a bien fonctionné, on observe l'évolution de la fonction cout a travers les itérations. On est sensé obtenir une courbe qui diminue a chaque itération jusqu'a stagner a un niveau minimal (proche de zéro). Si la courbe ne suit pas ce motif, alors le pas learning_rate est peut-etre trop élevé, il faut prendre un pas plus faible."
   ]
  },
  {
   "cell_type": "code",
   "execution_count": null,
   "id": "519d3dbd",
   "metadata": {
    "id": "519d3dbd",
    "outputId": "989c42b7-c719-4bcc-d2e5-6baf43feda5f"
   },
   "outputs": [
    {
     "data": {
      "image/png": "[encoded data removed]",
      "text/plain": [
       "<Figure size 640x480 with 1 Axes>"
      ]
     },
     "metadata": {},
     "output_type": "display_data"
    }
   ],
   "source": [
    "plt.plot(range(n_iterations), cost_history)\n",
    "plt.show()"
   ]
  },
  {
   "cell_type": "markdown",
   "id": "eb5cab7c",
   "metadata": {
    "id": "eb5cab7c"
   },
   "source": [
    "## 7. Evaluation du modèle - Coefficient de détermination\n",
    "\n",
    "   Le coefficient de détermination est un indice de la qualité de la prédiction de la régression linéaire. Le coefficient de détermination se situe entre 0 et 1. Plus il est proche de 1, plus la régression linéaire est en adéquation avec les données collectées"
   ]
  },
  {
   "cell_type": "markdown",
   "id": "cc10bb18",
   "metadata": {
    "id": "cc10bb18"
   },
   "source": [
    "![Capture%20d'%C3%A9cran%202023-04-04%20123236.png](attachment:Capture%20d'%C3%A9cran%202023-04-04%20123236.png)"
   ]
  },
  {
   "cell_type": "code",
   "execution_count": null,
   "id": "ea8f0458",
   "metadata": {
    "id": "ea8f0458"
   },
   "outputs": [],
   "source": [
    "def coef_determination(y, pred):\n",
    "    u = ((y - pred)**2).sum()\n",
    "    v = ((y - y.mean())**2).sum()\n",
    "    return 1 - u/v"
   ]
  },
  {
   "cell_type": "code",
   "execution_count": null,
   "id": "406b1dfe",
   "metadata": {
    "id": "406b1dfe",
    "outputId": "e335952f-8df0-4545-e2df-63bfdc181728"
   },
   "outputs": [
    {
     "data": {
      "text/plain": [
       "0.9251697212034784"
      ]
     },
     "execution_count": 132,
     "metadata": {},
     "output_type": "execute_result"
    }
   ],
   "source": [
    "coef_determination(y_test, predictions) # predictions=model(X_test,theta_final)"
   ]
  },
  {
   "cell_type": "code",
   "execution_count": null,
   "id": "84d1f8e1",
   "metadata": {
    "id": "84d1f8e1"
   },
   "outputs": [],
   "source": []
  },
  {
   "cell_type": "code",
   "execution_count": null,
   "id": "2c926f5b",
   "metadata": {
    "id": "2c926f5b"
   },
   "outputs": [],
   "source": []
  }
 ],
 "metadata": {
  "colab": {
   "provenance": []
  },
  "kernelspec": {
   "display_name": "Python 3 (ipykernel)",
   "language": "python",
   "name": "python3"
  },
  "language_info": {
   "codemirror_mode": {
    "name": "ipython",
    "version": 3
   },
   "file_extension": ".py",
   "mimetype": "text/x-python",
   "name": "python",
   "nbconvert_exporter": "python",
   "pygments_lexer": "ipython3",
   "version": "3.11.5"
  }
 },
 "nbformat": 4,
 "nbformat_minor": 5
}
