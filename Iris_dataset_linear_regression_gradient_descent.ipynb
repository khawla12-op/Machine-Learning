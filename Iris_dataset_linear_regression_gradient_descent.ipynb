{
 "cells": [
  {
   "cell_type": "markdown",
   "id": "952e8adb",
   "metadata": {},
   "source": [
    "# Regression Linéaire Simple du dataset Iris - Gradient Descent"
   ]
  },
  {
   "cell_type": "code",
   "execution_count": 123,
   "id": "4aaf4dbc",
   "metadata": {},
   "outputs": [],
   "source": [
    "import pandas as pd\n",
    "import numpy as np\n",
    "import matplotlib.pyplot as plt\n",
    "%matplotlib inline"
   ]
  },
  {
   "cell_type": "markdown",
   "id": "52aab10c",
   "metadata": {},
   "source": [
    "## 1. Dataset\n",
    "Chargement du dataset Iris pour effectuer les prédictions de la largeur des pétales en fonction de longueur des pétales"
   ]
  },
  {
   "cell_type": "code",
   "execution_count": 124,
   "id": "fd4ad33b",
   "metadata": {},
   "outputs": [],
   "source": [
    "dataset=pd.read_csv(\"iris.csv\")"
   ]
  },
  {
   "cell_type": "code",
   "execution_count": 125,
   "id": "b1933fdf",
   "metadata": {},
   "outputs": [
    {
     "data": {
      "text/html": [
       "<div>\n",
       "<style scoped>\n",
       "    .dataframe tbody tr th:only-of-type {\n",
       "        vertical-align: middle;\n",
       "    }\n",
       "\n",
       "    .dataframe tbody tr th {\n",
       "        vertical-align: top;\n",
       "    }\n",
       "\n",
       "    .dataframe thead th {\n",
       "        text-align: right;\n",
       "    }\n",
       "</style>\n",
       "<table border=\"1\" class=\"dataframe\">\n",
       "  <thead>\n",
       "    <tr style=\"text-align: right;\">\n",
       "      <th></th>\n",
       "      <th>sepal_length</th>\n",
       "      <th>sepal_width</th>\n",
       "      <th>petal_length</th>\n",
       "      <th>petal_width</th>\n",
       "      <th>class</th>\n",
       "    </tr>\n",
       "  </thead>\n",
       "  <tbody>\n",
       "    <tr>\n",
       "      <th>0</th>\n",
       "      <td>5.1</td>\n",
       "      <td>3.5</td>\n",
       "      <td>1.4</td>\n",
       "      <td>0.2</td>\n",
       "      <td>Iris-setosa</td>\n",
       "    </tr>\n",
       "    <tr>\n",
       "      <th>1</th>\n",
       "      <td>4.9</td>\n",
       "      <td>3.0</td>\n",
       "      <td>1.4</td>\n",
       "      <td>0.2</td>\n",
       "      <td>Iris-setosa</td>\n",
       "    </tr>\n",
       "    <tr>\n",
       "      <th>2</th>\n",
       "      <td>4.7</td>\n",
       "      <td>3.2</td>\n",
       "      <td>1.3</td>\n",
       "      <td>0.2</td>\n",
       "      <td>Iris-setosa</td>\n",
       "    </tr>\n",
       "    <tr>\n",
       "      <th>3</th>\n",
       "      <td>4.6</td>\n",
       "      <td>3.1</td>\n",
       "      <td>1.5</td>\n",
       "      <td>0.2</td>\n",
       "      <td>Iris-setosa</td>\n",
       "    </tr>\n",
       "    <tr>\n",
       "      <th>4</th>\n",
       "      <td>5.0</td>\n",
       "      <td>3.6</td>\n",
       "      <td>1.4</td>\n",
       "      <td>0.2</td>\n",
       "      <td>Iris-setosa</td>\n",
       "    </tr>\n",
       "  </tbody>\n",
       "</table>\n",
       "</div>"
      ],
      "text/plain": [
       "   sepal_length  sepal_width  petal_length  petal_width        class\n",
       "0           5.1          3.5           1.4          0.2  Iris-setosa\n",
       "1           4.9          3.0           1.4          0.2  Iris-setosa\n",
       "2           4.7          3.2           1.3          0.2  Iris-setosa\n",
       "3           4.6          3.1           1.5          0.2  Iris-setosa\n",
       "4           5.0          3.6           1.4          0.2  Iris-setosa"
      ]
     },
     "execution_count": 125,
     "metadata": {},
     "output_type": "execute_result"
    }
   ],
   "source": [
    "dataset.head()"
   ]
  },
  {
   "cell_type": "code",
   "execution_count": 126,
   "id": "7b6ad56e",
   "metadata": {},
   "outputs": [
    {
     "data": {
      "image/png": "[encoded data removed]",
      "text/plain": [
       "<Figure size 640x480 with 1 Axes>"
      ]
     },
     "metadata": {},
     "output_type": "display_data"
    }
   ],
   "source": [
    "plt.plot(dataset[\"petal_width\"],dataset[\"petal_length\"],'o')\n",
    "plt.xlabel('petal_length')\n",
    "plt.ylabel('petal_width')\n",
    "plt.show()"
   ]
  },
  {
   "cell_type": "code",
   "execution_count": 127,
   "id": "dc5a27ae",
   "metadata": {},
   "outputs": [
    {
     "data": {
      "text/html": [
       "<div>\n",
       "<style scoped>\n",
       "    .dataframe tbody tr th:only-of-type {\n",
       "        vertical-align: middle;\n",
       "    }\n",
       "\n",
       "    .dataframe tbody tr th {\n",
       "        vertical-align: top;\n",
       "    }\n",
       "\n",
       "    .dataframe thead th {\n",
       "        text-align: right;\n",
       "    }\n",
       "</style>\n",
       "<table border=\"1\" class=\"dataframe\">\n",
       "  <thead>\n",
       "    <tr style=\"text-align: right;\">\n",
       "      <th></th>\n",
       "      <th>petal_length</th>\n",
       "      <th>petal_width</th>\n",
       "    </tr>\n",
       "  </thead>\n",
       "  <tbody>\n",
       "    <tr>\n",
       "      <th>0</th>\n",
       "      <td>1.4</td>\n",
       "      <td>0.2</td>\n",
       "    </tr>\n",
       "    <tr>\n",
       "      <th>1</th>\n",
       "      <td>1.4</td>\n",
       "      <td>0.2</td>\n",
       "    </tr>\n",
       "    <tr>\n",
       "      <th>2</th>\n",
       "      <td>1.3</td>\n",
       "      <td>0.2</td>\n",
       "    </tr>\n",
       "    <tr>\n",
       "      <th>3</th>\n",
       "      <td>1.5</td>\n",
       "      <td>0.2</td>\n",
       "    </tr>\n",
       "    <tr>\n",
       "      <th>4</th>\n",
       "      <td>1.4</td>\n",
       "      <td>0.2</td>\n",
       "    </tr>\n",
       "    <tr>\n",
       "      <th>...</th>\n",
       "      <td>...</td>\n",
       "      <td>...</td>\n",
       "    </tr>\n",
       "    <tr>\n",
       "      <th>145</th>\n",
       "      <td>5.2</td>\n",
       "      <td>2.3</td>\n",
       "    </tr>\n",
       "    <tr>\n",
       "      <th>146</th>\n",
       "      <td>5.0</td>\n",
       "      <td>1.9</td>\n",
       "    </tr>\n",
       "    <tr>\n",
       "      <th>147</th>\n",
       "      <td>5.2</td>\n",
       "      <td>2.0</td>\n",
       "    </tr>\n",
       "    <tr>\n",
       "      <th>148</th>\n",
       "      <td>5.4</td>\n",
       "      <td>2.3</td>\n",
       "    </tr>\n",
       "    <tr>\n",
       "      <th>149</th>\n",
       "      <td>5.1</td>\n",
       "      <td>1.8</td>\n",
       "    </tr>\n",
       "  </tbody>\n",
       "</table>\n",
       "<p>150 rows × 2 columns</p>\n",
       "</div>"
      ],
      "text/plain": [
       "     petal_length  petal_width\n",
       "0             1.4          0.2\n",
       "1             1.4          0.2\n",
       "2             1.3          0.2\n",
       "3             1.5          0.2\n",
       "4             1.4          0.2\n",
       "..            ...          ...\n",
       "145           5.2          2.3\n",
       "146           5.0          1.9\n",
       "147           5.2          2.0\n",
       "148           5.4          2.3\n",
       "149           5.1          1.8\n",
       "\n",
       "[150 rows x 2 columns]"
      ]
     },
     "execution_count": 127,
     "metadata": {},
     "output_type": "execute_result"
    }
   ],
   "source": [
    "df=dataset[['petal_length','petal_width']]\n",
    "df"
   ]
  },
  {
   "cell_type": "code",
   "execution_count": 128,
   "id": "b5c2d3ff",
   "metadata": {},
   "outputs": [],
   "source": [
    "\n",
    "x=dataset.petal_length\n",
    "y=dataset.petal_width\n"
   ]
  },
  {
   "cell_type": "code",
   "execution_count": null,
   "id": "946c2c7e",
   "metadata": {},
   "outputs": [],
   "source": []
  },
  {
   "cell_type": "code",
   "execution_count": 129,
   "id": "53cf6861",
   "metadata": {},
   "outputs": [
    {
     "data": {
      "text/plain": [
       "(150,)"
      ]
     },
     "execution_count": 129,
     "metadata": {},
     "output_type": "execute_result"
    }
   ],
   "source": [
    "x.shape"
   ]
  },
  {
   "cell_type": "code",
   "execution_count": 130,
   "id": "df2012da",
   "metadata": {},
   "outputs": [
    {
     "data": {
      "text/plain": [
       "0      0.2\n",
       "1      0.2\n",
       "2      0.2\n",
       "3      0.2\n",
       "4      0.2\n",
       "      ... \n",
       "145    2.3\n",
       "146    1.9\n",
       "147    2.0\n",
       "148    2.3\n",
       "149    1.8\n",
       "Name: petal_width, Length: 150, dtype: float64"
      ]
     },
     "execution_count": 130,
     "metadata": {},
     "output_type": "execute_result"
    }
   ],
   "source": [
    "y"
   ]
  },
  {
   "cell_type": "code",
   "execution_count": 131,
   "id": "96f1cead",
   "metadata": {},
   "outputs": [
    {
     "data": {
      "text/plain": [
       "(150,)"
      ]
     },
     "execution_count": 131,
     "metadata": {},
     "output_type": "execute_result"
    }
   ],
   "source": [
    "y.shape"
   ]
  },
  {
   "cell_type": "markdown",
   "id": "107cf286",
   "metadata": {},
   "source": [
    "Important: Après avoir vérifié les dimensions de x et y, On remarque que y n'a pas les dimensions (150, 1) et x n'a pas les dimensions (150,2). On corrige le problème avec np.reshape et values."
   ]
  },
  {
   "cell_type": "code",
   "execution_count": 132,
   "id": "0cda34fb",
   "metadata": {},
   "outputs": [
    {
     "data": {
      "text/plain": [
       "array([1.4, 1.4, 1.3, 1.5, 1.4, 1.7, 1.4, 1.5, 1.4, 1.5, 1.5, 1.6, 1.4,\n",
       "       1.1, 1.2, 1.5, 1.3, 1.4, 1.7, 1.5, 1.7, 1.5, 1. , 1.7, 1.9, 1.6,\n",
       "       1.6, 1.5, 1.4, 1.6, 1.6, 1.5, 1.5, 1.4, 1.5, 1.2, 1.3, 1.5, 1.3,\n",
       "       1.5, 1.3, 1.3, 1.3, 1.6, 1.9, 1.4, 1.6, 1.4, 1.5, 1.4, 4.7, 4.5,\n",
       "       4.9, 4. , 4.6, 4.5, 4.7, 3.3, 4.6, 3.9, 3.5, 4.2, 4. , 4.7, 3.6,\n",
       "       4.4, 4.5, 4.1, 4.5, 3.9, 4.8, 4. , 4.9, 4.7, 4.3, 4.4, 4.8, 5. ,\n",
       "       4.5, 3.5, 3.8, 3.7, 3.9, 5.1, 4.5, 4.5, 4.7, 4.4, 4.1, 4. , 4.4,\n",
       "       4.6, 4. , 3.3, 4.2, 4.2, 4.2, 4.3, 3. , 4.1, 6. , 5.1, 5.9, 5.6,\n",
       "       5.8, 6.6, 4.5, 6.3, 5.8, 6.1, 5.1, 5.3, 5.5, 5. , 5.1, 5.3, 5.5,\n",
       "       6.7, 6.9, 5. , 5.7, 4.9, 6.7, 4.9, 5.7, 6. , 4.8, 4.9, 5.6, 5.8,\n",
       "       6.1, 6.4, 5.6, 5.1, 5.6, 6.1, 5.6, 5.5, 4.8, 5.4, 5.6, 5.1, 5.1,\n",
       "       5.9, 5.7, 5.2, 5. , 5.2, 5.4, 5.1])"
      ]
     },
     "execution_count": 132,
     "metadata": {},
     "output_type": "execute_result"
    }
   ],
   "source": [
    "X=dataset.petal_length.values\n",
    "Y=dataset.petal_width.values\n",
    "X\n"
   ]
  },
  {
   "cell_type": "code",
   "execution_count": 133,
   "id": "a111c214",
   "metadata": {},
   "outputs": [
    {
     "data": {
      "text/plain": [
       "(150,)"
      ]
     },
     "execution_count": 133,
     "metadata": {},
     "output_type": "execute_result"
    }
   ],
   "source": [
    "X.shape"
   ]
  },
  {
   "cell_type": "code",
   "execution_count": 134,
   "id": "eb4f57d7",
   "metadata": {},
   "outputs": [],
   "source": [
    "x=dataset.petal_length.values.reshape(150,1)\n",
    "y=dataset.petal_width.values.reshape(150,1)"
   ]
  },
  {
   "cell_type": "code",
   "execution_count": 135,
   "id": "0594ec56",
   "metadata": {},
   "outputs": [
    {
     "name": "stdout",
     "output_type": "stream",
     "text": [
      "(150, 1)\n",
      "(150, 1)\n"
     ]
    }
   ],
   "source": [
    "print(x.shape)\n",
    "print(y.shape)"
   ]
  },
  {
   "cell_type": "markdown",
   "id": "187f5058",
   "metadata": {},
   "source": [
    "Création de la matrice X qui contient la colonne de Biais. Pour ca, on colle l'un contre l'autre le vecteur x et un vecteur 1 (avec np.ones) de dimension égale a celle de x"
   ]
  },
  {
   "cell_type": "code",
   "execution_count": 136,
   "id": "e8b25651",
   "metadata": {},
   "outputs": [],
   "source": [
    "X=np.hstack((np.ones((150,1)),x))\n",
    "#X = np.hstack((X, np.ones((150, 1))))"
   ]
  },
  {
   "cell_type": "code",
   "execution_count": 137,
   "id": "d1c71f2d",
   "metadata": {},
   "outputs": [
    {
     "data": {
      "text/plain": [
       "(150, 2)"
      ]
     },
     "execution_count": 137,
     "metadata": {},
     "output_type": "execute_result"
    }
   ],
   "source": [
    "X.shape"
   ]
  },
  {
   "cell_type": "markdown",
   "id": "1f5703e5",
   "metadata": {},
   "source": [
    "Finalement, création d'un vecteur parametre θ, initialisé avec des coefficients aléatoires. Ce vecteur est de dimension (2, 1). Si on désire toujours reproduire le meme vecteur \n",
    "θ, on utilise comme avant np.random.seed(0)"
   ]
  },
  {
   "cell_type": "code",
   "execution_count": 138,
   "id": "e45f2b9a",
   "metadata": {},
   "outputs": [
    {
     "name": "stdout",
     "output_type": "stream",
     "text": [
      "Theta: [[1.76405235]\n",
      " [0.40015721]]\n"
     ]
    }
   ],
   "source": [
    "np.random.seed(0) # pour produire toujours le meme vecteur theta aléatoire\n",
    "theta=np.random.randn(2,1)\n",
    "print('Theta:',theta)"
   ]
  },
  {
   "cell_type": "markdown",
   "id": "41a0e7d5",
   "metadata": {},
   "source": [
    "## 2. Modèle Linéaire\n",
    "On implémente un modèle selon l'équation matricielle F=X.θ et puis on teste le modèle initiale défini par la valeur initiale de θ qu'on a initialisé d'une manière aléatoire.\n"
   ]
  },
  {
   "cell_type": "code",
   "execution_count": 139,
   "id": "bc06c159",
   "metadata": {},
   "outputs": [],
   "source": [
    "def model(X, theta):\n",
    "    return X.dot(theta)"
   ]
  },
  {
   "cell_type": "code",
   "execution_count": 140,
   "id": "0e86cdd4",
   "metadata": {},
   "outputs": [
    {
     "data": {
      "image/png": "[encoded data removed]",
      "text/plain": [
       "<Figure size 640x480 with 1 Axes>"
      ]
     },
     "metadata": {},
     "output_type": "display_data"
    }
   ],
   "source": [
    "plt.plot(x,y,'o',label='dataset')\n",
    "plt.plot(x, model(X, theta), c='r',label='modèle initial')\n",
    "plt.xlabel('petal_length')\n",
    "plt.ylabel('petal_width')\n",
    "plt.legend()\n",
    "plt.show()"
   ]
  },
  {
   "attachments": {
    "Capture%20d'%C3%A9cran%202023-04-04%20113116.png": {
     "image/png": "[encoded data removed]"
    }
   },
   "cell_type": "markdown",
   "id": "4f8ef408",
   "metadata": {},
   "source": [
    "## 3. Fonction coût : Erreur Quadratique Moyenne\n",
    "On mesure les erreurs du modele sur le Dataset X, y en implémenterl'erreur quadratique moyenne, Mean Squared Error (MSE) en anglais.\n",
    "![Capture%20d'%C3%A9cran%202023-04-04%20113116.png](attachment:Capture%20d'%C3%A9cran%202023-04-04%20113116.png)\n",
    "\n",
    "Ensuite, on teste notre fonction, pour voir s'il n'y a pas de bug"
   ]
  },
  {
   "cell_type": "code",
   "execution_count": 141,
   "id": "3bfb4285",
   "metadata": {},
   "outputs": [],
   "source": [
    "def cost_function(X, y, theta):\n",
    "    m = len(y)\n",
    "    return 1/(2*m) * np.sum((model(X, theta) - y)**2)"
   ]
  },
  {
   "cell_type": "code",
   "execution_count": 142,
   "id": "ec4ef451",
   "metadata": {},
   "outputs": [
    {
     "data": {
      "text/plain": [
       "2.162851530715484"
      ]
     },
     "execution_count": 142,
     "metadata": {},
     "output_type": "execute_result"
    }
   ],
   "source": [
    "cost_function(X, y, theta)"
   ]
  },
  {
   "attachments": {
    "grad.png": {
     "image/png": "[encoded data removed]"
    }
   },
   "cell_type": "markdown",
   "id": "e1af8e71",
   "metadata": {},
   "source": [
    "## 4. Gradients et Descente de Gradient\n",
    "On implémente la formule du gradient pour la MSE\n",
    "![grad.png](attachment:grad.png)\n",
    "Ensuite on utilise cette fonction dans la descente de gradient:\n",
    "\n"
   ]
  },
  {
   "attachments": {
    "Capture%20d'%C3%A9cran%202023-04-04%20114408.png": {
     "image/png": "[encoded data removed]"
    }
   },
   "cell_type": "markdown",
   "id": "527094e1",
   "metadata": {},
   "source": [
    "![Capture%20d'%C3%A9cran%202023-04-04%20114408.png](attachment:Capture%20d'%C3%A9cran%202023-04-04%20114408.png)"
   ]
  },
  {
   "cell_type": "code",
   "execution_count": 143,
   "id": "bc48ccbb",
   "metadata": {},
   "outputs": [],
   "source": [
    "def grad(X, y, theta):\n",
    "    m = len(y)\n",
    "    return 1/m * X.T.dot(model(X, theta) - y)"
   ]
  },
  {
   "cell_type": "code",
   "execution_count": 144,
   "id": "dcda7267",
   "metadata": {},
   "outputs": [],
   "source": [
    "def gradient_descent(X, y, theta, learning_rate, n_iterations):\n",
    "    \n",
    "    cost_history = np.zeros(n_iterations) # création d'un tableau de stockage pour enregistrer l'évolution du Cout du modele\n",
    "    \n",
    "    for i in range(0, n_iterations):\n",
    "        theta = theta - learning_rate * grad(X, y, theta) # mise a jour du parametre theta (formule du gradient descent)\n",
    "        cost_history[i] = cost_function(X, y, theta) # on enregistre la valeur du Cout au tour i dans cost_history[i]\n",
    "        \n",
    "    return theta, cost_history"
   ]
  },
  {
   "cell_type": "markdown",
   "id": "42add5a3",
   "metadata": {},
   "source": [
    "## 5. Phase d'entrainement\n",
    "On définit un nombre d'itérations, ainsi qu'un pas d'apprentissage α. Une fois le modele entrainé, on observe les resultats par rapport a notre Dataset"
   ]
  },
  {
   "cell_type": "code",
   "execution_count": 145,
   "id": "1b30eb6b",
   "metadata": {},
   "outputs": [],
   "source": [
    "n_iterations = 1000\n",
    "learning_rate = 0.01\n",
    "\n",
    "\n",
    "theta_final, cost_history = gradient_descent(X, y, theta, learning_rate, n_iterations)"
   ]
  },
  {
   "cell_type": "code",
   "execution_count": 146,
   "id": "ed0729ba",
   "metadata": {},
   "outputs": [
    {
     "data": {
      "text/plain": [
       "array([1.58044338, 1.18888277, 0.92549721, 0.7481957 , 0.62870983,\n",
       "       0.54805448, 0.49347919, 0.45642072, 0.43112797, 0.41373848,\n",
       "       0.40165823, 0.39314505, 0.38702888, 0.38252392, 0.37910241,\n",
       "       0.37640991, 0.37420835, 0.37233787, 0.37069108, 0.36919586,\n",
       "       0.36780376, 0.36648225, 0.36520947, 0.36397073, 0.36275618,\n",
       "       0.36155918, 0.36037527, 0.35920145, 0.3580357 , 0.35687668,\n",
       "       0.35572345, 0.35457539, 0.3534321 , 0.35229327, 0.35115871,\n",
       "       0.35002829, 0.34890191, 0.3477795 , 0.346661  , 0.34554639,\n",
       "       0.34443562, 0.34332868, 0.34222555, 0.3411262 , 0.34003063,\n",
       "       0.33893881, 0.33785073, 0.33676638, 0.33568575, 0.33460881,\n",
       "       0.33353556, 0.33246599, 0.33140008, 0.33033782, 0.3292792 ,\n",
       "       0.3282242 , 0.32717281, 0.32612502, 0.32508082, 0.3240402 ,\n",
       "       0.32300314, 0.32196963, 0.32093966, 0.31991321, 0.31889028,\n",
       "       0.31787085, 0.31685491, 0.31584245, 0.31483346, 0.31382792,\n",
       "       0.31282583, 0.31182716, 0.31083191, 0.30984008, 0.30885163,\n",
       "       0.30786658, 0.30688489, 0.30590657, 0.30493159, 0.30395995,\n",
       "       0.30299164, 0.30202665, 0.30106496, 0.30010656, 0.29915145,\n",
       "       0.2981996 , 0.29725101, 0.29630567, 0.29536357, 0.29442469,\n",
       "       0.29348903, 0.29255657, 0.2916273 , 0.29070122, 0.2897783 ,\n",
       "       0.28885855, 0.28794194, 0.28702848, 0.28611814, 0.28521092,\n",
       "       0.2843068 , 0.28340578, 0.28250784, 0.28161298, 0.28072118,\n",
       "       0.27983244, 0.27894674, 0.27806407, 0.27718442, 0.27630779,\n",
       "       0.27543415, 0.27456351, 0.27369585, 0.27283116, 0.27196943,\n",
       "       0.27111065, 0.27025481, 0.2694019 , 0.26855191, 0.26770483,\n",
       "       0.26686065, 0.26601937, 0.26518096, 0.26434542, 0.26351274,\n",
       "       0.26268292, 0.26185593, 0.26103178, 0.26021045, 0.25939193,\n",
       "       0.25857621, 0.25776329, 0.25695315, 0.25614578, 0.25534118,\n",
       "       0.25453933, 0.25374023, 0.25294387, 0.25215023, 0.2513593 ,\n",
       "       0.25057109, 0.24978557, 0.24900275, 0.2482226 , 0.24744513,\n",
       "       0.24667031, 0.24589815, 0.24512864, 0.24436176, 0.2435975 ,\n",
       "       0.24283586, 0.24207683, 0.2413204 , 0.24056656, 0.23981529,\n",
       "       0.2390666 , 0.23832048, 0.23757691, 0.23683588, 0.23609739,\n",
       "       0.23536143, 0.23462799, 0.23389706, 0.23316864, 0.2324427 ,\n",
       "       0.23171926, 0.23099829, 0.23027978, 0.22956374, 0.22885015,\n",
       "       0.22813901, 0.22743029, 0.22672401, 0.22602014, 0.22531868,\n",
       "       0.22461963, 0.22392297, 0.22322869, 0.22253679, 0.22184726,\n",
       "       0.22116009, 0.22047527, 0.2197928 , 0.21911266, 0.21843486,\n",
       "       0.21775937, 0.21708619, 0.21641533, 0.21574675, 0.21508047,\n",
       "       0.21441647, 0.21375474, 0.21309528, 0.21243807, 0.21178312,\n",
       "       0.21113041, 0.21047993, 0.20983168, 0.20918565, 0.20854183,\n",
       "       0.20790021, 0.2072608 , 0.20662357, 0.20598852, 0.20535565,\n",
       "       0.20472494, 0.2040964 , 0.20347   , 0.20284575, 0.20222364,\n",
       "       0.20160366, 0.2009858 , 0.20037005, 0.19975642, 0.19914488,\n",
       "       0.19853544, 0.19792809, 0.19732281, 0.19671961, 0.19611847,\n",
       "       0.19551939, 0.19492237, 0.19432738, 0.19373444, 0.19314352,\n",
       "       0.19255463, 0.19196775, 0.19138288, 0.19080002, 0.19021915,\n",
       "       0.18964026, 0.18906337, 0.18848844, 0.18791549, 0.18734449,\n",
       "       0.18677545, 0.18620836, 0.18564322, 0.18508   , 0.18451872,\n",
       "       0.18395935, 0.1834019 , 0.18284637, 0.18229273, 0.18174099,\n",
       "       0.18119113, 0.18064316, 0.18009707, 0.17955284, 0.17901048,\n",
       "       0.17846998, 0.17793132, 0.17739451, 0.17685954, 0.1763264 ,\n",
       "       0.17579509, 0.17526559, 0.17473791, 0.17421203, 0.17368796,\n",
       "       0.17316568, 0.17264519, 0.17212647, 0.17160954, 0.17109438,\n",
       "       0.17058097, 0.17006933, 0.16955944, 0.16905129, 0.16854489,\n",
       "       0.16804022, 0.16753727, 0.16703605, 0.16653654, 0.16603875,\n",
       "       0.16554266, 0.16504826, 0.16455556, 0.16406455, 0.16357522,\n",
       "       0.16308756, 0.16260158, 0.16211725, 0.16163459, 0.16115358,\n",
       "       0.16067421, 0.16019649, 0.1597204 , 0.15924594, 0.1587731 ,\n",
       "       0.15830189, 0.15783229, 0.15736429, 0.1568979 , 0.15643311,\n",
       "       0.1559699 , 0.15550829, 0.15504825, 0.15458979, 0.1541329 ,\n",
       "       0.15367757, 0.1532238 , 0.15277158, 0.15232092, 0.15187179,\n",
       "       0.15142421, 0.15097815, 0.15053363, 0.15009062, 0.14964914,\n",
       "       0.14920916, 0.14877069, 0.14833372, 0.14789825, 0.14746427,\n",
       "       0.14703177, 0.14660076, 0.14617122, 0.14574315, 0.14531655,\n",
       "       0.1448914 , 0.14446772, 0.14404548, 0.14362469, 0.14320534,\n",
       "       0.14278743, 0.14237095, 0.14195589, 0.14154225, 0.14113003,\n",
       "       0.14071923, 0.14030982, 0.13990182, 0.13949522, 0.13909001,\n",
       "       0.13868619, 0.13828375, 0.13788268, 0.13748299, 0.13708467,\n",
       "       0.13668771, 0.13629212, 0.13589787, 0.13550498, 0.13511343,\n",
       "       0.13472322, 0.13433435, 0.13394681, 0.13356059, 0.1331757 ,\n",
       "       0.13279213, 0.13240987, 0.13202891, 0.13164927, 0.13127092,\n",
       "       0.13089387, 0.13051811, 0.13014363, 0.12977044, 0.12939852,\n",
       "       0.12902788, 0.12865851, 0.1282904 , 0.12792355, 0.12755796,\n",
       "       0.12719362, 0.12683053, 0.12646868, 0.12610807, 0.1257487 ,\n",
       "       0.12539055, 0.12503363, 0.12467793, 0.12432346, 0.12397019,\n",
       "       0.12361813, 0.12326728, 0.12291763, 0.12256918, 0.12222192,\n",
       "       0.12187585, 0.12153097, 0.12118726, 0.12084474, 0.12050338,\n",
       "       0.1201632 , 0.11982417, 0.11948631, 0.11914961, 0.11881406,\n",
       "       0.11847966, 0.1181464 , 0.11781428, 0.1174833 , 0.11715346,\n",
       "       0.11682474, 0.11649715, 0.11617068, 0.11584533, 0.11552109,\n",
       "       0.11519796, 0.11487594, 0.11455502, 0.1142352 , 0.11391648,\n",
       "       0.11359885, 0.1132823 , 0.11296684, 0.11265245, 0.11233915,\n",
       "       0.11202692, 0.11171575, 0.11140565, 0.11109662, 0.11078864,\n",
       "       0.11048171, 0.11017584, 0.10987101, 0.10956723, 0.10926449,\n",
       "       0.10896278, 0.10866211, 0.10836246, 0.10806385, 0.10776625,\n",
       "       0.10746967, 0.10717411, 0.10687956, 0.10658602, 0.10629349,\n",
       "       0.10600196, 0.10571142, 0.10542188, 0.10513333, 0.10484577,\n",
       "       0.10455919, 0.10427359, 0.10398898, 0.10370533, 0.10342266,\n",
       "       0.10314096, 0.10286022, 0.10258044, 0.10230162, 0.10202375,\n",
       "       0.10174683, 0.10147087, 0.10119584, 0.10092176, 0.10064862,\n",
       "       0.10037642, 0.10010514, 0.09983479, 0.09956537, 0.09929688,\n",
       "       0.0990293 , 0.09876264, 0.09849689, 0.09823205, 0.09796811,\n",
       "       0.09770508, 0.09744296, 0.09718172, 0.09692139, 0.09666194,\n",
       "       0.09640338, 0.09614571, 0.09588892, 0.09563301, 0.09537798,\n",
       "       0.09512382, 0.09487053, 0.0946181 , 0.09436654, 0.09411585,\n",
       "       0.09386601, 0.09361702, 0.09336889, 0.09312161, 0.09287517,\n",
       "       0.09262958, 0.09238483, 0.09214092, 0.09189784, 0.09165559,\n",
       "       0.09141418, 0.09117359, 0.09093382, 0.09069488, 0.09045675,\n",
       "       0.09021944, 0.08998294, 0.08974725, 0.08951237, 0.08927829,\n",
       "       0.08904501, 0.08881253, 0.08858085, 0.08834996, 0.08811986,\n",
       "       0.08789055, 0.08766203, 0.08743429, 0.08720732, 0.08698114,\n",
       "       0.08675572, 0.08653108, 0.08630721, 0.08608411, 0.08586177,\n",
       "       0.08564019, 0.08541937, 0.0851993 , 0.08497999, 0.08476143,\n",
       "       0.08454362, 0.08432656, 0.08411023, 0.08389465, 0.08367981,\n",
       "       0.0834657 , 0.08325232, 0.08303968, 0.08282776, 0.08261657,\n",
       "       0.0824061 , 0.08219635, 0.08198732, 0.08177901, 0.08157141,\n",
       "       0.08136452, 0.08115834, 0.08095286, 0.08074809, 0.08054402,\n",
       "       0.08034065, 0.08013797, 0.07993599, 0.0797347 , 0.0795341 ,\n",
       "       0.07933419, 0.07913496, 0.07893641, 0.07873854, 0.07854135,\n",
       "       0.07834483, 0.07814899, 0.07795382, 0.07775932, 0.07756548,\n",
       "       0.0773723 , 0.07717979, 0.07698794, 0.07679674, 0.0766062 ,\n",
       "       0.07641631, 0.07622707, 0.07603848, 0.07585053, 0.07566323,\n",
       "       0.07547657, 0.07529055, 0.07510516, 0.07492041, 0.07473629,\n",
       "       0.07455281, 0.07436995, 0.07418771, 0.0740061 , 0.07382512,\n",
       "       0.07364475, 0.073465  , 0.07328586, 0.07310734, 0.07292943,\n",
       "       0.07275213, 0.07257544, 0.07239935, 0.07222386, 0.07204898,\n",
       "       0.07187469, 0.071701  , 0.07152791, 0.0713554 , 0.07118349,\n",
       "       0.07101217, 0.07084143, 0.07067128, 0.07050171, 0.07033272,\n",
       "       0.07016431, 0.06999648, 0.06982922, 0.06966253, 0.06949641,\n",
       "       0.06933087, 0.06916589, 0.06900147, 0.06883762, 0.06867433,\n",
       "       0.0685116 , 0.06834942, 0.0681878 , 0.06802673, 0.06786622,\n",
       "       0.06770625, 0.06754684, 0.06738796, 0.06722964, 0.06707185,\n",
       "       0.0669146 , 0.0667579 , 0.06660173, 0.06644609, 0.06629099,\n",
       "       0.06613641, 0.06598237, 0.06582886, 0.06567587, 0.0655234 ,\n",
       "       0.06537146, 0.06522003, 0.06506913, 0.06491874, 0.06476886,\n",
       "       0.0646195 , 0.06447065, 0.06432231, 0.06417448, 0.06402716,\n",
       "       0.06388034, 0.06373402, 0.0635882 , 0.06344288, 0.06329806,\n",
       "       0.06315374, 0.0630099 , 0.06286657, 0.06272372, 0.06258136,\n",
       "       0.06243949, 0.0622981 , 0.0621572 , 0.06201678, 0.06187685,\n",
       "       0.06173739, 0.06159841, 0.0614599 , 0.06132187, 0.06118431,\n",
       "       0.06104722, 0.0609106 , 0.06077445, 0.06063877, 0.06050355,\n",
       "       0.06036879, 0.0602345 , 0.06010066, 0.05996728, 0.05983436,\n",
       "       0.0597019 , 0.05956988, 0.05943832, 0.05930721, 0.05917655,\n",
       "       0.05904634, 0.05891657, 0.05878725, 0.05865837, 0.05852993,\n",
       "       0.05840193, 0.05827437, 0.05814724, 0.05802055, 0.0578943 ,\n",
       "       0.05776847, 0.05764308, 0.05751812, 0.05739358, 0.05726947,\n",
       "       0.05714579, 0.05702253, 0.05689969, 0.05677727, 0.05665527,\n",
       "       0.05653369, 0.05641253, 0.05629178, 0.05617144, 0.05605152,\n",
       "       0.055932  , 0.0558129 , 0.0556942 , 0.05557591, 0.05545802,\n",
       "       0.05534054, 0.05522346, 0.05510678, 0.0549905 , 0.05487462,\n",
       "       0.05475914, 0.05464405, 0.05452935, 0.05441505, 0.05430114,\n",
       "       0.05418762, 0.05407449, 0.05396174, 0.05384938, 0.05373741,\n",
       "       0.05362582, 0.05351461, 0.05340378, 0.05329333, 0.05318326,\n",
       "       0.05307357, 0.05296425, 0.05285531, 0.05274674, 0.05263854,\n",
       "       0.05253071, 0.05242325, 0.05231616, 0.05220943, 0.05210307,\n",
       "       0.05199708, 0.05189145, 0.05178618, 0.05168127, 0.05157671,\n",
       "       0.05147252, 0.05136868, 0.0512652 , 0.05116208, 0.0510593 ,\n",
       "       0.05095688, 0.05085481, 0.05075309, 0.05065172, 0.05055069,\n",
       "       0.05045001, 0.05034968, 0.05024968, 0.05015003, 0.05005073,\n",
       "       0.04995176, 0.04985313, 0.04975484, 0.04965688, 0.04955926,\n",
       "       0.04946198, 0.04936502, 0.0492684 , 0.04917211, 0.04907615,\n",
       "       0.04898052, 0.04888522, 0.04879024, 0.04869559, 0.04860126,\n",
       "       0.04850725, 0.04841357, 0.04832021, 0.04822716, 0.04813444,\n",
       "       0.04804203, 0.04794994, 0.04785816, 0.0477667 , 0.04767555,\n",
       "       0.04758472, 0.04749419, 0.04740398, 0.04731407, 0.04722447,\n",
       "       0.04713518, 0.0470462 , 0.04695751, 0.04686914, 0.04678106,\n",
       "       0.04669329, 0.04660581, 0.04651864, 0.04643177, 0.04634519,\n",
       "       0.04625891, 0.04617292, 0.04608723, 0.04600183, 0.04591673,\n",
       "       0.04583191, 0.04574739, 0.04566315, 0.04557921, 0.04549555,\n",
       "       0.04541218, 0.04532909, 0.04524629, 0.04516377, 0.04508153,\n",
       "       0.04499958, 0.0449179 , 0.04483651, 0.04475539, 0.04467456,\n",
       "       0.04459399, 0.04451371, 0.0444337 , 0.04435396, 0.0442745 ,\n",
       "       0.04419531, 0.04411639, 0.04403774, 0.04395936, 0.04388124,\n",
       "       0.0438034 , 0.04372582, 0.04364851, 0.04357146, 0.04349467,\n",
       "       0.04341815, 0.04334189, 0.04326589, 0.04319016, 0.04311468,\n",
       "       0.04303946, 0.04296449, 0.04288979, 0.04281534, 0.04274114,\n",
       "       0.0426672 , 0.04259351, 0.04252008, 0.04244689, 0.04237396,\n",
       "       0.04230127, 0.04222884, 0.04215665, 0.04208471, 0.04201301,\n",
       "       0.04194157, 0.04187036, 0.0417994 , 0.04172869, 0.04165821,\n",
       "       0.04158798, 0.04151798, 0.04144823, 0.04137871, 0.04130944,\n",
       "       0.0412404 , 0.04117159, 0.04110303, 0.04103469, 0.04096659,\n",
       "       0.04089873, 0.0408311 , 0.04076369, 0.04069652, 0.04062958,\n",
       "       0.04056287, 0.04049639, 0.04043013, 0.0403641 , 0.0402983 ,\n",
       "       0.04023272, 0.04016737, 0.04010224, 0.04003733, 0.03997265,\n",
       "       0.03990818, 0.03984394, 0.03977992, 0.03971612, 0.03965253,\n",
       "       0.03958917, 0.03952602, 0.03946308, 0.03940037, 0.03933786,\n",
       "       0.03927557, 0.0392135 , 0.03915163, 0.03908998, 0.03902854,\n",
       "       0.03896731, 0.03890629, 0.03884548, 0.03878487, 0.03872448,\n",
       "       0.03866429, 0.03860431, 0.03854453, 0.03848496, 0.03842559,\n",
       "       0.03836642, 0.03830746, 0.0382487 , 0.03819014, 0.03813178,\n",
       "       0.03807362, 0.03801566, 0.03795789, 0.03790033, 0.03784296,\n",
       "       0.03778579, 0.03772881, 0.03767203, 0.03761545, 0.03755906,\n",
       "       0.03750286, 0.03744685, 0.03739104, 0.03733541, 0.03727998,\n",
       "       0.03722474, 0.03716968, 0.03711482, 0.03706014, 0.03700565,\n",
       "       0.03695134, 0.03689722, 0.03684329, 0.03678954, 0.03673598,\n",
       "       0.0366826 , 0.0366294 , 0.03657638, 0.03652355, 0.0364709 ,\n",
       "       0.03641842, 0.03636613, 0.03631401, 0.03626208, 0.03621032,\n",
       "       0.03615874, 0.03610733, 0.0360561 , 0.03600505, 0.03595417,\n",
       "       0.03590347, 0.03585294, 0.03580258, 0.0357524 , 0.03570238,\n",
       "       0.03565254, 0.03560287, 0.03555337, 0.03550404, 0.03545487,\n",
       "       0.03540588, 0.03535705, 0.03530839, 0.0352599 , 0.03521157,\n",
       "       0.03516341, 0.03511541, 0.03506758, 0.03501991, 0.03497241,\n",
       "       0.03492506, 0.03487788, 0.03483086, 0.03478401, 0.03473731,\n",
       "       0.03469077, 0.03464439, 0.03459817, 0.03455211, 0.03450621,\n",
       "       0.03446046, 0.03441487, 0.03436944, 0.03432416, 0.03427904,\n",
       "       0.03423407, 0.03418925, 0.03414459, 0.03410008, 0.03405573,\n",
       "       0.03401152, 0.03396747, 0.03392357, 0.03387982, 0.03383621,\n",
       "       0.03379276, 0.03374946, 0.0337063 , 0.03366329, 0.03362043,\n",
       "       0.03357772, 0.03353515, 0.03349273, 0.03345045, 0.03340832,\n",
       "       0.03336633, 0.03332449, 0.03328279, 0.03324123, 0.03319982])"
      ]
     },
     "execution_count": 146,
     "metadata": {},
     "output_type": "execute_result"
    }
   ],
   "source": [
    "cost_history # l'historique de la fonction coût qu'on va afficher par la suite. on remarque que sa valeur déminue et c'est ça l'objectif"
   ]
  },
  {
   "cell_type": "code",
   "execution_count": 147,
   "id": "71ae7b0a",
   "metadata": {},
   "outputs": [
    {
     "data": {
      "text/plain": [
       "array([[-1.92390575e-04],\n",
       "       [ 3.35657310e-01]])"
      ]
     },
     "execution_count": 147,
     "metadata": {},
     "output_type": "execute_result"
    }
   ],
   "source": [
    "theta_final # voici les parametres du modele une fois que la machine a été entrainée"
   ]
  },
  {
   "cell_type": "code",
   "execution_count": 148,
   "id": "606bfc53",
   "metadata": {},
   "outputs": [
    {
     "data": {
      "image/png": "[encoded data removed]",
      "text/plain": [
       "<Figure size 640x480 with 1 Axes>"
      ]
     },
     "metadata": {},
     "output_type": "display_data"
    }
   ],
   "source": [
    "# création d'un vecteur prédictions qui contient les prédictions de notre modele final\n",
    "predictions = model(X, theta_final)\n",
    "\n",
    "# Affichage des résultats de prédictions (en rouge) par rapport a notre Dataset (en bleu)\n",
    "plt.plot(x,y,'o',label='dataset')\n",
    "plt.plot(x,predictions , c='r',label='prédictions')\n",
    "plt.xlabel('petal_length')\n",
    "plt.ylabel('petal_width')\n",
    "plt.legend()\n",
    "plt.show()"
   ]
  },
  {
   "cell_type": "code",
   "execution_count": 149,
   "id": "415ab0a8",
   "metadata": {},
   "outputs": [
    {
     "name": "stdout",
     "output_type": "stream",
     "text": [
      "[0.83895088]\n"
     ]
    }
   ],
   "source": [
    "# Test: # prédire la largeur d'un pétale qui a une longueur de 2,5 cm\n",
    "X_2_5= np.array([1,2.5])\n",
    "pred_y_2_5=model(X_2_5, theta_final) \n",
    "print(pred_y_2_5)"
   ]
  },
  {
   "cell_type": "markdown",
   "id": "3d087de6",
   "metadata": {},
   "source": [
    "## 6. Courbe d'apprentissage\n",
    "\n",
    "   Pour vérifier si notre algorithme de Descente de gradient a bien fonctionné, on observe l'évolution de la fonction cout a travers les itérations. On est sensé obtenir une courbe qui diminue a chaque itération jusqu'a stagner a un niveau minimal (proche de zéro). Si la courbe ne suit pas ce motif, alors le pas learning_rate est peut-etre trop élevé, il faut prendre un pas plus faible."
   ]
  },
  {
   "cell_type": "code",
   "execution_count": 150,
   "id": "519d3dbd",
   "metadata": {},
   "outputs": [
    {
     "data": {
      "image/png": "[encoded data removed]",
      "text/plain": [
       "<Figure size 640x480 with 1 Axes>"
      ]
     },
     "metadata": {},
     "output_type": "display_data"
    }
   ],
   "source": [
    "plt.plot(range(n_iterations), cost_history)\n",
    "plt.show()"
   ]
  },
  {
   "cell_type": "markdown",
   "id": "eb5cab7c",
   "metadata": {},
   "source": [
    "## 7. Evaluation du modèle - Coefficient de détermination\n",
    "\n",
    "   Le coefficient de détermination est un indice de la qualité de la prédiction de la régression linéaire. Le coefficient de détermination se situe entre 0 et 1. Plus il est proche de 1, plus la régression linéaire est en adéquation avec les données collectées"
   ]
  },
  {
   "attachments": {
    "Capture%20d'%C3%A9cran%202023-04-04%20123236.png": {
     "image/png": "[encoded data removed]"
    }
   },
   "cell_type": "markdown",
   "id": "cc10bb18",
   "metadata": {},
   "source": [
    "![Capture%20d'%C3%A9cran%202023-04-04%20123236.png](attachment:Capture%20d'%C3%A9cran%202023-04-04%20123236.png)"
   ]
  },
  {
   "cell_type": "code",
   "execution_count": 151,
   "id": "ea8f0458",
   "metadata": {},
   "outputs": [],
   "source": [
    "def coef_determination(y, pred):\n",
    "    u = ((y - pred)**2).sum()\n",
    "    v = ((y - y.mean())**2).sum()\n",
    "    return 1 - u/v"
   ]
  },
  {
   "cell_type": "code",
   "execution_count": 152,
   "id": "406b1dfe",
   "metadata": {},
   "outputs": [
    {
     "data": {
      "text/plain": [
       "0.8852272947583952"
      ]
     },
     "execution_count": 152,
     "metadata": {},
     "output_type": "execute_result"
    }
   ],
   "source": [
    "coef_determination(y, predictions)"
   ]
  },
  {
   "cell_type": "code",
   "execution_count": null,
   "id": "84d1f8e1",
   "metadata": {},
   "outputs": [],
   "source": []
  }
 ],
 "metadata": {
  "kernelspec": {
   "display_name": "Python 3 (ipykernel)",
   "language": "python",
   "name": "python3"
  },
  "language_info": {
   "codemirror_mode": {
    "name": "ipython",
    "version": 3
   },
   "file_extension": ".py",
   "mimetype": "text/x-python",
   "name": "python",
   "nbconvert_exporter": "python",
   "pygments_lexer": "ipython3",
   "version": "3.11.5"
  }
 },
 "nbformat": 4,
 "nbformat_minor": 5
}
